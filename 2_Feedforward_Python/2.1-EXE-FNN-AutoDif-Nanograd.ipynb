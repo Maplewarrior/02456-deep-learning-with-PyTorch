{
 "cells": [
  {
   "attachments": {},
   "cell_type": "markdown",
   "metadata": {
    "id": "HAva8TnYFtFu"
   },
   "source": [
    "# Contents and why we need this lab\n",
    "\n",
    "This lab is about implementing neural networks yourself before we start using other frameworks that hide some of the computation from you. It builds on the first lab, where you derived the equations for neural network forward and backward propagation and gradient descent parameter updates. \n",
    "\n",
    "All the frameworks for deep learning you will meet from now on use automatic differentiation (autodiff), so you do not have to code the backward step yourself. In this version of this lab, you will develop your own autodif implementation. We also have an optional [version](https://github.com/DeepLearningDTU/02456-deep-learning-with-PyTorch/blob/master/2_Feedforward_Python/2.2-FNN-NumPy.ipynb) of this lab where you have to code the backward pass explicitly in Numpy."
   ]
  },
  {
   "attachments": {},
   "cell_type": "markdown",
   "metadata": {
    "id": "sCa7HzwpFtFy"
   },
   "source": [
    "# External sources of information\n",
    "\n",
    "1. Jupyter notebook. You can find more information about Jupyter notebooks [here](https://jupyter.org/). It will come as part of the [Anaconda](https://www.anaconda.com/) Python installation. \n",
    "2. [NumPy](https://numpy.org/). Part of Anaconda distribution.  If you already know how to program, most things about Python and NumPy can be found with Google searches.\n",
    "3. [Nanograd](https://github.com/rasmusbergpalm/nanograd) is a minimalistic version of autodiff developed by Rasmus Berg Palm that we use for our framework.\n"
   ]
  },
  {
   "attachments": {},
   "cell_type": "markdown",
   "metadata": {
    "id": "1SjiIp-TFtF0"
   },
   "source": [
    "# This notebook will follow the next steps:\n",
    "\n",
    "1. Nanograd automatic differentiation framework\n",
    "2. Finite difference method\n",
    "3. Data generation\n",
    "4. Defining and initializing the network\n",
    "5. Forward pass\n",
    "6. Training loop \n",
    "7. Testing your model\n",
    "8. Further extensions"
   ]
  },
  {
   "attachments": {},
   "cell_type": "markdown",
   "metadata": {
    "id": "OyXeAA-HuT7s"
   },
   "source": [
    "# Nanograd automatic differention framework"
   ]
  },
  {
   "attachments": {},
   "cell_type": "markdown",
   "metadata": {
    "id": "k6UWKCLKubgA"
   },
   "source": [
    "The [Nanograd](https://github.com/rasmusbergpalm/nanograd) framework defines a class Var which both holds a value and gradient value that we can use to store the intermediate values when we apply the chain rule of differentiation."
   ]
  },
  {
   "cell_type": "code",
   "execution_count": 106,
   "metadata": {
    "id": "Jd4CoEBNzNWS"
   },
   "outputs": [],
   "source": [
    "# Copy and pasted from https://github.com/rasmusbergpalm/nanograd/blob/3a1bf9e9e724da813bfccf91a6f309abdade9f39/nanograd.py\n",
    "\n",
    "import math\n",
    "\n",
    "class Var:\n",
    "    \"\"\"\n",
    "    A variable which holds a float and enables gradient computations.\n",
    "    \"\"\"\n",
    "\n",
    "    def __init__(self, val: float, grad_fn=lambda: []):\n",
    "        assert type(val) == float\n",
    "        self.v = val\n",
    "        self.grad_fn = grad_fn\n",
    "        self.grad = 0.0\n",
    "        self.iter = 1\n",
    "\n",
    "    def backprop(self, bp):\n",
    "        self.grad += bp\n",
    "        self.iter+= 1\n",
    "\n",
    "        for input, grad in self.grad_fn():\n",
    "            #print(f'Input: {input}')\n",
    "            #print(f'Grad: {grad}')\n",
    "            #print(f\"bp: {bp}\")\n",
    "            input.backprop(grad * bp)\n",
    "            \n",
    "\n",
    "    def backward(self):\n",
    "        self.backprop(1.0)\n",
    "\n",
    "    def __add__(self: 'Var', other: 'Var') -> 'Var':\n",
    "        return Var(self.v + other.v, lambda: [(self, 1.0), (other, 1.0)])\n",
    "\n",
    "    def __mul__(self: 'Var', other: 'Var') -> 'Var':\n",
    "        return Var(self.v * other.v, lambda: [(self, other.v), (other, self.v)])\n",
    "\n",
    "    def __pow__(self, power):\n",
    "        assert type(power) in {float, int}, \"power must be float or int\"\n",
    "        return Var(self.v ** power, lambda: [(self, power * self.v ** (power - 1))])\n",
    "\n",
    "    def __neg__(self: 'Var') -> 'Var':\n",
    "        return Var(-1.0) * self\n",
    "\n",
    "    def __sub__(self: 'Var', other: 'Var') -> 'Var':\n",
    "        return self + (-other)\n",
    "\n",
    "    def __truediv__(self: 'Var', other: 'Var') -> 'Var':\n",
    "        return self * other ** -1\n",
    "\n",
    "    def __repr__(self):\n",
    "        return \"Var(v=%.4f, grad=%.4f)\" % (self.v, self.grad)\n",
    "\n",
    "    def relu(self):\n",
    "        return Var(self.v if self.v > 0.0 else 0.0, lambda: [(self, 1.0 if self.v > 0.0 else 0.0)])\n",
    "\n",
    "    def identity(self):\n",
    "        return Var(self.v, lambda: [(self, 1.0)])\n",
    "    \n",
    "    def tanh(self):\n",
    "        return Var((math.exp(2*self.v) - 1) / (math.exp(2*self.v) + 1), lambda: [(self, (2*math.exp(self.v) / (math.exp(2*self.v) + 1))**2)])\n",
    "\n",
    "    def sigmoid(self):\n",
    "        return Var(1 / (1 + math.exp(-self.v)), lambda: [(self, 1 / (1 + math.exp(-self.v)) * (1 - 1 / (1 + math.exp(-self.v))))])\n",
    "\n",
    "    def exp(self):\n",
    "        return Var(math.exp(self.v), lambda: [(self, math.exp(self.v))])\n",
    "    \n",
    "    def log(self):\n",
    "        return Var(math.log(self.v), lambda: [(self, self.v ** -1)])\n",
    "        \n"
   ]
  },
  {
   "attachments": {},
   "cell_type": "markdown",
   "metadata": {
    "id": "yDX67D6jzcte"
   },
   "source": [
    "A few examples illustrate how we can use this:"
   ]
  },
  {
   "cell_type": "code",
   "execution_count": 103,
   "metadata": {
    "colab": {
     "base_uri": "https://localhost:8080/"
    },
    "id": "xk6PeLc3zwPT",
    "outputId": "47e431b2-07ba-4cb1-ea21-997769641c67"
   },
   "outputs": [
    {
     "name": "stdout",
     "output_type": "stream",
     "text": [
      "fff Var(v=15.0000, grad=0.0000) [(Var(v=3.0000, grad=0.0000), 5.0), (Var(v=5.0000, grad=0.0000), 3.0)]\n",
      "Input: Var(v=3.0000, grad=0.0000)\n",
      "Grad: 5.0\n",
      "bp: 1.0\n",
      "Input: Var(v=5.0000, grad=0.0000)\n",
      "Grad: 3.0\n",
      "bp: 1.0\n",
      "After:  Var(v=15.0000, grad=1.0000) [(Var(v=3.0000, grad=5.0000), 5.0), (Var(v=5.0000, grad=3.0000), 3.0)]\n",
      "Var(v=3.0000, grad=5.0000)\n",
      "Var(v=5.0000, grad=3.0000)\n",
      "Var(v=15.0000, grad=1.0000)\n"
     ]
    }
   ],
   "source": [
    "a = Var(3.0)\n",
    "b = Var(5.0)\n",
    "f = a * b\n",
    "\n",
    "print(\"fff\", f, f.grad_fn())\n",
    "\n",
    "f.backward()\n",
    "\n",
    "print(\"After: \", f, f.grad_fn())\n",
    "\n",
    "\n",
    "for v in [a, b, f]:\n",
    "    print(v)"
   ]
  },
  {
   "cell_type": "code",
   "execution_count": 100,
   "metadata": {
    "colab": {
     "base_uri": "https://localhost:8080/"
    },
    "id": "JmKhYgsY0g_o",
    "outputId": "06c1b1df-c33c-40d3-922a-624612a591c7"
   },
   "outputs": [
    {
     "name": "stdout",
     "output_type": "stream",
     "text": [
      "Var(v=3.0000, grad=14.0000)\n",
      "Var(v=5.0000, grad=3.0000)\n",
      "Var(v=15.0000, grad=1.0000)\n",
      "Var(v=9.0000, grad=3.0000)\n",
      "Var(v=27.0000, grad=1.0000)\n",
      "Var(v=42.0000, grad=1.0000)\n"
     ]
    }
   ],
   "source": [
    "a = Var(3.0)\n",
    "b = Var(5.0)\n",
    "c = a * b\n",
    "d = Var(9.0)\n",
    "e = a * d\n",
    "f = c + e\n",
    "\n",
    "f.backward()\n",
    "\n",
    "for v in [a, b, c, d, e, f]:\n",
    "   print(v)\n",
    "\n",
    "\n",
    "\n"
   ]
  },
  {
   "attachments": {},
   "cell_type": "markdown",
   "metadata": {
    "id": "Fe3B6uEH140p"
   },
   "source": [
    "## Exercise a) What is being calculated?\n",
    "\n",
    "Explain briefly the output of the code? What is the expression we differentiate and with respect to what variables?\n",
    "\n",
    "$\\textbf{Answer:}$\n",
    "\n",
    "The code outputs the value of each variable along with the partial derivative of f with respect to the variable in question.\n",
    "This is done by overwriting the default operators for addition, multiplication, etc. Thus, the gradients are computed as operations are performed.\n",
    "\n",
    "Hence, for the first example with $f(a, b) = a\\cdot b$ we have $\\frac{\\partial f}{\\partial a} = 5$, $\\frac{\\partial f}{\\partial b} = 3$ and $\\frac{\\partial f}{\\partial f} = 1$ respectively."
   ]
  },
  {
   "attachments": {},
   "cell_type": "markdown",
   "metadata": {
    "id": "q8_Q0t2I3Ruj"
   },
   "source": [
    "## Exercise b) How does the backward function work?\n",
    "\n",
    "You need to understand how the backward function calculates the gradients. We can use the two examples above to help with that.\n",
    "\n",
    "Go through the following four steps and answer the questions on the way:\n",
    "\n",
    "1. We represent the two expressions as graphs as shown below. Fill in the missing expressions for the different derivatives.\n",
    "\n",
    "2. In the remainder consider the first expression. Make a schematic of the data structure which is generated when we define the expression for f. \n",
    "\n",
    "3. Then execute the backward function by hand to convince yourself that it indeed calculates the gradients with respect to the variables. \n",
    "\n",
    "4. Write down the sequence of calls to backprop."
   ]
  },
  {
   "cell_type": "code",
   "execution_count": null,
   "metadata": {
    "id": "idGr71jYXl26"
   },
   "outputs": [],
   "source": [
    "# import logging\n",
    "import graphviz\n",
    "import os\n",
    "os.environ[\"PATH\"] += os.pathsep + 'C:/Program Files/Graphviz/bin/' \n",
    "\n",
    "#logging.basicConfig(format='[%(levelname)s@%(name)s] %(message)s', level=logging.DEBUG)\n",
    "\n",
    "#graphviz.__version__, graphviz.version()\n",
    "#import os\n",
    "#print(os.pathsep)"
   ]
  },
  {
   "cell_type": "code",
   "execution_count": null,
   "metadata": {
    "colab": {
     "base_uri": "https://localhost:8080/",
     "height": 152
    },
    "id": "KPe30Q2QXzeG",
    "outputId": "7fa002cd-a018-4dbb-ddf1-28ed5e99ee19"
   },
   "outputs": [
    {
     "data": {
      "image/svg+xml": [
       "<?xml version=\"1.0\" encoding=\"UTF-8\" standalone=\"no\"?>\n",
       "<!DOCTYPE svg PUBLIC \"-//W3C//DTD SVG 1.1//EN\"\n",
       " \"http://www.w3.org/Graphics/SVG/1.1/DTD/svg11.dtd\">\n",
       "<!-- Generated by graphviz version 8.1.0 (20230707.0739)\n",
       " -->\n",
       "<!-- Title: first expression Pages: 1 -->\n",
       "<svg width=\"161pt\" height=\"98pt\"\n",
       " viewBox=\"0.00 0.00 161.00 98.00\" xmlns=\"http://www.w3.org/2000/svg\" xmlns:xlink=\"http://www.w3.org/1999/xlink\">\n",
       "<g id=\"graph0\" class=\"graph\" transform=\"scale(1 1) rotate(0) translate(4 94)\">\n",
       "<title>first expression</title>\n",
       "<polygon fill=\"white\" stroke=\"none\" points=\"-4,4 -4,-94 157,-94 157,4 -4,4\"/>\n",
       "<!-- a -->\n",
       "<g id=\"node1\" class=\"node\">\n",
       "<title>a</title>\n",
       "<ellipse fill=\"none\" stroke=\"black\" cx=\"18\" cy=\"-72\" rx=\"18\" ry=\"18\"/>\n",
       "<text text-anchor=\"middle\" x=\"18\" y=\"-66.58\" font-family=\"Times New Roman,serif\" font-size=\"14.00\">a</text>\n",
       "</g>\n",
       "<!-- f -->\n",
       "<g id=\"node2\" class=\"node\">\n",
       "<title>f</title>\n",
       "<ellipse fill=\"none\" stroke=\"black\" cx=\"135\" cy=\"-45\" rx=\"18\" ry=\"18\"/>\n",
       "<text text-anchor=\"middle\" x=\"135\" y=\"-39.58\" font-family=\"Times New Roman,serif\" font-size=\"14.00\">f</text>\n",
       "</g>\n",
       "<!-- a&#45;&gt;f -->\n",
       "<g id=\"edge1\" class=\"edge\">\n",
       "<title>a&#45;&gt;f</title>\n",
       "<path fill=\"none\" stroke=\"black\" d=\"M35.97,-68.02C54.48,-63.67 84.41,-56.64 106.33,-51.5\"/>\n",
       "<polygon fill=\"black\" stroke=\"black\" points=\"107.03,-54.69 115.96,-49 105.43,-47.88 107.03,-54.69\"/>\n",
       "<text text-anchor=\"middle\" x=\"76.5\" y=\"-65.45\" font-family=\"Times New Roman,serif\" font-size=\"14.00\">df/da=b</text>\n",
       "</g>\n",
       "<!-- b -->\n",
       "<g id=\"node3\" class=\"node\">\n",
       "<title>b</title>\n",
       "<ellipse fill=\"none\" stroke=\"black\" cx=\"18\" cy=\"-18\" rx=\"18\" ry=\"18\"/>\n",
       "<text text-anchor=\"middle\" x=\"18\" y=\"-12.57\" font-family=\"Times New Roman,serif\" font-size=\"14.00\">b</text>\n",
       "</g>\n",
       "<!-- b&#45;&gt;f -->\n",
       "<g id=\"edge2\" class=\"edge\">\n",
       "<title>b&#45;&gt;f</title>\n",
       "<path fill=\"none\" stroke=\"black\" d=\"M35.96,-20.95C52.23,-23.89 77.44,-28.76 99,-34.25 101.64,-34.92 104.38,-35.67 107.11,-36.45\"/>\n",
       "<polygon fill=\"black\" stroke=\"black\" points=\"105.78,-40.01 116.36,-39.53 107.79,-33.3 105.78,-40.01\"/>\n",
       "<text text-anchor=\"middle\" x=\"76.5\" y=\"-37.45\" font-family=\"Times New Roman,serif\" font-size=\"14.00\">df/db=a</text>\n",
       "</g>\n",
       "</g>\n",
       "</svg>\n"
      ],
      "text/plain": [
       "<graphviz.graphs.Digraph at 0x24ccd9ddfd0>"
      ]
     },
     "execution_count": 7,
     "metadata": {},
     "output_type": "execute_result"
    }
   ],
   "source": [
    "e1 = graphviz.Digraph('first expression', filename='fsm.gv')\n",
    "\n",
    "e1.attr(rankdir='LR', size='8,5')\n",
    "\n",
    "e1.attr('node', shape='circle')\n",
    "e1.edge('a', 'f', label='df/da=b')\n",
    "e1.edge('b', 'f', label='df/db=a')\n",
    "\n",
    "e1"
   ]
  },
  {
   "cell_type": "code",
   "execution_count": null,
   "metadata": {
    "colab": {
     "base_uri": "https://localhost:8080/",
     "height": 232
    },
    "id": "0nittR-mZFeX",
    "outputId": "fa3656a3-732c-4abe-8084-98a492b0d6be"
   },
   "outputs": [
    {
     "data": {
      "image/svg+xml": [
       "<?xml version=\"1.0\" encoding=\"UTF-8\" standalone=\"no\"?>\n",
       "<!DOCTYPE svg PUBLIC \"-//W3C//DTD SVG 1.1//EN\"\n",
       " \"http://www.w3.org/Graphics/SVG/1.1/DTD/svg11.dtd\">\n",
       "<!-- Generated by graphviz version 8.1.0 (20230707.0739)\n",
       " -->\n",
       "<!-- Title: second expression Pages: 1 -->\n",
       "<svg width=\"280pt\" height=\"161pt\"\n",
       " viewBox=\"0.00 0.00 280.25 161.00\" xmlns=\"http://www.w3.org/2000/svg\" xmlns:xlink=\"http://www.w3.org/1999/xlink\">\n",
       "<g id=\"graph0\" class=\"graph\" transform=\"scale(1 1) rotate(0) translate(4 157)\">\n",
       "<title>second expression</title>\n",
       "<polygon fill=\"white\" stroke=\"none\" points=\"-4,4 -4,-157 276.25,-157 276.25,4 -4,4\"/>\n",
       "<!-- a -->\n",
       "<g id=\"node1\" class=\"node\">\n",
       "<title>a</title>\n",
       "<ellipse fill=\"none\" stroke=\"black\" cx=\"18\" cy=\"-77\" rx=\"18\" ry=\"18\"/>\n",
       "<text text-anchor=\"middle\" x=\"18\" y=\"-71.58\" font-family=\"Times New Roman,serif\" font-size=\"14.00\">a</text>\n",
       "</g>\n",
       "<!-- c -->\n",
       "<g id=\"node2\" class=\"node\">\n",
       "<title>c</title>\n",
       "<ellipse fill=\"none\" stroke=\"black\" cx=\"137.25\" cy=\"-103\" rx=\"18\" ry=\"18\"/>\n",
       "<text text-anchor=\"middle\" x=\"137.25\" y=\"-97.58\" font-family=\"Times New Roman,serif\" font-size=\"14.00\">c</text>\n",
       "</g>\n",
       "<!-- a&#45;&gt;c -->\n",
       "<g id=\"edge1\" class=\"edge\">\n",
       "<title>a&#45;&gt;c</title>\n",
       "<path fill=\"none\" stroke=\"black\" d=\"M36.05,-80.78C55.07,-85 86.11,-91.88 108.61,-96.87\"/>\n",
       "<polygon fill=\"black\" stroke=\"black\" points=\"107.66,-100.47 118.18,-99.21 109.18,-93.63 107.66,-100.47\"/>\n",
       "<text text-anchor=\"middle\" x=\"77.62\" y=\"-96.45\" font-family=\"Times New Roman,serif\" font-size=\"14.00\">dc/da=b</text>\n",
       "</g>\n",
       "<!-- e -->\n",
       "<g id=\"node4\" class=\"node\">\n",
       "<title>e</title>\n",
       "<ellipse fill=\"none\" stroke=\"black\" cx=\"137.25\" cy=\"-49\" rx=\"18\" ry=\"18\"/>\n",
       "<text text-anchor=\"middle\" x=\"137.25\" y=\"-43.58\" font-family=\"Times New Roman,serif\" font-size=\"14.00\">e</text>\n",
       "</g>\n",
       "<!-- a&#45;&gt;e -->\n",
       "<g id=\"edge3\" class=\"edge\">\n",
       "<title>a&#45;&gt;e</title>\n",
       "<path fill=\"none\" stroke=\"black\" d=\"M35.25,-71.06C41.11,-69.05 47.8,-66.89 54,-65.25 71.89,-60.5 92.29,-56.46 108.31,-53.6\"/>\n",
       "<polygon fill=\"black\" stroke=\"black\" points=\"108.84,-56.88 118.09,-51.73 107.64,-49.99 108.84,-56.88\"/>\n",
       "<text text-anchor=\"middle\" x=\"77.62\" y=\"-68.45\" font-family=\"Times New Roman,serif\" font-size=\"14.00\">de/da=d</text>\n",
       "</g>\n",
       "<!-- f -->\n",
       "<g id=\"node6\" class=\"node\">\n",
       "<title>f</title>\n",
       "<ellipse fill=\"none\" stroke=\"black\" cx=\"254.25\" cy=\"-75\" rx=\"18\" ry=\"18\"/>\n",
       "<text text-anchor=\"middle\" x=\"254.25\" y=\"-69.58\" font-family=\"Times New Roman,serif\" font-size=\"14.00\">f</text>\n",
       "</g>\n",
       "<!-- c&#45;&gt;f -->\n",
       "<g id=\"edge5\" class=\"edge\">\n",
       "<title>c&#45;&gt;f</title>\n",
       "<path fill=\"none\" stroke=\"black\" d=\"M155.22,-98.87C173.84,-94.33 204,-86.99 225.96,-81.65\"/>\n",
       "<polygon fill=\"black\" stroke=\"black\" points=\"226.7,-84.82 235.59,-79.06 225.04,-78.02 226.7,-84.82\"/>\n",
       "<text text-anchor=\"middle\" x=\"195.75\" y=\"-95.45\" font-family=\"Times New Roman,serif\" font-size=\"14.00\">df/dc=1</text>\n",
       "</g>\n",
       "<!-- b -->\n",
       "<g id=\"node3\" class=\"node\">\n",
       "<title>b</title>\n",
       "<ellipse fill=\"none\" stroke=\"black\" cx=\"18\" cy=\"-135\" rx=\"18\" ry=\"18\"/>\n",
       "<text text-anchor=\"middle\" x=\"18\" y=\"-129.57\" font-family=\"Times New Roman,serif\" font-size=\"14.00\">b</text>\n",
       "</g>\n",
       "<!-- b&#45;&gt;c -->\n",
       "<g id=\"edge2\" class=\"edge\">\n",
       "<title>b&#45;&gt;c</title>\n",
       "<path fill=\"none\" stroke=\"black\" d=\"M35.72,-130.62C52.36,-126.23 78.6,-119.27 101.25,-113 103.77,-112.3 106.39,-111.57 109.01,-110.83\"/>\n",
       "<polygon fill=\"black\" stroke=\"black\" points=\"109.87,-113.94 118.53,-107.84 107.96,-107.21 109.87,-113.94\"/>\n",
       "<text text-anchor=\"middle\" x=\"77.62\" y=\"-127.45\" font-family=\"Times New Roman,serif\" font-size=\"14.00\">dc/db=a</text>\n",
       "</g>\n",
       "<!-- e&#45;&gt;f -->\n",
       "<g id=\"edge6\" class=\"edge\">\n",
       "<title>e&#45;&gt;f</title>\n",
       "<path fill=\"none\" stroke=\"black\" d=\"M155.65,-50.54C172.01,-52.25 197.09,-55.55 218.25,-61.25 221.26,-62.06 224.37,-63.05 227.44,-64.12\"/>\n",
       "<polygon fill=\"black\" stroke=\"black\" points=\"225.88,-67.65 236.47,-67.94 228.37,-61.11 225.88,-67.65\"/>\n",
       "<text text-anchor=\"middle\" x=\"195.75\" y=\"-64.45\" font-family=\"Times New Roman,serif\" font-size=\"14.00\">df/de=1</text>\n",
       "</g>\n",
       "<!-- d -->\n",
       "<g id=\"node5\" class=\"node\">\n",
       "<title>d</title>\n",
       "<ellipse fill=\"none\" stroke=\"black\" cx=\"18\" cy=\"-18\" rx=\"18\" ry=\"18\"/>\n",
       "<text text-anchor=\"middle\" x=\"18\" y=\"-12.57\" font-family=\"Times New Roman,serif\" font-size=\"14.00\">d</text>\n",
       "</g>\n",
       "<!-- d&#45;&gt;e -->\n",
       "<g id=\"edge4\" class=\"edge\">\n",
       "<title>d&#45;&gt;e</title>\n",
       "<path fill=\"none\" stroke=\"black\" d=\"M36.18,-21.13C52.93,-24.34 79.06,-29.78 101.25,-36.25 104.06,-37.07 106.98,-38 109.87,-38.97\"/>\n",
       "<polygon fill=\"black\" stroke=\"black\" points=\"108.42,-42.53 119.02,-42.58 110.77,-35.94 108.42,-42.53\"/>\n",
       "<text text-anchor=\"middle\" x=\"77.62\" y=\"-39.45\" font-family=\"Times New Roman,serif\" font-size=\"14.00\">de/dd=a</text>\n",
       "</g>\n",
       "</g>\n",
       "</svg>\n"
      ],
      "text/plain": [
       "<graphviz.graphs.Digraph at 0x24ccd9bef40>"
      ]
     },
     "execution_count": 8,
     "metadata": {},
     "output_type": "execute_result"
    }
   ],
   "source": [
    "e2 = graphviz.Digraph('second expression', filename='fsm.gv')\n",
    "\n",
    "e2.attr(rankdir='LR', size='8,5')\n",
    "\n",
    "e2.attr('node', shape='circle')\n",
    "e2.edge('a', 'c', label='dc/da=b')\n",
    "e2.edge('b', 'c', label='dc/db=a')\n",
    "e2.edge('a', 'e', label='de/da=d')\n",
    "e2.edge('d', 'e', label='de/dd=a')\n",
    "e2.edge('c', 'f', label='df/dc=1')\n",
    "e2.edge('e', 'f', label='df/de=1')\n",
    "\n",
    "e2"
   ]
  },
  {
   "attachments": {},
   "cell_type": "markdown",
   "metadata": {},
   "source": [
    "### Exercise b Q2:\n",
    "What is the question haha?\n",
    "\n",
    "\n",
    "### Exercise b Q3:\n",
    "\n",
    "### Exercise b Q4:"
   ]
  },
  {
   "attachments": {},
   "cell_type": "markdown",
   "metadata": {
    "id": "A5oi21W4gpeM"
   },
   "source": [
    "## Exercise c) What happens if we run backward again?\n",
    "\n",
    "Try to execute the code below. Explain what happens."
   ]
  },
  {
   "cell_type": "code",
   "execution_count": 9,
   "metadata": {
    "colab": {
     "base_uri": "https://localhost:8080/"
    },
    "id": "DCtpJyr-gyX1",
    "outputId": "d014bcfa-c9ae-49c3-d268-91cc6ca94ea5"
   },
   "outputs": [
    {
     "name": "stdout",
     "output_type": "stream",
     "text": [
      "Var(v=3.0000, grad=28.0000)\n",
      "Var(v=5.0000, grad=6.0000)\n",
      "Var(v=15.0000, grad=2.0000)\n",
      "Var(v=9.0000, grad=6.0000)\n",
      "Var(v=27.0000, grad=2.0000)\n",
      "Var(v=42.0000, grad=2.0000)\n"
     ]
    }
   ],
   "source": [
    "f.backward()\n",
    "\n",
    "for v in [a, b, c, d, e, f]:\n",
    "    print(v)\n",
    "\n"
   ]
  },
  {
   "attachments": {},
   "cell_type": "markdown",
   "metadata": {},
   "source": [
    "$\\textbf{Answer:}$\n",
    "The gradients accumulate and hence the values of the gradients are doubled since we are working on the same computational graph. This is why you need to call zero grad after each backward pass. We update the value of self.grad at each backprop step as earlier explained. self.grad is initalized to 0 and updated to 1 due to the default value of bp when running .backward()"
   ]
  },
  {
   "attachments": {},
   "cell_type": "markdown",
   "metadata": {
    "id": "e8bPVq2VhsP-"
   },
   "source": [
    "## Exercise d) Zero gradient\n",
    "\n",
    "We can zero the gradient by backpropagating a -1.0 as is shown in the example below. (If you have run backward multiple time then you also have to run the cell below an equal amount of times.) Explain what is going on.\n",
    "\n",
    "$\\textbf{Answer:}$ By running .backprop(-1.0) we will compute the gradients for the graph again, but they will be negated. Since the self.grad variable accumulates this corresponds to setting the gradients to zero."
   ]
  },
  {
   "cell_type": "code",
   "execution_count": 10,
   "metadata": {
    "colab": {
     "base_uri": "https://localhost:8080/"
    },
    "id": "OnyPDQx9lJe0",
    "outputId": "7a125fdc-60c4-4340-a580-8b82aea5b0db"
   },
   "outputs": [
    {
     "name": "stdout",
     "output_type": "stream",
     "text": [
      "Var(v=2.0000, grad=0.0000)\n",
      "Var(v=5.0000, grad=6.0000)\n",
      "Var(v=15.0000, grad=2.0000)\n",
      "Var(v=9.0000, grad=6.0000)\n",
      "Var(v=27.0000, grad=2.0000)\n",
      "Var(v=42.0000, grad=2.0000)\n",
      "Var(v=2.0000, grad=0.0000)\n",
      "Var(v=5.0000, grad=3.0000)\n",
      "Var(v=15.0000, grad=1.0000)\n",
      "Var(v=9.0000, grad=3.0000)\n",
      "Var(v=27.0000, grad=1.0000)\n",
      "Var(v=42.0000, grad=1.0000)\n"
     ]
    }
   ],
   "source": [
    "a = Var(2.0)\n",
    "\n",
    "for v in [a, b, c, d, e, f]:\n",
    "    print(v)\n",
    "\n",
    "f.backprop(-1.0)\n",
    "\n",
    "for v in [a, b, c, d, e, f]:\n",
    "    print(v)"
   ]
  },
  {
   "attachments": {},
   "cell_type": "markdown",
   "metadata": {
    "id": "U4057_ljNvWB"
   },
   "source": [
    "## Exercise e) Test correctness of derivatives with the finite difference method\n",
    "\n",
    "Write a small function that uses [the finite difference method](https://en.wikipedia.org/wiki/Finite_difference_method) to numerically test that backpropation implementation is working. In short we will use\n",
    "$$\n",
    "\\frac{\\partial f(a)}{\\partial a} \\approx \\frac{f(a+da)-f(a)}{da}\n",
    "$$\n",
    "for $da \\ll 1$.\n",
    "\n",
    "As an example, we could approximate the derivative of the function $f(a)=a^2$ in e.g. the value $a=4$ using the finite difference method. This amounts to inserting the relevant values and approximating the gradient $f'(4)$ with the fraction above. \n"
   ]
  },
  {
   "cell_type": "code",
   "execution_count": 11,
   "metadata": {
    "colab": {
     "base_uri": "https://localhost:8080/"
    },
    "id": "9TGil92lSXDN",
    "outputId": "7ef5489b-b525-4132-ab08-0b1109c07f4d"
   },
   "outputs": [
    {
     "name": "stdout",
     "output_type": "stream",
     "text": [
      "Var(v=3.0000, grad=5.0000)\n",
      "Var(v=5.0000, grad=3.0000)\n",
      "Var(v=15.0000, grad=1.0000)\n",
      "Finite difference: 5.000018177270249\n"
     ]
    }
   ],
   "source": [
    "# f function - try to change the code to test other types of functions as well (such as different polynomials etc.)\n",
    "def f_function(a):\n",
    "  a = Var(a)\n",
    "  b = Var(5.0)\n",
    "  f = a * b\n",
    "  f.backward()\n",
    "  return a, b, f\n",
    "\n",
    "for v in f_function(3.0):\n",
    "  print(v)\n",
    "\n",
    "# Insert your finite difference code here\n",
    "def finite_difference(da=1e-10):\n",
    "    \"\"\"\n",
    "    This function compute the finite difference between\n",
    "    \n",
    "    Input:\n",
    "    da:          The finite difference                           (float)\n",
    "    \n",
    "    Output:\n",
    "    finite_difference: numerical approximation to the derivative (float) \n",
    "    \"\"\"\n",
    "    a = 10.0 # this value does not matter since we are approximating the partial derivative of f wrt. a\n",
    "\n",
    "    \n",
    "    fa_da = f_function(a + da)[-1].v           # <- Insert correct expression\n",
    "    fa = f_function(a)[-1].v                   # <- Insert correct expression\n",
    "\n",
    "    finite_difference = (fa_da - fa) / da\n",
    "    \n",
    "    return finite_difference\n",
    "\n",
    "print(f'Finite difference: {finite_difference()}')"
   ]
  },
  {
   "attachments": {},
   "cell_type": "markdown",
   "metadata": {
    "id": "6pZar5RKaUkg"
   },
   "source": [
    "# Create an artificial dataset to play with\n",
    "\n",
    "We create a non-linear 1d regression task. The generator supports various noise levels and it creates train, validation and test sets. You can modify it yourself if you want more or less challenging tasks."
   ]
  },
  {
   "cell_type": "code",
   "execution_count": 12,
   "metadata": {
    "id": "Y6yfMAQ8aduj"
   },
   "outputs": [],
   "source": [
    "import numpy as np\n",
    "import matplotlib.pyplot as plt\n",
    "\n",
    "np.random.seed(42)"
   ]
  },
  {
   "cell_type": "code",
   "execution_count": 13,
   "metadata": {
    "id": "4YabfD43ajNh"
   },
   "outputs": [],
   "source": [
    "def data_generator(noise=0.1, n_samples=300, D1=True):\n",
    "    # Create covariates and response variable\n",
    "    if D1:\n",
    "        X = np.linspace(-3, 3, num=n_samples).reshape(-1,1) # 1-D\n",
    "        np.random.shuffle(X)\n",
    "        y = np.random.normal((0.5*np.sin(X[:,0]*3) + X[:,0]), noise) # 1-D with trend\n",
    "    else:\n",
    "        X = np.random.multivariate_normal(np.zeros(3), noise*np.eye(3), size = n_samples) # 3-D\n",
    "        np.random.shuffle(X)    \n",
    "        y = np.sin(X[:,0]) - 5*(X[:,1]**2) + 0.5*X[:,2] # 3-D\n",
    "\n",
    "    # Stack them together vertically to split data set\n",
    "    data_set = np.vstack((X.T,y)).T\n",
    "    \n",
    "    train, validation, test = np.split(data_set, [int(0.35*n_samples), int(0.7*n_samples)], axis=0)\n",
    "    \n",
    "    # Standardization of the data, remember we do the standardization with the training set mean and standard deviation\n",
    "    train_mu = np.mean(train, axis=0)\n",
    "    train_sigma = np.std(train, axis=0)\n",
    "    \n",
    "    train = (train-train_mu)/train_sigma\n",
    "    validation = (validation-train_mu)/train_sigma\n",
    "    test = (test-train_mu)/train_sigma\n",
    "    \n",
    "    x_train, x_validation, x_test = train[:,:-1], validation[:,:-1], test[:,:-1]\n",
    "    y_train, y_validation, y_test = train[:,-1], validation[:,-1], test[:,-1]\n",
    "\n",
    "    return x_train, y_train,  x_validation, y_validation, x_test, y_test"
   ]
  },
  {
   "cell_type": "code",
   "execution_count": 14,
   "metadata": {
    "id": "u1oDngHLapIz"
   },
   "outputs": [],
   "source": [
    "D1 = True\n",
    "x_train, y_train,  x_validation, y_validation, x_test, y_test = data_generator(noise=0.5, D1=D1)"
   ]
  },
  {
   "cell_type": "code",
   "execution_count": 15,
   "metadata": {
    "colab": {
     "base_uri": "https://localhost:8080/",
     "height": 265
    },
    "id": "Ysfa3FsBavlm",
    "outputId": "399e5382-ae7d-48f6-9774-7ea4c73e7d95"
   },
   "outputs": [
    {
     "data": {
      "image/png": "[encoded data removed]",
      "text/plain": [
       "<Figure size 640x480 with 1 Axes>"
      ]
     },
     "metadata": {},
     "output_type": "display_data"
    }
   ],
   "source": [
    "if D1:\n",
    "    plt.scatter(x_train[:,0], y_train);\n",
    "    plt.scatter(x_validation[:,0], y_validation);\n",
    "    plt.scatter(x_test[:,0], y_test);\n",
    "else:\n",
    "    plt.scatter(x_train[:,1], y_train);\n",
    "    plt.scatter(x_validation[:,1], y_validation);\n",
    "    plt.scatter(x_test[:,1], y_test);\n",
    "plt.show()"
   ]
  },
  {
   "cell_type": "code",
   "execution_count": 16,
   "metadata": {
    "id": "zac2HHNlgbpm"
   },
   "outputs": [],
   "source": [
    "# convert from nparray to Var\n",
    "def nparray_to_Var(x):\n",
    "  if x.ndim==1:\n",
    "    y = [[Var(float(x[i]))] for i in range(x.shape[0])] # always work with list of list\n",
    "  else:\n",
    "    y = [[Var(float(x[i,j])) for j in range(x.shape[1])] for i in range(x.shape[0])]\n",
    "  return y\n",
    "   \n",
    "x_train = nparray_to_Var(x_train)\n",
    "y_train = nparray_to_Var(y_train)\n",
    "x_validation = nparray_to_Var(x_validation)\n",
    "y_validation = nparray_to_Var(y_validation)\n",
    "x_test = nparray_to_Var(x_test)\n",
    "y_test = nparray_to_Var(y_test)\n"
   ]
  },
  {
   "attachments": {},
   "cell_type": "markdown",
   "metadata": {
    "id": "VbjrqcpVFtGe"
   },
   "source": [
    "# Defining and initializing the network\n",
    "\n",
    "The steps to create a feed forward neural network are the following:\n",
    "\n",
    "1. **Number of hidden layer and hidden units**. We have to define the number of hidden units in each layer. The number of features in X and the output dimensionality (the size of Y) are given but the numbers in between are set by the researcher. Remember that for each unit in each layer beside in the input has a bias term.\n",
    "2. **Activation functions** for each hidden layer. Each hidden layer in your list must have an activation function (it can also be the linear activation which is equivalent to identity function). The power of neural networks comes from non-linear activation functions that learn representations (features) from the data allowing us to learn from it. \n",
    "3. **Parameter initialization**. We will initialize the weights to have random values. This is done in practice by drawing pseudo random numbers from a Gaussian or uniform distribution. It turns out that for deeper models we have to be careful about how we scale the random numbers. This will be the topic of the exercise below. For now we will just use unit variance Gaussians.  \n",
    "\n",
    "In order to make life easier for ourselves we define a DenseLayer class that takes care of initialization and the forward pass. We can also extend it later with print and advanced initialization capabilities. For the latter we have introduced a Initializer class.\n",
    "\n",
    "Note that we use Sequence in the code below. A Sequence is an ordered list. This means the order we insert and access items are the same."
   ]
  },
  {
   "cell_type": "code",
   "execution_count": 17,
   "metadata": {
    "id": "ij_ieRsAt7Xt"
   },
   "outputs": [],
   "source": [
    "class Initializer:\n",
    "\n",
    "  def init_weights(self, n_in, n_out):\n",
    "    raise NotImplementedError\n",
    "\n",
    "  def init_bias(self, n_out):\n",
    "    raise NotImplementedError"
   ]
  },
  {
   "cell_type": "code",
   "execution_count": 18,
   "metadata": {
    "id": "eb18N5phuIha"
   },
   "outputs": [],
   "source": [
    "import random\n",
    "\n",
    "class NormalInitializer(Initializer):\n",
    "\n",
    "  def __init__(self, mean=0, std=0.1):\n",
    "    self.mean = mean\n",
    "    self.std = std\n",
    "\n",
    "  def init_weights(self, n_in, n_out):\n",
    "    return [[Var(random.gauss(self.mean, self.std)) for _ in range(n_out)] for _ in range(n_in)]\n",
    "\n",
    "  def init_bias(self, n_out):\n",
    "    return [Var(0.0) for _ in range(n_out)]\n",
    "\n",
    "class ConstantInitializer(Initializer):\n",
    "\n",
    "  def __init__(self, weight=1.0, bias=0.0):\n",
    "    self.weight = weight\n",
    "    self.bias = bias\n",
    "\n",
    "  def init_weights(self, n_in, n_out):\n",
    "    return [[Var(self.weight) for _ in range(n_out)] for _ in range(n_in)]\n",
    "\n",
    "  def init_bias(self, n_out):\n",
    "    return [Var(self.bias) for _ in range(n_out)]"
   ]
  },
  {
   "cell_type": "code",
   "execution_count": 19,
   "metadata": {
    "id": "jOLYGnZKuM6W"
   },
   "outputs": [],
   "source": [
    "from typing import Sequence\n",
    "\n",
    "class DenseLayer:\n",
    "    def __init__(self, n_in: int, n_out: int, act_fn, initializer = NormalInitializer()):\n",
    "        self.weights = initializer.init_weights(n_in, n_out)\n",
    "        self.bias = initializer.init_bias(n_out)\n",
    "        self.act_fn = act_fn\n",
    "    \n",
    "    def __repr__(self):    \n",
    "        return 'Weights: ' + repr(self.weights) + ' Biases: ' + repr(self.bias)\n",
    "\n",
    "    def parameters(self) -> Sequence[Var]:\n",
    "      params = []\n",
    "      for r in self.weights:\n",
    "        params += r\n",
    "\n",
    "      return params + self.bias\n",
    "\n",
    "    def forward(self, single_input: Sequence[Var]) -> Sequence[Var]:\n",
    "        # self.weights is a matrix with dimension n_in x n_out. We check that the dimensionality of the input \n",
    "        # to the current layer matches the number of nodes in the current layer\n",
    "        assert len(self.weights) == len(single_input), f\"weights {len(self.weights)} and single_input {len(single_input)} must match in first dimension\"\n",
    "        weights = self.weights\n",
    "        out = []\n",
    "        # For some given data point single_input, we now want to calculate the resulting value in each node in the current layer\n",
    "        # We therefore loop over the (number of) nodes in the current layer:\n",
    "        for j in range(len(weights[0])): \n",
    "            # Initialize the node value depending on its corresponding parameters.\n",
    "            node = self.bias[j] # <- Insert code\n",
    "            # We now finish the linear transformation corresponding to the parameters of the currently considered node.\n",
    "            for i in range(len(single_input)):\n",
    "                node += self.weights[i][j] * single_input[i]  # <- Insert code\n",
    "            node = self.act_fn(node)\n",
    "            out.append(node)\n",
    "\n",
    "        return out\n",
    "\n",
    "    def model_summary(self):\n",
    "        print(f'Weights dimension: {len(self.weights)} x {len(self.weights[0])}')\n",
    "        print(f'Bias dimension: {len(self.bias)} x {len(self.bias[0])}')\n",
    "\n",
    "    def __repr__(self):\n",
    "       return f\"weight dimensions: {len(self.weights)} x {len(self.weights[0])} and bias dimension {len(self.bias)} x 1 along with parameters\\nweights: {self.weights}\\nbias:{self.bias})\""
   ]
  },
  {
   "attachments": {},
   "cell_type": "markdown",
   "metadata": {
    "id": "jpIZPBpNI0pO"
   },
   "source": [
    "## Exercise f) Add more activation functions\n",
    "\n",
    "To have a full definition of the neural network, we must define an activation function for every layer. Several activation functions have been proposed and have different characteristics. In the Var class we have already defined the rectified linear init (relu). \n",
    " \n",
    "Implement the following activation functions in the Var class:\n",
    "\n",
    "* Identity: $$\\mathrm{identity}(x) = x$$\n",
    "* Hyperbolic tangent: $$\\tanh(x)$$\n",
    "* Sigmoid (or logistic function): $$\\mathrm{sigmoid}(x) = \\frac{1}{1.0 + \\exp(-x ) }$$  Hint: $\\mathrm{sigmoid}'(x)= \\mathrm{sigmoid}(x)(1-\\mathrm{sigmoid}(x))$.  \n",
    "\n",
    "Hint: You can seek inspiration in the relu method in the Var class."
   ]
  },
  {
   "attachments": {},
   "cell_type": "markdown",
   "metadata": {
    "id": "p_8n_SKnIW2F"
   },
   "source": [
    "## Exercise g) Complete the forward pass\n",
    "\n",
    "In the code below we initialize a 1-5-1 network and pass the training set through it. *The forward method in DenseLayer is **not** complete*. It just outputs zeros right now. The method forward should perform an [affine transformation](https://en.wikipedia.org/wiki/Affine_transformation) on the input followed by an application of the activation function."
   ]
  },
  {
   "cell_type": "code",
   "execution_count": 20,
   "metadata": {
    "colab": {
     "base_uri": "https://localhost:8080/",
     "height": 337
    },
    "id": "xDEjtePxE7Mv",
    "outputId": "753406cd-d8a1-4282-ce03-25ad959b0e11"
   },
   "outputs": [
    {
     "name": "stdout",
     "output_type": "stream",
     "text": [
      "[[Var(v=-0.0064, grad=0.0000)], [Var(v=-0.0128, grad=0.0000)], [Var(v=-0.0012, grad=0.0000)], [Var(v=0.0004, grad=0.0000)], [Var(v=-0.0094, grad=0.0000)], [Var(v=-0.0087, grad=0.0000)], [Var(v=-0.0056, grad=0.0000)], [Var(v=0.0001, grad=0.0000)], [Var(v=0.0004, grad=0.0000)], [Var(v=-0.0035, grad=0.0000)], [Var(v=-0.0098, grad=0.0000)], [Var(v=0.0003, grad=0.0000)], [Var(v=-0.0079, grad=0.0000)], [Var(v=0.0003, grad=0.0000)], [Var(v=-0.0042, grad=0.0000)], [Var(v=-0.0082, grad=0.0000)], [Var(v=-0.0151, grad=0.0000)], [Var(v=-0.0072, grad=0.0000)], [Var(v=-0.0008, grad=0.0000)], [Var(v=-0.0025, grad=0.0000)], [Var(v=0.0002, grad=0.0000)], [Var(v=0.0001, grad=0.0000)], [Var(v=-0.0110, grad=0.0000)], [Var(v=-0.0111, grad=0.0000)], [Var(v=0.0001, grad=0.0000)], [Var(v=0.0003, grad=0.0000)], [Var(v=-0.0143, grad=0.0000)], [Var(v=-0.0157, grad=0.0000)], [Var(v=-0.0017, grad=0.0000)], [Var(v=-0.0099, grad=0.0000)], [Var(v=0.0004, grad=0.0000)], [Var(v=-0.0024, grad=0.0000)], [Var(v=0.0003, grad=0.0000)], [Var(v=0.0004, grad=0.0000)], [Var(v=-0.0076, grad=0.0000)], [Var(v=0.0001, grad=0.0000)], [Var(v=0.0004, grad=0.0000)], [Var(v=0.0002, grad=0.0000)], [Var(v=0.0003, grad=0.0000)], [Var(v=0.0002, grad=0.0000)], [Var(v=0.0002, grad=0.0000)], [Var(v=0.0002, grad=0.0000)], [Var(v=-0.0148, grad=0.0000)], [Var(v=0.0003, grad=0.0000)], [Var(v=0.0002, grad=0.0000)], [Var(v=0.0002, grad=0.0000)], [Var(v=-0.0095, grad=0.0000)], [Var(v=-0.0090, grad=0.0000)], [Var(v=0.0001, grad=0.0000)], [Var(v=-0.0092, grad=0.0000)], [Var(v=-0.0040, grad=0.0000)], [Var(v=-0.0003, grad=0.0000)], [Var(v=-0.0100, grad=0.0000)], [Var(v=0.0002, grad=0.0000)], [Var(v=-0.0159, grad=0.0000)], [Var(v=-0.0140, grad=0.0000)], [Var(v=0.0001, grad=0.0000)], [Var(v=0.0002, grad=0.0000)], [Var(v=-0.0052, grad=0.0000)], [Var(v=0.0004, grad=0.0000)], [Var(v=-0.0093, grad=0.0000)], [Var(v=0.0003, grad=0.0000)], [Var(v=0.0004, grad=0.0000)], [Var(v=-0.0045, grad=0.0000)], [Var(v=-0.0033, grad=0.0000)], [Var(v=0.0004, grad=0.0000)], [Var(v=0.0004, grad=0.0000)], [Var(v=-0.0118, grad=0.0000)], [Var(v=0.0003, grad=0.0000)], [Var(v=-0.0046, grad=0.0000)], [Var(v=0.0001, grad=0.0000)], [Var(v=0.0000, grad=0.0000)], [Var(v=-0.0091, grad=0.0000)], [Var(v=-0.0053, grad=0.0000)], [Var(v=0.0000, grad=0.0000)], [Var(v=-0.0144, grad=0.0000)], [Var(v=0.0002, grad=0.0000)], [Var(v=0.0002, grad=0.0000)], [Var(v=0.0002, grad=0.0000)], [Var(v=-0.0150, grad=0.0000)], [Var(v=-0.0023, grad=0.0000)], [Var(v=-0.0014, grad=0.0000)], [Var(v=0.0004, grad=0.0000)], [Var(v=0.0001, grad=0.0000)], [Var(v=0.0002, grad=0.0000)], [Var(v=0.0001, grad=0.0000)], [Var(v=0.0001, grad=0.0000)], [Var(v=0.0002, grad=0.0000)], [Var(v=0.0004, grad=0.0000)], [Var(v=0.0004, grad=0.0000)], [Var(v=-0.0054, grad=0.0000)], [Var(v=0.0001, grad=0.0000)], [Var(v=0.0002, grad=0.0000)], [Var(v=-0.0085, grad=0.0000)], [Var(v=0.0003, grad=0.0000)], [Var(v=0.0004, grad=0.0000)], [Var(v=-0.0039, grad=0.0000)], [Var(v=-0.0006, grad=0.0000)], [Var(v=-0.0136, grad=0.0000)], [Var(v=0.0002, grad=0.0000)], [Var(v=-0.0089, grad=0.0000)], [Var(v=0.0002, grad=0.0000)], [Var(v=0.0003, grad=0.0000)], [Var(v=-0.0043, grad=0.0000)], [Var(v=-0.0127, grad=0.0000)]]\n"
     ]
    }
   ],
   "source": [
    "NN = [\n",
    "    DenseLayer(1, 5, lambda x: x.relu()),\n",
    "    DenseLayer(5, 1, lambda x: x.identity())\n",
    "]\n",
    "\n",
    "def forward(input, network):\n",
    "\n",
    "  def forward_single(x, network):\n",
    "    for layer in network:\n",
    "        x = layer.forward(x)\n",
    "    return x\n",
    "\n",
    "  output = [ forward_single(input[n], network) for n in range(len(input))]\n",
    "  return output\n",
    "\n",
    "print(forward(x_train, NN))\n"
   ]
  },
  {
   "attachments": {},
   "cell_type": "markdown",
   "metadata": {
    "id": "oLrGJytZFtGm"
   },
   "source": [
    "## Exercise h) Print all network parameters\n",
    "\n",
    "Make a function that prints all the parameters of the network (weights and biases) with information about in which layer the appear. In the object oriented spirit you should introduce a method in the DenseLayer class to print the parameters of a layer. Hint: You can take inspiration from the corresponding method in Var. "
   ]
  },
  {
   "cell_type": "code",
   "execution_count": 21,
   "metadata": {
    "id": "iac-VwYGFtGm"
   },
   "outputs": [
    {
     "name": "stdout",
     "output_type": "stream",
     "text": [
      "layer: 1 has weight dimensions: 1 x 5 and bias dimension 5 x 1 along with parameters\n",
      "weights: [[Var(v=0.0467, grad=0.0000), Var(v=-0.0008, grad=0.0000), Var(v=0.0216, grad=0.0000), Var(v=-0.0782, grad=0.0000), Var(v=-0.0145, grad=0.0000)]]\n",
      "bias:[Var(v=0.0000, grad=0.0000), Var(v=0.0000, grad=0.0000), Var(v=0.0000, grad=0.0000), Var(v=0.0000, grad=0.0000), Var(v=0.0000, grad=0.0000)])\n",
      "\n",
      "layer: 2 has weight dimensions: 5 x 1 and bias dimension 1 x 1 along with parameters\n",
      "weights: [[Var(v=-0.2099, grad=0.0000)], [Var(v=-0.2025, grad=0.0000)], [Var(v=0.0465, grad=0.0000)], [Var(v=0.0212, grad=0.0000)], [Var(v=-0.0845, grad=0.0000)]]\n",
      "bias:[Var(v=0.0000, grad=0.0000)])\n",
      "\n"
     ]
    }
   ],
   "source": [
    "# Insert code here and in the DenseLayer class\n",
    "for i, layer in enumerate(NN):\n",
    "    print(f'layer: {i+1} has {layer}\\n')"
   ]
  },
  {
   "attachments": {},
   "cell_type": "markdown",
   "metadata": {
    "id": "_79HOAXrFtHK"
   },
   "source": [
    "## Visualization\n",
    "\n",
    "Now that we have defined our activation functions we can visualize them to see what they look like:"
   ]
  },
  {
   "cell_type": "code",
   "execution_count": 22,
   "metadata": {
    "id": "1FcylHqLTl-Z"
   },
   "outputs": [
    {
     "data": {
      "text/plain": [
       "[<matplotlib.lines.Line2D at 0x24ced98f0d0>]"
      ]
     },
     "execution_count": 22,
     "metadata": {},
     "output_type": "execute_result"
    },
    {
     "data": {
      "image/png": "[encoded data removed]",
      "text/plain": [
       "<Figure size 640x480 with 1 Axes>"
      ]
     },
     "metadata": {},
     "output_type": "display_data"
    }
   ],
   "source": [
    "x = np.linspace(-6, 6, 100)\n",
    "\n",
    "# convert from Var to ndarray  \n",
    "def Var_to_nparray(x):\n",
    "  y = np.zeros((len(x),len(x[0])))\n",
    "  for i in range(len(x)):\n",
    "    for j in range(len(x[0])):\n",
    "      y[i,j] = x[i][j].v\n",
    "  return y\n",
    "\n",
    "# define 1-1 network with weight = 1 and relu activation \n",
    "NN = [ DenseLayer(1, 1, lambda x: x.relu(), initializer = ConstantInitializer(1.0)) ] \n",
    "y = Var_to_nparray(forward(nparray_to_Var(x), NN))\n",
    "\n",
    "#y = Var_to_nparray(relu(nparray_to_Var(x)))\n",
    "plt.plot(x,y)"
   ]
  },
  {
   "cell_type": "code",
   "execution_count": 23,
   "metadata": {
    "id": "oOL2UolJFtHL"
   },
   "outputs": [
    {
     "data": {
      "image/png": "[encoded data removed]",
      "text/plain": [
       "<Figure size 500x500 with 1 Axes>"
      ]
     },
     "metadata": {},
     "output_type": "display_data"
    }
   ],
   "source": [
    "# Testing all activation layers\n",
    "\n",
    "x = np.linspace(-6, 6, 100)\n",
    "units = {\n",
    "    \"identity\": lambda x: x.identity(),\n",
    "    \"sigmoid\": lambda x: x.sigmoid(),\n",
    "    \"relu\": lambda x: x.relu(),\n",
    "    \"tanh\": lambda x: x.tanh()\n",
    "}\n",
    "\n",
    "plt.figure(figsize=(5, 5))\n",
    "[plt.plot(x, Var_to_nparray(forward(nparray_to_Var(x), [DenseLayer(1, 1, unit, initializer = ConstantInitializer(1.0))]) ), label=unit_name, lw=2) for unit_name, unit in units.items()] # unit(nparray_to_Var(x))), label=unit_name, lw=2) for unit_name, unit in units.items()]\n",
    "plt.legend(loc=2, fontsize=16)\n",
    "plt.title('Our activation functions', fontsize=20)\n",
    "plt.ylim([-2, 5])\n",
    "plt.xlim([-6, 6])\n",
    "plt.show()"
   ]
  },
  {
   "attachments": {},
   "cell_type": "markdown",
   "metadata": {
    "id": "b-jdEl-7FtGs"
   },
   "source": [
    "# Advanced initialization schemes\n",
    "\n",
    "If we are not careful with initialization, the signals we propagate forward ($a^{(l)}$, $l=1,\\ldots,L$) and backward ($\\delta^l$, $l=L,L-1,\\ldots,1$) can blow up or shrink to zero. A statistical analysis of the variance of the signals for different activation functions can be found in these two papers: [Glorot initialization](http://proceedings.mlr.press/v9/glorot10a/glorot10a.pdf) and [He initialization](https://arxiv.org/pdf/1502.01852v1.pdf). \n",
    "\n",
    "The result of the analyses are proposals for how to make the initialization such that the variance of the signals (forward and backward) are kept approxmimatly constant when propagating from layer to layer. The exact expressions depend upon the non-linear activation function used. In Glorot initialization, the aim is to keep both the forward and backward variances constant whereas He only aims at keeping the variance in the forward pass constant.\n",
    "\n",
    "We define $n_{in}$ and $n_{out}$ as the number of input units and output units of a particular layer. \n",
    "\n",
    "The Glorot initialization has the form: \n",
    "\n",
    "$$w_{ij} \\sim N \\bigg( 0, \\, \\frac{2 \\alpha }{n_{in} + n_{out}} \\bigg) \\ . $$\n",
    "\n",
    "where $N(\\mu,\\sigma^2)$ is a Gaussian distribution with mean $\\mu$ and variance $\\sigma^2$ and $\\alpha$ is a parameter that depends upon the activation function used. For $\\tanh$, $\\alpha=1$ and for Rectified Linear Unit (ReLU) activations, $\\alpha=2$. (It is also possible to use a uniform distribution for initialization, see [this blog post](https://mmuratarat.github.io/2019-02-25/xavier-glorot-he-weight-init).) \n",
    "\n",
    "The He initialization is very similar\n",
    "\n",
    "$$w_{ij} \\sim N \\bigg( 0, \\, \\frac{\\alpha}{n_{in}} \\bigg) \\ . $$"
   ]
  },
  {
   "attachments": {},
   "cell_type": "markdown",
   "metadata": {
    "id": "mqeyab9qFtGs"
   },
   "source": [
    "## Exercise i) Glorot and He initialization\n",
    " \n",
    "Using the Initializer class, implement functions that implement Glorot and He \n",
    "\n",
    "Explain briefly how you would test numerically that these initializations have the sought after property. Hint: See plots in Glorot paper.\n",
    "\n",
    "Comment: If you want to be more advanced then try to make a universal initializer taking both the activation function and type (Glorot or He) as argument."
   ]
  },
  {
   "cell_type": "code",
   "execution_count": 24,
   "metadata": {
    "id": "Qyk01CgaFtGt"
   },
   "outputs": [],
   "source": [
    "## Glorot\n",
    "def DenseLayer_Glorot_tanh(n_in: int, n_out: int):\n",
    "  std = math.sqrt(1/(n_in + n_out)) # take sqrt because above formula is variannce\n",
    "  return DenseLayer(n_in, n_out, lambda x: x.tanh(), initializer = NormalInitializer(std))\n",
    "\n",
    "## He\n",
    "def DenseLayer_He_relu(n_in: int, n_out: int):\n",
    "  std = math.sqrt(2 / n_in) \n",
    "  return DenseLayer(n_in, n_out, lambda x: x.relu(), initializer = NormalInitializer(std))"
   ]
  },
  {
   "attachments": {},
   "cell_type": "markdown",
   "metadata": {
    "id": "-XyXBD37FtHk"
   },
   "source": [
    "## Exercise j) Forward pass unit test\n",
    "\n",
    "Write a bit of code to make a unit test that the forward pass works. This can be done by defining a simple network with for example all weights equal to one (using the ConstantInitializer method) and identity activation functions. \n",
    "\n",
    "Hints: Use the [assert](https://www.w3schools.com/python/ref_keyword_assert.asp), the nparray_to_Var and the Var_to_nparray commands. "
   ]
  },
  {
   "cell_type": "code",
   "execution_count": 25,
   "metadata": {
    "id": "k0miqRUAFtHl"
   },
   "outputs": [
    {
     "name": "stdout",
     "output_type": "stream",
     "text": [
      "The model behaves as expected and output was:\n",
      " [20. 40. 60. 80.]\n"
     ]
    }
   ],
   "source": [
    "dataset_np = np.array([1, 2, 3, 4])\n",
    "dataset_var = nparray_to_Var(dataset_np)\n",
    "\n",
    "\n",
    "hidden_dim = 5\n",
    "const_init = 2.0\n",
    "\n",
    "Net = [DenseLayer(1, hidden_dim, lambda x: x.identity(), initializer = ConstantInitializer(const_init)),\n",
    "       DenseLayer(hidden_dim, 1, lambda x: x.identity(), initializer = ConstantInitializer(const_init))]\n",
    "\n",
    "y_true = np.array([[e * hidden_dim * const_init**2 for e in dataset_np]]).T\n",
    "\n",
    "out = Var_to_nparray(forward(dataset_var, Net))\n",
    "\n",
    "assert all(out == y_true), 'Error detected in forward pass. The actual output does not correspond to the expected output!'\n",
    "print(f\"The model behaves as expected and output was:\\n {out.squeeze()}\")"
   ]
  },
  {
   "attachments": {},
   "cell_type": "markdown",
   "metadata": {
    "id": "faCxhfFnFtHp"
   },
   "source": [
    "# Loss functions\n",
    "\n",
    "We are only missing a loss function to we need to define a loss function and its derivative with respect to the output of the neural network $y$"
   ]
  },
  {
   "cell_type": "code",
   "execution_count": 26,
   "metadata": {
    "id": "I2eDYKvAFtHq"
   },
   "outputs": [],
   "source": [
    "def squared_loss(t, y):\n",
    "  \n",
    "  # add check that sizes agree\n",
    "  assert len(t) == len(y), f'The shape of target {len(t)} does not match the shape of predictions {len(y)}'\n",
    "  \n",
    "  def squared_loss_single(t, y):\n",
    "    Loss = Var(0.0)\n",
    "    for i in range(len(t)): # sum over outputs\n",
    "      Loss += (t[i]-y[i]) ** 2\n",
    "    return Loss\n",
    "\n",
    "  Loss = Var(0.0)\n",
    "  for n in range(len(t)): # sum over training data\n",
    "    Loss += squared_loss_single(t[n], y[n])\n",
    "  return Loss\n"
   ]
  },
  {
   "attachments": {},
   "cell_type": "markdown",
   "metadata": {
    "id": "SrwSJ2UWFtHu"
   },
   "source": [
    "## Exercise k) Implement cross entropy loss\n",
    "\n",
    "Insert code below to implement cross-entropy loss for general dimensionality of $t$. Use a logits formulation:\n",
    "$$\n",
    "\\rm{Loss} = - \\sum_i t_i \\, log \\, p_i \n",
    "$$\n",
    "with $p$ given by the the softmax function in terms of the logits $h$:\n",
    "$$\n",
    "p_i = \\frac{\\exp(h_i)}{\\sum_{i'} \\exp(h_{i'})} .\n",
    "$$\n",
    "Inserting $p$ in the expression for the loss gives\n",
    "$$\n",
    "\\rm{Loss} = - \\sum_i t_i h_i + \\rm{LogSumExp}(h) \\ ,\n",
    "$$\n",
    "where \n",
    "$$\n",
    "\\rm{LogSumExp}(h) = \\log \\sum_i \\exp h_i \\ .\n",
    "$$\n",
    "This is true for $t$ being a one-hot vector. \n",
    "\n",
    "Call the function to convince yourself it works. \n",
    "\n",
    "In practice you want to implement a [numerically stable](https://leimao.github.io/blog/LogSumExp/) version of LogSumExp. But we will not bother about that here.\n",
    "\n",
    "Help: You can add these methods in the Var class:\n",
    "\n",
    "    def exp(self):\n",
    "        return Var(exp(self.v), lambda: [(self, exp(self.v))])\n",
    "    \n",
    "    def log(self):\n",
    "        return Var(log(self.v), lambda: [(self, self.v ** -1)])"
   ]
  },
  {
   "cell_type": "code",
   "execution_count": 124,
   "metadata": {
    "id": "6nMuxyfzFtHv"
   },
   "outputs": [
    {
     "data": {
      "text/plain": [
       "Var(v=-487.1710, grad=1.0000)"
      ]
     },
     "execution_count": 124,
     "metadata": {},
     "output_type": "execute_result"
    }
   ],
   "source": [
    "\"\"\"\n",
    "Extended Var class with log and exp methods above\n",
    "\"\"\"\n",
    "def cross_entropy_loss(t, h):\n",
    "    assert len(t) == len(h), 'Dimensionality mismatch between logits and target!'\n",
    "\n",
    "    def LogSumExp(h):\n",
    "        out = Var(0.0)\n",
    "        for h_i in h:\n",
    "            out += h_i[0].exp()\n",
    "        return out.log()\n",
    "\n",
    "    Loss = Var(0.0)\n",
    "        \n",
    "    for i in range(len(t)):\n",
    "        Loss += t[i][0]*h[i][0] + LogSumExp(h)\n",
    "    return -Loss\n",
    "\n",
    "NN = [DenseLayer(1, 8, lambda x : x.relu()),\n",
    "      DenseLayer(8, 1, lambda x : x.identity())]\n",
    "\n",
    "ce_out = cross_entropy_loss(y_train, forward(x_train, NN))\n",
    "ce_out.backward()\n",
    "ce_out"
   ]
  },
  {
   "attachments": {},
   "cell_type": "markdown",
   "metadata": {
    "id": "8fAF5ew4FtHy"
   },
   "source": [
    "# Backward pass\n",
    "\n",
    "Now the magic happens! We get the calculation of the gradients for free. Just do:"
   ]
  },
  {
   "cell_type": "code",
   "execution_count": 126,
   "metadata": {
    "id": "iHyfPPI9Qqwu"
   },
   "outputs": [
    {
     "data": {
      "text/plain": [
       "Var(v=100.9704, grad=1.0000)"
      ]
     },
     "execution_count": 126,
     "metadata": {},
     "output_type": "execute_result"
    }
   ],
   "source": [
    "NN = [\n",
    "    DenseLayer(1, 5, lambda x: x.relu()),\n",
    "    DenseLayer(5, 1, lambda x: x.identity())\n",
    "]\n",
    "\n",
    "output = forward(x_train, NN)\n",
    "Loss = squared_loss(y_train,output)\n",
    "Loss.backward()\n",
    "Loss"
   ]
  },
  {
   "attachments": {},
   "cell_type": "markdown",
   "metadata": {
    "id": "49biIAYKQ1oG"
   },
   "source": [
    "and the gradients will be calculated:"
   ]
  },
  {
   "cell_type": "code",
   "execution_count": 29,
   "metadata": {
    "id": "_rGt1bq_Q7uk"
   },
   "outputs": [
    {
     "name": "stdout",
     "output_type": "stream",
     "text": [
      "Layer 0 \n",
      " weight dimensions: 1 x 5 and bias dimension 5 x 1 along with parameters\n",
      "weights: [[Var(v=0.1412, grad=-1.4993), Var(v=-0.0933, grad=-1.0356), Var(v=-0.0078, grad=-5.0643), Var(v=0.1877, grad=-9.7972), Var(v=0.1407, grad=16.6528)]]\n",
      "bias:[Var(v=0.0000, grad=-1.2878), Var(v=0.0000, grad=0.9413), Var(v=0.0000, grad=4.6033), Var(v=0.0000, grad=-8.4153), Var(v=0.0000, grad=14.3039)])\n",
      "Layer 1 \n",
      " weight dimensions: 5 x 1 and bias dimension 1 x 1 along with parameters\n",
      "weights: [[Var(v=0.0147, grad=-14.3916)], [Var(v=0.0108, grad=8.9687)], [Var(v=0.0527, grad=0.7540)], [Var(v=0.0961, grad=-19.1265)], [Var(v=-0.1634, grad=-14.3336)]]\n",
      "bias:[Var(v=0.0000, grad=-0.1338)])\n"
     ]
    },
    {
     "data": {
      "text/plain": [
       "[None, None]"
      ]
     },
     "execution_count": 29,
     "metadata": {},
     "output_type": "execute_result"
    }
   ],
   "source": [
    "[print('Layer', i, '\\n', NN[i]) for i in range(len(NN))]"
   ]
  },
  {
   "attachments": {},
   "cell_type": "markdown",
   "metadata": {
    "id": "D7d7qK0uFtH9"
   },
   "source": [
    "# Backward pass unit test\n",
    "\n",
    "Above we used finite differences to test that Nanograd is actually doing what it is supposed to do. We can in principle try the same for the neural network. But we will trust that the test above is enough."
   ]
  },
  {
   "attachments": {},
   "cell_type": "markdown",
   "metadata": {
    "id": "WgBi8GOSFtIN"
   },
   "source": [
    "# Training and validation\n",
    "\n",
    "We are ready to train some neural networks!\n",
    "\n",
    "We initialize again:"
   ]
  },
  {
   "cell_type": "code",
   "execution_count": 30,
   "metadata": {
    "id": "01ePmzBzRtdh"
   },
   "outputs": [],
   "source": [
    "NN = [\n",
    "    DenseLayer(1, 15, lambda x: x.relu()),\n",
    "    DenseLayer(15, 50, lambda x: x.relu()),\n",
    "    DenseLayer(50, 1, lambda x: x.identity())\n",
    "]\n",
    "\n",
    "output = forward(x_train, NN)\n",
    "\n",
    "Loss = squared_loss(y_train,output)\n",
    "Loss.backward()"
   ]
  },
  {
   "attachments": {},
   "cell_type": "markdown",
   "metadata": {
    "id": "10iRPiQ1ISHw"
   },
   "source": [
    "and make an update:\n",
    "\n",
    "We introduce a help function parameters to have a handle in all parameters in the network."
   ]
  },
  {
   "cell_type": "code",
   "execution_count": 31,
   "metadata": {
    "id": "dhAI7eyeznia"
   },
   "outputs": [
    {
     "name": "stdout",
     "output_type": "stream",
     "text": [
      "Network before update:\n",
      "Layer 0 \n",
      " weight dimensions: 1 x 15 and bias dimension 15 x 1 along with parameters\n",
      "weights: [[Var(v=-0.0083, grad=-0.7159), Var(v=-0.0101, grad=1.2243), Var(v=0.1273, grad=-5.6065), Var(v=0.2123, grad=0.6276), Var(v=0.0904, grad=-3.0352), Var(v=-0.0082, grad=-1.6682), Var(v=-0.0356, grad=9.7774), Var(v=0.1238, grad=-1.3189), Var(v=-0.0122, grad=1.9620), Var(v=-0.0616, grad=-12.2480), Var(v=0.2102, grad=-4.6885), Var(v=-0.1412, grad=2.3392), Var(v=-0.0368, grad=-5.2359), Var(v=-0.0326, grad=-3.9518), Var(v=0.0961, grad=2.0591)]]\n",
      "bias:[Var(v=0.0000, grad=0.6508), Var(v=0.0000, grad=-1.1129), Var(v=0.0000, grad=-4.8177), Var(v=0.0000, grad=0.5393), Var(v=0.0000, grad=-2.6082), Var(v=0.0000, grad=1.5164), Var(v=0.0000, grad=-8.8878), Var(v=0.0000, grad=-1.1333), Var(v=0.0000, grad=-1.7835), Var(v=0.0000, grad=11.1337), Var(v=0.0000, grad=-4.0289), Var(v=0.0000, grad=-2.1263), Var(v=0.0000, grad=4.7595), Var(v=0.0000, grad=3.5923), Var(v=0.0000, grad=1.7694)])\n",
      "Layer 1 \n",
      " weight dimensions: 15 x 50 and bias dimension 50 x 1 along with parameters\n",
      "weights: [[Var(v=0.0452, grad=0.0000), Var(v=-0.1103, grad=0.0548), Var(v=-0.0375, grad=0.0000), Var(v=-0.1446, grad=-0.0395), Var(v=0.1377, grad=0.0000), Var(v=-0.0261, grad=-0.0537), Var(v=-0.0549, grad=0.0000), Var(v=-0.0301, grad=0.0000), Var(v=-0.0545, grad=0.0713), Var(v=0.0040, grad=0.0000), Var(v=-0.0172, grad=0.1002), Var(v=-0.0660, grad=0.1231), Var(v=0.1585, grad=0.0000), Var(v=0.0896, grad=0.0931), Var(v=-0.0649, grad=0.0000), Var(v=-0.0350, grad=0.0000), Var(v=0.0172, grad=-0.1007), Var(v=0.0757, grad=-0.0087), Var(v=0.1059, grad=0.0414), Var(v=0.0061, grad=0.0000), Var(v=0.2090, grad=0.0000), Var(v=-0.0348, grad=0.0883), Var(v=-0.0903, grad=0.0000), Var(v=-0.0448, grad=-0.0926), Var(v=0.0017, grad=0.1286), Var(v=0.0976, grad=0.0000), Var(v=-0.0957, grad=0.0000), Var(v=0.0234, grad=0.0000), Var(v=-0.0482, grad=-0.1131), Var(v=-0.1467, grad=-0.0021), Var(v=-0.0049, grad=0.0000), Var(v=-0.0109, grad=0.0000), Var(v=0.0683, grad=0.0000), Var(v=-0.1550, grad=0.0000), Var(v=-0.0001, grad=0.0000), Var(v=-0.0184, grad=0.0202), Var(v=-0.1199, grad=-0.0371), Var(v=0.0432, grad=-0.0372), Var(v=-0.0776, grad=0.0015), Var(v=0.1078, grad=-0.0557), Var(v=0.0106, grad=0.0000), Var(v=-0.1250, grad=0.0977), Var(v=0.1203, grad=0.0000), Var(v=-0.0017, grad=-0.1331), Var(v=-0.1323, grad=0.0773), Var(v=-0.0427, grad=-0.0022), Var(v=-0.0830, grad=-0.1478), Var(v=-0.0216, grad=0.0000), Var(v=-0.0397, grad=0.0000), Var(v=0.1745, grad=0.0844)], [Var(v=-0.1025, grad=0.0000), Var(v=0.0685, grad=0.0665), Var(v=-0.1628, grad=0.0000), Var(v=-0.0019, grad=-0.0479), Var(v=0.1832, grad=0.0000), Var(v=0.0302, grad=-0.0651), Var(v=0.0285, grad=0.0000), Var(v=0.0773, grad=0.0000), Var(v=0.1550, grad=0.0864), Var(v=-0.0995, grad=0.0000), Var(v=0.0411, grad=0.1215), Var(v=0.0334, grad=0.1493), Var(v=0.1192, grad=0.0000), Var(v=-0.0447, grad=0.1129), Var(v=0.1649, grad=0.0000), Var(v=-0.1161, grad=0.0000), Var(v=0.0715, grad=-0.1220), Var(v=-0.0551, grad=-0.0105), Var(v=-0.0082, grad=0.0502), Var(v=0.0846, grad=0.0000), Var(v=0.0718, grad=0.0000), Var(v=0.0089, grad=0.1070), Var(v=0.0194, grad=0.0000), Var(v=0.1168, grad=-0.1122), Var(v=0.0939, grad=0.1558), Var(v=0.1249, grad=0.0000), Var(v=-0.0252, grad=0.0000), Var(v=0.1669, grad=0.0000), Var(v=-0.0636, grad=-0.1371), Var(v=-0.0278, grad=-0.0025), Var(v=-0.0362, grad=0.0000), Var(v=-0.1213, grad=0.0000), Var(v=0.0386, grad=0.0000), Var(v=-0.0078, grad=0.0000), Var(v=-0.0009, grad=0.0000), Var(v=0.0193, grad=0.0245), Var(v=-0.0046, grad=-0.0450), Var(v=-0.1258, grad=-0.0451), Var(v=0.0231, grad=0.0018), Var(v=-0.0183, grad=-0.0675), Var(v=-0.1219, grad=0.0000), Var(v=0.0225, grad=0.1184), Var(v=0.2504, grad=0.0000), Var(v=0.0378, grad=-0.1614), Var(v=-0.0534, grad=0.0937), Var(v=0.0892, grad=-0.0027), Var(v=0.0704, grad=-0.1792), Var(v=0.1850, grad=0.0000), Var(v=-0.0471, grad=0.0000), Var(v=-0.2189, grad=0.1023)], [Var(v=-0.0752, grad=0.0000), Var(v=0.0833, grad=0.0000), Var(v=0.0388, grad=0.0000), Var(v=0.0602, grad=0.6243), Var(v=-0.0605, grad=0.0000), Var(v=-0.0477, grad=0.8484), Var(v=0.0515, grad=0.4016), Var(v=0.0486, grad=0.0000), Var(v=0.0102, grad=0.0000), Var(v=0.0317, grad=-0.8295), Var(v=-0.0977, grad=0.0000), Var(v=0.1134, grad=-1.9463), Var(v=0.0843, grad=-1.2885), Var(v=-0.0442, grad=-1.4721), Var(v=-0.0379, grad=0.0000), Var(v=0.0231, grad=1.2353), Var(v=-0.0951, grad=1.5913), Var(v=-0.0046, grad=0.0000), Var(v=-0.0299, grad=-0.6543), Var(v=-0.1232, grad=0.8175), Var(v=0.0036, grad=-0.1595), Var(v=0.1089, grad=-1.3956), Var(v=-0.0283, grad=0.0000), Var(v=-0.0536, grad=1.4636), Var(v=0.0166, grad=0.0000), Var(v=0.1077, grad=-1.1610), Var(v=-0.0406, grad=0.2341), Var(v=0.1082, grad=-0.8481), Var(v=-0.0111, grad=1.7883), Var(v=-0.0430, grad=0.0329), Var(v=-0.0150, grad=0.0000), Var(v=-0.0541, grad=0.0000), Var(v=-0.0694, grad=0.0000), Var(v=-0.1484, grad=0.0000), Var(v=0.0711, grad=0.0000), Var(v=-0.0468, grad=0.0000), Var(v=0.1181, grad=0.0000), Var(v=-0.1889, grad=0.0000), Var(v=-0.1278, grad=-0.0236), Var(v=-0.0205, grad=0.8804), Var(v=0.0265, grad=0.0000), Var(v=0.0284, grad=-1.5438), Var(v=-0.0784, grad=-2.7782), Var(v=-0.0120, grad=0.0000), Var(v=0.0427, grad=-1.2222), Var(v=-0.0792, grad=0.0000), Var(v=-0.1290, grad=2.3368), Var(v=-0.0879, grad=0.7181), Var(v=0.1375, grad=2.6969), Var(v=-0.0966, grad=-1.3333)], [Var(v=-0.0834, grad=0.0000), Var(v=0.1513, grad=0.0000), Var(v=0.0381, grad=0.0000), Var(v=0.1647, grad=1.0414), Var(v=-0.0254, grad=0.0000), Var(v=-0.0628, grad=1.4153), Var(v=-0.0184, grad=0.6700), Var(v=-0.2039, grad=0.0000), Var(v=0.0198, grad=0.0000), Var(v=0.0844, grad=-1.3837), Var(v=0.0875, grad=0.0000), Var(v=0.0155, grad=-3.2469), Var(v=-0.0012, grad=-2.1494), Var(v=0.0521, grad=-2.4558), Var(v=-0.1022, grad=0.0000), Var(v=0.0317, grad=2.0608), Var(v=-0.0193, grad=2.6547), Var(v=-0.0056, grad=0.0000), Var(v=0.0218, grad=-1.0915), Var(v=0.0609, grad=1.3637), Var(v=0.0780, grad=-0.2661), Var(v=-0.0406, grad=-2.3282), Var(v=-0.0325, grad=0.0000), Var(v=0.0972, grad=2.4415), Var(v=-0.1441, grad=0.0000), Var(v=-0.0453, grad=-1.9367), Var(v=0.0772, grad=0.3906), Var(v=0.0215, grad=-1.4147), Var(v=-0.0745, grad=2.9833), Var(v=0.1032, grad=0.0549), Var(v=-0.1486, grad=0.0000), Var(v=0.0370, grad=0.0000), Var(v=-0.1262, grad=0.0000), Var(v=0.0446, grad=0.0000), Var(v=-0.0274, grad=0.0000), Var(v=-0.0597, grad=0.0000), Var(v=-0.1082, grad=0.0000), Var(v=-0.1397, grad=0.0000), Var(v=0.2773, grad=-0.0394), Var(v=-0.0370, grad=1.4687), Var(v=0.0019, grad=0.0000), Var(v=0.1033, grad=-2.5755), Var(v=0.0448, grad=-4.6347), Var(v=-0.0077, grad=0.0000), Var(v=0.1218, grad=-2.0389), Var(v=-0.0844, grad=0.0000), Var(v=0.1190, grad=3.8982), Var(v=0.1751, grad=1.1980), Var(v=0.0596, grad=4.4990), Var(v=0.0245, grad=-2.2243)], [Var(v=0.1380, grad=0.0000), Var(v=-0.0017, grad=0.0000), Var(v=-0.1175, grad=0.0000), Var(v=0.0219, grad=0.4436), Var(v=0.0450, grad=0.0000), Var(v=-0.0785, grad=0.6028), Var(v=-0.1546, grad=0.2854), Var(v=0.0591, grad=0.0000), Var(v=0.0552, grad=0.0000), Var(v=0.1617, grad=-0.5894), Var(v=-0.0617, grad=0.0000), Var(v=-0.0017, grad=-1.3829), Var(v=-0.0348, grad=-0.9155), Var(v=0.1633, grad=-1.0460), Var(v=0.0755, grad=0.0000), Var(v=0.0465, grad=0.8777), Var(v=-0.0260, grad=1.1307), Var(v=-0.0545, grad=0.0000), Var(v=-0.1032, grad=-0.4649), Var(v=0.0638, grad=0.5808), Var(v=0.0376, grad=-0.1133), Var(v=-0.0698, grad=-0.9916), Var(v=0.1061, grad=0.0000), Var(v=0.2005, grad=1.0399), Var(v=-0.0852, grad=0.0000), Var(v=-0.0746, grad=-0.8249), Var(v=0.1077, grad=0.1664), Var(v=-0.1096, grad=-0.6026), Var(v=-0.1934, grad=1.2706), Var(v=-0.1121, grad=0.0234), Var(v=-0.0404, grad=0.0000), Var(v=0.0065, grad=0.0000), Var(v=-0.0123, grad=0.0000), Var(v=0.0416, grad=0.0000), Var(v=-0.0951, grad=0.0000), Var(v=-0.0047, grad=0.0000), Var(v=-0.1154, grad=0.0000), Var(v=0.0170, grad=0.0000), Var(v=-0.1603, grad=-0.0168), Var(v=0.0537, grad=0.6255), Var(v=0.0412, grad=0.0000), Var(v=-0.0249, grad=-1.0969), Var(v=0.1388, grad=-1.9740), Var(v=-0.0635, grad=0.0000), Var(v=0.0935, grad=-0.8684), Var(v=0.0136, grad=0.0000), Var(v=0.0493, grad=1.6603), Var(v=0.0518, grad=0.5102), Var(v=-0.0222, grad=1.9162), Var(v=0.0020, grad=-0.9474)], [Var(v=-0.0054, grad=0.0000), Var(v=-0.0926, grad=0.0539), Var(v=-0.0142, grad=0.0000), Var(v=0.0789, grad=-0.0388), Var(v=0.1475, grad=0.0000), Var(v=-0.0010, grad=-0.0528), Var(v=-0.0593, grad=0.0000), Var(v=0.0330, grad=0.0000), Var(v=0.0152, grad=0.0701), Var(v=-0.0976, grad=0.0000), Var(v=-0.0880, grad=0.0986), Var(v=-0.0697, grad=0.1211), Var(v=-0.0644, grad=0.0000), Var(v=0.0506, grad=0.0916), Var(v=-0.0859, grad=0.0000), Var(v=0.0474, grad=0.0000), Var(v=-0.2043, grad=-0.0990), Var(v=-0.1338, grad=-0.0086), Var(v=-0.0326, grad=0.0407), Var(v=-0.0756, grad=0.0000), Var(v=0.0229, grad=0.0000), Var(v=0.0463, grad=0.0868), Var(v=0.0489, grad=0.0000), Var(v=-0.1050, grad=-0.0911), Var(v=0.1026, grad=0.1264), Var(v=-0.0471, grad=0.0000), Var(v=0.1832, grad=0.0000), Var(v=0.0398, grad=0.0000), Var(v=0.1305, grad=-0.1113), Var(v=0.0984, grad=-0.0020), Var(v=0.1019, grad=0.0000), Var(v=-0.0768, grad=0.0000), Var(v=0.0554, grad=0.0000), Var(v=0.0788, grad=0.0000), Var(v=0.1006, grad=0.0000), Var(v=-0.0734, grad=0.0199), Var(v=0.0114, grad=-0.0365), Var(v=-0.1612, grad=-0.0366), Var(v=-0.0194, grad=0.0015), Var(v=0.0561, grad=-0.0548), Var(v=0.0755, grad=0.0000), Var(v=-0.0658, grad=0.0961), Var(v=0.0112, grad=0.0000), Var(v=0.0149, grad=-0.1310), Var(v=0.1276, grad=0.0761), Var(v=-0.0787, grad=-0.0022), Var(v=-0.0263, grad=-0.1454), Var(v=0.0697, grad=0.0000), Var(v=0.0806, grad=0.0000), Var(v=-0.0623, grad=0.0830)], [Var(v=-0.0911, grad=0.0000), Var(v=-0.2082, grad=0.2346), Var(v=-0.1157, grad=0.0000), Var(v=-0.1240, grad=-0.1690), Var(v=-0.0654, grad=0.0000), Var(v=0.1175, grad=-0.2296), Var(v=0.0309, grad=0.0000), Var(v=-0.0017, grad=0.0000), Var(v=-0.0707, grad=0.3051), Var(v=-0.0204, grad=0.0000), Var(v=0.0366, grad=0.4287), Var(v=-0.0280, grad=0.5268), Var(v=-0.0453, grad=0.0000), Var(v=-0.0281, grad=0.3985), Var(v=0.0820, grad=0.0000), Var(v=-0.1160, grad=0.0000), Var(v=-0.0419, grad=-0.4307), Var(v=-0.1032, grad=-0.0372), Var(v=-0.0443, grad=0.1771), Var(v=-0.0489, grad=0.0000), Var(v=-0.1062, grad=0.0000), Var(v=-0.0721, grad=0.3778), Var(v=0.0117, grad=0.0000), Var(v=0.0303, grad=-0.3961), Var(v=-0.0219, grad=0.5500), Var(v=-0.1485, grad=0.0000), Var(v=-0.2174, grad=0.0000), Var(v=0.0326, grad=0.0000), Var(v=-0.0064, grad=-0.4841), Var(v=0.1606, grad=-0.0089), Var(v=-0.0431, grad=0.0000), Var(v=0.2128, grad=0.0000), Var(v=-0.0435, grad=0.0000), Var(v=0.1433, grad=0.0000), Var(v=0.0763, grad=0.0000), Var(v=-0.0899, grad=0.0865), Var(v=-0.0363, grad=-0.1589), Var(v=0.1594, grad=-0.1593), Var(v=0.0410, grad=0.0064), Var(v=-0.0055, grad=-0.2383), Var(v=-0.2033, grad=0.0000), Var(v=-0.0284, grad=0.4179), Var(v=0.0662, grad=0.0000), Var(v=0.1844, grad=-0.5696), Var(v=0.0008, grad=0.3308), Var(v=-0.0573, grad=-0.0094), Var(v=0.1152, grad=-0.6325), Var(v=0.0671, grad=0.0000), Var(v=-0.2368, grad=0.0000), Var(v=-0.0301, grad=0.3609)], [Var(v=0.1077, grad=0.0000), Var(v=-0.1260, grad=0.0000), Var(v=-0.1195, grad=0.0000), Var(v=0.0245, grad=0.6074), Var(v=0.0495, grad=0.0000), Var(v=0.2027, grad=0.8254), Var(v=0.1006, grad=0.3908), Var(v=0.0604, grad=0.0000), Var(v=-0.1097, grad=0.0000), Var(v=0.0159, grad=-0.8070), Var(v=-0.1544, grad=0.0000), Var(v=0.0841, grad=-1.8937), Var(v=0.1341, grad=-1.2536), Var(v=-0.0670, grad=-1.4323), Var(v=0.0100, grad=0.0000), Var(v=-0.0426, grad=1.2019), Var(v=0.1779, grad=1.5483), Var(v=0.1292, grad=0.0000), Var(v=-0.1025, grad=-0.6366), Var(v=-0.0523, grad=0.7954), Var(v=0.0078, grad=-0.1552), Var(v=0.1087, grad=-1.3579), Var(v=-0.0971, grad=0.0000), Var(v=0.1568, grad=1.4240), Var(v=0.0298, grad=0.0000), Var(v=-0.0060, grad=-1.1296), Var(v=0.1652, grad=0.2278), Var(v=-0.0862, grad=-0.8251), Var(v=0.0733, grad=1.7399), Var(v=0.0167, grad=0.0320), Var(v=-0.0428, grad=0.0000), Var(v=0.0107, grad=0.0000), Var(v=-0.0111, grad=0.0000), Var(v=-0.0361, grad=0.0000), Var(v=-0.0966, grad=0.0000), Var(v=0.1340, grad=0.0000), Var(v=-0.0468, grad=0.0000), Var(v=0.0647, grad=0.0000), Var(v=-0.0085, grad=-0.0230), Var(v=-0.0088, grad=0.8566), Var(v=-0.0484, grad=0.0000), Var(v=0.0902, grad=-1.5021), Var(v=0.0324, grad=-2.7031), Var(v=-0.3024, grad=0.0000), Var(v=0.0801, grad=-1.1891), Var(v=0.0545, grad=0.0000), Var(v=-0.0024, grad=2.2735), Var(v=-0.1620, grad=0.6987), Var(v=-0.0966, grad=2.6240), Var(v=0.0069, grad=-1.2973)], [Var(v=0.0927, grad=0.0000), Var(v=0.0057, grad=0.0805), Var(v=-0.1101, grad=0.0000), Var(v=0.0536, grad=-0.0580), Var(v=0.1443, grad=0.0000), Var(v=0.1087, grad=-0.0788), Var(v=0.1025, grad=0.0000), Var(v=-0.1514, grad=0.0000), Var(v=-0.1197, grad=0.1047), Var(v=-0.0338, grad=0.0000), Var(v=0.0606, grad=0.1471), Var(v=-0.0374, grad=0.1807), Var(v=-0.0262, grad=0.0000), Var(v=0.1553, grad=0.1367), Var(v=-0.0526, grad=0.0000), Var(v=-0.1940, grad=0.0000), Var(v=0.0710, grad=-0.1478), Var(v=0.0550, grad=-0.0128), Var(v=-0.0170, grad=0.0608), Var(v=-0.0020, grad=0.0000), Var(v=-0.0963, grad=0.0000), Var(v=-0.0405, grad=0.1296), Var(v=0.0696, grad=0.0000), Var(v=-0.0944, grad=-0.1359), Var(v=-0.0126, grad=0.1887), Var(v=0.0907, grad=0.0000), Var(v=0.0418, grad=0.0000), Var(v=-0.0040, grad=0.0000), Var(v=-0.0777, grad=-0.1660), Var(v=-0.1676, grad=-0.0031), Var(v=0.0973, grad=0.0000), Var(v=0.0237, grad=0.0000), Var(v=-0.0869, grad=0.0000), Var(v=0.0325, grad=0.0000), Var(v=-0.0287, grad=0.0000), Var(v=-0.1798, grad=0.0297), Var(v=0.1064, grad=-0.0545), Var(v=-0.1735, grad=-0.0546), Var(v=-0.0184, grad=0.0022), Var(v=-0.0072, grad=-0.0817), Var(v=-0.1296, grad=0.0000), Var(v=-0.1274, grad=0.1433), Var(v=0.0546, grad=0.0000), Var(v=-0.0988, grad=-0.1954), Var(v=-0.1020, grad=0.1135), Var(v=-0.0726, grad=-0.0032), Var(v=0.0320, grad=-0.2170), Var(v=-0.0904, grad=0.0000), Var(v=0.1080, grad=0.0000), Var(v=-0.0941, grad=0.1238)], [Var(v=0.0226, grad=0.0000), Var(v=0.1225, grad=0.4059), Var(v=-0.1617, grad=0.0000), Var(v=0.1210, grad=-0.2924), Var(v=-0.0663, grad=0.0000), Var(v=-0.0283, grad=-0.3973), Var(v=-0.1829, grad=0.0000), Var(v=-0.0749, grad=0.0000), Var(v=0.0302, grad=0.5279), Var(v=-0.0755, grad=0.0000), Var(v=0.1614, grad=0.7418), Var(v=0.1906, grad=0.9116), Var(v=-0.1091, grad=0.0000), Var(v=0.0666, grad=0.6895), Var(v=-0.0386, grad=0.0000), Var(v=0.0477, grad=0.0000), Var(v=0.0088, grad=-0.7453), Var(v=0.0665, grad=-0.0644), Var(v=0.0313, grad=0.3064), Var(v=0.0002, grad=0.0000), Var(v=0.1243, grad=0.0000), Var(v=0.1090, grad=0.6537), Var(v=-0.1227, grad=0.0000), Var(v=-0.0564, grad=-0.6855), Var(v=0.1742, grad=0.9517), Var(v=-0.0044, grad=0.0000), Var(v=-0.0654, grad=0.0000), Var(v=-0.1751, grad=0.0000), Var(v=-0.0139, grad=-0.8376), Var(v=0.0539, grad=-0.0154), Var(v=-0.0214, grad=0.0000), Var(v=-0.2092, grad=0.0000), Var(v=-0.0916, grad=0.0000), Var(v=0.0156, grad=0.0000), Var(v=0.0296, grad=0.0000), Var(v=0.1372, grad=0.1496), Var(v=0.0582, grad=-0.2750), Var(v=-0.1055, grad=-0.2757), Var(v=-0.0521, grad=0.0111), Var(v=0.0860, grad=-0.4123), Var(v=-0.0715, grad=0.0000), Var(v=0.0421, grad=0.7231), Var(v=0.0285, grad=0.0000), Var(v=-0.0662, grad=-0.9857), Var(v=-0.0886, grad=0.5724), Var(v=0.0132, grad=-0.0163), Var(v=-0.0077, grad=-1.0945), Var(v=-0.0152, grad=0.0000), Var(v=0.0629, grad=0.0000), Var(v=0.0598, grad=0.6245)], [Var(v=-0.1329, grad=0.0000), Var(v=-0.1470, grad=0.0000), Var(v=-0.0517, grad=0.0000), Var(v=0.0012, grad=1.0309), Var(v=-0.0356, grad=0.0000), Var(v=-0.0553, grad=1.4009), Var(v=0.0731, grad=0.6632), Var(v=-0.1088, grad=0.0000), Var(v=-0.1704, grad=0.0000), Var(v=0.1630, grad=-1.3697), Var(v=-0.0017, grad=0.0000), Var(v=0.1266, grad=-3.2140), Var(v=0.0361, grad=-2.1276), Var(v=-0.0361, grad=-2.4310), Var(v=-0.1068, grad=0.0000), Var(v=0.0654, grad=2.0399), Var(v=0.2253, grad=2.6278), Var(v=-0.1318, grad=0.0000), Var(v=0.2345, grad=-1.0804), Var(v=0.1742, grad=1.3499), Var(v=0.0359, grad=-0.2634), Var(v=0.0376, grad=-2.3046), Var(v=-0.0044, grad=0.0000), Var(v=-0.0443, grad=2.4168), Var(v=-0.0308, grad=0.0000), Var(v=0.0724, grad=-1.9171), Var(v=-0.0097, grad=0.3866), Var(v=0.0485, grad=-1.4004), Var(v=0.0745, grad=2.9531), Var(v=0.2246, grad=0.0544), Var(v=0.0443, grad=0.0000), Var(v=-0.1161, grad=0.0000), Var(v=0.0908, grad=0.0000), Var(v=-0.0884, grad=0.0000), Var(v=-0.0174, grad=0.0000), Var(v=-0.0138, grad=0.0000), Var(v=-0.2469, grad=0.0000), Var(v=0.0659, grad=0.0000), Var(v=0.1197, grad=-0.0390), Var(v=0.1086, grad=1.4538), Var(v=-0.0018, grad=0.0000), Var(v=0.0869, grad=-2.5494), Var(v=0.1502, grad=-4.5877), Var(v=-0.0070, grad=0.0000), Var(v=-0.1681, grad=-2.0183), Var(v=-0.2755, grad=0.0000), Var(v=-0.1183, grad=3.8587), Var(v=0.0472, grad=1.1858), Var(v=-0.0116, grad=4.4535), Var(v=-0.0031, grad=-2.2018)], [Var(v=-0.0313, grad=0.0000), Var(v=0.0936, grad=0.9304), Var(v=-0.1173, grad=0.0000), Var(v=0.0066, grad=-0.6703), Var(v=-0.0130, grad=0.0000), Var(v=0.0653, grad=-0.9109), Var(v=-0.0647, grad=0.0000), Var(v=-0.0066, grad=0.0000), Var(v=0.0093, grad=1.2102), Var(v=-0.0043, grad=0.0000), Var(v=0.1207, grad=1.7005), Var(v=-0.0075, grad=2.0898), Var(v=-0.0680, grad=0.0000), Var(v=0.0484, grad=1.5806), Var(v=0.0154, grad=0.0000), Var(v=-0.0679, grad=0.0000), Var(v=0.0543, grad=-1.7086), Var(v=0.1314, grad=-0.1475), Var(v=0.0357, grad=0.7025), Var(v=0.0514, grad=0.0000), Var(v=-0.0011, grad=0.0000), Var(v=0.0155, grad=1.4985), Var(v=-0.0706, grad=0.0000), Var(v=0.1524, grad=-1.5714), Var(v=0.1259, grad=2.1818), Var(v=-0.1023, grad=0.0000), Var(v=-0.0139, grad=0.0000), Var(v=-0.0071, grad=0.0000), Var(v=0.0046, grad=-1.9201), Var(v=0.0559, grad=-0.0354), Var(v=-0.0759, grad=0.0000), Var(v=0.0562, grad=0.0000), Var(v=0.0407, grad=0.0000), Var(v=-0.0733, grad=0.0000), Var(v=-0.0323, grad=0.0000), Var(v=0.1076, grad=0.3429), Var(v=0.0652, grad=-0.6304), Var(v=0.1138, grad=-0.6319), Var(v=0.0329, grad=0.0254), Var(v=0.0287, grad=-0.9453), Var(v=0.0374, grad=0.0000), Var(v=0.0640, grad=1.6576), Var(v=-0.1356, grad=0.0000), Var(v=0.1656, grad=-2.2596), Var(v=0.1504, grad=1.3123), Var(v=0.1801, grad=-0.0374), Var(v=0.1616, grad=-2.5090), Var(v=-0.1325, grad=0.0000), Var(v=-0.0826, grad=0.0000), Var(v=-0.0042, grad=1.4316)], [Var(v=-0.1901, grad=0.0000), Var(v=0.0304, grad=0.2428), Var(v=-0.1472, grad=0.0000), Var(v=0.0241, grad=-0.1749), Var(v=-0.0494, grad=0.0000), Var(v=-0.0678, grad=-0.2377), Var(v=-0.1337, grad=0.0000), Var(v=-0.1586, grad=0.0000), Var(v=0.0573, grad=0.3158), Var(v=0.1870, grad=0.0000), Var(v=-0.0261, grad=0.4437), Var(v=-0.1227, grad=0.5453), Var(v=0.0263, grad=0.0000), Var(v=0.1926, grad=0.4125), Var(v=-0.0790, grad=0.0000), Var(v=-0.0537, grad=0.0000), Var(v=0.0062, grad=-0.4459), Var(v=-0.0592, grad=-0.0385), Var(v=0.1822, grad=0.1833), Var(v=-0.0441, grad=0.0000), Var(v=-0.0088, grad=0.0000), Var(v=0.1554, grad=0.3910), Var(v=0.0802, grad=0.0000), Var(v=-0.0250, grad=-0.4101), Var(v=-0.2044, grad=0.5693), Var(v=-0.0480, grad=0.0000), Var(v=-0.0455, grad=0.0000), Var(v=0.0574, grad=0.0000), Var(v=0.1667, grad=-0.5010), Var(v=0.1185, grad=-0.0092), Var(v=-0.0839, grad=0.0000), Var(v=0.0500, grad=0.0000), Var(v=-0.1116, grad=0.0000), Var(v=0.1292, grad=0.0000), Var(v=-0.2867, grad=0.0000), Var(v=0.0507, grad=0.0895), Var(v=0.0116, grad=-0.1645), Var(v=-0.0367, grad=-0.1649), Var(v=0.0868, grad=0.0066), Var(v=-0.0001, grad=-0.2467), Var(v=-0.1165, grad=0.0000), Var(v=0.0091, grad=0.4326), Var(v=-0.0947, grad=0.0000), Var(v=-0.1111, grad=-0.5896), Var(v=-0.0350, grad=0.3424), Var(v=0.0307, grad=-0.0098), Var(v=-0.1345, grad=-0.6547), Var(v=-0.0164, grad=0.0000), Var(v=0.0819, grad=0.0000), Var(v=0.2600, grad=0.3736)], [Var(v=-0.1069, grad=0.0000), Var(v=-0.0153, grad=0.2145), Var(v=0.0260, grad=0.0000), Var(v=0.2211, grad=-0.1546), Var(v=-0.0818, grad=0.0000), Var(v=0.1530, grad=-0.2100), Var(v=0.0075, grad=0.0000), Var(v=-0.0484, grad=0.0000), Var(v=0.0073, grad=0.2790), Var(v=-0.0808, grad=0.0000), Var(v=-0.0289, grad=0.3921), Var(v=0.1263, grad=0.4818), Var(v=0.0718, grad=0.0000), Var(v=0.0553, grad=0.3645), Var(v=-0.0219, grad=0.0000), Var(v=0.0315, grad=0.0000), Var(v=0.0204, grad=-0.3940), Var(v=0.0889, grad=-0.0340), Var(v=-0.2085, grad=0.1620), Var(v=-0.1311, grad=0.0000), Var(v=-0.1515, grad=0.0000), Var(v=-0.1487, grad=0.3455), Var(v=-0.1260, grad=0.0000), Var(v=-0.0679, grad=-0.3623), Var(v=0.0365, grad=0.5031), Var(v=-0.0200, grad=0.0000), Var(v=-0.1506, grad=0.0000), Var(v=0.0041, grad=0.0000), Var(v=0.1025, grad=-0.4427), Var(v=0.0944, grad=-0.0082), Var(v=0.2360, grad=0.0000), Var(v=-0.1331, grad=0.0000), Var(v=-0.0234, grad=0.0000), Var(v=-0.0439, grad=0.0000), Var(v=0.0767, grad=0.0000), Var(v=-0.0004, grad=0.0791), Var(v=0.0604, grad=-0.1454), Var(v=-0.0731, grad=-0.1457), Var(v=0.0700, grad=0.0059), Var(v=-0.2075, grad=-0.2180), Var(v=-0.0796, grad=0.0000), Var(v=0.0938, grad=0.3822), Var(v=0.1314, grad=0.0000), Var(v=-0.1557, grad=-0.5210), Var(v=0.2132, grad=0.3026), Var(v=-0.0122, grad=-0.0086), Var(v=0.0200, grad=-0.5785), Var(v=-0.2081, grad=0.0000), Var(v=-0.0008, grad=0.0000), Var(v=0.0257, grad=0.3301)], [Var(v=0.2208, grad=0.0000), Var(v=-0.0556, grad=0.0000), Var(v=-0.1954, grad=0.0000), Var(v=0.1351, grad=0.4714), Var(v=0.0511, grad=0.0000), Var(v=0.1819, grad=0.6406), Var(v=0.1103, grad=0.3033), Var(v=0.0683, grad=0.0000), Var(v=0.0576, grad=0.0000), Var(v=-0.0494, grad=-0.6264), Var(v=-0.1204, grad=0.0000), Var(v=0.0685, grad=-1.4697), Var(v=0.0737, grad=-0.9729), Var(v=-0.0371, grad=-1.1116), Var(v=-0.0355, grad=0.0000), Var(v=-0.2057, grad=0.9328), Var(v=0.0085, grad=1.2016), Var(v=0.0044, grad=0.0000), Var(v=-0.0786, grad=-0.4941), Var(v=0.0889, grad=0.6173), Var(v=-0.0233, grad=-0.1204), Var(v=-0.0216, grad=-1.0539), Var(v=-0.1770, grad=0.0000), Var(v=0.0714, grad=1.1052), Var(v=-0.0317, grad=0.0000), Var(v=0.0080, grad=-0.8767), Var(v=-0.0929, grad=0.1768), Var(v=0.2071, grad=-0.6404), Var(v=0.1267, grad=1.3504), Var(v=-0.0890, grad=0.0249), Var(v=-0.1158, grad=0.0000), Var(v=0.1447, grad=0.0000), Var(v=0.1530, grad=0.0000), Var(v=0.0510, grad=0.0000), Var(v=0.0015, grad=0.0000), Var(v=-0.0028, grad=0.0000), Var(v=-0.1914, grad=0.0000), Var(v=0.1118, grad=0.0000), Var(v=0.0839, grad=-0.0179), Var(v=0.0450, grad=0.6648), Var(v=-0.1515, grad=0.0000), Var(v=-0.0338, grad=-1.1658), Var(v=0.0162, grad=-2.0979), Var(v=0.0286, grad=0.0000), Var(v=0.0195, grad=-0.9229), Var(v=-0.0106, grad=0.0000), Var(v=0.1252, grad=1.7645), Var(v=0.0179, grad=0.5423), Var(v=-0.0511, grad=2.0365), Var(v=0.0869, grad=-1.0068)]]\n",
      "bias:[Var(v=0.0000, grad=0.0000), Var(v=0.0000, grad=5.9905), Var(v=0.0000, grad=0.0000), Var(v=0.0000, grad=-0.1007), Var(v=0.0000, grad=0.0000), Var(v=0.0000, grad=-0.1368), Var(v=0.0000, grad=2.7118), Var(v=0.0000, grad=0.0000), Var(v=0.0000, grad=7.7919), Var(v=0.0000, grad=-5.6004), Var(v=0.0000, grad=10.9490), Var(v=0.0000, grad=0.3140), Var(v=0.0000, grad=-8.6993), Var(v=0.0000, grad=0.2375), Var(v=0.0000, grad=0.0000), Var(v=0.0000, grad=8.3406), Var(v=0.0000, grad=-0.2567), Var(v=0.0000, grad=-0.9499), Var(v=0.0000, grad=0.1055), Var(v=0.0000, grad=5.5194), Var(v=0.0000, grad=-1.0768), Var(v=0.0000, grad=0.2251), Var(v=0.0000, grad=0.0000), Var(v=0.0000, grad=-0.2361), Var(v=0.0000, grad=14.0478), Var(v=0.0000, grad=-7.8385), Var(v=0.0000, grad=1.5808), Var(v=0.0000, grad=-5.7259), Var(v=0.0000, grad=-0.2885), Var(v=0.0000, grad=-0.0053), Var(v=0.0000, grad=0.0000), Var(v=0.0000, grad=0.0000), Var(v=0.0000, grad=0.0000), Var(v=0.0000, grad=0.0000), Var(v=0.0000, grad=0.0000), Var(v=0.0000, grad=2.2080), Var(v=0.0000, grad=-4.0588), Var(v=0.0000, grad=-4.0688), Var(v=0.0000, grad=0.0038), Var(v=0.0000, grad=-0.1420), Var(v=0.0000, grad=0.0000), Var(v=0.0000, grad=0.2490), Var(v=0.0000, grad=-18.7579), Var(v=0.0000, grad=-14.5482), Var(v=0.0000, grad=0.1971), Var(v=0.0000, grad=-0.2411), Var(v=0.0000, grad=-0.3769), Var(v=0.0000, grad=4.8486), Var(v=0.0000, grad=18.2090), Var(v=0.0000, grad=0.2151)])\n",
      "Layer 2 \n",
      " weight dimensions: 50 x 1 and bias dimension 1 x 1 along with parameters\n",
      "weights: [[Var(v=-0.1317, grad=0.0000)], [Var(v=0.0684, grad=1.2582)], [Var(v=-0.1191, grad=0.0000)], [Var(v=-0.0492, grad=-4.8933)], [Var(v=-0.0035, grad=0.0000)], [Var(v=-0.0669, grad=1.0567)], [Var(v=-0.0317, grad=-2.6986)], [Var(v=0.2471, grad=0.0000)], [Var(v=0.0889, grad=0.2680)], [Var(v=0.0654, grad=-6.7782)], [Var(v=0.1249, grad=2.5717)], [Var(v=0.1535, grad=-5.3184)], [Var(v=0.1016, grad=-3.8461)], [Var(v=0.1161, grad=1.9917)], [Var(v=-0.0003, grad=0.0000)], [Var(v=-0.0974, grad=-0.2580)], [Var(v=-0.1255, grad=-4.4057)], [Var(v=-0.0108, grad=1.8650)], [Var(v=0.0516, grad=-1.5036)], [Var(v=-0.0645, grad=-4.1515)], [Var(v=0.0126, grad=-2.6600)], [Var(v=0.1101, grad=-1.1473)], [Var(v=0.0210, grad=0.0000)], [Var(v=-0.1155, grad=-3.4486)], [Var(v=0.1603, grad=2.2189)], [Var(v=0.0916, grad=-1.2550)], [Var(v=-0.0185, grad=-3.0346)], [Var(v=0.0669, grad=-2.7732)], [Var(v=-0.1411, grad=0.5641)], [Var(v=-0.0026, grad=-2.5978)], [Var(v=0.0317, grad=0.0000)], [Var(v=-0.0656, grad=0.0000)], [Var(v=-0.0976, grad=0.0000)], [Var(v=-0.1006, grad=0.0000)], [Var(v=-0.1367, grad=0.0000)], [Var(v=0.0252, grad=1.8847)], [Var(v=-0.0463, grad=1.3722)], [Var(v=-0.0464, grad=0.6915)], [Var(v=0.0019, grad=-5.2743)], [Var(v=-0.0694, grad=-1.7007)], [Var(v=0.0933, grad=0.0000)], [Var(v=0.1218, grad=-3.8577)], [Var(v=0.2192, grad=-4.9044)], [Var(v=-0.1660, grad=1.5411)], [Var(v=0.0964, grad=0.2748)], [Var(v=-0.0028, grad=2.3088)], [Var(v=-0.1843, grad=2.1346)], [Var(v=-0.0566, grad=-2.2175)], [Var(v=-0.2127, grad=-0.8786)], [Var(v=0.1052, grad=0.8029)]]\n",
      "bias:[Var(v=0.0000, grad=2.0448)])\n",
      "\n",
      "Network after update:\n",
      "Layer 0 \n",
      " weight dimensions: 1 x 15 and bias dimension 15 x 1 along with parameters\n",
      "weights: [[Var(v=-0.0012, grad=-0.7159), Var(v=-0.0223, grad=1.2243), Var(v=0.1833, grad=-5.6065), Var(v=0.2060, grad=0.6276), Var(v=0.1208, grad=-3.0352), Var(v=0.0085, grad=-1.6682), Var(v=-0.1334, grad=9.7774), Var(v=0.1370, grad=-1.3189), Var(v=-0.0318, grad=1.9620), Var(v=0.0609, grad=-12.2480), Var(v=0.2571, grad=-4.6885), Var(v=-0.1646, grad=2.3392), Var(v=0.0155, grad=-5.2359), Var(v=0.0070, grad=-3.9518), Var(v=0.0755, grad=2.0591)]]\n",
      "bias:[Var(v=-0.0065, grad=0.6508), Var(v=0.0111, grad=-1.1129), Var(v=0.0482, grad=-4.8177), Var(v=-0.0054, grad=0.5393), Var(v=0.0261, grad=-2.6082), Var(v=-0.0152, grad=1.5164), Var(v=0.0889, grad=-8.8878), Var(v=0.0113, grad=-1.1333), Var(v=0.0178, grad=-1.7835), Var(v=-0.1113, grad=11.1337), Var(v=0.0403, grad=-4.0289), Var(v=0.0213, grad=-2.1263), Var(v=-0.0476, grad=4.7595), Var(v=-0.0359, grad=3.5923), Var(v=-0.0177, grad=1.7694)])\n",
      "Layer 1 \n",
      " weight dimensions: 15 x 50 and bias dimension 50 x 1 along with parameters\n",
      "weights: [[Var(v=0.0452, grad=0.0000), Var(v=-0.1109, grad=0.0548), Var(v=-0.0375, grad=0.0000), Var(v=-0.1443, grad=-0.0395), Var(v=0.1377, grad=0.0000), Var(v=-0.0256, grad=-0.0537), Var(v=-0.0549, grad=0.0000), Var(v=-0.0301, grad=0.0000), Var(v=-0.0552, grad=0.0713), Var(v=0.0040, grad=0.0000), Var(v=-0.0182, grad=0.1002), Var(v=-0.0672, grad=0.1231), Var(v=0.1585, grad=0.0000), Var(v=0.0887, grad=0.0931), Var(v=-0.0649, grad=0.0000), Var(v=-0.0350, grad=0.0000), Var(v=0.0182, grad=-0.1007), Var(v=0.0758, grad=-0.0087), Var(v=0.1055, grad=0.0414), Var(v=0.0061, grad=0.0000), Var(v=0.2090, grad=0.0000), Var(v=-0.0357, grad=0.0883), Var(v=-0.0903, grad=0.0000), Var(v=-0.0439, grad=-0.0926), Var(v=0.0005, grad=0.1286), Var(v=0.0976, grad=0.0000), Var(v=-0.0957, grad=0.0000), Var(v=0.0234, grad=0.0000), Var(v=-0.0471, grad=-0.1131), Var(v=-0.1467, grad=-0.0021), Var(v=-0.0049, grad=0.0000), Var(v=-0.0109, grad=0.0000), Var(v=0.0683, grad=0.0000), Var(v=-0.1550, grad=0.0000), Var(v=-0.0001, grad=0.0000), Var(v=-0.0186, grad=0.0202), Var(v=-0.1195, grad=-0.0371), Var(v=0.0436, grad=-0.0372), Var(v=-0.0776, grad=0.0015), Var(v=0.1084, grad=-0.0557), Var(v=0.0106, grad=0.0000), Var(v=-0.1260, grad=0.0977), Var(v=0.1203, grad=0.0000), Var(v=-0.0004, grad=-0.1331), Var(v=-0.1330, grad=0.0773), Var(v=-0.0427, grad=-0.0022), Var(v=-0.0815, grad=-0.1478), Var(v=-0.0216, grad=0.0000), Var(v=-0.0397, grad=0.0000), Var(v=0.1736, grad=0.0844)], [Var(v=-0.1025, grad=0.0000), Var(v=0.0678, grad=0.0665), Var(v=-0.1628, grad=0.0000), Var(v=-0.0014, grad=-0.0479), Var(v=0.1832, grad=0.0000), Var(v=0.0308, grad=-0.0651), Var(v=0.0285, grad=0.0000), Var(v=0.0773, grad=0.0000), Var(v=0.1542, grad=0.0864), Var(v=-0.0995, grad=0.0000), Var(v=0.0398, grad=0.1215), Var(v=0.0320, grad=0.1493), Var(v=0.1192, grad=0.0000), Var(v=-0.0459, grad=0.1129), Var(v=0.1649, grad=0.0000), Var(v=-0.1161, grad=0.0000), Var(v=0.0727, grad=-0.1220), Var(v=-0.0550, grad=-0.0105), Var(v=-0.0087, grad=0.0502), Var(v=0.0846, grad=0.0000), Var(v=0.0718, grad=0.0000), Var(v=0.0078, grad=0.1070), Var(v=0.0194, grad=0.0000), Var(v=0.1179, grad=-0.1122), Var(v=0.0923, grad=0.1558), Var(v=0.1249, grad=0.0000), Var(v=-0.0252, grad=0.0000), Var(v=0.1669, grad=0.0000), Var(v=-0.0622, grad=-0.1371), Var(v=-0.0277, grad=-0.0025), Var(v=-0.0362, grad=0.0000), Var(v=-0.1213, grad=0.0000), Var(v=0.0386, grad=0.0000), Var(v=-0.0078, grad=0.0000), Var(v=-0.0009, grad=0.0000), Var(v=0.0191, grad=0.0245), Var(v=-0.0042, grad=-0.0450), Var(v=-0.1253, grad=-0.0451), Var(v=0.0231, grad=0.0018), Var(v=-0.0176, grad=-0.0675), Var(v=-0.1219, grad=0.0000), Var(v=0.0213, grad=0.1184), Var(v=0.2504, grad=0.0000), Var(v=0.0394, grad=-0.1614), Var(v=-0.0544, grad=0.0937), Var(v=0.0892, grad=-0.0027), Var(v=0.0722, grad=-0.1792), Var(v=0.1850, grad=0.0000), Var(v=-0.0471, grad=0.0000), Var(v=-0.2199, grad=0.1023)], [Var(v=-0.0752, grad=0.0000), Var(v=0.0833, grad=0.0000), Var(v=0.0388, grad=0.0000), Var(v=0.0539, grad=0.6243), Var(v=-0.0605, grad=0.0000), Var(v=-0.0562, grad=0.8484), Var(v=0.0475, grad=0.4016), Var(v=0.0486, grad=0.0000), Var(v=0.0102, grad=0.0000), Var(v=0.0400, grad=-0.8295), Var(v=-0.0977, grad=0.0000), Var(v=0.1329, grad=-1.9463), Var(v=0.0972, grad=-1.2885), Var(v=-0.0295, grad=-1.4721), Var(v=-0.0379, grad=0.0000), Var(v=0.0108, grad=1.2353), Var(v=-0.1110, grad=1.5913), Var(v=-0.0046, grad=0.0000), Var(v=-0.0233, grad=-0.6543), Var(v=-0.1314, grad=0.8175), Var(v=0.0052, grad=-0.1595), Var(v=0.1228, grad=-1.3956), Var(v=-0.0283, grad=0.0000), Var(v=-0.0682, grad=1.4636), Var(v=0.0166, grad=0.0000), Var(v=0.1193, grad=-1.1610), Var(v=-0.0429, grad=0.2341), Var(v=0.1167, grad=-0.8481), Var(v=-0.0290, grad=1.7883), Var(v=-0.0434, grad=0.0329), Var(v=-0.0150, grad=0.0000), Var(v=-0.0541, grad=0.0000), Var(v=-0.0694, grad=0.0000), Var(v=-0.1484, grad=0.0000), Var(v=0.0711, grad=0.0000), Var(v=-0.0468, grad=0.0000), Var(v=0.1181, grad=0.0000), Var(v=-0.1889, grad=0.0000), Var(v=-0.1276, grad=-0.0236), Var(v=-0.0293, grad=0.8804), Var(v=0.0265, grad=0.0000), Var(v=0.0438, grad=-1.5438), Var(v=-0.0506, grad=-2.7782), Var(v=-0.0120, grad=0.0000), Var(v=0.0549, grad=-1.2222), Var(v=-0.0792, grad=0.0000), Var(v=-0.1524, grad=2.3368), Var(v=-0.0951, grad=0.7181), Var(v=0.1105, grad=2.6969), Var(v=-0.0833, grad=-1.3333)], [Var(v=-0.0834, grad=0.0000), Var(v=0.1513, grad=0.0000), Var(v=0.0381, grad=0.0000), Var(v=0.1543, grad=1.0414), Var(v=-0.0254, grad=0.0000), Var(v=-0.0770, grad=1.4153), Var(v=-0.0251, grad=0.6700), Var(v=-0.2039, grad=0.0000), Var(v=0.0198, grad=0.0000), Var(v=0.0982, grad=-1.3837), Var(v=0.0875, grad=0.0000), Var(v=0.0480, grad=-3.2469), Var(v=0.0203, grad=-2.1494), Var(v=0.0766, grad=-2.4558), Var(v=-0.1022, grad=0.0000), Var(v=0.0111, grad=2.0608), Var(v=-0.0458, grad=2.6547), Var(v=-0.0056, grad=0.0000), Var(v=0.0327, grad=-1.0915), Var(v=0.0472, grad=1.3637), Var(v=0.0807, grad=-0.2661), Var(v=-0.0174, grad=-2.3282), Var(v=-0.0325, grad=0.0000), Var(v=0.0728, grad=2.4415), Var(v=-0.1441, grad=0.0000), Var(v=-0.0259, grad=-1.9367), Var(v=0.0733, grad=0.3906), Var(v=0.0356, grad=-1.4147), Var(v=-0.1043, grad=2.9833), Var(v=0.1026, grad=0.0549), Var(v=-0.1486, grad=0.0000), Var(v=0.0370, grad=0.0000), Var(v=-0.1262, grad=0.0000), Var(v=0.0446, grad=0.0000), Var(v=-0.0274, grad=0.0000), Var(v=-0.0597, grad=0.0000), Var(v=-0.1082, grad=0.0000), Var(v=-0.1397, grad=0.0000), Var(v=0.2777, grad=-0.0394), Var(v=-0.0517, grad=1.4687), Var(v=0.0019, grad=0.0000), Var(v=0.1290, grad=-2.5755), Var(v=0.0912, grad=-4.6347), Var(v=-0.0077, grad=0.0000), Var(v=0.1422, grad=-2.0389), Var(v=-0.0844, grad=0.0000), Var(v=0.0801, grad=3.8982), Var(v=0.1632, grad=1.1980), Var(v=0.0146, grad=4.4990), Var(v=0.0468, grad=-2.2243)], [Var(v=0.1380, grad=0.0000), Var(v=-0.0017, grad=0.0000), Var(v=-0.1175, grad=0.0000), Var(v=0.0174, grad=0.4436), Var(v=0.0450, grad=0.0000), Var(v=-0.0846, grad=0.6028), Var(v=-0.1575, grad=0.2854), Var(v=0.0591, grad=0.0000), Var(v=0.0552, grad=0.0000), Var(v=0.1676, grad=-0.5894), Var(v=-0.0617, grad=0.0000), Var(v=0.0122, grad=-1.3829), Var(v=-0.0257, grad=-0.9155), Var(v=0.1737, grad=-1.0460), Var(v=0.0755, grad=0.0000), Var(v=0.0377, grad=0.8777), Var(v=-0.0373, grad=1.1307), Var(v=-0.0545, grad=0.0000), Var(v=-0.0985, grad=-0.4649), Var(v=0.0580, grad=0.5808), Var(v=0.0388, grad=-0.1133), Var(v=-0.0598, grad=-0.9916), Var(v=0.1061, grad=0.0000), Var(v=0.1901, grad=1.0399), Var(v=-0.0852, grad=0.0000), Var(v=-0.0663, grad=-0.8249), Var(v=0.1061, grad=0.1664), Var(v=-0.1036, grad=-0.6026), Var(v=-0.2061, grad=1.2706), Var(v=-0.1123, grad=0.0234), Var(v=-0.0404, grad=0.0000), Var(v=0.0065, grad=0.0000), Var(v=-0.0123, grad=0.0000), Var(v=0.0416, grad=0.0000), Var(v=-0.0951, grad=0.0000), Var(v=-0.0047, grad=0.0000), Var(v=-0.1154, grad=0.0000), Var(v=0.0170, grad=0.0000), Var(v=-0.1601, grad=-0.0168), Var(v=0.0475, grad=0.6255), Var(v=0.0412, grad=0.0000), Var(v=-0.0140, grad=-1.0969), Var(v=0.1586, grad=-1.9740), Var(v=-0.0635, grad=0.0000), Var(v=0.1022, grad=-0.8684), Var(v=0.0136, grad=0.0000), Var(v=0.0327, grad=1.6603), Var(v=0.0467, grad=0.5102), Var(v=-0.0413, grad=1.9162), Var(v=0.0115, grad=-0.9474)], [Var(v=-0.0054, grad=0.0000), Var(v=-0.0931, grad=0.0539), Var(v=-0.0142, grad=0.0000), Var(v=0.0793, grad=-0.0388), Var(v=0.1475, grad=0.0000), Var(v=-0.0005, grad=-0.0528), Var(v=-0.0593, grad=0.0000), Var(v=0.0330, grad=0.0000), Var(v=0.0145, grad=0.0701), Var(v=-0.0976, grad=0.0000), Var(v=-0.0890, grad=0.0986), Var(v=-0.0709, grad=0.1211), Var(v=-0.0644, grad=0.0000), Var(v=0.0497, grad=0.0916), Var(v=-0.0859, grad=0.0000), Var(v=0.0474, grad=0.0000), Var(v=-0.2033, grad=-0.0990), Var(v=-0.1337, grad=-0.0086), Var(v=-0.0330, grad=0.0407), Var(v=-0.0756, grad=0.0000), Var(v=0.0229, grad=0.0000), Var(v=0.0454, grad=0.0868), Var(v=0.0489, grad=0.0000), Var(v=-0.1041, grad=-0.0911), Var(v=0.1013, grad=0.1264), Var(v=-0.0471, grad=0.0000), Var(v=0.1832, grad=0.0000), Var(v=0.0398, grad=0.0000), Var(v=0.1317, grad=-0.1113), Var(v=0.0984, grad=-0.0020), Var(v=0.1019, grad=0.0000), Var(v=-0.0768, grad=0.0000), Var(v=0.0554, grad=0.0000), Var(v=0.0788, grad=0.0000), Var(v=0.1006, grad=0.0000), Var(v=-0.0736, grad=0.0199), Var(v=0.0117, grad=-0.0365), Var(v=-0.1608, grad=-0.0366), Var(v=-0.0194, grad=0.0015), Var(v=0.0566, grad=-0.0548), Var(v=0.0755, grad=0.0000), Var(v=-0.0668, grad=0.0961), Var(v=0.0112, grad=0.0000), Var(v=0.0162, grad=-0.1310), Var(v=0.1269, grad=0.0761), Var(v=-0.0787, grad=-0.0022), Var(v=-0.0249, grad=-0.1454), Var(v=0.0697, grad=0.0000), Var(v=0.0806, grad=0.0000), Var(v=-0.0631, grad=0.0830)], [Var(v=-0.0911, grad=0.0000), Var(v=-0.2106, grad=0.2346), Var(v=-0.1157, grad=0.0000), Var(v=-0.1223, grad=-0.1690), Var(v=-0.0654, grad=0.0000), Var(v=0.1198, grad=-0.2296), Var(v=0.0309, grad=0.0000), Var(v=-0.0017, grad=0.0000), Var(v=-0.0738, grad=0.3051), Var(v=-0.0204, grad=0.0000), Var(v=0.0323, grad=0.4287), Var(v=-0.0333, grad=0.5268), Var(v=-0.0453, grad=0.0000), Var(v=-0.0321, grad=0.3985), Var(v=0.0820, grad=0.0000), Var(v=-0.1160, grad=0.0000), Var(v=-0.0376, grad=-0.4307), Var(v=-0.1028, grad=-0.0372), Var(v=-0.0461, grad=0.1771), Var(v=-0.0489, grad=0.0000), Var(v=-0.1062, grad=0.0000), Var(v=-0.0758, grad=0.3778), Var(v=0.0117, grad=0.0000), Var(v=0.0343, grad=-0.3961), Var(v=-0.0274, grad=0.5500), Var(v=-0.1485, grad=0.0000), Var(v=-0.2174, grad=0.0000), Var(v=0.0326, grad=0.0000), Var(v=-0.0015, grad=-0.4841), Var(v=0.1607, grad=-0.0089), Var(v=-0.0431, grad=0.0000), Var(v=0.2128, grad=0.0000), Var(v=-0.0435, grad=0.0000), Var(v=0.1433, grad=0.0000), Var(v=0.0763, grad=0.0000), Var(v=-0.0907, grad=0.0865), Var(v=-0.0347, grad=-0.1589), Var(v=0.1610, grad=-0.1593), Var(v=0.0409, grad=0.0064), Var(v=-0.0031, grad=-0.2383), Var(v=-0.2033, grad=0.0000), Var(v=-0.0326, grad=0.4179), Var(v=0.0662, grad=0.0000), Var(v=0.1901, grad=-0.5696), Var(v=-0.0025, grad=0.3308), Var(v=-0.0572, grad=-0.0094), Var(v=0.1215, grad=-0.6325), Var(v=0.0671, grad=0.0000), Var(v=-0.2368, grad=0.0000), Var(v=-0.0337, grad=0.3609)], [Var(v=0.1077, grad=0.0000), Var(v=-0.1260, grad=0.0000), Var(v=-0.1195, grad=0.0000), Var(v=0.0185, grad=0.6074), Var(v=0.0495, grad=0.0000), Var(v=0.1944, grad=0.8254), Var(v=0.0967, grad=0.3908), Var(v=0.0604, grad=0.0000), Var(v=-0.1097, grad=0.0000), Var(v=0.0240, grad=-0.8070), Var(v=-0.1544, grad=0.0000), Var(v=0.1030, grad=-1.8937), Var(v=0.1466, grad=-1.2536), Var(v=-0.0527, grad=-1.4323), Var(v=0.0100, grad=0.0000), Var(v=-0.0546, grad=1.2019), Var(v=0.1625, grad=1.5483), Var(v=0.1292, grad=0.0000), Var(v=-0.0961, grad=-0.6366), Var(v=-0.0603, grad=0.7954), Var(v=0.0093, grad=-0.1552), Var(v=0.1222, grad=-1.3579), Var(v=-0.0971, grad=0.0000), Var(v=0.1426, grad=1.4240), Var(v=0.0298, grad=0.0000), Var(v=0.0053, grad=-1.1296), Var(v=0.1629, grad=0.2278), Var(v=-0.0779, grad=-0.8251), Var(v=0.0559, grad=1.7399), Var(v=0.0163, grad=0.0320), Var(v=-0.0428, grad=0.0000), Var(v=0.0107, grad=0.0000), Var(v=-0.0111, grad=0.0000), Var(v=-0.0361, grad=0.0000), Var(v=-0.0966, grad=0.0000), Var(v=0.1340, grad=0.0000), Var(v=-0.0468, grad=0.0000), Var(v=0.0647, grad=0.0000), Var(v=-0.0082, grad=-0.0230), Var(v=-0.0174, grad=0.8566), Var(v=-0.0484, grad=0.0000), Var(v=0.1052, grad=-1.5021), Var(v=0.0594, grad=-2.7031), Var(v=-0.3024, grad=0.0000), Var(v=0.0920, grad=-1.1891), Var(v=0.0545, grad=0.0000), Var(v=-0.0251, grad=2.2735), Var(v=-0.1690, grad=0.6987), Var(v=-0.1228, grad=2.6240), Var(v=0.0198, grad=-1.2973)], [Var(v=0.0927, grad=0.0000), Var(v=0.0049, grad=0.0805), Var(v=-0.1101, grad=0.0000), Var(v=0.0542, grad=-0.0580), Var(v=0.1443, grad=0.0000), Var(v=0.1095, grad=-0.0788), Var(v=0.1025, grad=0.0000), Var(v=-0.1514, grad=0.0000), Var(v=-0.1208, grad=0.1047), Var(v=-0.0338, grad=0.0000), Var(v=0.0592, grad=0.1471), Var(v=-0.0392, grad=0.1807), Var(v=-0.0262, grad=0.0000), Var(v=0.1539, grad=0.1367), Var(v=-0.0526, grad=0.0000), Var(v=-0.1940, grad=0.0000), Var(v=0.0725, grad=-0.1478), Var(v=0.0551, grad=-0.0128), Var(v=-0.0176, grad=0.0608), Var(v=-0.0020, grad=0.0000), Var(v=-0.0963, grad=0.0000), Var(v=-0.0418, grad=0.1296), Var(v=0.0696, grad=0.0000), Var(v=-0.0930, grad=-0.1359), Var(v=-0.0145, grad=0.1887), Var(v=0.0907, grad=0.0000), Var(v=0.0418, grad=0.0000), Var(v=-0.0040, grad=0.0000), Var(v=-0.0760, grad=-0.1660), Var(v=-0.1676, grad=-0.0031), Var(v=0.0973, grad=0.0000), Var(v=0.0237, grad=0.0000), Var(v=-0.0869, grad=0.0000), Var(v=0.0325, grad=0.0000), Var(v=-0.0287, grad=0.0000), Var(v=-0.1801, grad=0.0297), Var(v=0.1070, grad=-0.0545), Var(v=-0.1729, grad=-0.0546), Var(v=-0.0184, grad=0.0022), Var(v=-0.0063, grad=-0.0817), Var(v=-0.1296, grad=0.0000), Var(v=-0.1288, grad=0.1433), Var(v=0.0546, grad=0.0000), Var(v=-0.0969, grad=-0.1954), Var(v=-0.1031, grad=0.1135), Var(v=-0.0726, grad=-0.0032), Var(v=0.0342, grad=-0.2170), Var(v=-0.0904, grad=0.0000), Var(v=0.1080, grad=0.0000), Var(v=-0.0953, grad=0.1238)], [Var(v=0.0226, grad=0.0000), Var(v=0.1185, grad=0.4059), Var(v=-0.1617, grad=0.0000), Var(v=0.1239, grad=-0.2924), Var(v=-0.0663, grad=0.0000), Var(v=-0.0243, grad=-0.3973), Var(v=-0.1829, grad=0.0000), Var(v=-0.0749, grad=0.0000), Var(v=0.0249, grad=0.5279), Var(v=-0.0755, grad=0.0000), Var(v=0.1540, grad=0.7418), Var(v=0.1815, grad=0.9116), Var(v=-0.1091, grad=0.0000), Var(v=0.0597, grad=0.6895), Var(v=-0.0386, grad=0.0000), Var(v=0.0477, grad=0.0000), Var(v=0.0162, grad=-0.7453), Var(v=0.0672, grad=-0.0644), Var(v=0.0282, grad=0.3064), Var(v=0.0002, grad=0.0000), Var(v=0.1243, grad=0.0000), Var(v=0.1024, grad=0.6537), Var(v=-0.1227, grad=0.0000), Var(v=-0.0495, grad=-0.6855), Var(v=0.1647, grad=0.9517), Var(v=-0.0044, grad=0.0000), Var(v=-0.0654, grad=0.0000), Var(v=-0.1751, grad=0.0000), Var(v=-0.0055, grad=-0.8376), Var(v=0.0540, grad=-0.0154), Var(v=-0.0214, grad=0.0000), Var(v=-0.2092, grad=0.0000), Var(v=-0.0916, grad=0.0000), Var(v=0.0156, grad=0.0000), Var(v=0.0296, grad=0.0000), Var(v=0.1357, grad=0.1496), Var(v=0.0609, grad=-0.2750), Var(v=-0.1027, grad=-0.2757), Var(v=-0.0522, grad=0.0111), Var(v=0.0901, grad=-0.4123), Var(v=-0.0715, grad=0.0000), Var(v=0.0349, grad=0.7231), Var(v=0.0285, grad=0.0000), Var(v=-0.0563, grad=-0.9857), Var(v=-0.0943, grad=0.5724), Var(v=0.0133, grad=-0.0163), Var(v=0.0032, grad=-1.0945), Var(v=-0.0152, grad=0.0000), Var(v=0.0629, grad=0.0000), Var(v=0.0536, grad=0.6245)], [Var(v=-0.1329, grad=0.0000), Var(v=-0.1470, grad=0.0000), Var(v=-0.0517, grad=0.0000), Var(v=-0.0091, grad=1.0309), Var(v=-0.0356, grad=0.0000), Var(v=-0.0693, grad=1.4009), Var(v=0.0665, grad=0.6632), Var(v=-0.1088, grad=0.0000), Var(v=-0.1704, grad=0.0000), Var(v=0.1767, grad=-1.3697), Var(v=-0.0017, grad=0.0000), Var(v=0.1587, grad=-3.2140), Var(v=0.0574, grad=-2.1276), Var(v=-0.0118, grad=-2.4310), Var(v=-0.1068, grad=0.0000), Var(v=0.0450, grad=2.0399), Var(v=0.1990, grad=2.6278), Var(v=-0.1318, grad=0.0000), Var(v=0.2453, grad=-1.0804), Var(v=0.1607, grad=1.3499), Var(v=0.0386, grad=-0.2634), Var(v=0.0606, grad=-2.3046), Var(v=-0.0044, grad=0.0000), Var(v=-0.0684, grad=2.4168), Var(v=-0.0308, grad=0.0000), Var(v=0.0916, grad=-1.9171), Var(v=-0.0135, grad=0.3866), Var(v=0.0625, grad=-1.4004), Var(v=0.0450, grad=2.9531), Var(v=0.2241, grad=0.0544), Var(v=0.0443, grad=0.0000), Var(v=-0.1161, grad=0.0000), Var(v=0.0908, grad=0.0000), Var(v=-0.0884, grad=0.0000), Var(v=-0.0174, grad=0.0000), Var(v=-0.0138, grad=0.0000), Var(v=-0.2469, grad=0.0000), Var(v=0.0659, grad=0.0000), Var(v=0.1201, grad=-0.0390), Var(v=0.0941, grad=1.4538), Var(v=-0.0018, grad=0.0000), Var(v=0.1124, grad=-2.5494), Var(v=0.1961, grad=-4.5877), Var(v=-0.0070, grad=0.0000), Var(v=-0.1479, grad=-2.0183), Var(v=-0.2755, grad=0.0000), Var(v=-0.1569, grad=3.8587), Var(v=0.0354, grad=1.1858), Var(v=-0.0562, grad=4.4535), Var(v=0.0189, grad=-2.2018)], [Var(v=-0.0313, grad=0.0000), Var(v=0.0843, grad=0.9304), Var(v=-0.1173, grad=0.0000), Var(v=0.0133, grad=-0.6703), Var(v=-0.0130, grad=0.0000), Var(v=0.0744, grad=-0.9109), Var(v=-0.0647, grad=0.0000), Var(v=-0.0066, grad=0.0000), Var(v=-0.0028, grad=1.2102), Var(v=-0.0043, grad=0.0000), Var(v=0.1037, grad=1.7005), Var(v=-0.0284, grad=2.0898), Var(v=-0.0680, grad=0.0000), Var(v=0.0326, grad=1.5806), Var(v=0.0154, grad=0.0000), Var(v=-0.0679, grad=0.0000), Var(v=0.0714, grad=-1.7086), Var(v=0.1329, grad=-0.1475), Var(v=0.0286, grad=0.7025), Var(v=0.0514, grad=0.0000), Var(v=-0.0011, grad=0.0000), Var(v=0.0005, grad=1.4985), Var(v=-0.0706, grad=0.0000), Var(v=0.1681, grad=-1.5714), Var(v=0.1040, grad=2.1818), Var(v=-0.1023, grad=0.0000), Var(v=-0.0139, grad=0.0000), Var(v=-0.0071, grad=0.0000), Var(v=0.0238, grad=-1.9201), Var(v=0.0563, grad=-0.0354), Var(v=-0.0759, grad=0.0000), Var(v=0.0562, grad=0.0000), Var(v=0.0407, grad=0.0000), Var(v=-0.0733, grad=0.0000), Var(v=-0.0323, grad=0.0000), Var(v=0.1042, grad=0.3429), Var(v=0.0715, grad=-0.6304), Var(v=0.1201, grad=-0.6319), Var(v=0.0327, grad=0.0254), Var(v=0.0381, grad=-0.9453), Var(v=0.0374, grad=0.0000), Var(v=0.0474, grad=1.6576), Var(v=-0.1356, grad=0.0000), Var(v=0.1882, grad=-2.2596), Var(v=0.1373, grad=1.3123), Var(v=0.1805, grad=-0.0374), Var(v=0.1867, grad=-2.5090), Var(v=-0.1325, grad=0.0000), Var(v=-0.0826, grad=0.0000), Var(v=-0.0185, grad=1.4316)], [Var(v=-0.1901, grad=0.0000), Var(v=0.0280, grad=0.2428), Var(v=-0.1472, grad=0.0000), Var(v=0.0259, grad=-0.1749), Var(v=-0.0494, grad=0.0000), Var(v=-0.0654, grad=-0.2377), Var(v=-0.1337, grad=0.0000), Var(v=-0.1586, grad=0.0000), Var(v=0.0542, grad=0.3158), Var(v=0.1870, grad=0.0000), Var(v=-0.0305, grad=0.4437), Var(v=-0.1282, grad=0.5453), Var(v=0.0263, grad=0.0000), Var(v=0.1885, grad=0.4125), Var(v=-0.0790, grad=0.0000), Var(v=-0.0537, grad=0.0000), Var(v=0.0106, grad=-0.4459), Var(v=-0.0588, grad=-0.0385), Var(v=0.1804, grad=0.1833), Var(v=-0.0441, grad=0.0000), Var(v=-0.0088, grad=0.0000), Var(v=0.1514, grad=0.3910), Var(v=0.0802, grad=0.0000), Var(v=-0.0209, grad=-0.4101), Var(v=-0.2101, grad=0.5693), Var(v=-0.0480, grad=0.0000), Var(v=-0.0455, grad=0.0000), Var(v=0.0574, grad=0.0000), Var(v=0.1717, grad=-0.5010), Var(v=0.1186, grad=-0.0092), Var(v=-0.0839, grad=0.0000), Var(v=0.0500, grad=0.0000), Var(v=-0.1116, grad=0.0000), Var(v=0.1292, grad=0.0000), Var(v=-0.2867, grad=0.0000), Var(v=0.0498, grad=0.0895), Var(v=0.0132, grad=-0.1645), Var(v=-0.0351, grad=-0.1649), Var(v=0.0868, grad=0.0066), Var(v=0.0024, grad=-0.2467), Var(v=-0.1165, grad=0.0000), Var(v=0.0048, grad=0.4326), Var(v=-0.0947, grad=0.0000), Var(v=-0.1052, grad=-0.5896), Var(v=-0.0385, grad=0.3424), Var(v=0.0308, grad=-0.0098), Var(v=-0.1280, grad=-0.6547), Var(v=-0.0164, grad=0.0000), Var(v=0.0819, grad=0.0000), Var(v=0.2563, grad=0.3736)], [Var(v=-0.1069, grad=0.0000), Var(v=-0.0174, grad=0.2145), Var(v=0.0260, grad=0.0000), Var(v=0.2226, grad=-0.1546), Var(v=-0.0818, grad=0.0000), Var(v=0.1551, grad=-0.2100), Var(v=0.0075, grad=0.0000), Var(v=-0.0484, grad=0.0000), Var(v=0.0045, grad=0.2790), Var(v=-0.0808, grad=0.0000), Var(v=-0.0328, grad=0.3921), Var(v=0.1215, grad=0.4818), Var(v=0.0718, grad=0.0000), Var(v=0.0517, grad=0.3645), Var(v=-0.0219, grad=0.0000), Var(v=0.0315, grad=0.0000), Var(v=0.0243, grad=-0.3940), Var(v=0.0893, grad=-0.0340), Var(v=-0.2102, grad=0.1620), Var(v=-0.1311, grad=0.0000), Var(v=-0.1515, grad=0.0000), Var(v=-0.1522, grad=0.3455), Var(v=-0.1260, grad=0.0000), Var(v=-0.0643, grad=-0.3623), Var(v=0.0314, grad=0.5031), Var(v=-0.0200, grad=0.0000), Var(v=-0.1506, grad=0.0000), Var(v=0.0041, grad=0.0000), Var(v=0.1070, grad=-0.4427), Var(v=0.0945, grad=-0.0082), Var(v=0.2360, grad=0.0000), Var(v=-0.1331, grad=0.0000), Var(v=-0.0234, grad=0.0000), Var(v=-0.0439, grad=0.0000), Var(v=0.0767, grad=0.0000), Var(v=-0.0012, grad=0.0791), Var(v=0.0618, grad=-0.1454), Var(v=-0.0716, grad=-0.1457), Var(v=0.0700, grad=0.0059), Var(v=-0.2053, grad=-0.2180), Var(v=-0.0796, grad=0.0000), Var(v=0.0900, grad=0.3822), Var(v=0.1314, grad=0.0000), Var(v=-0.1505, grad=-0.5210), Var(v=0.2101, grad=0.3026), Var(v=-0.0121, grad=-0.0086), Var(v=0.0258, grad=-0.5785), Var(v=-0.2081, grad=0.0000), Var(v=-0.0008, grad=0.0000), Var(v=0.0224, grad=0.3301)], [Var(v=0.2208, grad=0.0000), Var(v=-0.0556, grad=0.0000), Var(v=-0.1954, grad=0.0000), Var(v=0.1304, grad=0.4714), Var(v=0.0511, grad=0.0000), Var(v=0.1755, grad=0.6406), Var(v=0.1073, grad=0.3033), Var(v=0.0683, grad=0.0000), Var(v=0.0576, grad=0.0000), Var(v=-0.0432, grad=-0.6264), Var(v=-0.1204, grad=0.0000), Var(v=0.0831, grad=-1.4697), Var(v=0.0834, grad=-0.9729), Var(v=-0.0260, grad=-1.1116), Var(v=-0.0355, grad=0.0000), Var(v=-0.2150, grad=0.9328), Var(v=-0.0035, grad=1.2016), Var(v=0.0044, grad=0.0000), Var(v=-0.0737, grad=-0.4941), Var(v=0.0828, grad=0.6173), Var(v=-0.0221, grad=-0.1204), Var(v=-0.0111, grad=-1.0539), Var(v=-0.1770, grad=0.0000), Var(v=0.0603, grad=1.1052), Var(v=-0.0317, grad=0.0000), Var(v=0.0168, grad=-0.8767), Var(v=-0.0947, grad=0.1768), Var(v=0.2135, grad=-0.6404), Var(v=0.1132, grad=1.3504), Var(v=-0.0893, grad=0.0249), Var(v=-0.1158, grad=0.0000), Var(v=0.1447, grad=0.0000), Var(v=0.1530, grad=0.0000), Var(v=0.0510, grad=0.0000), Var(v=0.0015, grad=0.0000), Var(v=-0.0028, grad=0.0000), Var(v=-0.1914, grad=0.0000), Var(v=0.1118, grad=0.0000), Var(v=0.0841, grad=-0.0179), Var(v=0.0383, grad=0.6648), Var(v=-0.1515, grad=0.0000), Var(v=-0.0221, grad=-1.1658), Var(v=0.0372, grad=-2.0979), Var(v=0.0286, grad=0.0000), Var(v=0.0287, grad=-0.9229), Var(v=-0.0106, grad=0.0000), Var(v=0.1075, grad=1.7645), Var(v=0.0125, grad=0.5423), Var(v=-0.0714, grad=2.0365), Var(v=0.0969, grad=-1.0068)]]\n",
      "bias:[Var(v=0.0000, grad=0.0000), Var(v=-0.0599, grad=5.9905), Var(v=0.0000, grad=0.0000), Var(v=0.0010, grad=-0.1007), Var(v=0.0000, grad=0.0000), Var(v=0.0014, grad=-0.1368), Var(v=-0.0271, grad=2.7118), Var(v=0.0000, grad=0.0000), Var(v=-0.0779, grad=7.7919), Var(v=0.0560, grad=-5.6004), Var(v=-0.1095, grad=10.9490), Var(v=-0.0031, grad=0.3140), Var(v=0.0870, grad=-8.6993), Var(v=-0.0024, grad=0.2375), Var(v=0.0000, grad=0.0000), Var(v=-0.0834, grad=8.3406), Var(v=0.0026, grad=-0.2567), Var(v=0.0095, grad=-0.9499), Var(v=-0.0011, grad=0.1055), Var(v=-0.0552, grad=5.5194), Var(v=0.0108, grad=-1.0768), Var(v=-0.0023, grad=0.2251), Var(v=0.0000, grad=0.0000), Var(v=0.0024, grad=-0.2361), Var(v=-0.1405, grad=14.0478), Var(v=0.0784, grad=-7.8385), Var(v=-0.0158, grad=1.5808), Var(v=0.0573, grad=-5.7259), Var(v=0.0029, grad=-0.2885), Var(v=0.0001, grad=-0.0053), Var(v=0.0000, grad=0.0000), Var(v=0.0000, grad=0.0000), Var(v=0.0000, grad=0.0000), Var(v=0.0000, grad=0.0000), Var(v=0.0000, grad=0.0000), Var(v=-0.0221, grad=2.2080), Var(v=0.0406, grad=-4.0588), Var(v=0.0407, grad=-4.0688), Var(v=-0.0000, grad=0.0038), Var(v=0.0014, grad=-0.1420), Var(v=0.0000, grad=0.0000), Var(v=-0.0025, grad=0.2490), Var(v=0.1876, grad=-18.7579), Var(v=0.1455, grad=-14.5482), Var(v=-0.0020, grad=0.1971), Var(v=0.0024, grad=-0.2411), Var(v=0.0038, grad=-0.3769), Var(v=-0.0485, grad=4.8486), Var(v=-0.1821, grad=18.2090), Var(v=-0.0022, grad=0.2151)])\n",
      "Layer 2 \n",
      " weight dimensions: 50 x 1 and bias dimension 1 x 1 along with parameters\n",
      "weights: [[Var(v=-0.1317, grad=0.0000)], [Var(v=0.0558, grad=1.2582)], [Var(v=-0.1191, grad=0.0000)], [Var(v=-0.0003, grad=-4.8933)], [Var(v=-0.0035, grad=0.0000)], [Var(v=-0.0775, grad=1.0567)], [Var(v=-0.0047, grad=-2.6986)], [Var(v=0.2471, grad=0.0000)], [Var(v=0.0862, grad=0.2680)], [Var(v=0.1332, grad=-6.7782)], [Var(v=0.0992, grad=2.5717)], [Var(v=0.2067, grad=-5.3184)], [Var(v=0.1401, grad=-3.8461)], [Var(v=0.0962, grad=1.9917)], [Var(v=-0.0003, grad=0.0000)], [Var(v=-0.0949, grad=-0.2580)], [Var(v=-0.0815, grad=-4.4057)], [Var(v=-0.0295, grad=1.8650)], [Var(v=0.0666, grad=-1.5036)], [Var(v=-0.0230, grad=-4.1515)], [Var(v=0.0392, grad=-2.6600)], [Var(v=0.1216, grad=-1.1473)], [Var(v=0.0210, grad=0.0000)], [Var(v=-0.0810, grad=-3.4486)], [Var(v=0.1381, grad=2.2189)], [Var(v=0.1041, grad=-1.2550)], [Var(v=0.0119, grad=-3.0346)], [Var(v=0.0946, grad=-2.7732)], [Var(v=-0.1467, grad=0.5641)], [Var(v=0.0234, grad=-2.5978)], [Var(v=0.0317, grad=0.0000)], [Var(v=-0.0656, grad=0.0000)], [Var(v=-0.0976, grad=0.0000)], [Var(v=-0.1006, grad=0.0000)], [Var(v=-0.1367, grad=0.0000)], [Var(v=0.0063, grad=1.8847)], [Var(v=-0.0600, grad=1.3722)], [Var(v=-0.0533, grad=0.6915)], [Var(v=0.0546, grad=-5.2743)], [Var(v=-0.0524, grad=-1.7007)], [Var(v=0.0933, grad=0.0000)], [Var(v=0.1604, grad=-3.8577)], [Var(v=0.2682, grad=-4.9044)], [Var(v=-0.1814, grad=1.5411)], [Var(v=0.0937, grad=0.2748)], [Var(v=-0.0258, grad=2.3088)], [Var(v=-0.2057, grad=2.1346)], [Var(v=-0.0345, grad=-2.2175)], [Var(v=-0.2040, grad=-0.8786)], [Var(v=0.0972, grad=0.8029)]]\n",
      "bias:[Var(v=-0.0204, grad=2.0448)])\n",
      "\n",
      "Network after zeroing gradients:\n",
      "Layer 0 \n",
      " weight dimensions: 1 x 15 and bias dimension 15 x 1 along with parameters\n",
      "weights: [[Var(v=-0.0012, grad=0.0000), Var(v=-0.0223, grad=0.0000), Var(v=0.1833, grad=0.0000), Var(v=0.2060, grad=0.0000), Var(v=0.1208, grad=0.0000), Var(v=0.0085, grad=0.0000), Var(v=-0.1334, grad=0.0000), Var(v=0.1370, grad=0.0000), Var(v=-0.0318, grad=0.0000), Var(v=0.0609, grad=0.0000), Var(v=0.2571, grad=0.0000), Var(v=-0.1646, grad=0.0000), Var(v=0.0155, grad=0.0000), Var(v=0.0070, grad=0.0000), Var(v=0.0755, grad=0.0000)]]\n",
      "bias:[Var(v=-0.0065, grad=0.0000), Var(v=0.0111, grad=0.0000), Var(v=0.0482, grad=0.0000), Var(v=-0.0054, grad=0.0000), Var(v=0.0261, grad=0.0000), Var(v=-0.0152, grad=0.0000), Var(v=0.0889, grad=0.0000), Var(v=0.0113, grad=0.0000), Var(v=0.0178, grad=0.0000), Var(v=-0.1113, grad=0.0000), Var(v=0.0403, grad=0.0000), Var(v=0.0213, grad=0.0000), Var(v=-0.0476, grad=0.0000), Var(v=-0.0359, grad=0.0000), Var(v=-0.0177, grad=0.0000)])\n",
      "Layer 1 \n",
      " weight dimensions: 15 x 50 and bias dimension 50 x 1 along with parameters\n",
      "weights: [[Var(v=0.0452, grad=0.0000), Var(v=-0.1109, grad=0.0000), Var(v=-0.0375, grad=0.0000), Var(v=-0.1443, grad=0.0000), Var(v=0.1377, grad=0.0000), Var(v=-0.0256, grad=0.0000), Var(v=-0.0549, grad=0.0000), Var(v=-0.0301, grad=0.0000), Var(v=-0.0552, grad=0.0000), Var(v=0.0040, grad=0.0000), Var(v=-0.0182, grad=0.0000), Var(v=-0.0672, grad=0.0000), Var(v=0.1585, grad=0.0000), Var(v=0.0887, grad=0.0000), Var(v=-0.0649, grad=0.0000), Var(v=-0.0350, grad=0.0000), Var(v=0.0182, grad=0.0000), Var(v=0.0758, grad=0.0000), Var(v=0.1055, grad=0.0000), Var(v=0.0061, grad=0.0000), Var(v=0.2090, grad=0.0000), Var(v=-0.0357, grad=0.0000), Var(v=-0.0903, grad=0.0000), Var(v=-0.0439, grad=0.0000), Var(v=0.0005, grad=0.0000), Var(v=0.0976, grad=0.0000), Var(v=-0.0957, grad=0.0000), Var(v=0.0234, grad=0.0000), Var(v=-0.0471, grad=0.0000), Var(v=-0.1467, grad=0.0000), Var(v=-0.0049, grad=0.0000), Var(v=-0.0109, grad=0.0000), Var(v=0.0683, grad=0.0000), Var(v=-0.1550, grad=0.0000), Var(v=-0.0001, grad=0.0000), Var(v=-0.0186, grad=0.0000), Var(v=-0.1195, grad=0.0000), Var(v=0.0436, grad=0.0000), Var(v=-0.0776, grad=0.0000), Var(v=0.1084, grad=0.0000), Var(v=0.0106, grad=0.0000), Var(v=-0.1260, grad=0.0000), Var(v=0.1203, grad=0.0000), Var(v=-0.0004, grad=0.0000), Var(v=-0.1330, grad=0.0000), Var(v=-0.0427, grad=0.0000), Var(v=-0.0815, grad=0.0000), Var(v=-0.0216, grad=0.0000), Var(v=-0.0397, grad=0.0000), Var(v=0.1736, grad=0.0000)], [Var(v=-0.1025, grad=0.0000), Var(v=0.0678, grad=0.0000), Var(v=-0.1628, grad=0.0000), Var(v=-0.0014, grad=0.0000), Var(v=0.1832, grad=0.0000), Var(v=0.0308, grad=0.0000), Var(v=0.0285, grad=0.0000), Var(v=0.0773, grad=0.0000), Var(v=0.1542, grad=0.0000), Var(v=-0.0995, grad=0.0000), Var(v=0.0398, grad=0.0000), Var(v=0.0320, grad=0.0000), Var(v=0.1192, grad=0.0000), Var(v=-0.0459, grad=0.0000), Var(v=0.1649, grad=0.0000), Var(v=-0.1161, grad=0.0000), Var(v=0.0727, grad=0.0000), Var(v=-0.0550, grad=0.0000), Var(v=-0.0087, grad=0.0000), Var(v=0.0846, grad=0.0000), Var(v=0.0718, grad=0.0000), Var(v=0.0078, grad=0.0000), Var(v=0.0194, grad=0.0000), Var(v=0.1179, grad=0.0000), Var(v=0.0923, grad=0.0000), Var(v=0.1249, grad=0.0000), Var(v=-0.0252, grad=0.0000), Var(v=0.1669, grad=0.0000), Var(v=-0.0622, grad=0.0000), Var(v=-0.0277, grad=0.0000), Var(v=-0.0362, grad=0.0000), Var(v=-0.1213, grad=0.0000), Var(v=0.0386, grad=0.0000), Var(v=-0.0078, grad=0.0000), Var(v=-0.0009, grad=0.0000), Var(v=0.0191, grad=0.0000), Var(v=-0.0042, grad=0.0000), Var(v=-0.1253, grad=0.0000), Var(v=0.0231, grad=0.0000), Var(v=-0.0176, grad=0.0000), Var(v=-0.1219, grad=0.0000), Var(v=0.0213, grad=0.0000), Var(v=0.2504, grad=0.0000), Var(v=0.0394, grad=0.0000), Var(v=-0.0544, grad=0.0000), Var(v=0.0892, grad=0.0000), Var(v=0.0722, grad=0.0000), Var(v=0.1850, grad=0.0000), Var(v=-0.0471, grad=0.0000), Var(v=-0.2199, grad=0.0000)], [Var(v=-0.0752, grad=0.0000), Var(v=0.0833, grad=0.0000), Var(v=0.0388, grad=0.0000), Var(v=0.0539, grad=0.0000), Var(v=-0.0605, grad=0.0000), Var(v=-0.0562, grad=0.0000), Var(v=0.0475, grad=0.0000), Var(v=0.0486, grad=0.0000), Var(v=0.0102, grad=0.0000), Var(v=0.0400, grad=0.0000), Var(v=-0.0977, grad=0.0000), Var(v=0.1329, grad=0.0000), Var(v=0.0972, grad=0.0000), Var(v=-0.0295, grad=0.0000), Var(v=-0.0379, grad=0.0000), Var(v=0.0108, grad=0.0000), Var(v=-0.1110, grad=0.0000), Var(v=-0.0046, grad=0.0000), Var(v=-0.0233, grad=0.0000), Var(v=-0.1314, grad=0.0000), Var(v=0.0052, grad=0.0000), Var(v=0.1228, grad=0.0000), Var(v=-0.0283, grad=0.0000), Var(v=-0.0682, grad=0.0000), Var(v=0.0166, grad=0.0000), Var(v=0.1193, grad=0.0000), Var(v=-0.0429, grad=0.0000), Var(v=0.1167, grad=0.0000), Var(v=-0.0290, grad=0.0000), Var(v=-0.0434, grad=0.0000), Var(v=-0.0150, grad=0.0000), Var(v=-0.0541, grad=0.0000), Var(v=-0.0694, grad=0.0000), Var(v=-0.1484, grad=0.0000), Var(v=0.0711, grad=0.0000), Var(v=-0.0468, grad=0.0000), Var(v=0.1181, grad=0.0000), Var(v=-0.1889, grad=0.0000), Var(v=-0.1276, grad=0.0000), Var(v=-0.0293, grad=0.0000), Var(v=0.0265, grad=0.0000), Var(v=0.0438, grad=0.0000), Var(v=-0.0506, grad=0.0000), Var(v=-0.0120, grad=0.0000), Var(v=0.0549, grad=0.0000), Var(v=-0.0792, grad=0.0000), Var(v=-0.1524, grad=0.0000), Var(v=-0.0951, grad=0.0000), Var(v=0.1105, grad=0.0000), Var(v=-0.0833, grad=0.0000)], [Var(v=-0.0834, grad=0.0000), Var(v=0.1513, grad=0.0000), Var(v=0.0381, grad=0.0000), Var(v=0.1543, grad=0.0000), Var(v=-0.0254, grad=0.0000), Var(v=-0.0770, grad=0.0000), Var(v=-0.0251, grad=0.0000), Var(v=-0.2039, grad=0.0000), Var(v=0.0198, grad=0.0000), Var(v=0.0982, grad=0.0000), Var(v=0.0875, grad=0.0000), Var(v=0.0480, grad=0.0000), Var(v=0.0203, grad=0.0000), Var(v=0.0766, grad=0.0000), Var(v=-0.1022, grad=0.0000), Var(v=0.0111, grad=0.0000), Var(v=-0.0458, grad=0.0000), Var(v=-0.0056, grad=0.0000), Var(v=0.0327, grad=0.0000), Var(v=0.0472, grad=0.0000), Var(v=0.0807, grad=0.0000), Var(v=-0.0174, grad=0.0000), Var(v=-0.0325, grad=0.0000), Var(v=0.0728, grad=0.0000), Var(v=-0.1441, grad=0.0000), Var(v=-0.0259, grad=0.0000), Var(v=0.0733, grad=0.0000), Var(v=0.0356, grad=0.0000), Var(v=-0.1043, grad=0.0000), Var(v=0.1026, grad=0.0000), Var(v=-0.1486, grad=0.0000), Var(v=0.0370, grad=0.0000), Var(v=-0.1262, grad=0.0000), Var(v=0.0446, grad=0.0000), Var(v=-0.0274, grad=0.0000), Var(v=-0.0597, grad=0.0000), Var(v=-0.1082, grad=0.0000), Var(v=-0.1397, grad=0.0000), Var(v=0.2777, grad=0.0000), Var(v=-0.0517, grad=0.0000), Var(v=0.0019, grad=0.0000), Var(v=0.1290, grad=0.0000), Var(v=0.0912, grad=0.0000), Var(v=-0.0077, grad=0.0000), Var(v=0.1422, grad=0.0000), Var(v=-0.0844, grad=0.0000), Var(v=0.0801, grad=0.0000), Var(v=0.1632, grad=0.0000), Var(v=0.0146, grad=0.0000), Var(v=0.0468, grad=0.0000)], [Var(v=0.1380, grad=0.0000), Var(v=-0.0017, grad=0.0000), Var(v=-0.1175, grad=0.0000), Var(v=0.0174, grad=0.0000), Var(v=0.0450, grad=0.0000), Var(v=-0.0846, grad=0.0000), Var(v=-0.1575, grad=0.0000), Var(v=0.0591, grad=0.0000), Var(v=0.0552, grad=0.0000), Var(v=0.1676, grad=0.0000), Var(v=-0.0617, grad=0.0000), Var(v=0.0122, grad=0.0000), Var(v=-0.0257, grad=0.0000), Var(v=0.1737, grad=0.0000), Var(v=0.0755, grad=0.0000), Var(v=0.0377, grad=0.0000), Var(v=-0.0373, grad=0.0000), Var(v=-0.0545, grad=0.0000), Var(v=-0.0985, grad=0.0000), Var(v=0.0580, grad=0.0000), Var(v=0.0388, grad=0.0000), Var(v=-0.0598, grad=0.0000), Var(v=0.1061, grad=0.0000), Var(v=0.1901, grad=0.0000), Var(v=-0.0852, grad=0.0000), Var(v=-0.0663, grad=0.0000), Var(v=0.1061, grad=0.0000), Var(v=-0.1036, grad=0.0000), Var(v=-0.2061, grad=0.0000), Var(v=-0.1123, grad=0.0000), Var(v=-0.0404, grad=0.0000), Var(v=0.0065, grad=0.0000), Var(v=-0.0123, grad=0.0000), Var(v=0.0416, grad=0.0000), Var(v=-0.0951, grad=0.0000), Var(v=-0.0047, grad=0.0000), Var(v=-0.1154, grad=0.0000), Var(v=0.0170, grad=0.0000), Var(v=-0.1601, grad=0.0000), Var(v=0.0475, grad=0.0000), Var(v=0.0412, grad=0.0000), Var(v=-0.0140, grad=0.0000), Var(v=0.1586, grad=0.0000), Var(v=-0.0635, grad=0.0000), Var(v=0.1022, grad=0.0000), Var(v=0.0136, grad=0.0000), Var(v=0.0327, grad=0.0000), Var(v=0.0467, grad=0.0000), Var(v=-0.0413, grad=0.0000), Var(v=0.0115, grad=0.0000)], [Var(v=-0.0054, grad=0.0000), Var(v=-0.0931, grad=0.0000), Var(v=-0.0142, grad=0.0000), Var(v=0.0793, grad=0.0000), Var(v=0.1475, grad=0.0000), Var(v=-0.0005, grad=0.0000), Var(v=-0.0593, grad=0.0000), Var(v=0.0330, grad=0.0000), Var(v=0.0145, grad=0.0000), Var(v=-0.0976, grad=0.0000), Var(v=-0.0890, grad=0.0000), Var(v=-0.0709, grad=0.0000), Var(v=-0.0644, grad=0.0000), Var(v=0.0497, grad=0.0000), Var(v=-0.0859, grad=0.0000), Var(v=0.0474, grad=0.0000), Var(v=-0.2033, grad=0.0000), Var(v=-0.1337, grad=0.0000), Var(v=-0.0330, grad=0.0000), Var(v=-0.0756, grad=0.0000), Var(v=0.0229, grad=0.0000), Var(v=0.0454, grad=0.0000), Var(v=0.0489, grad=0.0000), Var(v=-0.1041, grad=0.0000), Var(v=0.1013, grad=0.0000), Var(v=-0.0471, grad=0.0000), Var(v=0.1832, grad=0.0000), Var(v=0.0398, grad=0.0000), Var(v=0.1317, grad=0.0000), Var(v=0.0984, grad=0.0000), Var(v=0.1019, grad=0.0000), Var(v=-0.0768, grad=0.0000), Var(v=0.0554, grad=0.0000), Var(v=0.0788, grad=0.0000), Var(v=0.1006, grad=0.0000), Var(v=-0.0736, grad=0.0000), Var(v=0.0117, grad=0.0000), Var(v=-0.1608, grad=0.0000), Var(v=-0.0194, grad=0.0000), Var(v=0.0566, grad=0.0000), Var(v=0.0755, grad=0.0000), Var(v=-0.0668, grad=0.0000), Var(v=0.0112, grad=0.0000), Var(v=0.0162, grad=0.0000), Var(v=0.1269, grad=0.0000), Var(v=-0.0787, grad=0.0000), Var(v=-0.0249, grad=0.0000), Var(v=0.0697, grad=0.0000), Var(v=0.0806, grad=0.0000), Var(v=-0.0631, grad=0.0000)], [Var(v=-0.0911, grad=0.0000), Var(v=-0.2106, grad=0.0000), Var(v=-0.1157, grad=0.0000), Var(v=-0.1223, grad=0.0000), Var(v=-0.0654, grad=0.0000), Var(v=0.1198, grad=0.0000), Var(v=0.0309, grad=0.0000), Var(v=-0.0017, grad=0.0000), Var(v=-0.0738, grad=0.0000), Var(v=-0.0204, grad=0.0000), Var(v=0.0323, grad=0.0000), Var(v=-0.0333, grad=0.0000), Var(v=-0.0453, grad=0.0000), Var(v=-0.0321, grad=0.0000), Var(v=0.0820, grad=0.0000), Var(v=-0.1160, grad=0.0000), Var(v=-0.0376, grad=0.0000), Var(v=-0.1028, grad=0.0000), Var(v=-0.0461, grad=0.0000), Var(v=-0.0489, grad=0.0000), Var(v=-0.1062, grad=0.0000), Var(v=-0.0758, grad=0.0000), Var(v=0.0117, grad=0.0000), Var(v=0.0343, grad=0.0000), Var(v=-0.0274, grad=0.0000), Var(v=-0.1485, grad=0.0000), Var(v=-0.2174, grad=0.0000), Var(v=0.0326, grad=0.0000), Var(v=-0.0015, grad=0.0000), Var(v=0.1607, grad=0.0000), Var(v=-0.0431, grad=0.0000), Var(v=0.2128, grad=0.0000), Var(v=-0.0435, grad=0.0000), Var(v=0.1433, grad=0.0000), Var(v=0.0763, grad=0.0000), Var(v=-0.0907, grad=0.0000), Var(v=-0.0347, grad=0.0000), Var(v=0.1610, grad=0.0000), Var(v=0.0409, grad=0.0000), Var(v=-0.0031, grad=0.0000), Var(v=-0.2033, grad=0.0000), Var(v=-0.0326, grad=0.0000), Var(v=0.0662, grad=0.0000), Var(v=0.1901, grad=0.0000), Var(v=-0.0025, grad=0.0000), Var(v=-0.0572, grad=0.0000), Var(v=0.1215, grad=0.0000), Var(v=0.0671, grad=0.0000), Var(v=-0.2368, grad=0.0000), Var(v=-0.0337, grad=0.0000)], [Var(v=0.1077, grad=0.0000), Var(v=-0.1260, grad=0.0000), Var(v=-0.1195, grad=0.0000), Var(v=0.0185, grad=0.0000), Var(v=0.0495, grad=0.0000), Var(v=0.1944, grad=0.0000), Var(v=0.0967, grad=0.0000), Var(v=0.0604, grad=0.0000), Var(v=-0.1097, grad=0.0000), Var(v=0.0240, grad=0.0000), Var(v=-0.1544, grad=0.0000), Var(v=0.1030, grad=0.0000), Var(v=0.1466, grad=0.0000), Var(v=-0.0527, grad=0.0000), Var(v=0.0100, grad=0.0000), Var(v=-0.0546, grad=0.0000), Var(v=0.1625, grad=0.0000), Var(v=0.1292, grad=0.0000), Var(v=-0.0961, grad=0.0000), Var(v=-0.0603, grad=0.0000), Var(v=0.0093, grad=0.0000), Var(v=0.1222, grad=0.0000), Var(v=-0.0971, grad=0.0000), Var(v=0.1426, grad=0.0000), Var(v=0.0298, grad=0.0000), Var(v=0.0053, grad=0.0000), Var(v=0.1629, grad=0.0000), Var(v=-0.0779, grad=0.0000), Var(v=0.0559, grad=0.0000), Var(v=0.0163, grad=0.0000), Var(v=-0.0428, grad=0.0000), Var(v=0.0107, grad=0.0000), Var(v=-0.0111, grad=0.0000), Var(v=-0.0361, grad=0.0000), Var(v=-0.0966, grad=0.0000), Var(v=0.1340, grad=0.0000), Var(v=-0.0468, grad=0.0000), Var(v=0.0647, grad=0.0000), Var(v=-0.0082, grad=0.0000), Var(v=-0.0174, grad=0.0000), Var(v=-0.0484, grad=0.0000), Var(v=0.1052, grad=0.0000), Var(v=0.0594, grad=0.0000), Var(v=-0.3024, grad=0.0000), Var(v=0.0920, grad=0.0000), Var(v=0.0545, grad=0.0000), Var(v=-0.0251, grad=0.0000), Var(v=-0.1690, grad=0.0000), Var(v=-0.1228, grad=0.0000), Var(v=0.0198, grad=0.0000)], [Var(v=0.0927, grad=0.0000), Var(v=0.0049, grad=0.0000), Var(v=-0.1101, grad=0.0000), Var(v=0.0542, grad=0.0000), Var(v=0.1443, grad=0.0000), Var(v=0.1095, grad=0.0000), Var(v=0.1025, grad=0.0000), Var(v=-0.1514, grad=0.0000), Var(v=-0.1208, grad=0.0000), Var(v=-0.0338, grad=0.0000), Var(v=0.0592, grad=0.0000), Var(v=-0.0392, grad=0.0000), Var(v=-0.0262, grad=0.0000), Var(v=0.1539, grad=0.0000), Var(v=-0.0526, grad=0.0000), Var(v=-0.1940, grad=0.0000), Var(v=0.0725, grad=0.0000), Var(v=0.0551, grad=0.0000), Var(v=-0.0176, grad=0.0000), Var(v=-0.0020, grad=0.0000), Var(v=-0.0963, grad=0.0000), Var(v=-0.0418, grad=0.0000), Var(v=0.0696, grad=0.0000), Var(v=-0.0930, grad=0.0000), Var(v=-0.0145, grad=0.0000), Var(v=0.0907, grad=0.0000), Var(v=0.0418, grad=0.0000), Var(v=-0.0040, grad=0.0000), Var(v=-0.0760, grad=0.0000), Var(v=-0.1676, grad=0.0000), Var(v=0.0973, grad=0.0000), Var(v=0.0237, grad=0.0000), Var(v=-0.0869, grad=0.0000), Var(v=0.0325, grad=0.0000), Var(v=-0.0287, grad=0.0000), Var(v=-0.1801, grad=0.0000), Var(v=0.1070, grad=0.0000), Var(v=-0.1729, grad=0.0000), Var(v=-0.0184, grad=0.0000), Var(v=-0.0063, grad=0.0000), Var(v=-0.1296, grad=0.0000), Var(v=-0.1288, grad=0.0000), Var(v=0.0546, grad=0.0000), Var(v=-0.0969, grad=0.0000), Var(v=-0.1031, grad=0.0000), Var(v=-0.0726, grad=0.0000), Var(v=0.0342, grad=0.0000), Var(v=-0.0904, grad=0.0000), Var(v=0.1080, grad=0.0000), Var(v=-0.0953, grad=0.0000)], [Var(v=0.0226, grad=0.0000), Var(v=0.1185, grad=0.0000), Var(v=-0.1617, grad=0.0000), Var(v=0.1239, grad=0.0000), Var(v=-0.0663, grad=0.0000), Var(v=-0.0243, grad=0.0000), Var(v=-0.1829, grad=0.0000), Var(v=-0.0749, grad=0.0000), Var(v=0.0249, grad=0.0000), Var(v=-0.0755, grad=0.0000), Var(v=0.1540, grad=0.0000), Var(v=0.1815, grad=0.0000), Var(v=-0.1091, grad=0.0000), Var(v=0.0597, grad=0.0000), Var(v=-0.0386, grad=0.0000), Var(v=0.0477, grad=0.0000), Var(v=0.0162, grad=0.0000), Var(v=0.0672, grad=0.0000), Var(v=0.0282, grad=0.0000), Var(v=0.0002, grad=0.0000), Var(v=0.1243, grad=0.0000), Var(v=0.1024, grad=0.0000), Var(v=-0.1227, grad=0.0000), Var(v=-0.0495, grad=0.0000), Var(v=0.1647, grad=0.0000), Var(v=-0.0044, grad=0.0000), Var(v=-0.0654, grad=0.0000), Var(v=-0.1751, grad=0.0000), Var(v=-0.0055, grad=0.0000), Var(v=0.0540, grad=0.0000), Var(v=-0.0214, grad=0.0000), Var(v=-0.2092, grad=0.0000), Var(v=-0.0916, grad=0.0000), Var(v=0.0156, grad=0.0000), Var(v=0.0296, grad=0.0000), Var(v=0.1357, grad=0.0000), Var(v=0.0609, grad=0.0000), Var(v=-0.1027, grad=0.0000), Var(v=-0.0522, grad=0.0000), Var(v=0.0901, grad=0.0000), Var(v=-0.0715, grad=0.0000), Var(v=0.0349, grad=0.0000), Var(v=0.0285, grad=0.0000), Var(v=-0.0563, grad=0.0000), Var(v=-0.0943, grad=0.0000), Var(v=0.0133, grad=0.0000), Var(v=0.0032, grad=0.0000), Var(v=-0.0152, grad=0.0000), Var(v=0.0629, grad=0.0000), Var(v=0.0536, grad=0.0000)], [Var(v=-0.1329, grad=0.0000), Var(v=-0.1470, grad=0.0000), Var(v=-0.0517, grad=0.0000), Var(v=-0.0091, grad=0.0000), Var(v=-0.0356, grad=0.0000), Var(v=-0.0693, grad=0.0000), Var(v=0.0665, grad=0.0000), Var(v=-0.1088, grad=0.0000), Var(v=-0.1704, grad=0.0000), Var(v=0.1767, grad=0.0000), Var(v=-0.0017, grad=0.0000), Var(v=0.1587, grad=0.0000), Var(v=0.0574, grad=0.0000), Var(v=-0.0118, grad=0.0000), Var(v=-0.1068, grad=0.0000), Var(v=0.0450, grad=0.0000), Var(v=0.1990, grad=0.0000), Var(v=-0.1318, grad=0.0000), Var(v=0.2453, grad=0.0000), Var(v=0.1607, grad=0.0000), Var(v=0.0386, grad=0.0000), Var(v=0.0606, grad=0.0000), Var(v=-0.0044, grad=0.0000), Var(v=-0.0684, grad=0.0000), Var(v=-0.0308, grad=0.0000), Var(v=0.0916, grad=0.0000), Var(v=-0.0135, grad=0.0000), Var(v=0.0625, grad=0.0000), Var(v=0.0450, grad=0.0000), Var(v=0.2241, grad=0.0000), Var(v=0.0443, grad=0.0000), Var(v=-0.1161, grad=0.0000), Var(v=0.0908, grad=0.0000), Var(v=-0.0884, grad=0.0000), Var(v=-0.0174, grad=0.0000), Var(v=-0.0138, grad=0.0000), Var(v=-0.2469, grad=0.0000), Var(v=0.0659, grad=0.0000), Var(v=0.1201, grad=0.0000), Var(v=0.0941, grad=0.0000), Var(v=-0.0018, grad=0.0000), Var(v=0.1124, grad=0.0000), Var(v=0.1961, grad=0.0000), Var(v=-0.0070, grad=0.0000), Var(v=-0.1479, grad=0.0000), Var(v=-0.2755, grad=0.0000), Var(v=-0.1569, grad=0.0000), Var(v=0.0354, grad=0.0000), Var(v=-0.0562, grad=0.0000), Var(v=0.0189, grad=0.0000)], [Var(v=-0.0313, grad=0.0000), Var(v=0.0843, grad=0.0000), Var(v=-0.1173, grad=0.0000), Var(v=0.0133, grad=0.0000), Var(v=-0.0130, grad=0.0000), Var(v=0.0744, grad=0.0000), Var(v=-0.0647, grad=0.0000), Var(v=-0.0066, grad=0.0000), Var(v=-0.0028, grad=0.0000), Var(v=-0.0043, grad=0.0000), Var(v=0.1037, grad=0.0000), Var(v=-0.0284, grad=0.0000), Var(v=-0.0680, grad=0.0000), Var(v=0.0326, grad=0.0000), Var(v=0.0154, grad=0.0000), Var(v=-0.0679, grad=0.0000), Var(v=0.0714, grad=0.0000), Var(v=0.1329, grad=0.0000), Var(v=0.0286, grad=0.0000), Var(v=0.0514, grad=0.0000), Var(v=-0.0011, grad=0.0000), Var(v=0.0005, grad=0.0000), Var(v=-0.0706, grad=0.0000), Var(v=0.1681, grad=0.0000), Var(v=0.1040, grad=0.0000), Var(v=-0.1023, grad=0.0000), Var(v=-0.0139, grad=0.0000), Var(v=-0.0071, grad=0.0000), Var(v=0.0238, grad=0.0000), Var(v=0.0563, grad=0.0000), Var(v=-0.0759, grad=0.0000), Var(v=0.0562, grad=0.0000), Var(v=0.0407, grad=0.0000), Var(v=-0.0733, grad=0.0000), Var(v=-0.0323, grad=0.0000), Var(v=0.1042, grad=0.0000), Var(v=0.0715, grad=0.0000), Var(v=0.1201, grad=0.0000), Var(v=0.0327, grad=0.0000), Var(v=0.0381, grad=0.0000), Var(v=0.0374, grad=0.0000), Var(v=0.0474, grad=0.0000), Var(v=-0.1356, grad=0.0000), Var(v=0.1882, grad=0.0000), Var(v=0.1373, grad=0.0000), Var(v=0.1805, grad=0.0000), Var(v=0.1867, grad=0.0000), Var(v=-0.1325, grad=0.0000), Var(v=-0.0826, grad=0.0000), Var(v=-0.0185, grad=0.0000)], [Var(v=-0.1901, grad=0.0000), Var(v=0.0280, grad=0.0000), Var(v=-0.1472, grad=0.0000), Var(v=0.0259, grad=0.0000), Var(v=-0.0494, grad=0.0000), Var(v=-0.0654, grad=0.0000), Var(v=-0.1337, grad=0.0000), Var(v=-0.1586, grad=0.0000), Var(v=0.0542, grad=0.0000), Var(v=0.1870, grad=0.0000), Var(v=-0.0305, grad=0.0000), Var(v=-0.1282, grad=0.0000), Var(v=0.0263, grad=0.0000), Var(v=0.1885, grad=0.0000), Var(v=-0.0790, grad=0.0000), Var(v=-0.0537, grad=0.0000), Var(v=0.0106, grad=0.0000), Var(v=-0.0588, grad=0.0000), Var(v=0.1804, grad=0.0000), Var(v=-0.0441, grad=0.0000), Var(v=-0.0088, grad=0.0000), Var(v=0.1514, grad=0.0000), Var(v=0.0802, grad=0.0000), Var(v=-0.0209, grad=0.0000), Var(v=-0.2101, grad=0.0000), Var(v=-0.0480, grad=0.0000), Var(v=-0.0455, grad=0.0000), Var(v=0.0574, grad=0.0000), Var(v=0.1717, grad=0.0000), Var(v=0.1186, grad=0.0000), Var(v=-0.0839, grad=0.0000), Var(v=0.0500, grad=0.0000), Var(v=-0.1116, grad=0.0000), Var(v=0.1292, grad=0.0000), Var(v=-0.2867, grad=0.0000), Var(v=0.0498, grad=0.0000), Var(v=0.0132, grad=0.0000), Var(v=-0.0351, grad=0.0000), Var(v=0.0868, grad=0.0000), Var(v=0.0024, grad=0.0000), Var(v=-0.1165, grad=0.0000), Var(v=0.0048, grad=0.0000), Var(v=-0.0947, grad=0.0000), Var(v=-0.1052, grad=0.0000), Var(v=-0.0385, grad=0.0000), Var(v=0.0308, grad=0.0000), Var(v=-0.1280, grad=0.0000), Var(v=-0.0164, grad=0.0000), Var(v=0.0819, grad=0.0000), Var(v=0.2563, grad=0.0000)], [Var(v=-0.1069, grad=0.0000), Var(v=-0.0174, grad=0.0000), Var(v=0.0260, grad=0.0000), Var(v=0.2226, grad=0.0000), Var(v=-0.0818, grad=0.0000), Var(v=0.1551, grad=0.0000), Var(v=0.0075, grad=0.0000), Var(v=-0.0484, grad=0.0000), Var(v=0.0045, grad=0.0000), Var(v=-0.0808, grad=0.0000), Var(v=-0.0328, grad=0.0000), Var(v=0.1215, grad=0.0000), Var(v=0.0718, grad=0.0000), Var(v=0.0517, grad=0.0000), Var(v=-0.0219, grad=0.0000), Var(v=0.0315, grad=0.0000), Var(v=0.0243, grad=0.0000), Var(v=0.0893, grad=0.0000), Var(v=-0.2102, grad=0.0000), Var(v=-0.1311, grad=0.0000), Var(v=-0.1515, grad=0.0000), Var(v=-0.1522, grad=0.0000), Var(v=-0.1260, grad=0.0000), Var(v=-0.0643, grad=0.0000), Var(v=0.0314, grad=0.0000), Var(v=-0.0200, grad=0.0000), Var(v=-0.1506, grad=0.0000), Var(v=0.0041, grad=0.0000), Var(v=0.1070, grad=0.0000), Var(v=0.0945, grad=0.0000), Var(v=0.2360, grad=0.0000), Var(v=-0.1331, grad=0.0000), Var(v=-0.0234, grad=0.0000), Var(v=-0.0439, grad=0.0000), Var(v=0.0767, grad=0.0000), Var(v=-0.0012, grad=0.0000), Var(v=0.0618, grad=0.0000), Var(v=-0.0716, grad=0.0000), Var(v=0.0700, grad=0.0000), Var(v=-0.2053, grad=0.0000), Var(v=-0.0796, grad=0.0000), Var(v=0.0900, grad=0.0000), Var(v=0.1314, grad=0.0000), Var(v=-0.1505, grad=0.0000), Var(v=0.2101, grad=0.0000), Var(v=-0.0121, grad=0.0000), Var(v=0.0258, grad=0.0000), Var(v=-0.2081, grad=0.0000), Var(v=-0.0008, grad=0.0000), Var(v=0.0224, grad=0.0000)], [Var(v=0.2208, grad=0.0000), Var(v=-0.0556, grad=0.0000), Var(v=-0.1954, grad=0.0000), Var(v=0.1304, grad=0.0000), Var(v=0.0511, grad=0.0000), Var(v=0.1755, grad=0.0000), Var(v=0.1073, grad=0.0000), Var(v=0.0683, grad=0.0000), Var(v=0.0576, grad=0.0000), Var(v=-0.0432, grad=0.0000), Var(v=-0.1204, grad=0.0000), Var(v=0.0831, grad=0.0000), Var(v=0.0834, grad=0.0000), Var(v=-0.0260, grad=0.0000), Var(v=-0.0355, grad=0.0000), Var(v=-0.2150, grad=0.0000), Var(v=-0.0035, grad=0.0000), Var(v=0.0044, grad=0.0000), Var(v=-0.0737, grad=0.0000), Var(v=0.0828, grad=0.0000), Var(v=-0.0221, grad=0.0000), Var(v=-0.0111, grad=0.0000), Var(v=-0.1770, grad=0.0000), Var(v=0.0603, grad=0.0000), Var(v=-0.0317, grad=0.0000), Var(v=0.0168, grad=0.0000), Var(v=-0.0947, grad=0.0000), Var(v=0.2135, grad=0.0000), Var(v=0.1132, grad=0.0000), Var(v=-0.0893, grad=0.0000), Var(v=-0.1158, grad=0.0000), Var(v=0.1447, grad=0.0000), Var(v=0.1530, grad=0.0000), Var(v=0.0510, grad=0.0000), Var(v=0.0015, grad=0.0000), Var(v=-0.0028, grad=0.0000), Var(v=-0.1914, grad=0.0000), Var(v=0.1118, grad=0.0000), Var(v=0.0841, grad=0.0000), Var(v=0.0383, grad=0.0000), Var(v=-0.1515, grad=0.0000), Var(v=-0.0221, grad=0.0000), Var(v=0.0372, grad=0.0000), Var(v=0.0286, grad=0.0000), Var(v=0.0287, grad=0.0000), Var(v=-0.0106, grad=0.0000), Var(v=0.1075, grad=0.0000), Var(v=0.0125, grad=0.0000), Var(v=-0.0714, grad=0.0000), Var(v=0.0969, grad=0.0000)]]\n",
      "bias:[Var(v=0.0000, grad=0.0000), Var(v=-0.0599, grad=0.0000), Var(v=0.0000, grad=0.0000), Var(v=0.0010, grad=0.0000), Var(v=0.0000, grad=0.0000), Var(v=0.0014, grad=0.0000), Var(v=-0.0271, grad=0.0000), Var(v=0.0000, grad=0.0000), Var(v=-0.0779, grad=0.0000), Var(v=0.0560, grad=0.0000), Var(v=-0.1095, grad=0.0000), Var(v=-0.0031, grad=0.0000), Var(v=0.0870, grad=0.0000), Var(v=-0.0024, grad=0.0000), Var(v=0.0000, grad=0.0000), Var(v=-0.0834, grad=0.0000), Var(v=0.0026, grad=0.0000), Var(v=0.0095, grad=0.0000), Var(v=-0.0011, grad=0.0000), Var(v=-0.0552, grad=0.0000), Var(v=0.0108, grad=0.0000), Var(v=-0.0023, grad=0.0000), Var(v=0.0000, grad=0.0000), Var(v=0.0024, grad=0.0000), Var(v=-0.1405, grad=0.0000), Var(v=0.0784, grad=0.0000), Var(v=-0.0158, grad=0.0000), Var(v=0.0573, grad=0.0000), Var(v=0.0029, grad=0.0000), Var(v=0.0001, grad=0.0000), Var(v=0.0000, grad=0.0000), Var(v=0.0000, grad=0.0000), Var(v=0.0000, grad=0.0000), Var(v=0.0000, grad=0.0000), Var(v=0.0000, grad=0.0000), Var(v=-0.0221, grad=0.0000), Var(v=0.0406, grad=0.0000), Var(v=0.0407, grad=0.0000), Var(v=-0.0000, grad=0.0000), Var(v=0.0014, grad=0.0000), Var(v=0.0000, grad=0.0000), Var(v=-0.0025, grad=0.0000), Var(v=0.1876, grad=0.0000), Var(v=0.1455, grad=0.0000), Var(v=-0.0020, grad=0.0000), Var(v=0.0024, grad=0.0000), Var(v=0.0038, grad=0.0000), Var(v=-0.0485, grad=0.0000), Var(v=-0.1821, grad=0.0000), Var(v=-0.0022, grad=0.0000)])\n",
      "Layer 2 \n",
      " weight dimensions: 50 x 1 and bias dimension 1 x 1 along with parameters\n",
      "weights: [[Var(v=-0.1317, grad=0.0000)], [Var(v=0.0558, grad=0.0000)], [Var(v=-0.1191, grad=0.0000)], [Var(v=-0.0003, grad=0.0000)], [Var(v=-0.0035, grad=0.0000)], [Var(v=-0.0775, grad=0.0000)], [Var(v=-0.0047, grad=0.0000)], [Var(v=0.2471, grad=0.0000)], [Var(v=0.0862, grad=0.0000)], [Var(v=0.1332, grad=0.0000)], [Var(v=0.0992, grad=0.0000)], [Var(v=0.2067, grad=0.0000)], [Var(v=0.1401, grad=0.0000)], [Var(v=0.0962, grad=0.0000)], [Var(v=-0.0003, grad=0.0000)], [Var(v=-0.0949, grad=0.0000)], [Var(v=-0.0815, grad=0.0000)], [Var(v=-0.0295, grad=0.0000)], [Var(v=0.0666, grad=0.0000)], [Var(v=-0.0230, grad=0.0000)], [Var(v=0.0392, grad=0.0000)], [Var(v=0.1216, grad=0.0000)], [Var(v=0.0210, grad=0.0000)], [Var(v=-0.0810, grad=0.0000)], [Var(v=0.1381, grad=0.0000)], [Var(v=0.1041, grad=0.0000)], [Var(v=0.0119, grad=0.0000)], [Var(v=0.0946, grad=0.0000)], [Var(v=-0.1467, grad=0.0000)], [Var(v=0.0234, grad=0.0000)], [Var(v=0.0317, grad=0.0000)], [Var(v=-0.0656, grad=0.0000)], [Var(v=-0.0976, grad=0.0000)], [Var(v=-0.1006, grad=0.0000)], [Var(v=-0.1367, grad=0.0000)], [Var(v=0.0063, grad=0.0000)], [Var(v=-0.0600, grad=0.0000)], [Var(v=-0.0533, grad=0.0000)], [Var(v=0.0546, grad=0.0000)], [Var(v=-0.0524, grad=0.0000)], [Var(v=0.0933, grad=0.0000)], [Var(v=0.1604, grad=0.0000)], [Var(v=0.2682, grad=0.0000)], [Var(v=-0.1814, grad=0.0000)], [Var(v=0.0937, grad=0.0000)], [Var(v=-0.0258, grad=0.0000)], [Var(v=-0.2057, grad=0.0000)], [Var(v=-0.0345, grad=0.0000)], [Var(v=-0.2040, grad=0.0000)], [Var(v=0.0972, grad=0.0000)]]\n",
      "bias:[Var(v=-0.0204, grad=0.0000)])\n"
     ]
    },
    {
     "data": {
      "text/plain": [
       "[None, None, None]"
      ]
     },
     "execution_count": 31,
     "metadata": {},
     "output_type": "execute_result"
    }
   ],
   "source": [
    "print('Network before update:')\n",
    "[print('Layer', i, '\\n', NN[i]) for i in range(len(NN))] \n",
    "\n",
    "def parameters(network):\n",
    "  params = []\n",
    "  for layer in range(len(network)):\n",
    "    params += network[layer].parameters()\n",
    "  return params\n",
    "\n",
    "def update_parameters(params, learning_rate=0.01):\n",
    "  for p in params:\n",
    "    p.v -= learning_rate*p.grad\n",
    "\n",
    "def zero_gradients(params):\n",
    "  for p in params:\n",
    "    p.grad = 0.0\n",
    "\n",
    "update_parameters(parameters(NN))\n",
    "\n",
    "print('\\nNetwork after update:')\n",
    "[print('Layer', i, '\\n', NN[i]) for i in range(len(NN))] \n",
    "\n",
    "zero_gradients(parameters(NN))\n",
    "\n",
    "print('\\nNetwork after zeroing gradients:')\n",
    "[print('Layer', i, '\\n', NN[i]) for i in range(len(NN))]"
   ]
  },
  {
   "cell_type": "code",
   "execution_count": 68,
   "metadata": {
    "id": "woWYpdw6FtIO"
   },
   "outputs": [],
   "source": [
    "# Initialize an arbitrary neural network\n",
    "NN = [\n",
    "    DenseLayer(1, 8, lambda x: x.relu()),\n",
    "    DenseLayer(8, 1, lambda x: x.identity())\n",
    "]\n",
    "\n",
    "# Recommended hyper-parameters for 3-D: \n",
    "#NN = [\n",
    "#    DenseLayer(3, 16, lambda x: x.relu()),\n",
    "#    DenseLayer(16, 1, lambda x: x.identity())\n",
    "#]\n",
    "\n",
    "\n",
    "### Notice that, when we switch from tanh to relu activation, we decrease the learning rate. This is due the stability of the gradients \n",
    "## of the activation functions."
   ]
  },
  {
   "cell_type": "code",
   "execution_count": 69,
   "metadata": {
    "id": "mdqaqYBVFtIR"
   },
   "outputs": [],
   "source": [
    "# Initialize training hyperparameters\n",
    "EPOCHS = 200\n",
    "LEARN_R = 2e-3"
   ]
  },
  {
   "cell_type": "code",
   "execution_count": 70,
   "metadata": {
    "colab": {
     "base_uri": "https://localhost:8080/"
    },
    "id": "5kfg76GMFtIW",
    "outputId": "e30cf68a-31f2-42b4-cc5e-860c297c0f04",
    "scrolled": true
   },
   "outputs": [
    {
     "name": "stdout",
     "output_type": "stream",
     "text": [
      "   0 ( 0.00%) Train loss: 100.977 \t Validation loss: 98.273\n",
      "  20 (10.00%) Train loss: 13.899 \t Validation loss: 10.487\n",
      "  40 (20.00%) Train loss: 13.024 \t Validation loss: 9.790\n",
      "  60 (30.00%) Train loss: 12.476 \t Validation loss: 9.305\n",
      "  80 (40.00%) Train loss: 12.109 \t Validation loss: 9.016\n",
      " 100 (50.00%) Train loss: 11.977 \t Validation loss: 8.896\n",
      " 120 (60.00%) Train loss: 11.929 \t Validation loss: 8.882\n",
      " 140 (70.00%) Train loss: 11.906 \t Validation loss: 8.932\n",
      " 160 (80.00%) Train loss: 11.896 \t Validation loss: 8.979\n",
      " 180 (90.00%) Train loss: 11.893 \t Validation loss: 9.013\n"
     ]
    }
   ],
   "source": [
    "train_loss = []\n",
    "val_loss = []\n",
    "\n",
    "for e in range(EPOCHS):\n",
    "    \n",
    "    # Forward pass and loss computation\n",
    "    Loss = squared_loss(y_train, forward(x_train, NN))\n",
    "\n",
    "    # Backward pass\n",
    "    Loss.backward()\n",
    "    \n",
    "    # gradient descent update\n",
    "    update_parameters(parameters(NN), LEARN_R)\n",
    "    zero_gradients(parameters(NN))\n",
    "    \n",
    "    # Training loss\n",
    "    train_loss.append(Loss.v)\n",
    "    \n",
    "    # Validation\n",
    "    Loss_validation = squared_loss(y_validation, forward(x_validation, NN))\n",
    "    val_loss.append(Loss_validation.v)\n",
    "    \n",
    "    if e%20==0:\n",
    "        print(\"{:4d}\".format(e),\n",
    "              \"({:5.2f}%)\".format(e/EPOCHS*100), \n",
    "              \"Train loss: {:4.3f} \\t Validation loss: {:4.3f}\".format(train_loss[-1], val_loss[-1]))\n",
    "        \n"
   ]
  },
  {
   "cell_type": "code",
   "execution_count": 71,
   "metadata": {
    "colab": {
     "base_uri": "https://localhost:8080/",
     "height": 265
    },
    "id": "VetyRWFwFtIY",
    "outputId": "344e490d-6d7d-455a-fa6f-88dd11eb957e"
   },
   "outputs": [
    {
     "data": {
      "image/png": "[encoded data removed]",
      "text/plain": [
       "<Figure size 640x480 with 1 Axes>"
      ]
     },
     "metadata": {},
     "output_type": "display_data"
    }
   ],
   "source": [
    "plt.plot(range(len(train_loss)), train_loss);\n",
    "plt.plot(range(len(val_loss)), val_loss);"
   ]
  },
  {
   "attachments": {},
   "cell_type": "markdown",
   "metadata": {
    "id": "8OgmIrM9FtIb"
   },
   "source": [
    "# Testing\n",
    "\n",
    "We have kept the calculation of the test error separate in order to emphasize that you should not use the test set in optimization."
   ]
  },
  {
   "cell_type": "code",
   "execution_count": 72,
   "metadata": {
    "id": "HmNi7S-vFtIc"
   },
   "outputs": [],
   "source": [
    "output_test = forward(x_test, NN)"
   ]
  },
  {
   "cell_type": "code",
   "execution_count": 73,
   "metadata": {
    "colab": {
     "base_uri": "https://localhost:8080/",
     "height": 316
    },
    "id": "7mmJOTSEFtIf",
    "outputId": "e3264095-cefe-4aee-893d-bf152438e332"
   },
   "outputs": [
    {
     "name": "stdout",
     "output_type": "stream",
     "text": [
      "Test loss:  9.831\n"
     ]
    },
    {
     "data": {
      "image/png": "[encoded data removed]",
      "text/plain": [
       "<Figure size 640x480 with 1 Axes>"
      ]
     },
     "metadata": {},
     "output_type": "display_data"
    }
   ],
   "source": [
    "y_test_np = Var_to_nparray(y_test)\n",
    "plt.scatter(y_test_np, Var_to_nparray(output_test));\n",
    "plt.plot([np.min(y_test_np), np.max(y_test_np)], [np.min(y_test_np), np.max(y_test_np)], color='k');\n",
    "plt.xlabel(\"y\");\n",
    "plt.ylabel(\"$\\hat{y}$\");\n",
    "plt.title(\"Model prediction vs real in the test set, the close to the line the better\")\n",
    "plt.grid(True);\n",
    "plt.axis('equal');\n",
    "plt.tight_layout();\n",
    "\n",
    "Loss_test = squared_loss(y_test, forward(x_test, NN))\n",
    "\n",
    "print(\"Test loss:  {:4.3f}\".format(Loss_test.v))"
   ]
  },
  {
   "cell_type": "code",
   "execution_count": 74,
   "metadata": {
    "colab": {
     "base_uri": "https://localhost:8080/",
     "height": 279
    },
    "id": "ODi0WlmQFtIh",
    "outputId": "d1ab874f-0717-4987-87bf-1f0c7c8e7148"
   },
   "outputs": [
    {
     "data": {
      "image/png": "[encoded data removed]",
      "text/plain": [
       "<Figure size 640x480 with 1 Axes>"
      ]
     },
     "metadata": {},
     "output_type": "display_data"
    }
   ],
   "source": [
    "x_test_np = Var_to_nparray(x_test)\n",
    "x_train_np = Var_to_nparray(x_train)\n",
    "y_train_np = Var_to_nparray(y_train)\n",
    "if D1:\n",
    "    plt.scatter(x_train_np, y_train_np, label=\"train data\");\n",
    "    plt.scatter(x_test_np, Var_to_nparray(output_test), label=\"test prediction\");\n",
    "    plt.scatter(x_test_np, y_test_np, label=\"test data\");\n",
    "    plt.legend();\n",
    "    plt.xlabel(\"x\");\n",
    "    plt.ylabel(\"y\");\n",
    "else:\n",
    "    plt.scatter(x_train_np[:,1], y_train, label=\"train data\");\n",
    "    plt.scatter(x_test_np[:,1], Var_to_nparray(output_test), label=\"test data prediction\");\n",
    "    plt.scatter(x_test_np[:,1], y_test_np, label=\"test data\");\n",
    "    plt.legend();\n",
    "    plt.xlabel(\"x\");\n",
    "    plt.ylabel(\"y\");"
   ]
  },
  {
   "attachments": {},
   "cell_type": "markdown",
   "metadata": {
    "id": "zTBAmjsAFtIk"
   },
   "source": [
    "## Exercise l) Show overfitting, underfitting and just right fitting\n",
    "\n",
    "Vary the architecture and other things to show clear signs of overfitting (=training loss significantly lower than test loss) and underfitting (=not fitting enoung to training data so that test performance is also hurt).\n",
    "\n",
    "See also if you can get a good compromise which leads to a low validation loss. \n",
    "\n",
    "For this problem do you see any big difference between validation and test loss? The answer here will probably be no. Discuss cases where it is important to keep the two separate.\n",
    "\n",
    "_Insert written answer here._\n"
   ]
  },
  {
   "cell_type": "code",
   "execution_count": 112,
   "metadata": {},
   "outputs": [
    {
     "name": "stdout",
     "output_type": "stream",
     "text": [
      "   0 ( 0.00%) Train loss: 105.229 \t Validation loss: 107.760\n",
      "  10 ( 2.00%) Train loss: 104.892 \t Validation loss: 107.642\n",
      "  20 ( 4.00%) Train loss: 104.856 \t Validation loss: 107.612\n",
      "  30 ( 6.00%) Train loss: 104.808 \t Validation loss: 107.566\n",
      "  40 ( 8.00%) Train loss: 104.741 \t Validation loss: 107.498\n",
      "  50 (10.00%) Train loss: 104.649 \t Validation loss: 107.388\n",
      "  60 (12.00%) Train loss: 104.507 \t Validation loss: 107.252\n",
      "  70 (14.00%) Train loss: 104.284 \t Validation loss: 107.008\n",
      "  80 (16.00%) Train loss: 103.903 \t Validation loss: 106.557\n",
      "  90 (18.00%) Train loss: 103.199 \t Validation loss: 105.753\n",
      " 100 (20.00%) Train loss: 101.740 \t Validation loss: 104.039\n",
      " 110 (22.00%) Train loss: 98.330 \t Validation loss: 100.122\n",
      " 120 (24.00%) Train loss: 89.893 \t Validation loss: 90.099\n",
      " 130 (26.00%) Train loss: 71.228 \t Validation loss: 69.547\n",
      " 140 (28.00%) Train loss: 46.389 \t Validation loss: 43.826\n",
      " 150 (30.00%) Train loss: 31.282 \t Validation loss: 28.745\n",
      " 160 (32.00%) Train loss: 25.089 \t Validation loss: 22.438\n",
      " 170 (34.00%) Train loss: 21.901 \t Validation loss: 19.158\n",
      " 180 (36.00%) Train loss: 19.722 \t Validation loss: 16.757\n",
      " 190 (38.00%) Train loss: 21.789 \t Validation loss: 22.168\n",
      " 200 (40.00%) Train loss: 21.973 \t Validation loss: 20.412\n",
      " 210 (42.00%) Train loss: 21.125 \t Validation loss: 19.700\n",
      " 220 (44.00%) Train loss: 21.483 \t Validation loss: 21.212\n",
      " 230 (46.00%) Train loss: 21.136 \t Validation loss: 20.335\n",
      " 240 (48.00%) Train loss: 20.180 \t Validation loss: 19.266\n",
      " 250 (50.00%) Train loss: 19.955 \t Validation loss: 18.390\n",
      " 260 (52.00%) Train loss: 19.810 \t Validation loss: 18.684\n",
      " 270 (54.00%) Train loss: 19.709 \t Validation loss: 18.477\n",
      " 280 (56.00%) Train loss: 19.428 \t Validation loss: 18.047\n",
      " 290 (58.00%) Train loss: 19.175 \t Validation loss: 17.763\n",
      " 300 (60.00%) Train loss: 19.192 \t Validation loss: 17.784\n",
      " 310 (62.00%) Train loss: 19.238 \t Validation loss: 18.047\n",
      " 320 (64.00%) Train loss: 19.065 \t Validation loss: 17.295\n",
      " 330 (66.00%) Train loss: 18.822 \t Validation loss: 16.646\n",
      " 340 (68.00%) Train loss: 19.343 \t Validation loss: 17.905\n",
      " 350 (70.00%) Train loss: 18.886 \t Validation loss: 17.434\n",
      " 360 (72.00%) Train loss: 18.383 \t Validation loss: 16.110\n",
      " 370 (74.00%) Train loss: 18.530 \t Validation loss: 16.760\n",
      " 380 (76.00%) Train loss: 18.766 \t Validation loss: 16.884\n",
      " 390 (78.00%) Train loss: 18.263 \t Validation loss: 16.174\n",
      " 400 (80.00%) Train loss: 17.792 \t Validation loss: 15.787\n",
      " 410 (82.00%) Train loss: 17.987 \t Validation loss: 15.944\n",
      " 420 (84.00%) Train loss: 17.866 \t Validation loss: 15.759\n",
      " 430 (86.00%) Train loss: 17.525 \t Validation loss: 15.438\n",
      " 440 (88.00%) Train loss: 17.462 \t Validation loss: 15.346\n",
      " 450 (90.00%) Train loss: 17.196 \t Validation loss: 14.992\n",
      " 460 (92.00%) Train loss: 17.098 \t Validation loss: 14.912\n",
      " 470 (94.00%) Train loss: 17.655 \t Validation loss: 15.761\n",
      " 480 (96.00%) Train loss: 18.055 \t Validation loss: 15.834\n",
      " 490 (98.00%) Train loss: 16.309 \t Validation loss: 13.959\n"
     ]
    }
   ],
   "source": [
    "# Initialize an arbitrary neural network\n",
    "# OverfitNN = [\n",
    "#     DenseLayer(1, 8, lambda x: x.relu()),\n",
    "#     DenseLayer(8, 16, lambda x: x.relu()),\n",
    "#     DenseLayer(16, 32, lambda x: x.relu()),\n",
    "#     DenseLayer(32, 8, lambda x: x.relu()),\n",
    "#     DenseLayer(8, 1, lambda x: x.identity())\n",
    "# ]\n",
    "\n",
    "OverfitNN = [\n",
    "    DenseLayer(1, 4, lambda x: x.relu()),\n",
    "    DenseLayer(4, 8, lambda x: x.relu()),\n",
    "    DenseLayer(8, 4, lambda x: x.relu()),\n",
    "    DenseLayer(4, 1, lambda x: x.identity())\n",
    "]\n",
    "\n",
    "# Initialize training hyperparameters\n",
    "EPOCHS = 500\n",
    "LEARN_R = 0.001\n",
    "\n",
    "train_loss = []\n",
    "val_loss = []\n",
    "\n",
    "for e in range(EPOCHS):\n",
    "    \n",
    "    # Forward pass and loss computation\n",
    "    Loss = squared_loss(y_train, forward(x_train, OverfitNN))\n",
    "\n",
    "    # Backward pass\n",
    "    Loss.backward()\n",
    "    \n",
    "    # gradient descent update\n",
    "    update_parameters(parameters(OverfitNN), LEARN_R)\n",
    "    zero_gradients(parameters(OverfitNN))\n",
    "    \n",
    "    # Training loss\n",
    "    train_loss.append(Loss.v)\n",
    "    \n",
    "    # Validation\n",
    "    Loss_validation = squared_loss(y_validation, forward(x_validation, OverfitNN))\n",
    "    val_loss.append(Loss_validation.v)\n",
    "    \n",
    "    if e%10==0:\n",
    "        print(\"{:4d}\".format(e),\n",
    "              \"({:5.2f}%)\".format(e/EPOCHS*100), \n",
    "              \"Train loss: {:4.3f} \\t Validation loss: {:4.3f}\".format(train_loss[-1], val_loss[-1]))\n",
    "        "
   ]
  },
  {
   "cell_type": "markdown",
   "metadata": {},
   "source": [
    "# Underfiting"
   ]
  },
  {
   "cell_type": "code",
   "execution_count": 55,
   "metadata": {
    "id": "tQZCn2dxFtIl"
   },
   "outputs": [
    {
     "name": "stdout",
     "output_type": "stream",
     "text": [
      "   0 ( 0.00%) Train loss: 106.641 \t Validation loss: 107.490\n",
      "  10 ( 5.00%) Train loss: 14.387 \t Validation loss: 9.601\n",
      "  20 (10.00%) Train loss: 12.031 \t Validation loss: 8.979\n",
      "  30 (15.00%) Train loss: 12.031 \t Validation loss: 8.979\n",
      "  40 (20.00%) Train loss: 12.031 \t Validation loss: 8.979\n",
      "  50 (25.00%) Train loss: 12.031 \t Validation loss: 8.979\n",
      "  60 (30.00%) Train loss: 12.031 \t Validation loss: 8.979\n",
      "  70 (35.00%) Train loss: 12.031 \t Validation loss: 8.979\n",
      "  80 (40.00%) Train loss: 12.031 \t Validation loss: 8.979\n",
      "  90 (45.00%) Train loss: 12.031 \t Validation loss: 8.979\n",
      " 100 (50.00%) Train loss: 12.031 \t Validation loss: 8.979\n",
      " 110 (55.00%) Train loss: 12.031 \t Validation loss: 8.979\n",
      " 120 (60.00%) Train loss: 12.031 \t Validation loss: 8.979\n",
      " 130 (65.00%) Train loss: 12.031 \t Validation loss: 8.979\n",
      " 140 (70.00%) Train loss: 12.031 \t Validation loss: 8.979\n",
      " 150 (75.00%) Train loss: 12.031 \t Validation loss: 8.979\n",
      " 160 (80.00%) Train loss: 12.031 \t Validation loss: 8.979\n",
      " 170 (85.00%) Train loss: 12.031 \t Validation loss: 8.979\n",
      " 180 (90.00%) Train loss: 12.031 \t Validation loss: 8.979\n",
      " 190 (95.00%) Train loss: 12.031 \t Validation loss: 8.979\n"
     ]
    }
   ],
   "source": [
    "# Insert your code for getting overfitting, underfitting and just right fitting\n",
    "\n",
    "\n",
    "UnderfitNN = [\n",
    "    DenseLayer(1, 2, lambda x: x.identity()),\n",
    "    DenseLayer(2, 1, lambda x: x.identity())\n",
    "]\n",
    "\n",
    "# Initialize training hyperparameters\n",
    "EPOCHS = 200\n",
    "LEARN_R = 0.002\n",
    "\n",
    "train_loss = []\n",
    "val_loss = []\n",
    "\n",
    "for e in range(EPOCHS):\n",
    "    \n",
    "    # Forward pass and loss computation\n",
    "    Loss = squared_loss(y_train, forward(x_train, UnderfitNN))\n",
    "\n",
    "    # Backward pass\n",
    "    Loss.backward()\n",
    "    \n",
    "    # gradient descent update\n",
    "    update_parameters(parameters(UnderfitNN), LEARN_R)\n",
    "    zero_gradients(parameters(UnderfitNN))\n",
    "    \n",
    "    # Training loss\n",
    "    train_loss.append(Loss.v)\n",
    "    \n",
    "    # Validation\n",
    "    Loss_validation = squared_loss(y_validation, forward(x_validation, UnderfitNN))\n",
    "    val_loss.append(Loss_validation.v)\n",
    "    \n",
    "    if e%10==0:\n",
    "        print(\"{:4d}\".format(e),\n",
    "              \"({:5.2f}%)\".format(e/EPOCHS*100), \n",
    "              \"Train loss: {:4.3f} \\t Validation loss: {:4.3f}\".format(train_loss[-1], val_loss[-1]))\n",
    "        "
   ]
  },
  {
   "attachments": {},
   "cell_type": "markdown",
   "metadata": {
    "id": "fYPZP-eTFtIo"
   },
   "source": [
    "# Next steps - classification\n",
    "\n",
    "It is straight forward to extend what we have done to classification. \n",
    "\n",
    "For numerical stability it is better to make softmax and cross-entropy as one function so we write the cross entropy loss as a function of the logits we talked about last week. \n",
    "\n",
    "Next week we will see how to perform classification in PyTorch."
   ]
  },
  {
   "attachments": {},
   "cell_type": "markdown",
   "metadata": {
    "id": "qsVPul3QFtIo"
   },
   "source": [
    "## Exercise m) optional - Implement backpropagation for classification\n",
    "\n",
    "Should be possible with very few lines of code. :-)"
   ]
  },
  {
   "cell_type": "code",
   "execution_count": null,
   "metadata": {
    "id": "oC8QrI2tFtIp"
   },
   "outputs": [],
   "source": [
    "# Just add code."
   ]
  },
  {
   "attachments": {},
   "cell_type": "markdown",
   "metadata": {
    "id": "APqhJv3tta1O"
   },
   "source": [
    "## Exercise n) optional - Introduce a NeuralNetwork class\n",
    "\n",
    "The functions we applied on the neural network (parameters, update_parameters and zero_gradients) can more naturally be included as methods in a NeuralNetwork class. Make such a class and modify the code to use it. "
   ]
  },
  {
   "cell_type": "code",
   "execution_count": null,
   "metadata": {
    "id": "Dqfnor1ouMLq"
   },
   "outputs": [],
   "source": [
    "class NeuralNet:\n",
    "    def __init__(self, n_layers, n_in, n_classes, act_fn, lr) -> None:\n",
    "        self.network = None #Net()\n",
    "        self.params = parameters(self.network)\n",
    "\n",
    "        self.lr = lr\n",
    "    \n",
    "    def update_params(self):\n",
    "        update_parameters(self.params, self.lr)\n",
    "\n",
    "    def zero_grad(self):\n",
    "        zero_gradients(self.params)\n",
    "        "
   ]
  }
 ],
 "metadata": {
  "anaconda-cloud": {},
  "colab": {
   "collapsed_sections": [
    "U4057_ljNvWB",
    "p_8n_SKnIW2F",
    "oLrGJytZFtGm",
    "jpIZPBpNI0pO",
    "_79HOAXrFtHK",
    "mqeyab9qFtGs",
    "-XyXBD37FtHk",
    "SrwSJ2UWFtHu",
    "zTBAmjsAFtIk",
    "qsVPul3QFtIo",
    "APqhJv3tta1O"
   ],
   "name": "2.1-EXE-FNN-AutoDif-Nanograd.ipynb",
   "provenance": []
  },
  "kernelspec": {
   "display_name": "Python 3",
   "language": "python",
   "name": "python3"
  },
  "language_info": {
   "codemirror_mode": {
    "name": "ipython",
    "version": 3
   },
   "file_extension": ".py",
   "mimetype": "text/x-python",
   "name": "python",
   "nbconvert_exporter": "python",
   "pygments_lexer": "ipython3",
   "version": "3.9.13"
  }
 },
 "nbformat": 4,
 "nbformat_minor": 1
}
