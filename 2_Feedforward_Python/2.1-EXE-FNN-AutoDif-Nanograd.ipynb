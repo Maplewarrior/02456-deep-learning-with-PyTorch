{
 "cells": [
  {
   "attachments": {},
   "cell_type": "markdown",
   "metadata": {
    "id": "HAva8TnYFtFu"
   },
   "source": [
    "# Contents and why we need this lab\n",
    "\n",
    "This lab is about implementing neural networks yourself before we start using other frameworks that hide some of the computation from you. It builds on the first lab, where you derived the equations for neural network forward and backward propagation and gradient descent parameter updates. \n",
    "\n",
    "All the frameworks for deep learning you will meet from now on use automatic differentiation (autodiff), so you do not have to code the backward step yourself. In this version of this lab, you will develop your own autodif implementation. We also have an optional [version](https://github.com/DeepLearningDTU/02456-deep-learning-with-PyTorch/blob/master/2_Feedforward_Python/2.2-FNN-NumPy.ipynb) of this lab where you have to code the backward pass explicitly in Numpy."
   ]
  },
  {
   "attachments": {},
   "cell_type": "markdown",
   "metadata": {
    "id": "sCa7HzwpFtFy"
   },
   "source": [
    "# External sources of information\n",
    "\n",
    "1. Jupyter notebook. You can find more information about Jupyter notebooks [here](https://jupyter.org/). It will come as part of the [Anaconda](https://www.anaconda.com/) Python installation. \n",
    "2. [NumPy](https://numpy.org/). Part of Anaconda distribution.  If you already know how to program, most things about Python and NumPy can be found with Google searches.\n",
    "3. [Nanograd](https://github.com/rasmusbergpalm/nanograd) is a minimalistic version of autodiff developed by Rasmus Berg Palm that we use for our framework.\n"
   ]
  },
  {
   "attachments": {},
   "cell_type": "markdown",
   "metadata": {
    "id": "1SjiIp-TFtF0"
   },
   "source": [
    "# This notebook will follow the next steps:\n",
    "\n",
    "1. Nanograd automatic differentiation framework\n",
    "2. Finite difference method\n",
    "3. Data generation\n",
    "4. Defining and initializing the network\n",
    "5. Forward pass\n",
    "6. Training loop \n",
    "7. Testing your model\n",
    "8. Further extensions"
   ]
  },
  {
   "attachments": {},
   "cell_type": "markdown",
   "metadata": {
    "id": "OyXeAA-HuT7s"
   },
   "source": [
    "# Nanograd automatic differention framework"
   ]
  },
  {
   "attachments": {},
   "cell_type": "markdown",
   "metadata": {
    "id": "k6UWKCLKubgA"
   },
   "source": [
    "The [Nanograd](https://github.com/rasmusbergpalm/nanograd) framework defines a class Var which both holds a value and gradient value that we can use to store the intermediate values when we apply the chain rule of differentiation."
   ]
  },
  {
   "cell_type": "code",
   "execution_count": 141,
   "metadata": {
    "id": "Jd4CoEBNzNWS"
   },
   "outputs": [],
   "source": [
    "# Copy and pasted from https://github.com/rasmusbergpalm/nanograd/blob/3a1bf9e9e724da813bfccf91a6f309abdade9f39/nanograd.py\n",
    "\n",
    "import math\n",
    "\n",
    "class Var:\n",
    "    \"\"\"\n",
    "    A variable which holds a float and enables gradient computations.\n",
    "    \"\"\"\n",
    "\n",
    "    def __init__(self, val: float, grad_fn=lambda: []):\n",
    "        assert type(val) == float\n",
    "        self.v = val\n",
    "        self.grad_fn = grad_fn\n",
    "        self.grad = 0.0\n",
    "\n",
    "    def backprop(self, bp):\n",
    "        self.grad += bp\n",
    "        for input, grad in self.grad_fn():\n",
    "            input.backprop(grad * bp)\n",
    "            \n",
    "    def backward(self):\n",
    "        self.backprop(1.0)\n",
    "\n",
    "    def __add__(self: 'Var', other: 'Var') -> 'Var':\n",
    "        return Var(self.v + other.v, lambda: [(self, 1.0), (other, 1.0)])\n",
    "\n",
    "    def __mul__(self: 'Var', other: 'Var') -> 'Var':\n",
    "        return Var(self.v * other.v, lambda: [(self, other.v), (other, self.v)])\n",
    "\n",
    "    def __pow__(self, power):\n",
    "        assert type(power) in {float, int}, \"power must be float or int\"\n",
    "        return Var(self.v ** power, lambda: [(self, power * self.v ** (power - 1))])\n",
    "\n",
    "    def __neg__(self: 'Var') -> 'Var':\n",
    "        return Var(-1.0) * self\n",
    "\n",
    "    def __sub__(self: 'Var', other: 'Var') -> 'Var':\n",
    "        return self + (-other)\n",
    "\n",
    "    def __truediv__(self: 'Var', other: 'Var') -> 'Var':\n",
    "        return self * other ** -1\n",
    "\n",
    "    def __repr__(self):\n",
    "        return \"Var(v=%.4f, grad=%.4f)\" % (self.v, self.grad)\n",
    "\n",
    "    def relu(self):\n",
    "        return Var(self.v if self.v > 0.0 else 0.0, lambda: [(self, 1.0 if self.v > 0.0 else 0.0)])\n",
    "\n",
    "    def identity(self):\n",
    "        return Var(self.v, lambda: [(self, 1.0)])\n",
    "    \n",
    "    def tanh(self):\n",
    "        return Var((math.exp(2*self.v) - 1) / (math.exp(2*self.v) + 1), lambda: [(self, (2*math.exp(self.v) / (math.exp(2*self.v) + 1))**2)])\n",
    "\n",
    "    def sigmoid(self):\n",
    "        return Var(1 / (1 + math.exp(-self.v)), lambda: [(self, 1 / (1 + math.exp(-self.v)) * (1 - 1 / (1 + math.exp(-self.v))))])\n",
    "\n",
    "    def exp(self):\n",
    "        return Var(math.exp(self.v), lambda: [(self, math.exp(self.v))])\n",
    "    \n",
    "    def log(self):\n",
    "        return Var(math.log(self.v), lambda: [(self, self.v ** -1)])\n",
    "        \n"
   ]
  },
  {
   "attachments": {},
   "cell_type": "markdown",
   "metadata": {
    "id": "yDX67D6jzcte"
   },
   "source": [
    "A few examples illustrate how we can use this:"
   ]
  },
  {
   "cell_type": "code",
   "execution_count": 143,
   "metadata": {
    "colab": {
     "base_uri": "https://localhost:8080/"
    },
    "id": "xk6PeLc3zwPT",
    "outputId": "47e431b2-07ba-4cb1-ea21-997769641c67"
   },
   "outputs": [
    {
     "name": "stdout",
     "output_type": "stream",
     "text": [
      "Var(v=3.0000, grad=5.0000)\n",
      "Var(v=5.0000, grad=3.0000)\n",
      "Var(v=15.0000, grad=1.0000)\n"
     ]
    }
   ],
   "source": [
    "a = Var(3.0)\n",
    "b = Var(5.0)\n",
    "f = a * b\n",
    "\n",
    "f.backward()\n",
    "\n",
    "for v in [a, b, f]:\n",
    "    print(v)"
   ]
  },
  {
   "cell_type": "code",
   "execution_count": 144,
   "metadata": {
    "colab": {
     "base_uri": "https://localhost:8080/"
    },
    "id": "JmKhYgsY0g_o",
    "outputId": "06c1b1df-c33c-40d3-922a-624612a591c7"
   },
   "outputs": [
    {
     "name": "stdout",
     "output_type": "stream",
     "text": [
      "Var(v=3.0000, grad=14.0000)\n",
      "Var(v=5.0000, grad=3.0000)\n",
      "Var(v=15.0000, grad=1.0000)\n",
      "Var(v=9.0000, grad=3.0000)\n",
      "Var(v=27.0000, grad=1.0000)\n",
      "Var(v=42.0000, grad=1.0000)\n"
     ]
    }
   ],
   "source": [
    "a = Var(3.0)\n",
    "b = Var(5.0)\n",
    "c = a * b\n",
    "d = Var(9.0)\n",
    "e = a * d\n",
    "f = c + e\n",
    "\n",
    "f.backward()\n",
    "\n",
    "for v in [a, b, c, d, e, f]:\n",
    "   print(v)\n"
   ]
  },
  {
   "attachments": {},
   "cell_type": "markdown",
   "metadata": {
    "id": "Fe3B6uEH140p"
   },
   "source": [
    "## Exercise a) What is being calculated?\n",
    "\n",
    "Explain briefly the output of the code? What is the expression we differentiate and with respect to what variables?\n",
    "\n",
    "$\\textbf{Answer:}$\n",
    "\n",
    "The code outputs the value of each variable along with the partial derivative of f with respect to the variable in question.\n",
    "This is done by overwriting the default operators for addition, multiplication, etc. Thus, the gradients are computed as operations are performed.\n",
    "\n",
    "Hence, for the first example with $f(a, b) = a\\cdot b$ we have $\\frac{\\partial f}{\\partial a} = 5$, $\\frac{\\partial f}{\\partial b} = 3$ and $\\frac{\\partial f}{\\partial f} = 1$ respectively."
   ]
  },
  {
   "attachments": {},
   "cell_type": "markdown",
   "metadata": {
    "id": "q8_Q0t2I3Ruj"
   },
   "source": [
    "## Exercise b) How does the backward function work?\n",
    "\n",
    "You need to understand how the backward function calculates the gradients. We can use the two examples above to help with that.\n",
    "\n",
    "Go through the following four steps and answer the questions on the way:\n",
    "\n",
    "1. We represent the two expressions as graphs as shown below. Fill in the missing expressions for the different derivatives.\n",
    "\n",
    "2. In the remainder consider the first expression. Make a schematic of the data structure which is generated when we define the expression for f. \n",
    "\n",
    "3. Then execute the backward function by hand to convince yourself that it indeed calculates the gradients with respect to the variables. \n",
    "\n",
    "4. Write down the sequence of calls to backprop."
   ]
  },
  {
   "cell_type": "code",
   "execution_count": 145,
   "metadata": {
    "id": "idGr71jYXl26"
   },
   "outputs": [],
   "source": [
    "# import logging\n",
    "import graphviz\n",
    "import os\n",
    "os.environ[\"PATH\"] += os.pathsep + 'C:/Program Files/Graphviz/bin/' \n",
    "\n",
    "#logging.basicConfig(format='[%(levelname)s@%(name)s] %(message)s', level=logging.DEBUG)\n",
    "\n",
    "#graphviz.__version__, graphviz.version()\n",
    "#import os\n",
    "#print(os.pathsep)"
   ]
  },
  {
   "cell_type": "code",
   "execution_count": 146,
   "metadata": {
    "colab": {
     "base_uri": "https://localhost:8080/",
     "height": 152
    },
    "id": "KPe30Q2QXzeG",
    "outputId": "7fa002cd-a018-4dbb-ddf1-28ed5e99ee19"
   },
   "outputs": [
    {
     "data": {
      "image/svg+xml": [
       "<?xml version=\"1.0\" encoding=\"UTF-8\" standalone=\"no\"?>\n",
       "<!DOCTYPE svg PUBLIC \"-//W3C//DTD SVG 1.1//EN\"\n",
       " \"http://www.w3.org/Graphics/SVG/1.1/DTD/svg11.dtd\">\n",
       "<!-- Generated by graphviz version 8.1.0 (20230707.0739)\n",
       " -->\n",
       "<!-- Title: first expression Pages: 1 -->\n",
       "<svg width=\"161pt\" height=\"98pt\"\n",
       " viewBox=\"0.00 0.00 161.00 98.00\" xmlns=\"http://www.w3.org/2000/svg\" xmlns:xlink=\"http://www.w3.org/1999/xlink\">\n",
       "<g id=\"graph0\" class=\"graph\" transform=\"scale(1 1) rotate(0) translate(4 94)\">\n",
       "<title>first expression</title>\n",
       "<polygon fill=\"white\" stroke=\"none\" points=\"-4,4 -4,-94 157,-94 157,4 -4,4\"/>\n",
       "<!-- a -->\n",
       "<g id=\"node1\" class=\"node\">\n",
       "<title>a</title>\n",
       "<ellipse fill=\"none\" stroke=\"black\" cx=\"18\" cy=\"-72\" rx=\"18\" ry=\"18\"/>\n",
       "<text text-anchor=\"middle\" x=\"18\" y=\"-66.58\" font-family=\"Times New Roman,serif\" font-size=\"14.00\">a</text>\n",
       "</g>\n",
       "<!-- f -->\n",
       "<g id=\"node2\" class=\"node\">\n",
       "<title>f</title>\n",
       "<ellipse fill=\"none\" stroke=\"black\" cx=\"135\" cy=\"-45\" rx=\"18\" ry=\"18\"/>\n",
       "<text text-anchor=\"middle\" x=\"135\" y=\"-39.58\" font-family=\"Times New Roman,serif\" font-size=\"14.00\">f</text>\n",
       "</g>\n",
       "<!-- a&#45;&gt;f -->\n",
       "<g id=\"edge1\" class=\"edge\">\n",
       "<title>a&#45;&gt;f</title>\n",
       "<path fill=\"none\" stroke=\"black\" d=\"M35.97,-68.02C54.48,-63.67 84.41,-56.64 106.33,-51.5\"/>\n",
       "<polygon fill=\"black\" stroke=\"black\" points=\"107.03,-54.69 115.96,-49 105.43,-47.88 107.03,-54.69\"/>\n",
       "<text text-anchor=\"middle\" x=\"76.5\" y=\"-65.45\" font-family=\"Times New Roman,serif\" font-size=\"14.00\">df/da=b</text>\n",
       "</g>\n",
       "<!-- b -->\n",
       "<g id=\"node3\" class=\"node\">\n",
       "<title>b</title>\n",
       "<ellipse fill=\"none\" stroke=\"black\" cx=\"18\" cy=\"-18\" rx=\"18\" ry=\"18\"/>\n",
       "<text text-anchor=\"middle\" x=\"18\" y=\"-12.57\" font-family=\"Times New Roman,serif\" font-size=\"14.00\">b</text>\n",
       "</g>\n",
       "<!-- b&#45;&gt;f -->\n",
       "<g id=\"edge2\" class=\"edge\">\n",
       "<title>b&#45;&gt;f</title>\n",
       "<path fill=\"none\" stroke=\"black\" d=\"M35.96,-20.95C52.23,-23.89 77.44,-28.76 99,-34.25 101.64,-34.92 104.38,-35.67 107.11,-36.45\"/>\n",
       "<polygon fill=\"black\" stroke=\"black\" points=\"105.78,-40.01 116.36,-39.53 107.79,-33.3 105.78,-40.01\"/>\n",
       "<text text-anchor=\"middle\" x=\"76.5\" y=\"-37.45\" font-family=\"Times New Roman,serif\" font-size=\"14.00\">df/db=a</text>\n",
       "</g>\n",
       "</g>\n",
       "</svg>\n"
      ],
      "text/plain": [
       "<graphviz.graphs.Digraph at 0x1f3da02d730>"
      ]
     },
     "execution_count": 146,
     "metadata": {},
     "output_type": "execute_result"
    }
   ],
   "source": [
    "e1 = graphviz.Digraph('first expression', filename='fsm.gv')\n",
    "\n",
    "e1.attr(rankdir='LR', size='8,5')\n",
    "\n",
    "e1.attr('node', shape='circle')\n",
    "e1.edge('a', 'f', label='df/da=b')\n",
    "e1.edge('b', 'f', label='df/db=a')\n",
    "\n",
    "e1"
   ]
  },
  {
   "cell_type": "code",
   "execution_count": 147,
   "metadata": {
    "colab": {
     "base_uri": "https://localhost:8080/",
     "height": 232
    },
    "id": "0nittR-mZFeX",
    "outputId": "fa3656a3-732c-4abe-8084-98a492b0d6be"
   },
   "outputs": [
    {
     "data": {
      "image/svg+xml": [
       "<?xml version=\"1.0\" encoding=\"UTF-8\" standalone=\"no\"?>\n",
       "<!DOCTYPE svg PUBLIC \"-//W3C//DTD SVG 1.1//EN\"\n",
       " \"http://www.w3.org/Graphics/SVG/1.1/DTD/svg11.dtd\">\n",
       "<!-- Generated by graphviz version 8.1.0 (20230707.0739)\n",
       " -->\n",
       "<!-- Title: second expression Pages: 1 -->\n",
       "<svg width=\"280pt\" height=\"161pt\"\n",
       " viewBox=\"0.00 0.00 280.25 161.00\" xmlns=\"http://www.w3.org/2000/svg\" xmlns:xlink=\"http://www.w3.org/1999/xlink\">\n",
       "<g id=\"graph0\" class=\"graph\" transform=\"scale(1 1) rotate(0) translate(4 157)\">\n",
       "<title>second expression</title>\n",
       "<polygon fill=\"white\" stroke=\"none\" points=\"-4,4 -4,-157 276.25,-157 276.25,4 -4,4\"/>\n",
       "<!-- a -->\n",
       "<g id=\"node1\" class=\"node\">\n",
       "<title>a</title>\n",
       "<ellipse fill=\"none\" stroke=\"black\" cx=\"18\" cy=\"-77\" rx=\"18\" ry=\"18\"/>\n",
       "<text text-anchor=\"middle\" x=\"18\" y=\"-71.58\" font-family=\"Times New Roman,serif\" font-size=\"14.00\">a</text>\n",
       "</g>\n",
       "<!-- c -->\n",
       "<g id=\"node2\" class=\"node\">\n",
       "<title>c</title>\n",
       "<ellipse fill=\"none\" stroke=\"black\" cx=\"137.25\" cy=\"-103\" rx=\"18\" ry=\"18\"/>\n",
       "<text text-anchor=\"middle\" x=\"137.25\" y=\"-97.58\" font-family=\"Times New Roman,serif\" font-size=\"14.00\">c</text>\n",
       "</g>\n",
       "<!-- a&#45;&gt;c -->\n",
       "<g id=\"edge1\" class=\"edge\">\n",
       "<title>a&#45;&gt;c</title>\n",
       "<path fill=\"none\" stroke=\"black\" d=\"M36.05,-80.78C55.07,-85 86.11,-91.88 108.61,-96.87\"/>\n",
       "<polygon fill=\"black\" stroke=\"black\" points=\"107.66,-100.47 118.18,-99.21 109.18,-93.63 107.66,-100.47\"/>\n",
       "<text text-anchor=\"middle\" x=\"77.62\" y=\"-96.45\" font-family=\"Times New Roman,serif\" font-size=\"14.00\">dc/da=b</text>\n",
       "</g>\n",
       "<!-- e -->\n",
       "<g id=\"node4\" class=\"node\">\n",
       "<title>e</title>\n",
       "<ellipse fill=\"none\" stroke=\"black\" cx=\"137.25\" cy=\"-49\" rx=\"18\" ry=\"18\"/>\n",
       "<text text-anchor=\"middle\" x=\"137.25\" y=\"-43.58\" font-family=\"Times New Roman,serif\" font-size=\"14.00\">e</text>\n",
       "</g>\n",
       "<!-- a&#45;&gt;e -->\n",
       "<g id=\"edge3\" class=\"edge\">\n",
       "<title>a&#45;&gt;e</title>\n",
       "<path fill=\"none\" stroke=\"black\" d=\"M35.25,-71.06C41.11,-69.05 47.8,-66.89 54,-65.25 71.89,-60.5 92.29,-56.46 108.31,-53.6\"/>\n",
       "<polygon fill=\"black\" stroke=\"black\" points=\"108.84,-56.88 118.09,-51.73 107.64,-49.99 108.84,-56.88\"/>\n",
       "<text text-anchor=\"middle\" x=\"77.62\" y=\"-68.45\" font-family=\"Times New Roman,serif\" font-size=\"14.00\">de/da=d</text>\n",
       "</g>\n",
       "<!-- f -->\n",
       "<g id=\"node6\" class=\"node\">\n",
       "<title>f</title>\n",
       "<ellipse fill=\"none\" stroke=\"black\" cx=\"254.25\" cy=\"-75\" rx=\"18\" ry=\"18\"/>\n",
       "<text text-anchor=\"middle\" x=\"254.25\" y=\"-69.58\" font-family=\"Times New Roman,serif\" font-size=\"14.00\">f</text>\n",
       "</g>\n",
       "<!-- c&#45;&gt;f -->\n",
       "<g id=\"edge5\" class=\"edge\">\n",
       "<title>c&#45;&gt;f</title>\n",
       "<path fill=\"none\" stroke=\"black\" d=\"M155.22,-98.87C173.84,-94.33 204,-86.99 225.96,-81.65\"/>\n",
       "<polygon fill=\"black\" stroke=\"black\" points=\"226.7,-84.82 235.59,-79.06 225.04,-78.02 226.7,-84.82\"/>\n",
       "<text text-anchor=\"middle\" x=\"195.75\" y=\"-95.45\" font-family=\"Times New Roman,serif\" font-size=\"14.00\">df/dc=1</text>\n",
       "</g>\n",
       "<!-- b -->\n",
       "<g id=\"node3\" class=\"node\">\n",
       "<title>b</title>\n",
       "<ellipse fill=\"none\" stroke=\"black\" cx=\"18\" cy=\"-135\" rx=\"18\" ry=\"18\"/>\n",
       "<text text-anchor=\"middle\" x=\"18\" y=\"-129.57\" font-family=\"Times New Roman,serif\" font-size=\"14.00\">b</text>\n",
       "</g>\n",
       "<!-- b&#45;&gt;c -->\n",
       "<g id=\"edge2\" class=\"edge\">\n",
       "<title>b&#45;&gt;c</title>\n",
       "<path fill=\"none\" stroke=\"black\" d=\"M35.72,-130.62C52.36,-126.23 78.6,-119.27 101.25,-113 103.77,-112.3 106.39,-111.57 109.01,-110.83\"/>\n",
       "<polygon fill=\"black\" stroke=\"black\" points=\"109.87,-113.94 118.53,-107.84 107.96,-107.21 109.87,-113.94\"/>\n",
       "<text text-anchor=\"middle\" x=\"77.62\" y=\"-127.45\" font-family=\"Times New Roman,serif\" font-size=\"14.00\">dc/db=a</text>\n",
       "</g>\n",
       "<!-- e&#45;&gt;f -->\n",
       "<g id=\"edge6\" class=\"edge\">\n",
       "<title>e&#45;&gt;f</title>\n",
       "<path fill=\"none\" stroke=\"black\" d=\"M155.65,-50.54C172.01,-52.25 197.09,-55.55 218.25,-61.25 221.26,-62.06 224.37,-63.05 227.44,-64.12\"/>\n",
       "<polygon fill=\"black\" stroke=\"black\" points=\"225.88,-67.65 236.47,-67.94 228.37,-61.11 225.88,-67.65\"/>\n",
       "<text text-anchor=\"middle\" x=\"195.75\" y=\"-64.45\" font-family=\"Times New Roman,serif\" font-size=\"14.00\">df/de=1</text>\n",
       "</g>\n",
       "<!-- d -->\n",
       "<g id=\"node5\" class=\"node\">\n",
       "<title>d</title>\n",
       "<ellipse fill=\"none\" stroke=\"black\" cx=\"18\" cy=\"-18\" rx=\"18\" ry=\"18\"/>\n",
       "<text text-anchor=\"middle\" x=\"18\" y=\"-12.57\" font-family=\"Times New Roman,serif\" font-size=\"14.00\">d</text>\n",
       "</g>\n",
       "<!-- d&#45;&gt;e -->\n",
       "<g id=\"edge4\" class=\"edge\">\n",
       "<title>d&#45;&gt;e</title>\n",
       "<path fill=\"none\" stroke=\"black\" d=\"M36.18,-21.13C52.93,-24.34 79.06,-29.78 101.25,-36.25 104.06,-37.07 106.98,-38 109.87,-38.97\"/>\n",
       "<polygon fill=\"black\" stroke=\"black\" points=\"108.42,-42.53 119.02,-42.58 110.77,-35.94 108.42,-42.53\"/>\n",
       "<text text-anchor=\"middle\" x=\"77.62\" y=\"-39.45\" font-family=\"Times New Roman,serif\" font-size=\"14.00\">de/dd=a</text>\n",
       "</g>\n",
       "</g>\n",
       "</svg>\n"
      ],
      "text/plain": [
       "<graphviz.graphs.Digraph at 0x1f3d8dbe580>"
      ]
     },
     "execution_count": 147,
     "metadata": {},
     "output_type": "execute_result"
    }
   ],
   "source": [
    "e2 = graphviz.Digraph('second expression', filename='fsm.gv')\n",
    "\n",
    "e2.attr(rankdir='LR', size='8,5')\n",
    "\n",
    "e2.attr('node', shape='circle')\n",
    "e2.edge('a', 'c', label='dc/da=b')\n",
    "e2.edge('b', 'c', label='dc/db=a')\n",
    "e2.edge('a', 'e', label='de/da=d')\n",
    "e2.edge('d', 'e', label='de/dd=a')\n",
    "e2.edge('c', 'f', label='df/dc=1')\n",
    "e2.edge('e', 'f', label='df/de=1')\n",
    "\n",
    "e2"
   ]
  },
  {
   "attachments": {},
   "cell_type": "markdown",
   "metadata": {},
   "source": [
    "### Exercise b Q2:\n",
    "       a \n",
    "       |\n",
    "       b\n",
    "       |\n",
    "       f = a* b --> self.v and self.grad_fn are initialized through __mul__ as f is defined\n",
    "       \n",
    "\n",
    "       \n",
    "        \n",
    "\n",
    "### Exercise b Q3:\n",
    "0) f.backward() --> f.grad is updated from 0 to 1\n",
    "1) calls backprop on input=a, grad=b (first element of f.graph_fn())\n",
    "   \n",
    "   1a) This updates a.grad to 5 \n",
    "\n",
    "   \n",
    "2) calls backprop on input=b, grad=a (second element of f.grad_fn())\n",
    "   \n",
    "   2a) b.grad is updated to 3\n",
    "\n",
    "\n",
    "### Exercise b Q4:\n",
    "\n",
    "1) f.backprop(1.0)\n",
    "2) a.backprop(1.0 * 5.0) (a.grad_fn is empty so terminates inner recursion here)\n",
    "3) b.backprop(1.0 * 3.0) (b.grad_fn is empty)\n",
    "\n",
    "\n",
    "\n"
   ]
  },
  {
   "attachments": {},
   "cell_type": "markdown",
   "metadata": {
    "id": "A5oi21W4gpeM"
   },
   "source": [
    "## Exercise c) What happens if we run backward again?\n",
    "\n",
    "Try to execute the code below. Explain what happens."
   ]
  },
  {
   "cell_type": "code",
   "execution_count": 148,
   "metadata": {
    "colab": {
     "base_uri": "https://localhost:8080/"
    },
    "id": "DCtpJyr-gyX1",
    "outputId": "d014bcfa-c9ae-49c3-d268-91cc6ca94ea5"
   },
   "outputs": [
    {
     "name": "stdout",
     "output_type": "stream",
     "text": [
      "Var(v=3.0000, grad=28.0000)\n",
      "Var(v=5.0000, grad=6.0000)\n",
      "Var(v=15.0000, grad=2.0000)\n",
      "Var(v=9.0000, grad=6.0000)\n",
      "Var(v=27.0000, grad=2.0000)\n",
      "Var(v=42.0000, grad=2.0000)\n"
     ]
    }
   ],
   "source": [
    "f.backward()\n",
    "\n",
    "for v in [a, b, c, d, e, f]:\n",
    "    print(v)\n",
    "\n"
   ]
  },
  {
   "attachments": {},
   "cell_type": "markdown",
   "metadata": {},
   "source": [
    "$\\textbf{Answer:}$\n",
    "The gradients accumulate and hence the values of the gradients are doubled since we are working on the same computational graph. This is why you need to call zero grad after each backward pass. We update the value of self.grad at each backprop step as earlier explained. self.grad is initalized to 0 and updated to 1 due to the default value of bp when running .backward()"
   ]
  },
  {
   "attachments": {},
   "cell_type": "markdown",
   "metadata": {
    "id": "e8bPVq2VhsP-"
   },
   "source": [
    "## Exercise d) Zero gradient\n",
    "\n",
    "We can zero the gradient by backpropagating a -1.0 as is shown in the example below. (If you have run backward multiple time then you also have to run the cell below an equal amount of times.) Explain what is going on.\n",
    "\n",
    "$\\textbf{Answer:}$ By running .backprop(-1.0) we will compute the gradients for the graph again, but they will be negated. Since the self.grad variable accumulates this corresponds to setting the gradients to zero."
   ]
  },
  {
   "cell_type": "code",
   "execution_count": 149,
   "metadata": {
    "colab": {
     "base_uri": "https://localhost:8080/"
    },
    "id": "OnyPDQx9lJe0",
    "outputId": "7a125fdc-60c4-4340-a580-8b82aea5b0db"
   },
   "outputs": [
    {
     "name": "stdout",
     "output_type": "stream",
     "text": [
      "Var(v=2.0000, grad=0.0000)\n",
      "Var(v=5.0000, grad=6.0000)\n",
      "Var(v=15.0000, grad=2.0000)\n",
      "Var(v=9.0000, grad=6.0000)\n",
      "Var(v=27.0000, grad=2.0000)\n",
      "Var(v=42.0000, grad=2.0000)\n",
      "Var(v=2.0000, grad=0.0000)\n",
      "Var(v=5.0000, grad=3.0000)\n",
      "Var(v=15.0000, grad=1.0000)\n",
      "Var(v=9.0000, grad=3.0000)\n",
      "Var(v=27.0000, grad=1.0000)\n",
      "Var(v=42.0000, grad=1.0000)\n"
     ]
    }
   ],
   "source": [
    "a = Var(2.0)\n",
    "\n",
    "for v in [a, b, c, d, e, f]:\n",
    "    print(v)\n",
    "\n",
    "f.backprop(-1.0)\n",
    "\n",
    "for v in [a, b, c, d, e, f]:\n",
    "    print(v)"
   ]
  },
  {
   "attachments": {},
   "cell_type": "markdown",
   "metadata": {
    "id": "U4057_ljNvWB"
   },
   "source": [
    "## Exercise e) Test correctness of derivatives with the finite difference method\n",
    "\n",
    "Write a small function that uses [the finite difference method](https://en.wikipedia.org/wiki/Finite_difference_method) to numerically test that backpropation implementation is working. In short we will use\n",
    "$$\n",
    "\\frac{\\partial f(a)}{\\partial a} \\approx \\frac{f(a+da)-f(a)}{da}\n",
    "$$\n",
    "for $da \\ll 1$.\n",
    "\n",
    "As an example, we could approximate the derivative of the function $f(a)=a^2$ in e.g. the value $a=4$ using the finite difference method. This amounts to inserting the relevant values and approximating the gradient $f'(4)$ with the fraction above. \n"
   ]
  },
  {
   "cell_type": "code",
   "execution_count": 41,
   "metadata": {
    "colab": {
     "base_uri": "https://localhost:8080/"
    },
    "id": "9TGil92lSXDN",
    "outputId": "7ef5489b-b525-4132-ab08-0b1109c07f4d"
   },
   "outputs": [
    {
     "name": "stdout",
     "output_type": "stream",
     "text": [
      "Var(v=3.0000, grad=5.0000)\n",
      "Var(v=5.0000, grad=3.0000)\n",
      "Var(v=15.0000, grad=1.0000)\n",
      "Finite difference: 5.000018177270249\n"
     ]
    }
   ],
   "source": [
    "# f function - try to change the code to test other types of functions as well (such as different polynomials etc.)\n",
    "def f_function(a):\n",
    "  a = Var(a)\n",
    "  b = Var(5.0)\n",
    "  f = a * b\n",
    "  f.backward()\n",
    "  return a, b, f\n",
    "\n",
    "for v in f_function(3.0):\n",
    "  print(v)\n",
    "\n",
    "# Insert your finite difference code here\n",
    "def finite_difference(da=1e-10):\n",
    "    \"\"\"\n",
    "    This function compute the finite difference between\n",
    "    \n",
    "    Input:\n",
    "    da:          The finite difference                           (float)\n",
    "    \n",
    "    Output:\n",
    "    finite_difference: numerical approximation to the derivative (float) \n",
    "    \"\"\"\n",
    "    a = 10.0 # this value does not matter since we are approximating the partial derivative of f wrt. a\n",
    "\n",
    "    \n",
    "    fa_da = f_function(a + da)[-1].v           # <- Insert correct expression\n",
    "    fa = f_function(a)[-1].v                   # <- Insert correct expression\n",
    "\n",
    "    finite_difference = (fa_da - fa) / da\n",
    "    \n",
    "    return finite_difference\n",
    "\n",
    "print(f'Finite difference: {finite_difference()}')"
   ]
  },
  {
   "attachments": {},
   "cell_type": "markdown",
   "metadata": {
    "id": "6pZar5RKaUkg"
   },
   "source": [
    "# Create an artificial dataset to play with\n",
    "\n",
    "We create a non-linear 1d regression task. The generator supports various noise levels and it creates train, validation and test sets. You can modify it yourself if you want more or less challenging tasks."
   ]
  },
  {
   "cell_type": "code",
   "execution_count": 42,
   "metadata": {
    "id": "Y6yfMAQ8aduj"
   },
   "outputs": [],
   "source": [
    "import numpy as np\n",
    "import matplotlib.pyplot as plt\n",
    "\n",
    "np.random.seed(42)"
   ]
  },
  {
   "cell_type": "code",
   "execution_count": 43,
   "metadata": {
    "id": "4YabfD43ajNh"
   },
   "outputs": [],
   "source": [
    "def data_generator(noise=0.1, n_samples=300, D1=True):\n",
    "    # Create covariates and response variable\n",
    "    if D1:\n",
    "        X = np.linspace(-3, 3, num=n_samples).reshape(-1,1) # 1-D\n",
    "        np.random.shuffle(X)\n",
    "        y = np.random.normal((0.5*np.sin(X[:,0]*3) + X[:,0]), noise) # 1-D with trend\n",
    "    else:\n",
    "        X = np.random.multivariate_normal(np.zeros(3), noise*np.eye(3), size = n_samples) # 3-D\n",
    "        np.random.shuffle(X)    \n",
    "        y = np.sin(X[:,0]) - 5*(X[:,1]**2) + 0.5*X[:,2] # 3-D\n",
    "\n",
    "    # Stack them together vertically to split data set\n",
    "    data_set = np.vstack((X.T,y)).T\n",
    "    \n",
    "    train, validation, test = np.split(data_set, [int(0.35*n_samples), int(0.7*n_samples)], axis=0)\n",
    "    \n",
    "    # Standardization of the data, remember we do the standardization with the training set mean and standard deviation\n",
    "    train_mu = np.mean(train, axis=0)\n",
    "    train_sigma = np.std(train, axis=0)\n",
    "    \n",
    "    train = (train-train_mu)/train_sigma\n",
    "    validation = (validation-train_mu)/train_sigma\n",
    "    test = (test-train_mu)/train_sigma\n",
    "    \n",
    "    x_train, x_validation, x_test = train[:,:-1], validation[:,:-1], test[:,:-1]\n",
    "    y_train, y_validation, y_test = train[:,-1], validation[:,-1], test[:,-1]\n",
    "\n",
    "    return x_train, y_train,  x_validation, y_validation, x_test, y_test"
   ]
  },
  {
   "cell_type": "code",
   "execution_count": 120,
   "metadata": {
    "id": "u1oDngHLapIz"
   },
   "outputs": [],
   "source": [
    "D1 = True\n",
    "x_train, y_train,  x_validation, y_validation, x_test, y_test = data_generator(n_samples=300, noise=0.5, D1=D1)"
   ]
  },
  {
   "cell_type": "code",
   "execution_count": 46,
   "metadata": {
    "colab": {
     "base_uri": "https://localhost:8080/",
     "height": 265
    },
    "id": "Ysfa3FsBavlm",
    "outputId": "399e5382-ae7d-48f6-9774-7ea4c73e7d95"
   },
   "outputs": [
    {
     "data": {
      "image/png": "[encoded data removed]",
      "text/plain": [
       "<Figure size 640x480 with 1 Axes>"
      ]
     },
     "metadata": {},
     "output_type": "display_data"
    }
   ],
   "source": [
    "if D1:\n",
    "    plt.scatter(x_train[:,0], y_train);\n",
    "    plt.scatter(x_validation[:,0], y_validation);\n",
    "    plt.scatter(x_test[:,0], y_test);\n",
    "else:\n",
    "    plt.scatter(x_train[:,1], y_train);\n",
    "    plt.scatter(x_validation[:,1], y_validation);\n",
    "    plt.scatter(x_test[:,1], y_test);\n",
    "plt.show()"
   ]
  },
  {
   "cell_type": "code",
   "execution_count": 47,
   "metadata": {
    "id": "zac2HHNlgbpm"
   },
   "outputs": [],
   "source": [
    "# convert from nparray to Var\n",
    "def nparray_to_Var(x):\n",
    "  if x.ndim==1:\n",
    "    y = [[Var(float(x[i]))] for i in range(x.shape[0])] # always work with list of list\n",
    "  else:\n",
    "    y = [[Var(float(x[i,j])) for j in range(x.shape[1])] for i in range(x.shape[0])]\n",
    "  return y\n",
    "   \n",
    "x_train = nparray_to_Var(x_train)\n",
    "y_train = nparray_to_Var(y_train)\n",
    "x_validation = nparray_to_Var(x_validation)\n",
    "y_validation = nparray_to_Var(y_validation)\n",
    "x_test = nparray_to_Var(x_test)\n",
    "y_test = nparray_to_Var(y_test)\n"
   ]
  },
  {
   "attachments": {},
   "cell_type": "markdown",
   "metadata": {
    "id": "VbjrqcpVFtGe"
   },
   "source": [
    "# Defining and initializing the network\n",
    "\n",
    "The steps to create a feed forward neural network are the following:\n",
    "\n",
    "1. **Number of hidden layer and hidden units**. We have to define the number of hidden units in each layer. The number of features in X and the output dimensionality (the size of Y) are given but the numbers in between are set by the researcher. Remember that for each unit in each layer beside in the input has a bias term.\n",
    "2. **Activation functions** for each hidden layer. Each hidden layer in your list must have an activation function (it can also be the linear activation which is equivalent to identity function). The power of neural networks comes from non-linear activation functions that learn representations (features) from the data allowing us to learn from it. \n",
    "3. **Parameter initialization**. We will initialize the weights to have random values. This is done in practice by drawing pseudo random numbers from a Gaussian or uniform distribution. It turns out that for deeper models we have to be careful about how we scale the random numbers. This will be the topic of the exercise below. For now we will just use unit variance Gaussians.  \n",
    "\n",
    "In order to make life easier for ourselves we define a DenseLayer class that takes care of initialization and the forward pass. We can also extend it later with print and advanced initialization capabilities. For the latter we have introduced a Initializer class.\n",
    "\n",
    "Note that we use Sequence in the code below. A Sequence is an ordered list. This means the order we insert and access items are the same."
   ]
  },
  {
   "cell_type": "code",
   "execution_count": 48,
   "metadata": {
    "id": "ij_ieRsAt7Xt"
   },
   "outputs": [],
   "source": [
    "class Initializer:\n",
    "\n",
    "  def init_weights(self, n_in, n_out):\n",
    "    raise NotImplementedError\n",
    "\n",
    "  def init_bias(self, n_out):\n",
    "    raise NotImplementedError"
   ]
  },
  {
   "cell_type": "code",
   "execution_count": 49,
   "metadata": {
    "id": "eb18N5phuIha"
   },
   "outputs": [],
   "source": [
    "import random\n",
    "\n",
    "class NormalInitializer(Initializer):\n",
    "\n",
    "  def __init__(self, mean=0, std=0.1):\n",
    "    self.mean = mean\n",
    "    self.std = std\n",
    "\n",
    "  def init_weights(self, n_in, n_out):\n",
    "    return [[Var(random.gauss(self.mean, self.std)) for _ in range(n_out)] for _ in range(n_in)]\n",
    "\n",
    "  def init_bias(self, n_out):\n",
    "    return [Var(0.0) for _ in range(n_out)]\n",
    "\n",
    "class ConstantInitializer(Initializer):\n",
    "\n",
    "  def __init__(self, weight=1.0, bias=0.0):\n",
    "    self.weight = weight\n",
    "    self.bias = bias\n",
    "\n",
    "  def init_weights(self, n_in, n_out):\n",
    "    return [[Var(self.weight) for _ in range(n_out)] for _ in range(n_in)]\n",
    "\n",
    "  def init_bias(self, n_out):\n",
    "    return [Var(self.bias) for _ in range(n_out)]"
   ]
  },
  {
   "cell_type": "code",
   "execution_count": 50,
   "metadata": {
    "id": "jOLYGnZKuM6W"
   },
   "outputs": [],
   "source": [
    "from typing import Sequence\n",
    "\n",
    "class DenseLayer:\n",
    "    def __init__(self, n_in: int, n_out: int, act_fn, initializer = NormalInitializer()):\n",
    "        self.weights = initializer.init_weights(n_in, n_out)\n",
    "        self.bias = initializer.init_bias(n_out)\n",
    "        self.act_fn = act_fn\n",
    "    \n",
    "    def __repr__(self):    \n",
    "        return 'Weights: ' + repr(self.weights) + ' Biases: ' + repr(self.bias)\n",
    "\n",
    "    def parameters(self) -> Sequence[Var]:\n",
    "      params = []\n",
    "      for r in self.weights:\n",
    "        params += r\n",
    "\n",
    "      return params + self.bias\n",
    "\n",
    "    def forward(self, single_input: Sequence[Var]) -> Sequence[Var]:\n",
    "        # self.weights is a matrix with dimension n_in x n_out. We check that the dimensionality of the input \n",
    "        # to the current layer matches the number of nodes in the current layer\n",
    "        assert len(self.weights) == len(single_input), f\"weights {len(self.weights)} and single_input {len(single_input)} must match in first dimension\"\n",
    "        weights = self.weights\n",
    "        out = []\n",
    "        # For some given data point single_input, we now want to calculate the resulting value in each node in the current layer\n",
    "        # We therefore loop over the (number of) nodes in the current layer:\n",
    "        for j in range(len(weights[0])): \n",
    "            # Initialize the node value depending on its corresponding parameters.\n",
    "            node = self.bias[j] # <- Insert code\n",
    "            # We now finish the linear transformation corresponding to the parameters of the currently considered node.\n",
    "            for i in range(len(single_input)):\n",
    "                node += self.weights[i][j] * single_input[i]  # <- Insert code\n",
    "            node = self.act_fn(node)\n",
    "            out.append(node)\n",
    "\n",
    "        return out\n",
    "\n",
    "    def model_summary(self):\n",
    "        print(f'Weights dimension: {len(self.weights)} x {len(self.weights[0])}')\n",
    "        print(f'Bias dimension: {len(self.bias)} x {len(self.bias[0])}')\n",
    "\n",
    "    def __repr__(self):\n",
    "       return f\"weight dimensions: {len(self.weights)} x {len(self.weights[0])} and bias dimension {len(self.bias)} x 1 along with parameters\\nweights: {self.weights}\\nbias:{self.bias})\""
   ]
  },
  {
   "attachments": {},
   "cell_type": "markdown",
   "metadata": {
    "id": "jpIZPBpNI0pO"
   },
   "source": [
    "## Exercise f) Add more activation functions\n",
    "\n",
    "To have a full definition of the neural network, we must define an activation function for every layer. Several activation functions have been proposed and have different characteristics. In the Var class we have already defined the rectified linear init (relu). \n",
    " \n",
    "Implement the following activation functions in the Var class:\n",
    "\n",
    "* Identity: $$\\mathrm{identity}(x) = x$$\n",
    "* Hyperbolic tangent: $$\\tanh(x)$$\n",
    "* Sigmoid (or logistic function): $$\\mathrm{sigmoid}(x) = \\frac{1}{1.0 + \\exp(-x ) }$$  Hint: $\\mathrm{sigmoid}'(x)= \\mathrm{sigmoid}(x)(1-\\mathrm{sigmoid}(x))$.  \n",
    "\n",
    "Hint: You can seek inspiration in the relu method in the Var class."
   ]
  },
  {
   "attachments": {},
   "cell_type": "markdown",
   "metadata": {
    "id": "p_8n_SKnIW2F"
   },
   "source": [
    "## Exercise g) Complete the forward pass\n",
    "\n",
    "In the code below we initialize a 1-5-1 network and pass the training set through it. *The forward method in DenseLayer is **not** complete*. It just outputs zeros right now. The method forward should perform an [affine transformation](https://en.wikipedia.org/wiki/Affine_transformation) on the input followed by an application of the activation function."
   ]
  },
  {
   "cell_type": "code",
   "execution_count": 51,
   "metadata": {
    "colab": {
     "base_uri": "https://localhost:8080/",
     "height": 337
    },
    "id": "xDEjtePxE7Mv",
    "outputId": "753406cd-d8a1-4282-ce03-25ad959b0e11"
   },
   "outputs": [
    {
     "name": "stdout",
     "output_type": "stream",
     "text": [
      "[[Var(v=-0.0047, grad=0.0000)], [Var(v=-0.0094, grad=0.0000)], [Var(v=-0.0009, grad=0.0000)], [Var(v=-0.0054, grad=0.0000)], [Var(v=-0.0069, grad=0.0000)], [Var(v=-0.0064, grad=0.0000)], [Var(v=-0.0042, grad=0.0000)], [Var(v=-0.0013, grad=0.0000)], [Var(v=-0.0055, grad=0.0000)], [Var(v=-0.0026, grad=0.0000)], [Var(v=-0.0072, grad=0.0000)], [Var(v=-0.0034, grad=0.0000)], [Var(v=-0.0058, grad=0.0000)], [Var(v=-0.0039, grad=0.0000)], [Var(v=-0.0031, grad=0.0000)], [Var(v=-0.0060, grad=0.0000)], [Var(v=-0.0111, grad=0.0000)], [Var(v=-0.0053, grad=0.0000)], [Var(v=-0.0006, grad=0.0000)], [Var(v=-0.0018, grad=0.0000)], [Var(v=-0.0026, grad=0.0000)], [Var(v=-0.0011, grad=0.0000)], [Var(v=-0.0081, grad=0.0000)], [Var(v=-0.0082, grad=0.0000)], [Var(v=-0.0015, grad=0.0000)], [Var(v=-0.0040, grad=0.0000)], [Var(v=-0.0105, grad=0.0000)], [Var(v=-0.0116, grad=0.0000)], [Var(v=-0.0012, grad=0.0000)], [Var(v=-0.0073, grad=0.0000)], [Var(v=-0.0050, grad=0.0000)], [Var(v=-0.0018, grad=0.0000)], [Var(v=-0.0044, grad=0.0000)], [Var(v=-0.0048, grad=0.0000)], [Var(v=-0.0056, grad=0.0000)], [Var(v=-0.0009, grad=0.0000)], [Var(v=-0.0054, grad=0.0000)], [Var(v=-0.0021, grad=0.0000)], [Var(v=-0.0039, grad=0.0000)], [Var(v=-0.0028, grad=0.0000)], [Var(v=-0.0019, grad=0.0000)], [Var(v=-0.0026, grad=0.0000)], [Var(v=-0.0109, grad=0.0000)], [Var(v=-0.0033, grad=0.0000)], [Var(v=-0.0026, grad=0.0000)], [Var(v=-0.0032, grad=0.0000)], [Var(v=-0.0070, grad=0.0000)], [Var(v=-0.0066, grad=0.0000)], [Var(v=-0.0012, grad=0.0000)], [Var(v=-0.0068, grad=0.0000)], [Var(v=-0.0030, grad=0.0000)], [Var(v=-0.0003, grad=0.0000)], [Var(v=-0.0074, grad=0.0000)], [Var(v=-0.0027, grad=0.0000)], [Var(v=-0.0117, grad=0.0000)], [Var(v=-0.0103, grad=0.0000)], [Var(v=-0.0018, grad=0.0000)], [Var(v=-0.0020, grad=0.0000)], [Var(v=-0.0039, grad=0.0000)], [Var(v=-0.0047, grad=0.0000)], [Var(v=-0.0069, grad=0.0000)], [Var(v=-0.0033, grad=0.0000)], [Var(v=-0.0055, grad=0.0000)], [Var(v=-0.0033, grad=0.0000)], [Var(v=-0.0024, grad=0.0000)], [Var(v=-0.0045, grad=0.0000)], [Var(v=-0.0048, grad=0.0000)], [Var(v=-0.0087, grad=0.0000)], [Var(v=-0.0034, grad=0.0000)], [Var(v=-0.0034, grad=0.0000)], [Var(v=-0.0013, grad=0.0000)], [Var(v=-0.0006, grad=0.0000)], [Var(v=-0.0067, grad=0.0000)], [Var(v=-0.0039, grad=0.0000)], [Var(v=-0.0005, grad=0.0000)], [Var(v=-0.0106, grad=0.0000)], [Var(v=-0.0024, grad=0.0000)], [Var(v=-0.0023, grad=0.0000)], [Var(v=-0.0030, grad=0.0000)], [Var(v=-0.0111, grad=0.0000)], [Var(v=-0.0017, grad=0.0000)], [Var(v=-0.0010, grad=0.0000)], [Var(v=-0.0050, grad=0.0000)], [Var(v=-0.0007, grad=0.0000)], [Var(v=-0.0025, grad=0.0000)], [Var(v=-0.0011, grad=0.0000)], [Var(v=-0.0009, grad=0.0000)], [Var(v=-0.0028, grad=0.0000)], [Var(v=-0.0051, grad=0.0000)], [Var(v=-0.0053, grad=0.0000)], [Var(v=-0.0040, grad=0.0000)], [Var(v=-0.0016, grad=0.0000)], [Var(v=-0.0030, grad=0.0000)], [Var(v=-0.0063, grad=0.0000)], [Var(v=-0.0042, grad=0.0000)], [Var(v=-0.0051, grad=0.0000)], [Var(v=-0.0029, grad=0.0000)], [Var(v=-0.0005, grad=0.0000)], [Var(v=-0.0100, grad=0.0000)], [Var(v=-0.0030, grad=0.0000)], [Var(v=-0.0066, grad=0.0000)], [Var(v=-0.0029, grad=0.0000)], [Var(v=-0.0045, grad=0.0000)], [Var(v=-0.0032, grad=0.0000)], [Var(v=-0.0093, grad=0.0000)]]\n"
     ]
    }
   ],
   "source": [
    "NN = [\n",
    "    DenseLayer(1, 5, lambda x: x.relu()),\n",
    "    DenseLayer(5, 1, lambda x: x.identity())\n",
    "]\n",
    "\n",
    "def forward(input, network):\n",
    "\n",
    "  def forward_single(x, network):\n",
    "    for layer in network:\n",
    "        x = layer.forward(x)\n",
    "    return x\n",
    "\n",
    "  output = [ forward_single(input[n], network) for n in range(len(input))]\n",
    "  return output\n",
    "\n",
    "print(forward(x_train, NN))\n"
   ]
  },
  {
   "attachments": {},
   "cell_type": "markdown",
   "metadata": {
    "id": "oLrGJytZFtGm"
   },
   "source": [
    "## Exercise h) Print all network parameters\n",
    "\n",
    "Make a function that prints all the parameters of the network (weights and biases) with information about in which layer the appear. In the object oriented spirit you should introduce a method in the DenseLayer class to print the parameters of a layer. Hint: You can take inspiration from the corresponding method in Var. "
   ]
  },
  {
   "cell_type": "code",
   "execution_count": 52,
   "metadata": {
    "id": "iac-VwYGFtGm"
   },
   "outputs": [
    {
     "name": "stdout",
     "output_type": "stream",
     "text": [
      "layer: 1 has weight dimensions: 1 x 5 and bias dimension 5 x 1 along with parameters\n",
      "weights: [[Var(v=0.0337, grad=0.0000), Var(v=-0.0367, grad=0.0000), Var(v=0.0003, grad=0.0000), Var(v=0.0086, grad=0.0000), Var(v=-0.0110, grad=0.0000)]]\n",
      "bias:[Var(v=0.0000, grad=0.0000), Var(v=0.0000, grad=0.0000), Var(v=0.0000, grad=0.0000), Var(v=0.0000, grad=0.0000), Var(v=0.0000, grad=0.0000)])\n",
      "\n",
      "layer: 2 has weight dimensions: 5 x 1 and bias dimension 1 x 1 along with parameters\n",
      "weights: [[Var(v=-0.1900, grad=0.0000)], [Var(v=-0.1018, grad=0.0000)], [Var(v=-0.1210, grad=0.0000)], [Var(v=-0.0048, grad=0.0000)], [Var(v=0.0191, grad=0.0000)]]\n",
      "bias:[Var(v=0.0000, grad=0.0000)])\n",
      "\n"
     ]
    }
   ],
   "source": [
    "# Insert code here and in the DenseLayer class\n",
    "for i, layer in enumerate(NN):\n",
    "    print(f'layer: {i+1} has {layer}\\n')"
   ]
  },
  {
   "attachments": {},
   "cell_type": "markdown",
   "metadata": {
    "id": "_79HOAXrFtHK"
   },
   "source": [
    "## Visualization\n",
    "\n",
    "Now that we have defined our activation functions we can visualize them to see what they look like:"
   ]
  },
  {
   "cell_type": "code",
   "execution_count": 53,
   "metadata": {
    "id": "1FcylHqLTl-Z"
   },
   "outputs": [
    {
     "data": {
      "text/plain": [
       "[<matplotlib.lines.Line2D at 0x1f3d0f88700>]"
      ]
     },
     "execution_count": 53,
     "metadata": {},
     "output_type": "execute_result"
    },
    {
     "data": {
      "image/png": "[encoded data removed]",
      "text/plain": [
       "<Figure size 640x480 with 1 Axes>"
      ]
     },
     "metadata": {},
     "output_type": "display_data"
    }
   ],
   "source": [
    "x = np.linspace(-6, 6, 100)\n",
    "\n",
    "# convert from Var to ndarray  \n",
    "def Var_to_nparray(x):\n",
    "  y = np.zeros((len(x),len(x[0])))\n",
    "  for i in range(len(x)):\n",
    "    for j in range(len(x[0])):\n",
    "      y[i,j] = x[i][j].v\n",
    "  return y\n",
    "\n",
    "# define 1-1 network with weight = 1 and relu activation \n",
    "NN = [ DenseLayer(1, 1, lambda x: x.relu(), initializer = ConstantInitializer(1.0)) ] \n",
    "y = Var_to_nparray(forward(nparray_to_Var(x), NN))\n",
    "\n",
    "#y = Var_to_nparray(relu(nparray_to_Var(x)))\n",
    "plt.plot(x,y)"
   ]
  },
  {
   "cell_type": "code",
   "execution_count": 54,
   "metadata": {
    "id": "oOL2UolJFtHL"
   },
   "outputs": [
    {
     "data": {
      "image/png": "[encoded data removed]",
      "text/plain": [
       "<Figure size 500x500 with 1 Axes>"
      ]
     },
     "metadata": {},
     "output_type": "display_data"
    }
   ],
   "source": [
    "# Testing all activation layers\n",
    "\n",
    "x = np.linspace(-6, 6, 100)\n",
    "units = {\n",
    "    \"identity\": lambda x: x.identity(),\n",
    "    \"sigmoid\": lambda x: x.sigmoid(),\n",
    "    \"relu\": lambda x: x.relu(),\n",
    "    \"tanh\": lambda x: x.tanh()\n",
    "}\n",
    "\n",
    "plt.figure(figsize=(5, 5))\n",
    "[plt.plot(x, Var_to_nparray(forward(nparray_to_Var(x), [DenseLayer(1, 1, unit, initializer = ConstantInitializer(1.0))]) ), label=unit_name, lw=2) for unit_name, unit in units.items()] # unit(nparray_to_Var(x))), label=unit_name, lw=2) for unit_name, unit in units.items()]\n",
    "plt.legend(loc=2, fontsize=16)\n",
    "plt.title('Our activation functions', fontsize=20)\n",
    "plt.ylim([-2, 5])\n",
    "plt.xlim([-6, 6])\n",
    "plt.show()"
   ]
  },
  {
   "attachments": {},
   "cell_type": "markdown",
   "metadata": {
    "id": "b-jdEl-7FtGs"
   },
   "source": [
    "# Advanced initialization schemes\n",
    "\n",
    "If we are not careful with initialization, the signals we propagate forward ($a^{(l)}$, $l=1,\\ldots,L$) and backward ($\\delta^l$, $l=L,L-1,\\ldots,1$) can blow up or shrink to zero. A statistical analysis of the variance of the signals for different activation functions can be found in these two papers: [Glorot initialization](http://proceedings.mlr.press/v9/glorot10a/glorot10a.pdf) and [He initialization](https://arxiv.org/pdf/1502.01852v1.pdf). \n",
    "\n",
    "The result of the analyses are proposals for how to make the initialization such that the variance of the signals (forward and backward) are kept approxmimatly constant when propagating from layer to layer. The exact expressions depend upon the non-linear activation function used. In Glorot initialization, the aim is to keep both the forward and backward variances constant whereas He only aims at keeping the variance in the forward pass constant.\n",
    "\n",
    "We define $n_{in}$ and $n_{out}$ as the number of input units and output units of a particular layer. \n",
    "\n",
    "The Glorot initialization has the form: \n",
    "\n",
    "$$w_{ij} \\sim N \\bigg( 0, \\, \\frac{2 \\alpha }{n_{in} + n_{out}} \\bigg) \\ . $$\n",
    "\n",
    "where $N(\\mu,\\sigma^2)$ is a Gaussian distribution with mean $\\mu$ and variance $\\sigma^2$ and $\\alpha$ is a parameter that depends upon the activation function used. For $\\tanh$, $\\alpha=1$ and for Rectified Linear Unit (ReLU) activations, $\\alpha=2$. (It is also possible to use a uniform distribution for initialization, see [this blog post](https://mmuratarat.github.io/2019-02-25/xavier-glorot-he-weight-init).) \n",
    "\n",
    "The He initialization is very similar\n",
    "\n",
    "$$w_{ij} \\sim N \\bigg( 0, \\, \\frac{\\alpha}{n_{in}} \\bigg) \\ . $$"
   ]
  },
  {
   "attachments": {},
   "cell_type": "markdown",
   "metadata": {
    "id": "mqeyab9qFtGs"
   },
   "source": [
    "## Exercise i) Glorot and He initialization\n",
    " \n",
    "Using the Initializer class, implement functions that implement Glorot and He \n",
    "\n",
    "Explain briefly how you would test numerically that these initializations have the sought after property. Hint: See plots in Glorot paper.\n",
    "\n",
    "Comment: If you want to be more advanced then try to make a universal initializer taking both the activation function and type (Glorot or He) as argument."
   ]
  },
  {
   "cell_type": "code",
   "execution_count": 55,
   "metadata": {
    "id": "Qyk01CgaFtGt"
   },
   "outputs": [],
   "source": [
    "## Glorot\n",
    "def DenseLayer_Glorot_tanh(n_in: int, n_out: int):\n",
    "  std = math.sqrt(1/(n_in + n_out)) # take sqrt because above formula is variannce\n",
    "  return DenseLayer(n_in, n_out, lambda x: x.tanh(), initializer = NormalInitializer(std))\n",
    "\n",
    "## He\n",
    "def DenseLayer_He_relu(n_in: int, n_out: int):\n",
    "  std = math.sqrt(2 / n_in) \n",
    "  return DenseLayer(n_in, n_out, lambda x: x.relu(), initializer = NormalInitializer(std))"
   ]
  },
  {
   "attachments": {},
   "cell_type": "markdown",
   "metadata": {
    "id": "-XyXBD37FtHk"
   },
   "source": [
    "## Exercise j) Forward pass unit test\n",
    "\n",
    "Write a bit of code to make a unit test that the forward pass works. This can be done by defining a simple network with for example all weights equal to one (using the ConstantInitializer method) and identity activation functions. \n",
    "\n",
    "Hints: Use the [assert](https://www.w3schools.com/python/ref_keyword_assert.asp), the nparray_to_Var and the Var_to_nparray commands. "
   ]
  },
  {
   "cell_type": "code",
   "execution_count": 57,
   "metadata": {
    "id": "k0miqRUAFtHl"
   },
   "outputs": [
    {
     "name": "stdout",
     "output_type": "stream",
     "text": [
      "The model behaves as expected and output was:\n",
      " [20. 40. 60. 80.]\n"
     ]
    }
   ],
   "source": [
    "dataset_np = np.array([1, 2, 3, 4])\n",
    "dataset_var = nparray_to_Var(dataset_np)\n",
    "\n",
    "\n",
    "hidden_dim = 5\n",
    "const_init = 2.0\n",
    "\n",
    "Net = [DenseLayer(1, hidden_dim, lambda x: x.identity(), initializer = ConstantInitializer(const_init)),\n",
    "       DenseLayer(hidden_dim, 1, lambda x: x.identity(), initializer = ConstantInitializer(const_init))]\n",
    "\n",
    "y_true = np.array([[e * hidden_dim * const_init**2 for e in dataset_np]]).T\n",
    "\n",
    "out = Var_to_nparray(forward(dataset_var, Net))\n",
    "\n",
    "assert all(out == y_true), 'Error detected in forward pass. The actual output does not correspond to the expected output!'\n",
    "print(f\"The model behaves as expected and output was:\\n {out.squeeze()}\")"
   ]
  },
  {
   "attachments": {},
   "cell_type": "markdown",
   "metadata": {
    "id": "faCxhfFnFtHp"
   },
   "source": [
    "# Loss functions\n",
    "\n",
    "We are only missing a loss function to we need to define a loss function and its derivative with respect to the output of the neural network $y$"
   ]
  },
  {
   "cell_type": "code",
   "execution_count": 58,
   "metadata": {
    "id": "I2eDYKvAFtHq"
   },
   "outputs": [],
   "source": [
    "def squared_loss(t, y):\n",
    "  \n",
    "  # add check that sizes agree\n",
    "  assert len(t) == len(y), f'The shape of target {len(t)} does not match the shape of predictions {len(y)}'\n",
    "  \n",
    "  def squared_loss_single(t, y):\n",
    "    Loss = Var(0.0)\n",
    "    for i in range(len(t)): # sum over outputs\n",
    "      Loss += (t[i]-y[i]) ** 2\n",
    "    return Loss\n",
    "\n",
    "  Loss = Var(0.0)\n",
    "  for n in range(len(t)): # sum over training data\n",
    "    Loss += squared_loss_single(t[n], y[n])\n",
    "  return Loss\n"
   ]
  },
  {
   "attachments": {},
   "cell_type": "markdown",
   "metadata": {
    "id": "SrwSJ2UWFtHu"
   },
   "source": [
    "## Exercise k) Implement cross entropy loss\n",
    "\n",
    "Insert code below to implement cross-entropy loss for general dimensionality of $t$. Use a logits formulation:\n",
    "$$\n",
    "\\rm{Loss} = - \\sum_i t_i \\, log \\, p_i \n",
    "$$\n",
    "with $p$ given by the the softmax function in terms of the logits $h$:\n",
    "$$\n",
    "p_i = \\frac{\\exp(h_i)}{\\sum_{i'} \\exp(h_{i'})} .\n",
    "$$\n",
    "Inserting $p$ in the expression for the loss gives\n",
    "$$\n",
    "\\rm{Loss} = - \\sum_i t_i h_i + \\rm{LogSumExp}(h) \\ ,\n",
    "$$\n",
    "where \n",
    "$$\n",
    "\\rm{LogSumExp}(h) = \\log \\sum_i \\exp h_i \\ .\n",
    "$$\n",
    "This is true for $t$ being a one-hot vector. \n",
    "\n",
    "Call the function to convince yourself it works. \n",
    "\n",
    "In practice you want to implement a [numerically stable](https://leimao.github.io/blog/LogSumExp/) version of LogSumExp. But we will not bother about that here.\n",
    "\n",
    "Help: You can add these methods in the Var class:\n",
    "\n",
    "    def exp(self):\n",
    "        return Var(exp(self.v), lambda: [(self, exp(self.v))])\n",
    "    \n",
    "    def log(self):\n",
    "        return Var(log(self.v), lambda: [(self, self.v ** -1)])"
   ]
  },
  {
   "cell_type": "code",
   "execution_count": 59,
   "metadata": {
    "id": "6nMuxyfzFtHv"
   },
   "outputs": [
    {
     "data": {
      "text/plain": [
       "Var(v=-488.4133, grad=1.0000)"
      ]
     },
     "execution_count": 59,
     "metadata": {},
     "output_type": "execute_result"
    }
   ],
   "source": [
    "\"\"\"\n",
    "Extended Var class with log and exp methods above\n",
    "\"\"\"\n",
    "def cross_entropy_loss(t, h):\n",
    "    assert len(t) == len(h), 'Dimensionality mismatch between logits and target!'\n",
    "\n",
    "    def LogSumExp(h):\n",
    "        out = Var(0.0)\n",
    "        for h_i in h:\n",
    "            out += h_i[0].exp()\n",
    "        return out.log()\n",
    "\n",
    "    Loss = Var(0.0)\n",
    "        \n",
    "    for i in range(len(t)):\n",
    "        Loss += t[i][0]*h[i][0] + LogSumExp(h)\n",
    "    return -Loss\n",
    "\n",
    "NN = [DenseLayer(1, 8, lambda x : x.relu()),\n",
    "      DenseLayer(8, 1, lambda x : x.identity())]\n",
    "\n",
    "ce_out = cross_entropy_loss(y_train, forward(x_train, NN))\n",
    "ce_out.backward()\n",
    "ce_out"
   ]
  },
  {
   "attachments": {},
   "cell_type": "markdown",
   "metadata": {
    "id": "8fAF5ew4FtHy"
   },
   "source": [
    "# Backward pass\n",
    "\n",
    "Now the magic happens! We get the calculation of the gradients for free. Just do:"
   ]
  },
  {
   "cell_type": "code",
   "execution_count": 60,
   "metadata": {
    "id": "iHyfPPI9Qqwu"
   },
   "outputs": [
    {
     "data": {
      "text/plain": [
       "Var(v=106.9328, grad=1.0000)"
      ]
     },
     "execution_count": 60,
     "metadata": {},
     "output_type": "execute_result"
    }
   ],
   "source": [
    "NN = [\n",
    "    DenseLayer(1, 5, lambda x: x.relu()),\n",
    "    DenseLayer(5, 1, lambda x: x.identity())\n",
    "]\n",
    "\n",
    "output = forward(x_train, NN)\n",
    "Loss = squared_loss(y_train,output)\n",
    "Loss.backward()\n",
    "Loss"
   ]
  },
  {
   "attachments": {},
   "cell_type": "markdown",
   "metadata": {
    "id": "49biIAYKQ1oG"
   },
   "source": [
    "and the gradients will be calculated:"
   ]
  },
  {
   "cell_type": "code",
   "execution_count": 63,
   "metadata": {
    "id": "_rGt1bq_Q7uk"
   },
   "outputs": [
    {
     "name": "stdout",
     "output_type": "stream",
     "text": [
      "Layer 0 \n",
      " weight dimensions: 1 x 5 and bias dimension 5 x 1 along with parameters\n",
      "weights: [[Var(v=0.0117, grad=-6.8272), Var(v=-0.1012, grad=4.8747), Var(v=0.2534, grad=11.2488), Var(v=0.0632, grad=-3.1446), Var(v=-0.0876, grad=1.2605)]]\n",
      "bias:[Var(v=0.0000, grad=-5.8617), Var(v=0.0000, grad=-4.4303), Var(v=0.0000, grad=9.6581), Var(v=0.0000, grad=-2.6999), Var(v=0.0000, grad=-1.1456)])\n",
      "Layer 1 \n",
      " weight dimensions: 5 x 1 and bias dimension 1 x 1 along with parameters\n",
      "weights: [[Var(v=0.0655, grad=-1.2198)], [Var(v=-0.0511, grad=9.6505)], [Var(v=-0.1078, grad=-26.4283)], [Var(v=0.0301, grad=-6.5884)], [Var(v=-0.0132, grad=8.3521)]]\n",
      "bias:[Var(v=0.0000, grad=-2.8697)])\n",
      " \n"
     ]
    }
   ],
   "source": [
    "[print('Layer', i, '\\n', NN[i]) for i in range(len(NN))]\n",
    "print(\" \")"
   ]
  },
  {
   "attachments": {},
   "cell_type": "markdown",
   "metadata": {
    "id": "D7d7qK0uFtH9"
   },
   "source": [
    "# Backward pass unit test\n",
    "\n",
    "Above we used finite differences to test that Nanograd is actually doing what it is supposed to do. We can in principle try the same for the neural network. But we will trust that the test above is enough."
   ]
  },
  {
   "attachments": {},
   "cell_type": "markdown",
   "metadata": {
    "id": "WgBi8GOSFtIN"
   },
   "source": [
    "# Training and validation\n",
    "\n",
    "We are ready to train some neural networks!\n",
    "\n",
    "We initialize again:"
   ]
  },
  {
   "cell_type": "code",
   "execution_count": 64,
   "metadata": {
    "id": "01ePmzBzRtdh"
   },
   "outputs": [],
   "source": [
    "NN = [\n",
    "    DenseLayer(1, 15, lambda x: x.relu()),\n",
    "    DenseLayer(15, 50, lambda x: x.relu()),\n",
    "    DenseLayer(50, 1, lambda x: x.identity())\n",
    "]\n",
    "\n",
    "output = forward(x_train, NN)\n",
    "\n",
    "Loss = squared_loss(y_train,output)\n",
    "Loss.backward()"
   ]
  },
  {
   "attachments": {},
   "cell_type": "markdown",
   "metadata": {
    "id": "10iRPiQ1ISHw"
   },
   "source": [
    "and make an update:\n",
    "\n",
    "We introduce a help function parameters to have a handle in all parameters in the network."
   ]
  },
  {
   "cell_type": "code",
   "execution_count": 65,
   "metadata": {
    "id": "dhAI7eyeznia"
   },
   "outputs": [
    {
     "name": "stdout",
     "output_type": "stream",
     "text": [
      "Network before update:\n",
      "Layer 0 \n",
      " weight dimensions: 1 x 15 and bias dimension 15 x 1 along with parameters\n",
      "weights: [[Var(v=-0.1839, grad=-2.7013), Var(v=0.0119, grad=-6.0400), Var(v=0.0403, grad=7.1835), Var(v=-0.0485, grad=-9.4011), Var(v=0.2803, grad=-1.3724), Var(v=-0.1103, grad=12.0722), Var(v=-0.1177, grad=-6.8460), Var(v=0.0927, grad=-1.7746), Var(v=0.1276, grad=-0.5651), Var(v=-0.0471, grad=1.5106), Var(v=-0.0226, grad=10.8214), Var(v=0.0878, grad=-6.7919), Var(v=-0.0564, grad=1.9323), Var(v=-0.0169, grad=-3.2202), Var(v=0.0625, grad=1.4490)]]\n",
      "bias:[Var(v=0.0000, grad=2.4554), Var(v=0.0000, grad=-5.1893), Var(v=0.0000, grad=6.1718), Var(v=0.0000, grad=8.5452), Var(v=0.0000, grad=-1.1791), Var(v=0.0000, grad=-10.9731), Var(v=0.0000, grad=6.2228), Var(v=0.0000, grad=-1.5246), Var(v=0.0000, grad=-0.4855), Var(v=0.0000, grad=-1.3731), Var(v=0.0000, grad=-9.8362), Var(v=0.0000, grad=-5.8353), Var(v=0.0000, grad=-1.7564), Var(v=0.0000, grad=2.9271), Var(v=0.0000, grad=1.2450)])\n",
      "Layer 1 \n",
      " weight dimensions: 15 x 50 and bias dimension 50 x 1 along with parameters\n",
      "weights: [[Var(v=-0.0052, grad=-0.1938), Var(v=-0.0594, grad=0.0000), Var(v=0.0624, grad=1.9667), Var(v=0.0203, grad=0.0000), Var(v=0.0147, grad=-6.0721), Var(v=0.0761, grad=-0.0002), Var(v=0.0502, grad=1.3397), Var(v=-0.0300, grad=0.2956), Var(v=-0.1009, grad=-0.6338), Var(v=-0.0910, grad=-2.2789), Var(v=0.0453, grad=1.9251), Var(v=0.0253, grad=0.4964), Var(v=0.1302, grad=-1.0349), Var(v=-0.0756, grad=0.0000), Var(v=0.0758, grad=0.4614), Var(v=0.0195, grad=0.0000), Var(v=0.1668, grad=0.3978), Var(v=-0.0723, grad=0.8085), Var(v=0.0322, grad=-0.5597), Var(v=0.0729, grad=0.0000), Var(v=0.0481, grad=2.1151), Var(v=-0.1575, grad=0.0000), Var(v=-0.1262, grad=0.0000), Var(v=0.1605, grad=0.6146), Var(v=-0.1792, grad=0.0000), Var(v=0.1406, grad=2.8309), Var(v=-0.0742, grad=0.0000), Var(v=-0.0555, grad=0.0000), Var(v=0.0381, grad=0.0000), Var(v=-0.0886, grad=-1.5077), Var(v=-0.0949, grad=1.1209), Var(v=-0.0049, grad=-1.0807), Var(v=-0.0211, grad=-1.6284), Var(v=0.0488, grad=0.0000), Var(v=0.0765, grad=0.0000), Var(v=0.0544, grad=1.8439), Var(v=0.0271, grad=-0.5433), Var(v=0.1027, grad=0.8326), Var(v=0.0793, grad=2.6301), Var(v=-0.0261, grad=-1.7610), Var(v=-0.0905, grad=0.0000), Var(v=-0.1223, grad=4.8182), Var(v=-0.0719, grad=0.0000), Var(v=0.0266, grad=-1.1768), Var(v=0.0580, grad=3.7094), Var(v=-0.0369, grad=-2.7061), Var(v=0.0894, grad=-3.8777), Var(v=-0.0982, grad=0.9511), Var(v=0.1832, grad=-1.1051), Var(v=-0.1023, grad=0.0000)], [Var(v=0.0814, grad=0.0000), Var(v=-0.0340, grad=0.0018), Var(v=0.1424, grad=0.0000), Var(v=0.1099, grad=-0.0211), Var(v=-0.0955, grad=0.4102), Var(v=0.3032, grad=0.0000), Var(v=0.2147, grad=0.0000), Var(v=0.0311, grad=0.0000), Var(v=0.0338, grad=0.0000), Var(v=0.0768, grad=0.0000), Var(v=0.0459, grad=-0.1300), Var(v=-0.0526, grad=0.0000), Var(v=-0.0389, grad=0.0699), Var(v=0.1715, grad=0.0572), Var(v=0.0424, grad=-0.0312), Var(v=-0.0538, grad=-0.0426), Var(v=-0.1309, grad=-0.0269), Var(v=0.1430, grad=0.0000), Var(v=0.0012, grad=0.0000), Var(v=0.0431, grad=-0.1870), Var(v=0.1205, grad=0.0000), Var(v=0.0519, grad=-0.0682), Var(v=0.0249, grad=-0.1582), Var(v=0.0139, grad=0.0000), Var(v=-0.1476, grad=0.0348), Var(v=-0.0594, grad=0.0000), Var(v=-0.0844, grad=0.0000), Var(v=-0.1381, grad=-0.1035), Var(v=-0.0698, grad=0.0029), Var(v=-0.1267, grad=0.0000), Var(v=0.0836, grad=-0.0757), Var(v=-0.0984, grad=0.0000), Var(v=0.0266, grad=0.0000), Var(v=0.0595, grad=0.0000), Var(v=-0.0036, grad=-0.0996), Var(v=0.0817, grad=0.0000), Var(v=-0.0023, grad=0.0367), Var(v=-0.0829, grad=0.0000), Var(v=0.0422, grad=-0.1777), Var(v=0.0391, grad=0.0000), Var(v=-0.0609, grad=0.0284), Var(v=0.1051, grad=0.0000), Var(v=0.1439, grad=0.0050), Var(v=-0.1146, grad=0.0795), Var(v=0.1543, grad=-0.2506), Var(v=0.1209, grad=0.0000), Var(v=0.1041, grad=0.2619), Var(v=-0.0862, grad=0.0000), Var(v=0.0794, grad=0.0747), Var(v=0.1122, grad=0.0000)], [Var(v=-0.0528, grad=0.0000), Var(v=-0.2610, grad=0.0062), Var(v=0.1385, grad=0.0000), Var(v=0.3402, grad=-0.0719), Var(v=-0.0487, grad=1.3940), Var(v=0.2727, grad=0.0000), Var(v=-0.0802, grad=0.0000), Var(v=0.0888, grad=0.0000), Var(v=-0.0796, grad=0.0000), Var(v=0.0358, grad=0.0000), Var(v=0.0079, grad=-0.4420), Var(v=-0.0419, grad=0.0000), Var(v=-0.0968, grad=0.2376), Var(v=0.1148, grad=0.1943), Var(v=-0.1137, grad=-0.1059), Var(v=-0.0812, grad=-0.1449), Var(v=-0.0931, grad=-0.0913), Var(v=0.0956, grad=0.0000), Var(v=0.1793, grad=0.0000), Var(v=0.0025, grad=-0.6355), Var(v=0.1392, grad=0.0000), Var(v=-0.3109, grad=-0.2318), Var(v=-0.1147, grad=-0.5377), Var(v=0.0566, grad=0.0000), Var(v=-0.0236, grad=0.1182), Var(v=-0.0593, grad=0.0000), Var(v=0.0907, grad=0.0000), Var(v=-0.0248, grad=-0.3518), Var(v=0.1129, grad=0.0098), Var(v=0.0024, grad=0.0000), Var(v=-0.1294, grad=-0.2573), Var(v=-0.0523, grad=0.0000), Var(v=-0.0183, grad=0.0000), Var(v=-0.0136, grad=0.0000), Var(v=-0.1673, grad=-0.3387), Var(v=-0.1662, grad=0.0000), Var(v=0.0503, grad=0.1247), Var(v=-0.1368, grad=0.0000), Var(v=-0.1595, grad=-0.6038), Var(v=-0.0438, grad=0.0000), Var(v=-0.1000, grad=0.0967), Var(v=-0.0093, grad=0.0000), Var(v=0.0410, grad=0.0170), Var(v=-0.0430, grad=0.2702), Var(v=-0.0450, grad=-0.8516), Var(v=0.0037, grad=0.0000), Var(v=0.0284, grad=0.8903), Var(v=-0.0293, grad=0.0000), Var(v=-0.0761, grad=0.2537), Var(v=-0.1655, grad=0.0000)], [Var(v=0.0724, grad=-0.0511), Var(v=-0.0143, grad=0.0000), Var(v=0.1284, grad=0.5191), Var(v=-0.1531, grad=0.0000), Var(v=-0.0863, grad=-1.6027), Var(v=-0.1401, grad=-0.0001), Var(v=-0.0449, grad=0.3536), Var(v=0.1328, grad=0.0780), Var(v=0.0820, grad=-0.1673), Var(v=-0.0473, grad=-0.6015), Var(v=0.1990, grad=0.5081), Var(v=0.1329, grad=0.1310), Var(v=-0.1216, grad=-0.2732), Var(v=0.0124, grad=0.0000), Var(v=-0.1082, grad=0.1218), Var(v=-0.0393, grad=0.0000), Var(v=0.0073, grad=0.1050), Var(v=-0.0076, grad=0.2134), Var(v=-0.0269, grad=-0.1477), Var(v=-0.0883, grad=0.0000), Var(v=0.0048, grad=0.5583), Var(v=0.0081, grad=0.0000), Var(v=-0.0958, grad=0.0000), Var(v=0.2901, grad=0.1622), Var(v=0.0693, grad=0.0000), Var(v=0.0978, grad=0.7472), Var(v=-0.0159, grad=0.0000), Var(v=0.0390, grad=0.0000), Var(v=-0.0741, grad=0.0000), Var(v=-0.0018, grad=-0.3979), Var(v=0.0750, grad=0.2958), Var(v=-0.2039, grad=-0.2852), Var(v=-0.0550, grad=-0.4298), Var(v=0.1103, grad=0.0000), Var(v=0.0427, grad=0.0000), Var(v=0.0996, grad=0.4867), Var(v=-0.0992, grad=-0.1434), Var(v=-0.1115, grad=0.2197), Var(v=0.0495, grad=0.6942), Var(v=-0.0317, grad=-0.4648), Var(v=0.0693, grad=0.0000), Var(v=-0.0783, grad=1.2717), Var(v=0.0672, grad=0.0000), Var(v=-0.0413, grad=-0.3106), Var(v=-0.1982, grad=0.9791), Var(v=0.0464, grad=-0.7142), Var(v=-0.1253, grad=-1.0235), Var(v=-0.0054, grad=0.2510), Var(v=0.0817, grad=-0.2917), Var(v=-0.0158, grad=0.0000)], [Var(v=-0.0116, grad=0.0000), Var(v=-0.0517, grad=0.0434), Var(v=-0.0371, grad=0.0000), Var(v=0.2507, grad=-0.4998), Var(v=-0.0501, grad=9.6926), Var(v=0.1766, grad=0.0003), Var(v=-0.0313, grad=0.0000), Var(v=0.0045, grad=0.0000), Var(v=0.1103, grad=0.0000), Var(v=-0.0001, grad=0.0000), Var(v=0.0000, grad=-3.0730), Var(v=0.0071, grad=0.0000), Var(v=-0.0314, grad=1.6520), Var(v=0.1992, grad=1.3510), Var(v=0.2823, grad=-0.7365), Var(v=0.2028, grad=-1.0074), Var(v=0.1498, grad=-0.6349), Var(v=-0.0390, grad=0.0000), Var(v=-0.0555, grad=0.0000), Var(v=0.1122, grad=-4.4184), Var(v=0.0280, grad=0.0000), Var(v=0.0367, grad=-1.6114), Var(v=0.0977, grad=-3.7385), Var(v=-0.0108, grad=0.0000), Var(v=0.0333, grad=0.8218), Var(v=-0.1248, grad=0.0000), Var(v=-0.0041, grad=0.0000), Var(v=0.0041, grad=-2.4462), Var(v=-0.0023, grad=0.0680), Var(v=0.1166, grad=0.0000), Var(v=-0.0194, grad=-1.7892), Var(v=-0.0925, grad=0.0000), Var(v=-0.1382, grad=0.0000), Var(v=0.0131, grad=0.0000), Var(v=-0.0119, grad=-2.3548), Var(v=-0.2181, grad=0.0000), Var(v=0.1007, grad=0.8673), Var(v=-0.1816, grad=0.0000), Var(v=0.0183, grad=-4.1983), Var(v=-0.1460, grad=0.0000), Var(v=0.0545, grad=0.6721), Var(v=-0.1319, grad=0.0000), Var(v=0.0371, grad=0.1179), Var(v=0.0736, grad=1.8784), Var(v=0.0081, grad=-5.9211), Var(v=0.0762, grad=0.0000), Var(v=0.1503, grad=6.1898), Var(v=0.0384, grad=0.0000), Var(v=0.1628, grad=1.7641), Var(v=0.0029, grad=0.0000)], [Var(v=0.0828, grad=-0.1163), Var(v=0.0847, grad=0.0000), Var(v=-0.0359, grad=1.1801), Var(v=0.0269, grad=0.0000), Var(v=0.0547, grad=-3.6436), Var(v=0.0743, grad=-0.0001), Var(v=0.0206, grad=0.8039), Var(v=-0.0063, grad=0.1774), Var(v=0.1149, grad=-0.3803), Var(v=0.2255, grad=-1.3674), Var(v=-0.1073, grad=1.1552), Var(v=-0.0073, grad=0.2978), Var(v=0.0414, grad=-0.6210), Var(v=-0.0005, grad=0.0000), Var(v=-0.0135, grad=0.2769), Var(v=-0.1062, grad=0.0000), Var(v=0.0060, grad=0.2387), Var(v=0.2259, grad=0.4851), Var(v=0.0772, grad=-0.3358), Var(v=-0.1021, grad=0.0000), Var(v=0.0215, grad=1.2692), Var(v=-0.0850, grad=0.0000), Var(v=-0.0361, grad=0.0000), Var(v=-0.0973, grad=0.3688), Var(v=-0.1620, grad=0.0000), Var(v=-0.0404, grad=1.6987), Var(v=-0.0114, grad=0.0000), Var(v=-0.0427, grad=0.0000), Var(v=-0.1326, grad=0.0000), Var(v=-0.0070, grad=-0.9047), Var(v=0.0808, grad=0.6726), Var(v=0.1084, grad=-0.6485), Var(v=0.0518, grad=-0.9771), Var(v=-0.2112, grad=0.0000), Var(v=-0.1566, grad=0.0000), Var(v=0.1728, grad=1.1065), Var(v=0.1641, grad=-0.3260), Var(v=-0.0260, grad=0.4996), Var(v=-0.0140, grad=1.5782), Var(v=0.0988, grad=-1.0567), Var(v=-0.0190, grad=0.0000), Var(v=0.0448, grad=2.8912), Var(v=-0.0312, grad=0.0000), Var(v=-0.0283, grad=-0.7061), Var(v=-0.0077, grad=2.2259), Var(v=0.1410, grad=-1.6238), Var(v=0.2043, grad=-2.3269), Var(v=0.0646, grad=0.5707), Var(v=-0.0012, grad=-0.6632), Var(v=0.0800, grad=0.0000)], [Var(v=0.0397, grad=-0.1240), Var(v=0.0023, grad=0.0000), Var(v=0.0085, grad=1.2587), Var(v=-0.1213, grad=0.0000), Var(v=-0.2111, grad=-3.8862), Var(v=-0.1119, grad=-0.0001), Var(v=-0.0336, grad=0.8574), Var(v=0.0421, grad=0.1892), Var(v=0.1290, grad=-0.4057), Var(v=0.1026, grad=-1.4585), Var(v=0.2411, grad=1.2321), Var(v=0.0966, grad=0.3177), Var(v=0.0335, grad=-0.6624), Var(v=0.0089, grad=0.0000), Var(v=-0.0098, grad=0.2953), Var(v=-0.1764, grad=0.0000), Var(v=-0.1506, grad=0.2546), Var(v=0.1071, grad=0.5174), Var(v=0.1442, grad=-0.3582), Var(v=0.0746, grad=0.0000), Var(v=-0.0538, grad=1.3536), Var(v=0.1265, grad=0.0000), Var(v=0.1529, grad=0.0000), Var(v=-0.0624, grad=0.3934), Var(v=0.1214, grad=0.0000), Var(v=0.1036, grad=1.8118), Var(v=-0.1311, grad=0.0000), Var(v=0.0063, grad=0.0000), Var(v=-0.1471, grad=0.0000), Var(v=0.1509, grad=-0.9649), Var(v=0.0618, grad=0.7174), Var(v=0.1938, grad=-0.6917), Var(v=0.2724, grad=-1.0422), Var(v=-0.2123, grad=0.0000), Var(v=-0.0389, grad=0.0000), Var(v=-0.0777, grad=1.1801), Var(v=0.0337, grad=-0.3477), Var(v=-0.0736, grad=0.5328), Var(v=0.0428, grad=1.6833), Var(v=0.0179, grad=-1.1270), Var(v=0.0031, grad=0.0000), Var(v=0.0934, grad=3.0836), Var(v=0.0196, grad=0.0000), Var(v=0.1012, grad=-0.7531), Var(v=0.0342, grad=2.3740), Var(v=0.0283, grad=-1.7319), Var(v=-0.0574, grad=-2.4817), Var(v=0.1138, grad=0.6087), Var(v=0.0032, grad=-0.7073), Var(v=-0.0921, grad=0.0000)], [Var(v=0.0745, grad=0.0000), Var(v=0.0329, grad=0.0143), Var(v=0.0790, grad=0.0000), Var(v=0.1103, grad=-0.1652), Var(v=0.0733, grad=3.2041), Var(v=0.0119, grad=0.0001), Var(v=-0.0161, grad=0.0000), Var(v=-0.0896, grad=0.0000), Var(v=-0.1152, grad=0.0000), Var(v=-0.0560, grad=0.0000), Var(v=-0.0766, grad=-1.0158), Var(v=-0.1097, grad=0.0000), Var(v=0.1308, grad=0.5461), Var(v=-0.1286, grad=0.4466), Var(v=-0.0011, grad=-0.2435), Var(v=-0.0475, grad=-0.3330), Var(v=-0.0656, grad=-0.2099), Var(v=-0.1766, grad=0.0000), Var(v=-0.1483, grad=0.0000), Var(v=0.0994, grad=-1.4606), Var(v=-0.0722, grad=0.0000), Var(v=0.1796, grad=-0.5327), Var(v=-0.0178, grad=-1.2359), Var(v=-0.1106, grad=0.0000), Var(v=-0.0822, grad=0.2717), Var(v=0.0445, grad=0.0000), Var(v=-0.0112, grad=0.0000), Var(v=0.2290, grad=-0.8087), Var(v=0.0317, grad=0.0225), Var(v=-0.0785, grad=0.0000), Var(v=-0.0391, grad=-0.5915), Var(v=0.0759, grad=0.0000), Var(v=0.0918, grad=0.0000), Var(v=-0.0317, grad=0.0000), Var(v=0.0787, grad=-0.7784), Var(v=0.1480, grad=0.0000), Var(v=-0.0291, grad=0.2867), Var(v=0.1800, grad=0.0000), Var(v=0.0278, grad=-1.3879), Var(v=0.0760, grad=0.0000), Var(v=-0.0615, grad=0.2222), Var(v=-0.2397, grad=0.0000), Var(v=0.1012, grad=0.0390), Var(v=-0.0509, grad=0.6210), Var(v=0.0345, grad=-1.9574), Var(v=-0.0339, grad=0.0000), Var(v=0.0405, grad=2.0462), Var(v=0.1162, grad=0.0000), Var(v=0.0577, grad=0.5832), Var(v=0.0047, grad=0.0000)], [Var(v=-0.0652, grad=0.0000), Var(v=0.2017, grad=0.0198), Var(v=-0.0134, grad=0.0000), Var(v=0.0588, grad=-0.2276), Var(v=0.1212, grad=4.4136), Var(v=-0.0782, grad=0.0001), Var(v=0.0196, grad=0.0000), Var(v=-0.0448, grad=0.0000), Var(v=-0.0793, grad=0.0000), Var(v=0.0096, grad=0.0000), Var(v=-0.0247, grad=-1.3993), Var(v=-0.0690, grad=0.0000), Var(v=0.0099, grad=0.7522), Var(v=0.1141, grad=0.6152), Var(v=0.0465, grad=-0.3354), Var(v=-0.0048, grad=-0.4587), Var(v=0.0378, grad=-0.2891), Var(v=-0.0451, grad=0.0000), Var(v=0.0429, grad=0.0000), Var(v=0.0159, grad=-2.0119), Var(v=-0.1252, grad=0.0000), Var(v=0.1616, grad=-0.7338), Var(v=-0.0930, grad=-1.7024), Var(v=-0.0491, grad=0.0000), Var(v=0.0933, grad=0.3742), Var(v=0.1024, grad=0.0000), Var(v=0.0126, grad=0.0000), Var(v=0.0736, grad=-1.1139), Var(v=0.0244, grad=0.0310), Var(v=-0.1772, grad=0.0000), Var(v=0.0905, grad=-0.8147), Var(v=-0.0046, grad=0.0000), Var(v=0.0264, grad=0.0000), Var(v=-0.0742, grad=0.0000), Var(v=0.0443, grad=-1.0723), Var(v=-0.0747, grad=0.0000), Var(v=0.1371, grad=0.3949), Var(v=0.0952, grad=0.0000), Var(v=-0.0123, grad=-1.9117), Var(v=-0.0743, grad=0.0000), Var(v=-0.0652, grad=0.3060), Var(v=-0.0275, grad=0.0000), Var(v=0.0165, grad=0.0537), Var(v=0.0140, grad=0.8553), Var(v=0.1157, grad=-2.6962), Var(v=-0.0094, grad=0.0000), Var(v=-0.1118, grad=2.8185), Var(v=-0.0425, grad=0.0000), Var(v=0.0381, grad=0.8033), Var(v=0.0275, grad=0.0000)], [Var(v=0.0384, grad=-0.0497), Var(v=-0.1054, grad=0.0000), Var(v=-0.0153, grad=0.5042), Var(v=0.0556, grad=0.0000), Var(v=0.2683, grad=-1.5567), Var(v=0.0971, grad=-0.0001), Var(v=0.0352, grad=0.3435), Var(v=-0.0122, grad=0.0758), Var(v=0.1124, grad=-0.1625), Var(v=0.1180, grad=-0.5842), Var(v=-0.0512, grad=0.4935), Var(v=0.1007, grad=0.1273), Var(v=-0.0593, grad=-0.2653), Var(v=0.0365, grad=0.0000), Var(v=0.0436, grad=0.1183), Var(v=0.0559, grad=0.0000), Var(v=0.0524, grad=0.1020), Var(v=-0.1319, grad=0.2073), Var(v=0.0034, grad=-0.1435), Var(v=-0.1650, grad=0.0000), Var(v=0.0245, grad=0.5422), Var(v=0.0059, grad=0.0000), Var(v=0.1633, grad=0.0000), Var(v=-0.0372, grad=0.1576), Var(v=-0.0916, grad=0.0000), Var(v=-0.0048, grad=0.7258), Var(v=-0.0743, grad=0.0000), Var(v=-0.0624, grad=0.0000), Var(v=0.0673, grad=0.0000), Var(v=-0.0842, grad=-0.3865), Var(v=0.0115, grad=0.2874), Var(v=-0.0099, grad=-0.2771), Var(v=-0.1911, grad=-0.4175), Var(v=-0.0263, grad=0.0000), Var(v=-0.0118, grad=0.0000), Var(v=0.1175, grad=0.4727), Var(v=-0.0885, grad=-0.1393), Var(v=-0.0626, grad=0.2134), Var(v=-0.1070, grad=0.6743), Var(v=0.0170, grad=-0.4515), Var(v=0.0556, grad=0.0000), Var(v=0.2480, grad=1.2352), Var(v=-0.0512, grad=0.0000), Var(v=-0.0536, grad=-0.3017), Var(v=0.0926, grad=0.9510), Var(v=0.0718, grad=-0.6938), Var(v=0.0497, grad=-0.9941), Var(v=0.1178, grad=0.2438), Var(v=-0.0328, grad=-0.2833), Var(v=-0.0293, grad=0.0000)], [Var(v=-0.2245, grad=-0.0238), Var(v=-0.2066, grad=0.0000), Var(v=-0.0389, grad=0.2417), Var(v=0.0551, grad=0.0000), Var(v=0.1753, grad=-0.7461), Var(v=0.0224, grad=-0.0000), Var(v=0.0049, grad=0.1646), Var(v=-0.0865, grad=0.0363), Var(v=-0.0382, grad=-0.0779), Var(v=0.0231, grad=-0.2800), Var(v=0.0320, grad=0.2366), Var(v=0.0620, grad=0.0610), Var(v=0.1391, grad=-0.1272), Var(v=-0.0451, grad=0.0000), Var(v=-0.0482, grad=0.0567), Var(v=0.1217, grad=0.0000), Var(v=-0.0769, grad=0.0489), Var(v=-0.0017, grad=0.0993), Var(v=-0.0696, grad=-0.0688), Var(v=0.0183, grad=0.0000), Var(v=-0.0600, grad=0.2599), Var(v=0.0094, grad=0.0000), Var(v=0.0100, grad=0.0000), Var(v=-0.0127, grad=0.0755), Var(v=0.0400, grad=0.0000), Var(v=-0.0040, grad=0.3479), Var(v=-0.1427, grad=0.0000), Var(v=-0.2074, grad=0.0000), Var(v=0.0361, grad=0.0000), Var(v=-0.0342, grad=-0.1853), Var(v=0.1020, grad=0.1377), Var(v=-0.1219, grad=-0.1328), Var(v=0.0412, grad=-0.2001), Var(v=-0.1239, grad=0.0000), Var(v=-0.1354, grad=0.0000), Var(v=-0.0906, grad=0.2266), Var(v=-0.1339, grad=-0.0668), Var(v=0.0737, grad=0.1023), Var(v=-0.1139, grad=0.3232), Var(v=0.0209, grad=-0.2164), Var(v=-0.1294, grad=0.0000), Var(v=0.0565, grad=0.5920), Var(v=0.1850, grad=0.0000), Var(v=0.0700, grad=-0.1446), Var(v=-0.0135, grad=0.4558), Var(v=0.1944, grad=-0.3325), Var(v=0.0102, grad=-0.4765), Var(v=-0.0618, grad=0.1169), Var(v=0.0078, grad=-0.1358), Var(v=0.1778, grad=0.0000)], [Var(v=-0.2422, grad=0.0000), Var(v=0.0984, grad=0.0136), Var(v=-0.1726, grad=0.0000), Var(v=-0.1356, grad=-0.1566), Var(v=-0.0387, grad=3.0366), Var(v=0.1057, grad=0.0001), Var(v=-0.1069, grad=0.0000), Var(v=0.0225, grad=0.0000), Var(v=-0.0471, grad=0.0000), Var(v=0.0602, grad=0.0000), Var(v=0.0980, grad=-0.9627), Var(v=-0.0843, grad=0.0000), Var(v=0.0035, grad=0.5176), Var(v=0.0497, grad=0.4232), Var(v=0.1674, grad=-0.2307), Var(v=0.0547, grad=-0.3156), Var(v=-0.0798, grad=-0.1989), Var(v=0.0160, grad=0.0000), Var(v=0.0021, grad=0.0000), Var(v=0.0379, grad=-1.3842), Var(v=0.0036, grad=0.0000), Var(v=-0.0456, grad=-0.5048), Var(v=0.0108, grad=-1.1712), Var(v=-0.0008, grad=0.0000), Var(v=0.1067, grad=0.2574), Var(v=0.0285, grad=0.0000), Var(v=-0.0949, grad=0.0000), Var(v=0.0359, grad=-0.7664), Var(v=-0.0081, grad=0.0213), Var(v=0.0152, grad=0.0000), Var(v=0.1061, grad=-0.5605), Var(v=-0.0556, grad=0.0000), Var(v=0.0418, grad=0.0000), Var(v=-0.0702, grad=0.0000), Var(v=0.1053, grad=-0.7377), Var(v=-0.1618, grad=0.0000), Var(v=-0.1341, grad=0.2717), Var(v=0.1884, grad=0.0000), Var(v=0.2495, grad=-1.3153), Var(v=0.0423, grad=0.0000), Var(v=0.0700, grad=0.2106), Var(v=-0.1283, grad=0.0000), Var(v=-0.0835, grad=0.0369), Var(v=-0.0913, grad=0.5885), Var(v=-0.0241, grad=-1.8550), Var(v=-0.2489, grad=0.0000), Var(v=0.0960, grad=1.9392), Var(v=-0.1764, grad=0.0000), Var(v=-0.0627, grad=0.5527), Var(v=-0.0199, grad=0.0000)], [Var(v=-0.0518, grad=-0.0595), Var(v=0.0385, grad=0.0000), Var(v=-0.0662, grad=0.6037), Var(v=-0.1288, grad=0.0000), Var(v=0.0531, grad=-1.8638), Var(v=-0.0365, grad=-0.0001), Var(v=-0.0001, grad=0.4112), Var(v=0.0529, grad=0.0907), Var(v=0.1997, grad=-0.1946), Var(v=-0.0033, grad=-0.6995), Var(v=0.0986, grad=0.5909), Var(v=0.0582, grad=0.1524), Var(v=-0.0401, grad=-0.3177), Var(v=-0.0557, grad=0.0000), Var(v=-0.0104, grad=0.1416), Var(v=0.0977, grad=0.0000), Var(v=-0.0321, grad=0.1221), Var(v=0.0207, grad=0.2482), Var(v=0.0987, grad=-0.1718), Var(v=-0.1143, grad=0.0000), Var(v=-0.1025, grad=0.6492), Var(v=-0.1324, grad=0.0000), Var(v=-0.0282, grad=0.0000), Var(v=0.2002, grad=0.1887), Var(v=0.0322, grad=0.0000), Var(v=0.0667, grad=0.8689), Var(v=-0.0752, grad=0.0000), Var(v=-0.0104, grad=0.0000), Var(v=-0.0721, grad=0.0000), Var(v=0.1107, grad=-0.4628), Var(v=0.0385, grad=0.3440), Var(v=0.0384, grad=-0.3317), Var(v=0.1783, grad=-0.4998), Var(v=0.0591, grad=0.0000), Var(v=0.0359, grad=0.0000), Var(v=-0.0275, grad=0.5660), Var(v=-0.0824, grad=-0.1668), Var(v=0.2409, grad=0.2555), Var(v=0.0154, grad=0.8073), Var(v=0.0568, grad=-0.5405), Var(v=0.1046, grad=0.0000), Var(v=0.0001, grad=1.4789), Var(v=-0.1073, grad=0.0000), Var(v=-0.0898, grad=-0.3612), Var(v=0.0960, grad=1.1386), Var(v=0.0946, grad=-0.8306), Var(v=-0.0237, grad=-1.1902), Var(v=-0.0136, grad=0.2919), Var(v=0.0661, grad=-0.3392), Var(v=0.0449, grad=0.0000)], [Var(v=0.0312, grad=-0.0178), Var(v=0.0684, grad=0.0000), Var(v=-0.0440, grad=0.1808), Var(v=-0.0056, grad=0.0000), Var(v=0.1030, grad=-0.5583), Var(v=0.0760, grad=-0.0000), Var(v=-0.0360, grad=0.1232), Var(v=0.0376, grad=0.0272), Var(v=0.0122, grad=-0.0583), Var(v=-0.0847, grad=-0.2095), Var(v=0.1283, grad=0.1770), Var(v=-0.0096, grad=0.0456), Var(v=0.0932, grad=-0.0952), Var(v=-0.2335, grad=0.0000), Var(v=0.0718, grad=0.0424), Var(v=0.0087, grad=0.0000), Var(v=-0.0823, grad=0.0366), Var(v=0.1158, grad=0.0743), Var(v=-0.0298, grad=-0.0515), Var(v=0.0006, grad=0.0000), Var(v=0.0714, grad=0.1945), Var(v=-0.0285, grad=0.0000), Var(v=0.0071, grad=0.0000), Var(v=-0.0544, grad=0.0565), Var(v=0.0599, grad=0.0000), Var(v=-0.0125, grad=0.2603), Var(v=-0.0322, grad=0.0000), Var(v=0.0400, grad=0.0000), Var(v=-0.1585, grad=0.0000), Var(v=0.0267, grad=-0.1386), Var(v=0.0935, grad=0.1031), Var(v=0.1653, grad=-0.0994), Var(v=-0.1127, grad=-0.1497), Var(v=0.1030, grad=0.0000), Var(v=-0.1147, grad=0.0000), Var(v=-0.0094, grad=0.1695), Var(v=-0.0228, grad=-0.0500), Var(v=0.0366, grad=0.0766), Var(v=-0.0849, grad=0.2418), Var(v=0.0309, grad=-0.1619), Var(v=-0.0738, grad=0.0000), Var(v=0.0459, grad=0.4430), Var(v=0.0890, grad=0.0000), Var(v=-0.0395, grad=-0.1082), Var(v=0.0087, grad=0.3411), Var(v=-0.0634, grad=-0.2488), Var(v=-0.1111, grad=-0.3566), Var(v=0.1351, grad=0.0875), Var(v=0.0224, grad=-0.1016), Var(v=-0.1046, grad=0.0000)], [Var(v=0.1502, grad=0.0000), Var(v=-0.0515, grad=0.0097), Var(v=-0.2444, grad=0.0000), Var(v=-0.0047, grad=-0.1115), Var(v=0.2172, grad=2.1629), Var(v=0.0694, grad=0.0001), Var(v=0.0369, grad=0.0000), Var(v=0.0065, grad=0.0000), Var(v=-0.0915, grad=0.0000), Var(v=-0.0646, grad=0.0000), Var(v=0.1374, grad=-0.6857), Var(v=-0.1776, grad=0.0000), Var(v=0.0185, grad=0.3686), Var(v=-0.1192, grad=0.3015), Var(v=0.0826, grad=-0.1644), Var(v=-0.0960, grad=-0.2248), Var(v=-0.0216, grad=-0.1417), Var(v=0.0608, grad=0.0000), Var(v=0.0264, grad=0.0000), Var(v=0.0708, grad=-0.9860), Var(v=0.0581, grad=0.0000), Var(v=-0.1197, grad=-0.3596), Var(v=-0.0176, grad=-0.8343), Var(v=-0.0455, grad=0.0000), Var(v=-0.0980, grad=0.1834), Var(v=0.1261, grad=0.0000), Var(v=0.0067, grad=0.0000), Var(v=-0.1786, grad=-0.5459), Var(v=0.0294, grad=0.0152), Var(v=-0.1091, grad=0.0000), Var(v=-0.1097, grad=-0.3993), Var(v=-0.1609, grad=0.0000), Var(v=-0.0913, grad=0.0000), Var(v=-0.0712, grad=0.0000), Var(v=0.1061, grad=-0.5255), Var(v=0.1530, grad=0.0000), Var(v=-0.0411, grad=0.1935), Var(v=0.0609, grad=0.0000), Var(v=-0.0944, grad=-0.9369), Var(v=0.0211, grad=0.0000), Var(v=0.0333, grad=0.1500), Var(v=0.0371, grad=0.0000), Var(v=0.0533, grad=0.0263), Var(v=-0.0218, grad=0.4192), Var(v=0.1967, grad=-1.3213), Var(v=-0.0613, grad=0.0000), Var(v=-0.0440, grad=1.3813), Var(v=-0.0266, grad=0.0000), Var(v=-0.2028, grad=0.3937), Var(v=-0.0565, grad=0.0000)]]\n",
      "bias:[Var(v=0.0000, grad=-0.9580), Var(v=0.0000, grad=0.1331), Var(v=0.0000, grad=9.7221), Var(v=0.0000, grad=-1.5319), Var(v=0.0000, grad=-0.3063), Var(v=0.0000, grad=-0.0000), Var(v=0.0000, grad=6.6227), Var(v=0.0000, grad=1.4614), Var(v=0.0000, grad=-3.1334), Var(v=0.0000, grad=-11.2653), Var(v=0.0000, grad=0.0971), Var(v=0.0000, grad=2.4537), Var(v=0.0000, grad=-0.0522), Var(v=0.0000, grad=4.1411), Var(v=0.0000, grad=0.0233), Var(v=0.0000, grad=-3.0880), Var(v=0.0000, grad=0.0201), Var(v=0.0000, grad=3.9967), Var(v=0.0000, grad=-2.7666), Var(v=0.0000, grad=-13.5438), Var(v=0.0000, grad=10.4556), Var(v=0.0000, grad=-4.9395), Var(v=0.0000, grad=-11.4598), Var(v=0.0000, grad=3.0383), Var(v=0.0000, grad=2.5189), Var(v=0.0000, grad=13.9943), Var(v=0.0000, grad=0.0000), Var(v=0.0000, grad=-7.4984), Var(v=0.0000, grad=0.2085), Var(v=0.0000, grad=-7.4529), Var(v=0.0000, grad=0.0565), Var(v=0.0000, grad=-5.3425), Var(v=0.0000, grad=-8.0498), Var(v=0.0000, grad=0.0000), Var(v=0.0000, grad=-7.2181), Var(v=0.0000, grad=9.1152), Var(v=0.0000, grad=-0.0274), Var(v=0.0000, grad=4.1157), Var(v=0.0000, grad=0.1327), Var(v=0.0000, grad=-8.7051), Var(v=0.0000, grad=2.0602), Var(v=0.0000, grad=23.8182), Var(v=0.0000, grad=0.3614), Var(v=0.0000, grad=-0.0594), Var(v=0.0000, grad=0.1871), Var(v=0.0000, grad=-13.3772), Var(v=0.0000, grad=-0.1956), Var(v=0.0000, grad=4.7016), Var(v=0.0000, grad=-0.0558), Var(v=0.0000, grad=0.0000)])\n",
      "Layer 2 \n",
      " weight dimensions: 50 x 1 and bias dimension 1 x 1 along with parameters\n",
      "weights: [[Var(v=-0.0110, grad=1.0292)], [Var(v=-0.0015, grad=-0.8838)], [Var(v=0.1113, grad=0.8316)], [Var(v=0.0177, grad=-9.1337)], [Var(v=-0.3437, grad=-1.4382)], [Var(v=-0.0000, grad=-6.2957)], [Var(v=0.0758, grad=0.6274)], [Var(v=0.0167, grad=0.6029)], [Var(v=-0.0359, grad=2.8054)], [Var(v=-0.1290, grad=2.1506)], [Var(v=0.1090, grad=3.1106)], [Var(v=0.0281, grad=2.9711)], [Var(v=-0.0586, grad=2.3481)], [Var(v=-0.0479, grad=-6.2419)], [Var(v=0.0261, grad=-9.4021)], [Var(v=0.0357, grad=-4.6998)], [Var(v=0.0225, grad=-1.6213)], [Var(v=0.0458, grad=1.9933)], [Var(v=-0.0317, grad=3.2436)], [Var(v=0.1567, grad=-5.1359)], [Var(v=0.1197, grad=0.0326)], [Var(v=0.0571, grad=-2.4289)], [Var(v=0.1326, grad=-0.9429)], [Var(v=0.0348, grad=3.2515)], [Var(v=-0.0291, grad=-1.4254)], [Var(v=0.1603, grad=3.9936)], [Var(v=0.0021, grad=0.0000)], [Var(v=0.0868, grad=-2.1239)], [Var(v=-0.0024, grad=-1.0310)], [Var(v=-0.0853, grad=0.2453)], [Var(v=0.0635, grad=0.7914)], [Var(v=-0.0612, grad=2.4693)], [Var(v=-0.0922, grad=3.0079)], [Var(v=-0.0156, grad=0.0000)], [Var(v=0.0835, grad=-1.8831)], [Var(v=0.1044, grad=2.5497)], [Var(v=-0.0308, grad=-2.1237)], [Var(v=0.0471, grad=1.4287)], [Var(v=0.1489, grad=-0.4497)], [Var(v=-0.0997, grad=1.1224)], [Var(v=-0.0238, grad=-0.4764)], [Var(v=0.2728, grad=0.3263)], [Var(v=-0.0042, grad=-2.1367)], [Var(v=-0.0666, grad=-0.0459)], [Var(v=0.2100, grad=-1.7314)], [Var(v=-0.1532, grad=2.5366)], [Var(v=-0.2195, grad=-1.5397)], [Var(v=0.0538, grad=0.7560)], [Var(v=-0.0626, grad=0.3312)], [Var(v=-0.0817, grad=0.0000)]]\n",
      "bias:[Var(v=0.0000, grad=0.8911)])\n",
      "\n",
      "Network after update:\n",
      "Layer 0 \n",
      " weight dimensions: 1 x 15 and bias dimension 15 x 1 along with parameters\n",
      "weights: [[Var(v=-0.1569, grad=-2.7013), Var(v=0.0723, grad=-6.0400), Var(v=-0.0315, grad=7.1835), Var(v=0.0455, grad=-9.4011), Var(v=0.2940, grad=-1.3724), Var(v=-0.2311, grad=12.0722), Var(v=-0.0492, grad=-6.8460), Var(v=0.1104, grad=-1.7746), Var(v=0.1333, grad=-0.5651), Var(v=-0.0622, grad=1.5106), Var(v=-0.1308, grad=10.8214), Var(v=0.1557, grad=-6.7919), Var(v=-0.0758, grad=1.9323), Var(v=0.0153, grad=-3.2202), Var(v=0.0481, grad=1.4490)]]\n",
      "bias:[Var(v=-0.0246, grad=2.4554), Var(v=0.0519, grad=-5.1893), Var(v=-0.0617, grad=6.1718), Var(v=-0.0855, grad=8.5452), Var(v=0.0118, grad=-1.1791), Var(v=0.1097, grad=-10.9731), Var(v=-0.0622, grad=6.2228), Var(v=0.0152, grad=-1.5246), Var(v=0.0049, grad=-0.4855), Var(v=0.0137, grad=-1.3731), Var(v=0.0984, grad=-9.8362), Var(v=0.0584, grad=-5.8353), Var(v=0.0176, grad=-1.7564), Var(v=-0.0293, grad=2.9271), Var(v=-0.0124, grad=1.2450)])\n",
      "Layer 1 \n",
      " weight dimensions: 15 x 50 and bias dimension 50 x 1 along with parameters\n",
      "weights: [[Var(v=-0.0032, grad=-0.1938), Var(v=-0.0594, grad=0.0000), Var(v=0.0427, grad=1.9667), Var(v=0.0203, grad=0.0000), Var(v=0.0754, grad=-6.0721), Var(v=0.0761, grad=-0.0002), Var(v=0.0368, grad=1.3397), Var(v=-0.0330, grad=0.2956), Var(v=-0.0945, grad=-0.6338), Var(v=-0.0682, grad=-2.2789), Var(v=0.0261, grad=1.9251), Var(v=0.0203, grad=0.4964), Var(v=0.1405, grad=-1.0349), Var(v=-0.0756, grad=0.0000), Var(v=0.0711, grad=0.4614), Var(v=0.0195, grad=0.0000), Var(v=0.1629, grad=0.3978), Var(v=-0.0803, grad=0.8085), Var(v=0.0378, grad=-0.5597), Var(v=0.0729, grad=0.0000), Var(v=0.0269, grad=2.1151), Var(v=-0.1575, grad=0.0000), Var(v=-0.1262, grad=0.0000), Var(v=0.1543, grad=0.6146), Var(v=-0.1792, grad=0.0000), Var(v=0.1123, grad=2.8309), Var(v=-0.0742, grad=0.0000), Var(v=-0.0555, grad=0.0000), Var(v=0.0381, grad=0.0000), Var(v=-0.0735, grad=-1.5077), Var(v=-0.1061, grad=1.1209), Var(v=0.0059, grad=-1.0807), Var(v=-0.0048, grad=-1.6284), Var(v=0.0488, grad=0.0000), Var(v=0.0765, grad=0.0000), Var(v=0.0359, grad=1.8439), Var(v=0.0325, grad=-0.5433), Var(v=0.0944, grad=0.8326), Var(v=0.0530, grad=2.6301), Var(v=-0.0085, grad=-1.7610), Var(v=-0.0905, grad=0.0000), Var(v=-0.1705, grad=4.8182), Var(v=-0.0719, grad=0.0000), Var(v=0.0384, grad=-1.1768), Var(v=0.0209, grad=3.7094), Var(v=-0.0098, grad=-2.7061), Var(v=0.1282, grad=-3.8777), Var(v=-0.1077, grad=0.9511), Var(v=0.1942, grad=-1.1051), Var(v=-0.1023, grad=0.0000)], [Var(v=0.0814, grad=0.0000), Var(v=-0.0341, grad=0.0018), Var(v=0.1424, grad=0.0000), Var(v=0.1101, grad=-0.0211), Var(v=-0.0996, grad=0.4102), Var(v=0.3032, grad=0.0000), Var(v=0.2147, grad=0.0000), Var(v=0.0311, grad=0.0000), Var(v=0.0338, grad=0.0000), Var(v=0.0768, grad=0.0000), Var(v=0.0472, grad=-0.1300), Var(v=-0.0526, grad=0.0000), Var(v=-0.0396, grad=0.0699), Var(v=0.1709, grad=0.0572), Var(v=0.0427, grad=-0.0312), Var(v=-0.0534, grad=-0.0426), Var(v=-0.1307, grad=-0.0269), Var(v=0.1430, grad=0.0000), Var(v=0.0012, grad=0.0000), Var(v=0.0449, grad=-0.1870), Var(v=0.1205, grad=0.0000), Var(v=0.0526, grad=-0.0682), Var(v=0.0265, grad=-0.1582), Var(v=0.0139, grad=0.0000), Var(v=-0.1479, grad=0.0348), Var(v=-0.0594, grad=0.0000), Var(v=-0.0844, grad=0.0000), Var(v=-0.1371, grad=-0.1035), Var(v=-0.0699, grad=0.0029), Var(v=-0.1267, grad=0.0000), Var(v=0.0843, grad=-0.0757), Var(v=-0.0984, grad=0.0000), Var(v=0.0266, grad=0.0000), Var(v=0.0595, grad=0.0000), Var(v=-0.0026, grad=-0.0996), Var(v=0.0817, grad=0.0000), Var(v=-0.0027, grad=0.0367), Var(v=-0.0829, grad=0.0000), Var(v=0.0440, grad=-0.1777), Var(v=0.0391, grad=0.0000), Var(v=-0.0612, grad=0.0284), Var(v=0.1051, grad=0.0000), Var(v=0.1438, grad=0.0050), Var(v=-0.1154, grad=0.0795), Var(v=0.1568, grad=-0.2506), Var(v=0.1209, grad=0.0000), Var(v=0.1015, grad=0.2619), Var(v=-0.0862, grad=0.0000), Var(v=0.0787, grad=0.0747), Var(v=0.1122, grad=0.0000)], [Var(v=-0.0528, grad=0.0000), Var(v=-0.2611, grad=0.0062), Var(v=0.1385, grad=0.0000), Var(v=0.3409, grad=-0.0719), Var(v=-0.0626, grad=1.3940), Var(v=0.2727, grad=0.0000), Var(v=-0.0802, grad=0.0000), Var(v=0.0888, grad=0.0000), Var(v=-0.0796, grad=0.0000), Var(v=0.0358, grad=0.0000), Var(v=0.0123, grad=-0.4420), Var(v=-0.0419, grad=0.0000), Var(v=-0.0992, grad=0.2376), Var(v=0.1129, grad=0.1943), Var(v=-0.1126, grad=-0.1059), Var(v=-0.0797, grad=-0.1449), Var(v=-0.0921, grad=-0.0913), Var(v=0.0956, grad=0.0000), Var(v=0.1793, grad=0.0000), Var(v=0.0089, grad=-0.6355), Var(v=0.1392, grad=0.0000), Var(v=-0.3085, grad=-0.2318), Var(v=-0.1094, grad=-0.5377), Var(v=0.0566, grad=0.0000), Var(v=-0.0248, grad=0.1182), Var(v=-0.0593, grad=0.0000), Var(v=0.0907, grad=0.0000), Var(v=-0.0213, grad=-0.3518), Var(v=0.1128, grad=0.0098), Var(v=0.0024, grad=0.0000), Var(v=-0.1268, grad=-0.2573), Var(v=-0.0523, grad=0.0000), Var(v=-0.0183, grad=0.0000), Var(v=-0.0136, grad=0.0000), Var(v=-0.1639, grad=-0.3387), Var(v=-0.1662, grad=0.0000), Var(v=0.0490, grad=0.1247), Var(v=-0.1368, grad=0.0000), Var(v=-0.1535, grad=-0.6038), Var(v=-0.0438, grad=0.0000), Var(v=-0.1010, grad=0.0967), Var(v=-0.0093, grad=0.0000), Var(v=0.0408, grad=0.0170), Var(v=-0.0457, grad=0.2702), Var(v=-0.0364, grad=-0.8516), Var(v=0.0037, grad=0.0000), Var(v=0.0195, grad=0.8903), Var(v=-0.0293, grad=0.0000), Var(v=-0.0786, grad=0.2537), Var(v=-0.1655, grad=0.0000)], [Var(v=0.0730, grad=-0.0511), Var(v=-0.0143, grad=0.0000), Var(v=0.1232, grad=0.5191), Var(v=-0.1531, grad=0.0000), Var(v=-0.0703, grad=-1.6027), Var(v=-0.1401, grad=-0.0001), Var(v=-0.0485, grad=0.3536), Var(v=0.1321, grad=0.0780), Var(v=0.0837, grad=-0.1673), Var(v=-0.0412, grad=-0.6015), Var(v=0.1940, grad=0.5081), Var(v=0.1316, grad=0.1310), Var(v=-0.1188, grad=-0.2732), Var(v=0.0124, grad=0.0000), Var(v=-0.1095, grad=0.1218), Var(v=-0.0393, grad=0.0000), Var(v=0.0062, grad=0.1050), Var(v=-0.0097, grad=0.2134), Var(v=-0.0254, grad=-0.1477), Var(v=-0.0883, grad=0.0000), Var(v=-0.0007, grad=0.5583), Var(v=0.0081, grad=0.0000), Var(v=-0.0958, grad=0.0000), Var(v=0.2885, grad=0.1622), Var(v=0.0693, grad=0.0000), Var(v=0.0903, grad=0.7472), Var(v=-0.0159, grad=0.0000), Var(v=0.0390, grad=0.0000), Var(v=-0.0741, grad=0.0000), Var(v=0.0022, grad=-0.3979), Var(v=0.0721, grad=0.2958), Var(v=-0.2011, grad=-0.2852), Var(v=-0.0507, grad=-0.4298), Var(v=0.1103, grad=0.0000), Var(v=0.0427, grad=0.0000), Var(v=0.0947, grad=0.4867), Var(v=-0.0978, grad=-0.1434), Var(v=-0.1137, grad=0.2197), Var(v=0.0426, grad=0.6942), Var(v=-0.0270, grad=-0.4648), Var(v=0.0693, grad=0.0000), Var(v=-0.0910, grad=1.2717), Var(v=0.0672, grad=0.0000), Var(v=-0.0382, grad=-0.3106), Var(v=-0.2079, grad=0.9791), Var(v=0.0536, grad=-0.7142), Var(v=-0.1151, grad=-1.0235), Var(v=-0.0079, grad=0.2510), Var(v=0.0847, grad=-0.2917), Var(v=-0.0158, grad=0.0000)], [Var(v=-0.0116, grad=0.0000), Var(v=-0.0521, grad=0.0434), Var(v=-0.0371, grad=0.0000), Var(v=0.2557, grad=-0.4998), Var(v=-0.1470, grad=9.6926), Var(v=0.1766, grad=0.0003), Var(v=-0.0313, grad=0.0000), Var(v=0.0045, grad=0.0000), Var(v=0.1103, grad=0.0000), Var(v=-0.0001, grad=0.0000), Var(v=0.0308, grad=-3.0730), Var(v=0.0071, grad=0.0000), Var(v=-0.0479, grad=1.6520), Var(v=0.1857, grad=1.3510), Var(v=0.2897, grad=-0.7365), Var(v=0.2129, grad=-1.0074), Var(v=0.1562, grad=-0.6349), Var(v=-0.0390, grad=0.0000), Var(v=-0.0555, grad=0.0000), Var(v=0.1564, grad=-4.4184), Var(v=0.0280, grad=0.0000), Var(v=0.0528, grad=-1.6114), Var(v=0.1351, grad=-3.7385), Var(v=-0.0108, grad=0.0000), Var(v=0.0251, grad=0.8218), Var(v=-0.1248, grad=0.0000), Var(v=-0.0041, grad=0.0000), Var(v=0.0286, grad=-2.4462), Var(v=-0.0030, grad=0.0680), Var(v=0.1166, grad=0.0000), Var(v=-0.0015, grad=-1.7892), Var(v=-0.0925, grad=0.0000), Var(v=-0.1382, grad=0.0000), Var(v=0.0131, grad=0.0000), Var(v=0.0117, grad=-2.3548), Var(v=-0.2181, grad=0.0000), Var(v=0.0920, grad=0.8673), Var(v=-0.1816, grad=0.0000), Var(v=0.0603, grad=-4.1983), Var(v=-0.1460, grad=0.0000), Var(v=0.0478, grad=0.6721), Var(v=-0.1319, grad=0.0000), Var(v=0.0360, grad=0.1179), Var(v=0.0548, grad=1.8784), Var(v=0.0673, grad=-5.9211), Var(v=0.0762, grad=0.0000), Var(v=0.0884, grad=6.1898), Var(v=0.0384, grad=0.0000), Var(v=0.1451, grad=1.7641), Var(v=0.0029, grad=0.0000)], [Var(v=0.0840, grad=-0.1163), Var(v=0.0847, grad=0.0000), Var(v=-0.0477, grad=1.1801), Var(v=0.0269, grad=0.0000), Var(v=0.0912, grad=-3.6436), Var(v=0.0743, grad=-0.0001), Var(v=0.0126, grad=0.8039), Var(v=-0.0080, grad=0.1774), Var(v=0.1187, grad=-0.3803), Var(v=0.2391, grad=-1.3674), Var(v=-0.1189, grad=1.1552), Var(v=-0.0102, grad=0.2978), Var(v=0.0476, grad=-0.6210), Var(v=-0.0005, grad=0.0000), Var(v=-0.0163, grad=0.2769), Var(v=-0.1062, grad=0.0000), Var(v=0.0036, grad=0.2387), Var(v=0.2211, grad=0.4851), Var(v=0.0806, grad=-0.3358), Var(v=-0.1021, grad=0.0000), Var(v=0.0088, grad=1.2692), Var(v=-0.0850, grad=0.0000), Var(v=-0.0361, grad=0.0000), Var(v=-0.1010, grad=0.3688), Var(v=-0.1620, grad=0.0000), Var(v=-0.0574, grad=1.6987), Var(v=-0.0114, grad=0.0000), Var(v=-0.0427, grad=0.0000), Var(v=-0.1326, grad=0.0000), Var(v=0.0020, grad=-0.9047), Var(v=0.0741, grad=0.6726), Var(v=0.1149, grad=-0.6485), Var(v=0.0615, grad=-0.9771), Var(v=-0.2112, grad=0.0000), Var(v=-0.1566, grad=0.0000), Var(v=0.1618, grad=1.1065), Var(v=0.1674, grad=-0.3260), Var(v=-0.0310, grad=0.4996), Var(v=-0.0298, grad=1.5782), Var(v=0.1094, grad=-1.0567), Var(v=-0.0190, grad=0.0000), Var(v=0.0159, grad=2.8912), Var(v=-0.0312, grad=0.0000), Var(v=-0.0212, grad=-0.7061), Var(v=-0.0299, grad=2.2259), Var(v=0.1572, grad=-1.6238), Var(v=0.2275, grad=-2.3269), Var(v=0.0589, grad=0.5707), Var(v=0.0055, grad=-0.6632), Var(v=0.0800, grad=0.0000)], [Var(v=0.0409, grad=-0.1240), Var(v=0.0023, grad=0.0000), Var(v=-0.0041, grad=1.2587), Var(v=-0.1213, grad=0.0000), Var(v=-0.1723, grad=-3.8862), Var(v=-0.1119, grad=-0.0001), Var(v=-0.0421, grad=0.8574), Var(v=0.0402, grad=0.1892), Var(v=0.1331, grad=-0.4057), Var(v=0.1172, grad=-1.4585), Var(v=0.2288, grad=1.2321), Var(v=0.0934, grad=0.3177), Var(v=0.0401, grad=-0.6624), Var(v=0.0089, grad=0.0000), Var(v=-0.0127, grad=0.2953), Var(v=-0.1764, grad=0.0000), Var(v=-0.1531, grad=0.2546), Var(v=0.1020, grad=0.5174), Var(v=0.1478, grad=-0.3582), Var(v=0.0746, grad=0.0000), Var(v=-0.0673, grad=1.3536), Var(v=0.1265, grad=0.0000), Var(v=0.1529, grad=0.0000), Var(v=-0.0663, grad=0.3934), Var(v=0.1214, grad=0.0000), Var(v=0.0855, grad=1.8118), Var(v=-0.1311, grad=0.0000), Var(v=0.0063, grad=0.0000), Var(v=-0.1471, grad=0.0000), Var(v=0.1605, grad=-0.9649), Var(v=0.0547, grad=0.7174), Var(v=0.2007, grad=-0.6917), Var(v=0.2829, grad=-1.0422), Var(v=-0.2123, grad=0.0000), Var(v=-0.0389, grad=0.0000), Var(v=-0.0895, grad=1.1801), Var(v=0.0371, grad=-0.3477), Var(v=-0.0789, grad=0.5328), Var(v=0.0260, grad=1.6833), Var(v=0.0292, grad=-1.1270), Var(v=0.0031, grad=0.0000), Var(v=0.0626, grad=3.0836), Var(v=0.0196, grad=0.0000), Var(v=0.1087, grad=-0.7531), Var(v=0.0105, grad=2.3740), Var(v=0.0456, grad=-1.7319), Var(v=-0.0326, grad=-2.4817), Var(v=0.1077, grad=0.6087), Var(v=0.0103, grad=-0.7073), Var(v=-0.0921, grad=0.0000)], [Var(v=0.0745, grad=0.0000), Var(v=0.0327, grad=0.0143), Var(v=0.0790, grad=0.0000), Var(v=0.1119, grad=-0.1652), Var(v=0.0413, grad=3.2041), Var(v=0.0119, grad=0.0001), Var(v=-0.0161, grad=0.0000), Var(v=-0.0896, grad=0.0000), Var(v=-0.1152, grad=0.0000), Var(v=-0.0560, grad=0.0000), Var(v=-0.0664, grad=-1.0158), Var(v=-0.1097, grad=0.0000), Var(v=0.1254, grad=0.5461), Var(v=-0.1331, grad=0.4466), Var(v=0.0013, grad=-0.2435), Var(v=-0.0442, grad=-0.3330), Var(v=-0.0635, grad=-0.2099), Var(v=-0.1766, grad=0.0000), Var(v=-0.1483, grad=0.0000), Var(v=0.1140, grad=-1.4606), Var(v=-0.0722, grad=0.0000), Var(v=0.1849, grad=-0.5327), Var(v=-0.0054, grad=-1.2359), Var(v=-0.1106, grad=0.0000), Var(v=-0.0849, grad=0.2717), Var(v=0.0445, grad=0.0000), Var(v=-0.0112, grad=0.0000), Var(v=0.2371, grad=-0.8087), Var(v=0.0315, grad=0.0225), Var(v=-0.0785, grad=0.0000), Var(v=-0.0331, grad=-0.5915), Var(v=0.0759, grad=0.0000), Var(v=0.0918, grad=0.0000), Var(v=-0.0317, grad=0.0000), Var(v=0.0865, grad=-0.7784), Var(v=0.1480, grad=0.0000), Var(v=-0.0320, grad=0.2867), Var(v=0.1800, grad=0.0000), Var(v=0.0417, grad=-1.3879), Var(v=0.0760, grad=0.0000), Var(v=-0.0637, grad=0.2222), Var(v=-0.2397, grad=0.0000), Var(v=0.1008, grad=0.0390), Var(v=-0.0571, grad=0.6210), Var(v=0.0541, grad=-1.9574), Var(v=-0.0339, grad=0.0000), Var(v=0.0200, grad=2.0462), Var(v=0.1162, grad=0.0000), Var(v=0.0519, grad=0.5832), Var(v=0.0047, grad=0.0000)], [Var(v=-0.0652, grad=0.0000), Var(v=0.2015, grad=0.0198), Var(v=-0.0134, grad=0.0000), Var(v=0.0610, grad=-0.2276), Var(v=0.0771, grad=4.4136), Var(v=-0.0782, grad=0.0001), Var(v=0.0196, grad=0.0000), Var(v=-0.0448, grad=0.0000), Var(v=-0.0793, grad=0.0000), Var(v=0.0096, grad=0.0000), Var(v=-0.0107, grad=-1.3993), Var(v=-0.0690, grad=0.0000), Var(v=0.0024, grad=0.7522), Var(v=0.1080, grad=0.6152), Var(v=0.0499, grad=-0.3354), Var(v=-0.0002, grad=-0.4587), Var(v=0.0407, grad=-0.2891), Var(v=-0.0451, grad=0.0000), Var(v=0.0429, grad=0.0000), Var(v=0.0360, grad=-2.0119), Var(v=-0.1252, grad=0.0000), Var(v=0.1689, grad=-0.7338), Var(v=-0.0760, grad=-1.7024), Var(v=-0.0491, grad=0.0000), Var(v=0.0896, grad=0.3742), Var(v=0.1024, grad=0.0000), Var(v=0.0126, grad=0.0000), Var(v=0.0848, grad=-1.1139), Var(v=0.0241, grad=0.0310), Var(v=-0.1772, grad=0.0000), Var(v=0.0987, grad=-0.8147), Var(v=-0.0046, grad=0.0000), Var(v=0.0264, grad=0.0000), Var(v=-0.0742, grad=0.0000), Var(v=0.0550, grad=-1.0723), Var(v=-0.0747, grad=0.0000), Var(v=0.1332, grad=0.3949), Var(v=0.0952, grad=0.0000), Var(v=0.0068, grad=-1.9117), Var(v=-0.0743, grad=0.0000), Var(v=-0.0682, grad=0.3060), Var(v=-0.0275, grad=0.0000), Var(v=0.0159, grad=0.0537), Var(v=0.0054, grad=0.8553), Var(v=0.1427, grad=-2.6962), Var(v=-0.0094, grad=0.0000), Var(v=-0.1400, grad=2.8185), Var(v=-0.0425, grad=0.0000), Var(v=0.0301, grad=0.8033), Var(v=0.0275, grad=0.0000)], [Var(v=0.0389, grad=-0.0497), Var(v=-0.1054, grad=0.0000), Var(v=-0.0203, grad=0.5042), Var(v=0.0556, grad=0.0000), Var(v=0.2839, grad=-1.5567), Var(v=0.0971, grad=-0.0001), Var(v=0.0317, grad=0.3435), Var(v=-0.0129, grad=0.0758), Var(v=0.1140, grad=-0.1625), Var(v=0.1239, grad=-0.5842), Var(v=-0.0562, grad=0.4935), Var(v=0.0994, grad=0.1273), Var(v=-0.0567, grad=-0.2653), Var(v=0.0365, grad=0.0000), Var(v=0.0424, grad=0.1183), Var(v=0.0559, grad=0.0000), Var(v=0.0513, grad=0.1020), Var(v=-0.1340, grad=0.2073), Var(v=0.0048, grad=-0.1435), Var(v=-0.1650, grad=0.0000), Var(v=0.0191, grad=0.5422), Var(v=0.0059, grad=0.0000), Var(v=0.1633, grad=0.0000), Var(v=-0.0388, grad=0.1576), Var(v=-0.0916, grad=0.0000), Var(v=-0.0121, grad=0.7258), Var(v=-0.0743, grad=0.0000), Var(v=-0.0624, grad=0.0000), Var(v=0.0673, grad=0.0000), Var(v=-0.0803, grad=-0.3865), Var(v=0.0087, grad=0.2874), Var(v=-0.0071, grad=-0.2771), Var(v=-0.1869, grad=-0.4175), Var(v=-0.0263, grad=0.0000), Var(v=-0.0118, grad=0.0000), Var(v=0.1128, grad=0.4727), Var(v=-0.0871, grad=-0.1393), Var(v=-0.0647, grad=0.2134), Var(v=-0.1138, grad=0.6743), Var(v=0.0215, grad=-0.4515), Var(v=0.0556, grad=0.0000), Var(v=0.2356, grad=1.2352), Var(v=-0.0512, grad=0.0000), Var(v=-0.0506, grad=-0.3017), Var(v=0.0831, grad=0.9510), Var(v=0.0788, grad=-0.6938), Var(v=0.0597, grad=-0.9941), Var(v=0.1153, grad=0.2438), Var(v=-0.0300, grad=-0.2833), Var(v=-0.0293, grad=0.0000)], [Var(v=-0.2242, grad=-0.0238), Var(v=-0.2066, grad=0.0000), Var(v=-0.0413, grad=0.2417), Var(v=0.0551, grad=0.0000), Var(v=0.1828, grad=-0.7461), Var(v=0.0224, grad=-0.0000), Var(v=0.0032, grad=0.1646), Var(v=-0.0869, grad=0.0363), Var(v=-0.0374, grad=-0.0779), Var(v=0.0259, grad=-0.2800), Var(v=0.0296, grad=0.2366), Var(v=0.0614, grad=0.0610), Var(v=0.1404, grad=-0.1272), Var(v=-0.0451, grad=0.0000), Var(v=-0.0488, grad=0.0567), Var(v=0.1217, grad=0.0000), Var(v=-0.0774, grad=0.0489), Var(v=-0.0027, grad=0.0993), Var(v=-0.0689, grad=-0.0688), Var(v=0.0183, grad=0.0000), Var(v=-0.0626, grad=0.2599), Var(v=0.0094, grad=0.0000), Var(v=0.0100, grad=0.0000), Var(v=-0.0134, grad=0.0755), Var(v=0.0400, grad=0.0000), Var(v=-0.0075, grad=0.3479), Var(v=-0.1427, grad=0.0000), Var(v=-0.2074, grad=0.0000), Var(v=0.0361, grad=0.0000), Var(v=-0.0323, grad=-0.1853), Var(v=0.1006, grad=0.1377), Var(v=-0.1206, grad=-0.1328), Var(v=0.0432, grad=-0.2001), Var(v=-0.1239, grad=0.0000), Var(v=-0.1354, grad=0.0000), Var(v=-0.0928, grad=0.2266), Var(v=-0.1333, grad=-0.0668), Var(v=0.0727, grad=0.1023), Var(v=-0.1171, grad=0.3232), Var(v=0.0231, grad=-0.2164), Var(v=-0.1294, grad=0.0000), Var(v=0.0506, grad=0.5920), Var(v=0.1850, grad=0.0000), Var(v=0.0714, grad=-0.1446), Var(v=-0.0181, grad=0.4558), Var(v=0.1977, grad=-0.3325), Var(v=0.0150, grad=-0.4765), Var(v=-0.0630, grad=0.1169), Var(v=0.0091, grad=-0.1358), Var(v=0.1778, grad=0.0000)], [Var(v=-0.2422, grad=0.0000), Var(v=0.0983, grad=0.0136), Var(v=-0.1726, grad=0.0000), Var(v=-0.1340, grad=-0.1566), Var(v=-0.0691, grad=3.0366), Var(v=0.1057, grad=0.0001), Var(v=-0.1069, grad=0.0000), Var(v=0.0225, grad=0.0000), Var(v=-0.0471, grad=0.0000), Var(v=0.0602, grad=0.0000), Var(v=0.1076, grad=-0.9627), Var(v=-0.0843, grad=0.0000), Var(v=-0.0017, grad=0.5176), Var(v=0.0455, grad=0.4232), Var(v=0.1697, grad=-0.2307), Var(v=0.0579, grad=-0.3156), Var(v=-0.0778, grad=-0.1989), Var(v=0.0160, grad=0.0000), Var(v=0.0021, grad=0.0000), Var(v=0.0517, grad=-1.3842), Var(v=0.0036, grad=0.0000), Var(v=-0.0405, grad=-0.5048), Var(v=0.0225, grad=-1.1712), Var(v=-0.0008, grad=0.0000), Var(v=0.1042, grad=0.2574), Var(v=0.0285, grad=0.0000), Var(v=-0.0949, grad=0.0000), Var(v=0.0436, grad=-0.7664), Var(v=-0.0083, grad=0.0213), Var(v=0.0152, grad=0.0000), Var(v=0.1117, grad=-0.5605), Var(v=-0.0556, grad=0.0000), Var(v=0.0418, grad=0.0000), Var(v=-0.0702, grad=0.0000), Var(v=0.1127, grad=-0.7377), Var(v=-0.1618, grad=0.0000), Var(v=-0.1368, grad=0.2717), Var(v=0.1884, grad=0.0000), Var(v=0.2627, grad=-1.3153), Var(v=0.0423, grad=0.0000), Var(v=0.0679, grad=0.2106), Var(v=-0.1283, grad=0.0000), Var(v=-0.0839, grad=0.0369), Var(v=-0.0972, grad=0.5885), Var(v=-0.0055, grad=-1.8550), Var(v=-0.2489, grad=0.0000), Var(v=0.0766, grad=1.9392), Var(v=-0.1764, grad=0.0000), Var(v=-0.0682, grad=0.5527), Var(v=-0.0199, grad=0.0000)], [Var(v=-0.0512, grad=-0.0595), Var(v=0.0385, grad=0.0000), Var(v=-0.0722, grad=0.6037), Var(v=-0.1288, grad=0.0000), Var(v=0.0718, grad=-1.8638), Var(v=-0.0365, grad=-0.0001), Var(v=-0.0042, grad=0.4112), Var(v=0.0520, grad=0.0907), Var(v=0.2016, grad=-0.1946), Var(v=0.0037, grad=-0.6995), Var(v=0.0927, grad=0.5909), Var(v=0.0567, grad=0.1524), Var(v=-0.0369, grad=-0.3177), Var(v=-0.0557, grad=0.0000), Var(v=-0.0118, grad=0.1416), Var(v=0.0977, grad=0.0000), Var(v=-0.0334, grad=0.1221), Var(v=0.0182, grad=0.2482), Var(v=0.1004, grad=-0.1718), Var(v=-0.1143, grad=0.0000), Var(v=-0.1090, grad=0.6492), Var(v=-0.1324, grad=0.0000), Var(v=-0.0282, grad=0.0000), Var(v=0.1983, grad=0.1887), Var(v=0.0322, grad=0.0000), Var(v=0.0580, grad=0.8689), Var(v=-0.0752, grad=0.0000), Var(v=-0.0104, grad=0.0000), Var(v=-0.0721, grad=0.0000), Var(v=0.1153, grad=-0.4628), Var(v=0.0351, grad=0.3440), Var(v=0.0417, grad=-0.3317), Var(v=0.1833, grad=-0.4998), Var(v=0.0591, grad=0.0000), Var(v=0.0359, grad=0.0000), Var(v=-0.0331, grad=0.5660), Var(v=-0.0807, grad=-0.1668), Var(v=0.2383, grad=0.2555), Var(v=0.0074, grad=0.8073), Var(v=0.0622, grad=-0.5405), Var(v=0.1046, grad=0.0000), Var(v=-0.0147, grad=1.4789), Var(v=-0.1073, grad=0.0000), Var(v=-0.0862, grad=-0.3612), Var(v=0.0846, grad=1.1386), Var(v=0.1029, grad=-0.8306), Var(v=-0.0118, grad=-1.1902), Var(v=-0.0165, grad=0.2919), Var(v=0.0695, grad=-0.3392), Var(v=0.0449, grad=0.0000)], [Var(v=0.0314, grad=-0.0178), Var(v=0.0684, grad=0.0000), Var(v=-0.0458, grad=0.1808), Var(v=-0.0056, grad=0.0000), Var(v=0.1086, grad=-0.5583), Var(v=0.0760, grad=-0.0000), Var(v=-0.0372, grad=0.1232), Var(v=0.0373, grad=0.0272), Var(v=0.0128, grad=-0.0583), Var(v=-0.0826, grad=-0.2095), Var(v=0.1265, grad=0.1770), Var(v=-0.0101, grad=0.0456), Var(v=0.0942, grad=-0.0952), Var(v=-0.2335, grad=0.0000), Var(v=0.0713, grad=0.0424), Var(v=0.0087, grad=0.0000), Var(v=-0.0827, grad=0.0366), Var(v=0.1150, grad=0.0743), Var(v=-0.0293, grad=-0.0515), Var(v=0.0006, grad=0.0000), Var(v=0.0694, grad=0.1945), Var(v=-0.0285, grad=0.0000), Var(v=0.0071, grad=0.0000), Var(v=-0.0550, grad=0.0565), Var(v=0.0599, grad=0.0000), Var(v=-0.0151, grad=0.2603), Var(v=-0.0322, grad=0.0000), Var(v=0.0400, grad=0.0000), Var(v=-0.1585, grad=0.0000), Var(v=0.0281, grad=-0.1386), Var(v=0.0924, grad=0.1031), Var(v=0.1663, grad=-0.0994), Var(v=-0.1112, grad=-0.1497), Var(v=0.1030, grad=0.0000), Var(v=-0.1147, grad=0.0000), Var(v=-0.0111, grad=0.1695), Var(v=-0.0223, grad=-0.0500), Var(v=0.0359, grad=0.0766), Var(v=-0.0873, grad=0.2418), Var(v=0.0326, grad=-0.1619), Var(v=-0.0738, grad=0.0000), Var(v=0.0415, grad=0.4430), Var(v=0.0890, grad=0.0000), Var(v=-0.0385, grad=-0.1082), Var(v=0.0053, grad=0.3411), Var(v=-0.0609, grad=-0.2488), Var(v=-0.1075, grad=-0.3566), Var(v=0.1343, grad=0.0875), Var(v=0.0234, grad=-0.1016), Var(v=-0.1046, grad=0.0000)], [Var(v=0.1502, grad=0.0000), Var(v=-0.0516, grad=0.0097), Var(v=-0.2444, grad=0.0000), Var(v=-0.0036, grad=-0.1115), Var(v=0.1956, grad=2.1629), Var(v=0.0694, grad=0.0001), Var(v=0.0369, grad=0.0000), Var(v=0.0065, grad=0.0000), Var(v=-0.0915, grad=0.0000), Var(v=-0.0646, grad=0.0000), Var(v=0.1443, grad=-0.6857), Var(v=-0.1776, grad=0.0000), Var(v=0.0148, grad=0.3686), Var(v=-0.1223, grad=0.3015), Var(v=0.0842, grad=-0.1644), Var(v=-0.0938, grad=-0.2248), Var(v=-0.0202, grad=-0.1417), Var(v=0.0608, grad=0.0000), Var(v=0.0264, grad=0.0000), Var(v=0.0807, grad=-0.9860), Var(v=0.0581, grad=0.0000), Var(v=-0.1161, grad=-0.3596), Var(v=-0.0093, grad=-0.8343), Var(v=-0.0455, grad=0.0000), Var(v=-0.0998, grad=0.1834), Var(v=0.1261, grad=0.0000), Var(v=0.0067, grad=0.0000), Var(v=-0.1731, grad=-0.5459), Var(v=0.0293, grad=0.0152), Var(v=-0.1091, grad=0.0000), Var(v=-0.1057, grad=-0.3993), Var(v=-0.1609, grad=0.0000), Var(v=-0.0913, grad=0.0000), Var(v=-0.0712, grad=0.0000), Var(v=0.1113, grad=-0.5255), Var(v=0.1530, grad=0.0000), Var(v=-0.0431, grad=0.1935), Var(v=0.0609, grad=0.0000), Var(v=-0.0850, grad=-0.9369), Var(v=0.0211, grad=0.0000), Var(v=0.0318, grad=0.1500), Var(v=0.0371, grad=0.0000), Var(v=0.0530, grad=0.0263), Var(v=-0.0260, grad=0.4192), Var(v=0.2099, grad=-1.3213), Var(v=-0.0613, grad=0.0000), Var(v=-0.0578, grad=1.3813), Var(v=-0.0266, grad=0.0000), Var(v=-0.2067, grad=0.3937), Var(v=-0.0565, grad=0.0000)]]\n",
      "bias:[Var(v=0.0096, grad=-0.9580), Var(v=-0.0013, grad=0.1331), Var(v=-0.0972, grad=9.7221), Var(v=0.0153, grad=-1.5319), Var(v=0.0031, grad=-0.3063), Var(v=0.0000, grad=-0.0000), Var(v=-0.0662, grad=6.6227), Var(v=-0.0146, grad=1.4614), Var(v=0.0313, grad=-3.1334), Var(v=0.1127, grad=-11.2653), Var(v=-0.0010, grad=0.0971), Var(v=-0.0245, grad=2.4537), Var(v=0.0005, grad=-0.0522), Var(v=-0.0414, grad=4.1411), Var(v=-0.0002, grad=0.0233), Var(v=0.0309, grad=-3.0880), Var(v=-0.0002, grad=0.0201), Var(v=-0.0400, grad=3.9967), Var(v=0.0277, grad=-2.7666), Var(v=0.1354, grad=-13.5438), Var(v=-0.1046, grad=10.4556), Var(v=0.0494, grad=-4.9395), Var(v=0.1146, grad=-11.4598), Var(v=-0.0304, grad=3.0383), Var(v=-0.0252, grad=2.5189), Var(v=-0.1399, grad=13.9943), Var(v=0.0000, grad=0.0000), Var(v=0.0750, grad=-7.4984), Var(v=-0.0021, grad=0.2085), Var(v=0.0745, grad=-7.4529), Var(v=-0.0006, grad=0.0565), Var(v=0.0534, grad=-5.3425), Var(v=0.0805, grad=-8.0498), Var(v=0.0000, grad=0.0000), Var(v=0.0722, grad=-7.2181), Var(v=-0.0912, grad=9.1152), Var(v=0.0003, grad=-0.0274), Var(v=-0.0412, grad=4.1157), Var(v=-0.0013, grad=0.1327), Var(v=0.0871, grad=-8.7051), Var(v=-0.0206, grad=2.0602), Var(v=-0.2382, grad=23.8182), Var(v=-0.0036, grad=0.3614), Var(v=0.0006, grad=-0.0594), Var(v=-0.0019, grad=0.1871), Var(v=0.1338, grad=-13.3772), Var(v=0.0020, grad=-0.1956), Var(v=-0.0470, grad=4.7016), Var(v=0.0006, grad=-0.0558), Var(v=0.0000, grad=0.0000)])\n",
      "Layer 2 \n",
      " weight dimensions: 50 x 1 and bias dimension 1 x 1 along with parameters\n",
      "weights: [[Var(v=-0.0213, grad=1.0292)], [Var(v=0.0073, grad=-0.8838)], [Var(v=0.1030, grad=0.8316)], [Var(v=0.1091, grad=-9.1337)], [Var(v=-0.3294, grad=-1.4382)], [Var(v=0.0629, grad=-6.2957)], [Var(v=0.0696, grad=0.6274)], [Var(v=0.0107, grad=0.6029)], [Var(v=-0.0639, grad=2.8054)], [Var(v=-0.1505, grad=2.1506)], [Var(v=0.0779, grad=3.1106)], [Var(v=-0.0016, grad=2.9711)], [Var(v=-0.0821, grad=2.3481)], [Var(v=0.0145, grad=-6.2419)], [Var(v=0.1201, grad=-9.4021)], [Var(v=0.0827, grad=-4.6998)], [Var(v=0.0387, grad=-1.6213)], [Var(v=0.0258, grad=1.9933)], [Var(v=-0.0641, grad=3.2436)], [Var(v=0.2081, grad=-5.1359)], [Var(v=0.1194, grad=0.0326)], [Var(v=0.0814, grad=-2.4289)], [Var(v=0.1420, grad=-0.9429)], [Var(v=0.0023, grad=3.2515)], [Var(v=-0.0149, grad=-1.4254)], [Var(v=0.1203, grad=3.9936)], [Var(v=0.0021, grad=0.0000)], [Var(v=0.1080, grad=-2.1239)], [Var(v=0.0079, grad=-1.0310)], [Var(v=-0.0878, grad=0.2453)], [Var(v=0.0555, grad=0.7914)], [Var(v=-0.0859, grad=2.4693)], [Var(v=-0.1223, grad=3.0079)], [Var(v=-0.0156, grad=0.0000)], [Var(v=0.1023, grad=-1.8831)], [Var(v=0.0789, grad=2.5497)], [Var(v=-0.0095, grad=-2.1237)], [Var(v=0.0328, grad=1.4287)], [Var(v=0.1534, grad=-0.4497)], [Var(v=-0.1109, grad=1.1224)], [Var(v=-0.0191, grad=-0.4764)], [Var(v=0.2695, grad=0.3263)], [Var(v=0.0172, grad=-2.1367)], [Var(v=-0.0662, grad=-0.0459)], [Var(v=0.2273, grad=-1.7314)], [Var(v=-0.1786, grad=2.5366)], [Var(v=-0.2041, grad=-1.5397)], [Var(v=0.0463, grad=0.7560)], [Var(v=-0.0659, grad=0.3312)], [Var(v=-0.0817, grad=0.0000)]]\n",
      "bias:[Var(v=-0.0089, grad=0.8911)])\n",
      "\n",
      "Network after zeroing gradients:\n",
      "Layer 0 \n",
      " weight dimensions: 1 x 15 and bias dimension 15 x 1 along with parameters\n",
      "weights: [[Var(v=-0.1569, grad=0.0000), Var(v=0.0723, grad=0.0000), Var(v=-0.0315, grad=0.0000), Var(v=0.0455, grad=0.0000), Var(v=0.2940, grad=0.0000), Var(v=-0.2311, grad=0.0000), Var(v=-0.0492, grad=0.0000), Var(v=0.1104, grad=0.0000), Var(v=0.1333, grad=0.0000), Var(v=-0.0622, grad=0.0000), Var(v=-0.1308, grad=0.0000), Var(v=0.1557, grad=0.0000), Var(v=-0.0758, grad=0.0000), Var(v=0.0153, grad=0.0000), Var(v=0.0481, grad=0.0000)]]\n",
      "bias:[Var(v=-0.0246, grad=0.0000), Var(v=0.0519, grad=0.0000), Var(v=-0.0617, grad=0.0000), Var(v=-0.0855, grad=0.0000), Var(v=0.0118, grad=0.0000), Var(v=0.1097, grad=0.0000), Var(v=-0.0622, grad=0.0000), Var(v=0.0152, grad=0.0000), Var(v=0.0049, grad=0.0000), Var(v=0.0137, grad=0.0000), Var(v=0.0984, grad=0.0000), Var(v=0.0584, grad=0.0000), Var(v=0.0176, grad=0.0000), Var(v=-0.0293, grad=0.0000), Var(v=-0.0124, grad=0.0000)])\n",
      "Layer 1 \n",
      " weight dimensions: 15 x 50 and bias dimension 50 x 1 along with parameters\n",
      "weights: [[Var(v=-0.0032, grad=0.0000), Var(v=-0.0594, grad=0.0000), Var(v=0.0427, grad=0.0000), Var(v=0.0203, grad=0.0000), Var(v=0.0754, grad=0.0000), Var(v=0.0761, grad=0.0000), Var(v=0.0368, grad=0.0000), Var(v=-0.0330, grad=0.0000), Var(v=-0.0945, grad=0.0000), Var(v=-0.0682, grad=0.0000), Var(v=0.0261, grad=0.0000), Var(v=0.0203, grad=0.0000), Var(v=0.1405, grad=0.0000), Var(v=-0.0756, grad=0.0000), Var(v=0.0711, grad=0.0000), Var(v=0.0195, grad=0.0000), Var(v=0.1629, grad=0.0000), Var(v=-0.0803, grad=0.0000), Var(v=0.0378, grad=0.0000), Var(v=0.0729, grad=0.0000), Var(v=0.0269, grad=0.0000), Var(v=-0.1575, grad=0.0000), Var(v=-0.1262, grad=0.0000), Var(v=0.1543, grad=0.0000), Var(v=-0.1792, grad=0.0000), Var(v=0.1123, grad=0.0000), Var(v=-0.0742, grad=0.0000), Var(v=-0.0555, grad=0.0000), Var(v=0.0381, grad=0.0000), Var(v=-0.0735, grad=0.0000), Var(v=-0.1061, grad=0.0000), Var(v=0.0059, grad=0.0000), Var(v=-0.0048, grad=0.0000), Var(v=0.0488, grad=0.0000), Var(v=0.0765, grad=0.0000), Var(v=0.0359, grad=0.0000), Var(v=0.0325, grad=0.0000), Var(v=0.0944, grad=0.0000), Var(v=0.0530, grad=0.0000), Var(v=-0.0085, grad=0.0000), Var(v=-0.0905, grad=0.0000), Var(v=-0.1705, grad=0.0000), Var(v=-0.0719, grad=0.0000), Var(v=0.0384, grad=0.0000), Var(v=0.0209, grad=0.0000), Var(v=-0.0098, grad=0.0000), Var(v=0.1282, grad=0.0000), Var(v=-0.1077, grad=0.0000), Var(v=0.1942, grad=0.0000), Var(v=-0.1023, grad=0.0000)], [Var(v=0.0814, grad=0.0000), Var(v=-0.0341, grad=0.0000), Var(v=0.1424, grad=0.0000), Var(v=0.1101, grad=0.0000), Var(v=-0.0996, grad=0.0000), Var(v=0.3032, grad=0.0000), Var(v=0.2147, grad=0.0000), Var(v=0.0311, grad=0.0000), Var(v=0.0338, grad=0.0000), Var(v=0.0768, grad=0.0000), Var(v=0.0472, grad=0.0000), Var(v=-0.0526, grad=0.0000), Var(v=-0.0396, grad=0.0000), Var(v=0.1709, grad=0.0000), Var(v=0.0427, grad=0.0000), Var(v=-0.0534, grad=0.0000), Var(v=-0.1307, grad=0.0000), Var(v=0.1430, grad=0.0000), Var(v=0.0012, grad=0.0000), Var(v=0.0449, grad=0.0000), Var(v=0.1205, grad=0.0000), Var(v=0.0526, grad=0.0000), Var(v=0.0265, grad=0.0000), Var(v=0.0139, grad=0.0000), Var(v=-0.1479, grad=0.0000), Var(v=-0.0594, grad=0.0000), Var(v=-0.0844, grad=0.0000), Var(v=-0.1371, grad=0.0000), Var(v=-0.0699, grad=0.0000), Var(v=-0.1267, grad=0.0000), Var(v=0.0843, grad=0.0000), Var(v=-0.0984, grad=0.0000), Var(v=0.0266, grad=0.0000), Var(v=0.0595, grad=0.0000), Var(v=-0.0026, grad=0.0000), Var(v=0.0817, grad=0.0000), Var(v=-0.0027, grad=0.0000), Var(v=-0.0829, grad=0.0000), Var(v=0.0440, grad=0.0000), Var(v=0.0391, grad=0.0000), Var(v=-0.0612, grad=0.0000), Var(v=0.1051, grad=0.0000), Var(v=0.1438, grad=0.0000), Var(v=-0.1154, grad=0.0000), Var(v=0.1568, grad=0.0000), Var(v=0.1209, grad=0.0000), Var(v=0.1015, grad=0.0000), Var(v=-0.0862, grad=0.0000), Var(v=0.0787, grad=0.0000), Var(v=0.1122, grad=0.0000)], [Var(v=-0.0528, grad=0.0000), Var(v=-0.2611, grad=0.0000), Var(v=0.1385, grad=0.0000), Var(v=0.3409, grad=0.0000), Var(v=-0.0626, grad=0.0000), Var(v=0.2727, grad=0.0000), Var(v=-0.0802, grad=0.0000), Var(v=0.0888, grad=0.0000), Var(v=-0.0796, grad=0.0000), Var(v=0.0358, grad=0.0000), Var(v=0.0123, grad=0.0000), Var(v=-0.0419, grad=0.0000), Var(v=-0.0992, grad=0.0000), Var(v=0.1129, grad=0.0000), Var(v=-0.1126, grad=0.0000), Var(v=-0.0797, grad=0.0000), Var(v=-0.0921, grad=0.0000), Var(v=0.0956, grad=0.0000), Var(v=0.1793, grad=0.0000), Var(v=0.0089, grad=0.0000), Var(v=0.1392, grad=0.0000), Var(v=-0.3085, grad=0.0000), Var(v=-0.1094, grad=0.0000), Var(v=0.0566, grad=0.0000), Var(v=-0.0248, grad=0.0000), Var(v=-0.0593, grad=0.0000), Var(v=0.0907, grad=0.0000), Var(v=-0.0213, grad=0.0000), Var(v=0.1128, grad=0.0000), Var(v=0.0024, grad=0.0000), Var(v=-0.1268, grad=0.0000), Var(v=-0.0523, grad=0.0000), Var(v=-0.0183, grad=0.0000), Var(v=-0.0136, grad=0.0000), Var(v=-0.1639, grad=0.0000), Var(v=-0.1662, grad=0.0000), Var(v=0.0490, grad=0.0000), Var(v=-0.1368, grad=0.0000), Var(v=-0.1535, grad=0.0000), Var(v=-0.0438, grad=0.0000), Var(v=-0.1010, grad=0.0000), Var(v=-0.0093, grad=0.0000), Var(v=0.0408, grad=0.0000), Var(v=-0.0457, grad=0.0000), Var(v=-0.0364, grad=0.0000), Var(v=0.0037, grad=0.0000), Var(v=0.0195, grad=0.0000), Var(v=-0.0293, grad=0.0000), Var(v=-0.0786, grad=0.0000), Var(v=-0.1655, grad=0.0000)], [Var(v=0.0730, grad=0.0000), Var(v=-0.0143, grad=0.0000), Var(v=0.1232, grad=0.0000), Var(v=-0.1531, grad=0.0000), Var(v=-0.0703, grad=0.0000), Var(v=-0.1401, grad=0.0000), Var(v=-0.0485, grad=0.0000), Var(v=0.1321, grad=0.0000), Var(v=0.0837, grad=0.0000), Var(v=-0.0412, grad=0.0000), Var(v=0.1940, grad=0.0000), Var(v=0.1316, grad=0.0000), Var(v=-0.1188, grad=0.0000), Var(v=0.0124, grad=0.0000), Var(v=-0.1095, grad=0.0000), Var(v=-0.0393, grad=0.0000), Var(v=0.0062, grad=0.0000), Var(v=-0.0097, grad=0.0000), Var(v=-0.0254, grad=0.0000), Var(v=-0.0883, grad=0.0000), Var(v=-0.0007, grad=0.0000), Var(v=0.0081, grad=0.0000), Var(v=-0.0958, grad=0.0000), Var(v=0.2885, grad=0.0000), Var(v=0.0693, grad=0.0000), Var(v=0.0903, grad=0.0000), Var(v=-0.0159, grad=0.0000), Var(v=0.0390, grad=0.0000), Var(v=-0.0741, grad=0.0000), Var(v=0.0022, grad=0.0000), Var(v=0.0721, grad=0.0000), Var(v=-0.2011, grad=0.0000), Var(v=-0.0507, grad=0.0000), Var(v=0.1103, grad=0.0000), Var(v=0.0427, grad=0.0000), Var(v=0.0947, grad=0.0000), Var(v=-0.0978, grad=0.0000), Var(v=-0.1137, grad=0.0000), Var(v=0.0426, grad=0.0000), Var(v=-0.0270, grad=0.0000), Var(v=0.0693, grad=0.0000), Var(v=-0.0910, grad=0.0000), Var(v=0.0672, grad=0.0000), Var(v=-0.0382, grad=0.0000), Var(v=-0.2079, grad=0.0000), Var(v=0.0536, grad=0.0000), Var(v=-0.1151, grad=0.0000), Var(v=-0.0079, grad=0.0000), Var(v=0.0847, grad=0.0000), Var(v=-0.0158, grad=0.0000)], [Var(v=-0.0116, grad=0.0000), Var(v=-0.0521, grad=0.0000), Var(v=-0.0371, grad=0.0000), Var(v=0.2557, grad=0.0000), Var(v=-0.1470, grad=0.0000), Var(v=0.1766, grad=0.0000), Var(v=-0.0313, grad=0.0000), Var(v=0.0045, grad=0.0000), Var(v=0.1103, grad=0.0000), Var(v=-0.0001, grad=0.0000), Var(v=0.0308, grad=0.0000), Var(v=0.0071, grad=0.0000), Var(v=-0.0479, grad=0.0000), Var(v=0.1857, grad=0.0000), Var(v=0.2897, grad=0.0000), Var(v=0.2129, grad=0.0000), Var(v=0.1562, grad=0.0000), Var(v=-0.0390, grad=0.0000), Var(v=-0.0555, grad=0.0000), Var(v=0.1564, grad=0.0000), Var(v=0.0280, grad=0.0000), Var(v=0.0528, grad=0.0000), Var(v=0.1351, grad=0.0000), Var(v=-0.0108, grad=0.0000), Var(v=0.0251, grad=0.0000), Var(v=-0.1248, grad=0.0000), Var(v=-0.0041, grad=0.0000), Var(v=0.0286, grad=0.0000), Var(v=-0.0030, grad=0.0000), Var(v=0.1166, grad=0.0000), Var(v=-0.0015, grad=0.0000), Var(v=-0.0925, grad=0.0000), Var(v=-0.1382, grad=0.0000), Var(v=0.0131, grad=0.0000), Var(v=0.0117, grad=0.0000), Var(v=-0.2181, grad=0.0000), Var(v=0.0920, grad=0.0000), Var(v=-0.1816, grad=0.0000), Var(v=0.0603, grad=0.0000), Var(v=-0.1460, grad=0.0000), Var(v=0.0478, grad=0.0000), Var(v=-0.1319, grad=0.0000), Var(v=0.0360, grad=0.0000), Var(v=0.0548, grad=0.0000), Var(v=0.0673, grad=0.0000), Var(v=0.0762, grad=0.0000), Var(v=0.0884, grad=0.0000), Var(v=0.0384, grad=0.0000), Var(v=0.1451, grad=0.0000), Var(v=0.0029, grad=0.0000)], [Var(v=0.0840, grad=0.0000), Var(v=0.0847, grad=0.0000), Var(v=-0.0477, grad=0.0000), Var(v=0.0269, grad=0.0000), Var(v=0.0912, grad=0.0000), Var(v=0.0743, grad=0.0000), Var(v=0.0126, grad=0.0000), Var(v=-0.0080, grad=0.0000), Var(v=0.1187, grad=0.0000), Var(v=0.2391, grad=0.0000), Var(v=-0.1189, grad=0.0000), Var(v=-0.0102, grad=0.0000), Var(v=0.0476, grad=0.0000), Var(v=-0.0005, grad=0.0000), Var(v=-0.0163, grad=0.0000), Var(v=-0.1062, grad=0.0000), Var(v=0.0036, grad=0.0000), Var(v=0.2211, grad=0.0000), Var(v=0.0806, grad=0.0000), Var(v=-0.1021, grad=0.0000), Var(v=0.0088, grad=0.0000), Var(v=-0.0850, grad=0.0000), Var(v=-0.0361, grad=0.0000), Var(v=-0.1010, grad=0.0000), Var(v=-0.1620, grad=0.0000), Var(v=-0.0574, grad=0.0000), Var(v=-0.0114, grad=0.0000), Var(v=-0.0427, grad=0.0000), Var(v=-0.1326, grad=0.0000), Var(v=0.0020, grad=0.0000), Var(v=0.0741, grad=0.0000), Var(v=0.1149, grad=0.0000), Var(v=0.0615, grad=0.0000), Var(v=-0.2112, grad=0.0000), Var(v=-0.1566, grad=0.0000), Var(v=0.1618, grad=0.0000), Var(v=0.1674, grad=0.0000), Var(v=-0.0310, grad=0.0000), Var(v=-0.0298, grad=0.0000), Var(v=0.1094, grad=0.0000), Var(v=-0.0190, grad=0.0000), Var(v=0.0159, grad=0.0000), Var(v=-0.0312, grad=0.0000), Var(v=-0.0212, grad=0.0000), Var(v=-0.0299, grad=0.0000), Var(v=0.1572, grad=0.0000), Var(v=0.2275, grad=0.0000), Var(v=0.0589, grad=0.0000), Var(v=0.0055, grad=0.0000), Var(v=0.0800, grad=0.0000)], [Var(v=0.0409, grad=0.0000), Var(v=0.0023, grad=0.0000), Var(v=-0.0041, grad=0.0000), Var(v=-0.1213, grad=0.0000), Var(v=-0.1723, grad=0.0000), Var(v=-0.1119, grad=0.0000), Var(v=-0.0421, grad=0.0000), Var(v=0.0402, grad=0.0000), Var(v=0.1331, grad=0.0000), Var(v=0.1172, grad=0.0000), Var(v=0.2288, grad=0.0000), Var(v=0.0934, grad=0.0000), Var(v=0.0401, grad=0.0000), Var(v=0.0089, grad=0.0000), Var(v=-0.0127, grad=0.0000), Var(v=-0.1764, grad=0.0000), Var(v=-0.1531, grad=0.0000), Var(v=0.1020, grad=0.0000), Var(v=0.1478, grad=0.0000), Var(v=0.0746, grad=0.0000), Var(v=-0.0673, grad=0.0000), Var(v=0.1265, grad=0.0000), Var(v=0.1529, grad=0.0000), Var(v=-0.0663, grad=0.0000), Var(v=0.1214, grad=0.0000), Var(v=0.0855, grad=0.0000), Var(v=-0.1311, grad=0.0000), Var(v=0.0063, grad=0.0000), Var(v=-0.1471, grad=0.0000), Var(v=0.1605, grad=0.0000), Var(v=0.0547, grad=0.0000), Var(v=0.2007, grad=0.0000), Var(v=0.2829, grad=0.0000), Var(v=-0.2123, grad=0.0000), Var(v=-0.0389, grad=0.0000), Var(v=-0.0895, grad=0.0000), Var(v=0.0371, grad=0.0000), Var(v=-0.0789, grad=0.0000), Var(v=0.0260, grad=0.0000), Var(v=0.0292, grad=0.0000), Var(v=0.0031, grad=0.0000), Var(v=0.0626, grad=0.0000), Var(v=0.0196, grad=0.0000), Var(v=0.1087, grad=0.0000), Var(v=0.0105, grad=0.0000), Var(v=0.0456, grad=0.0000), Var(v=-0.0326, grad=0.0000), Var(v=0.1077, grad=0.0000), Var(v=0.0103, grad=0.0000), Var(v=-0.0921, grad=0.0000)], [Var(v=0.0745, grad=0.0000), Var(v=0.0327, grad=0.0000), Var(v=0.0790, grad=0.0000), Var(v=0.1119, grad=0.0000), Var(v=0.0413, grad=0.0000), Var(v=0.0119, grad=0.0000), Var(v=-0.0161, grad=0.0000), Var(v=-0.0896, grad=0.0000), Var(v=-0.1152, grad=0.0000), Var(v=-0.0560, grad=0.0000), Var(v=-0.0664, grad=0.0000), Var(v=-0.1097, grad=0.0000), Var(v=0.1254, grad=0.0000), Var(v=-0.1331, grad=0.0000), Var(v=0.0013, grad=0.0000), Var(v=-0.0442, grad=0.0000), Var(v=-0.0635, grad=0.0000), Var(v=-0.1766, grad=0.0000), Var(v=-0.1483, grad=0.0000), Var(v=0.1140, grad=0.0000), Var(v=-0.0722, grad=0.0000), Var(v=0.1849, grad=0.0000), Var(v=-0.0054, grad=0.0000), Var(v=-0.1106, grad=0.0000), Var(v=-0.0849, grad=0.0000), Var(v=0.0445, grad=0.0000), Var(v=-0.0112, grad=0.0000), Var(v=0.2371, grad=0.0000), Var(v=0.0315, grad=0.0000), Var(v=-0.0785, grad=0.0000), Var(v=-0.0331, grad=0.0000), Var(v=0.0759, grad=0.0000), Var(v=0.0918, grad=0.0000), Var(v=-0.0317, grad=0.0000), Var(v=0.0865, grad=0.0000), Var(v=0.1480, grad=0.0000), Var(v=-0.0320, grad=0.0000), Var(v=0.1800, grad=0.0000), Var(v=0.0417, grad=0.0000), Var(v=0.0760, grad=0.0000), Var(v=-0.0637, grad=0.0000), Var(v=-0.2397, grad=0.0000), Var(v=0.1008, grad=0.0000), Var(v=-0.0571, grad=0.0000), Var(v=0.0541, grad=0.0000), Var(v=-0.0339, grad=0.0000), Var(v=0.0200, grad=0.0000), Var(v=0.1162, grad=0.0000), Var(v=0.0519, grad=0.0000), Var(v=0.0047, grad=0.0000)], [Var(v=-0.0652, grad=0.0000), Var(v=0.2015, grad=0.0000), Var(v=-0.0134, grad=0.0000), Var(v=0.0610, grad=0.0000), Var(v=0.0771, grad=0.0000), Var(v=-0.0782, grad=0.0000), Var(v=0.0196, grad=0.0000), Var(v=-0.0448, grad=0.0000), Var(v=-0.0793, grad=0.0000), Var(v=0.0096, grad=0.0000), Var(v=-0.0107, grad=0.0000), Var(v=-0.0690, grad=0.0000), Var(v=0.0024, grad=0.0000), Var(v=0.1080, grad=0.0000), Var(v=0.0499, grad=0.0000), Var(v=-0.0002, grad=0.0000), Var(v=0.0407, grad=0.0000), Var(v=-0.0451, grad=0.0000), Var(v=0.0429, grad=0.0000), Var(v=0.0360, grad=0.0000), Var(v=-0.1252, grad=0.0000), Var(v=0.1689, grad=0.0000), Var(v=-0.0760, grad=0.0000), Var(v=-0.0491, grad=0.0000), Var(v=0.0896, grad=0.0000), Var(v=0.1024, grad=0.0000), Var(v=0.0126, grad=0.0000), Var(v=0.0848, grad=0.0000), Var(v=0.0241, grad=0.0000), Var(v=-0.1772, grad=0.0000), Var(v=0.0987, grad=0.0000), Var(v=-0.0046, grad=0.0000), Var(v=0.0264, grad=0.0000), Var(v=-0.0742, grad=0.0000), Var(v=0.0550, grad=0.0000), Var(v=-0.0747, grad=0.0000), Var(v=0.1332, grad=0.0000), Var(v=0.0952, grad=0.0000), Var(v=0.0068, grad=0.0000), Var(v=-0.0743, grad=0.0000), Var(v=-0.0682, grad=0.0000), Var(v=-0.0275, grad=0.0000), Var(v=0.0159, grad=0.0000), Var(v=0.0054, grad=0.0000), Var(v=0.1427, grad=0.0000), Var(v=-0.0094, grad=0.0000), Var(v=-0.1400, grad=0.0000), Var(v=-0.0425, grad=0.0000), Var(v=0.0301, grad=0.0000), Var(v=0.0275, grad=0.0000)], [Var(v=0.0389, grad=0.0000), Var(v=-0.1054, grad=0.0000), Var(v=-0.0203, grad=0.0000), Var(v=0.0556, grad=0.0000), Var(v=0.2839, grad=0.0000), Var(v=0.0971, grad=0.0000), Var(v=0.0317, grad=0.0000), Var(v=-0.0129, grad=0.0000), Var(v=0.1140, grad=0.0000), Var(v=0.1239, grad=0.0000), Var(v=-0.0562, grad=0.0000), Var(v=0.0994, grad=0.0000), Var(v=-0.0567, grad=0.0000), Var(v=0.0365, grad=0.0000), Var(v=0.0424, grad=0.0000), Var(v=0.0559, grad=0.0000), Var(v=0.0513, grad=0.0000), Var(v=-0.1340, grad=0.0000), Var(v=0.0048, grad=0.0000), Var(v=-0.1650, grad=0.0000), Var(v=0.0191, grad=0.0000), Var(v=0.0059, grad=0.0000), Var(v=0.1633, grad=0.0000), Var(v=-0.0388, grad=0.0000), Var(v=-0.0916, grad=0.0000), Var(v=-0.0121, grad=0.0000), Var(v=-0.0743, grad=0.0000), Var(v=-0.0624, grad=0.0000), Var(v=0.0673, grad=0.0000), Var(v=-0.0803, grad=0.0000), Var(v=0.0087, grad=0.0000), Var(v=-0.0071, grad=0.0000), Var(v=-0.1869, grad=0.0000), Var(v=-0.0263, grad=0.0000), Var(v=-0.0118, grad=0.0000), Var(v=0.1128, grad=0.0000), Var(v=-0.0871, grad=0.0000), Var(v=-0.0647, grad=0.0000), Var(v=-0.1138, grad=0.0000), Var(v=0.0215, grad=0.0000), Var(v=0.0556, grad=0.0000), Var(v=0.2356, grad=0.0000), Var(v=-0.0512, grad=0.0000), Var(v=-0.0506, grad=0.0000), Var(v=0.0831, grad=0.0000), Var(v=0.0788, grad=0.0000), Var(v=0.0597, grad=0.0000), Var(v=0.1153, grad=0.0000), Var(v=-0.0300, grad=0.0000), Var(v=-0.0293, grad=0.0000)], [Var(v=-0.2242, grad=0.0000), Var(v=-0.2066, grad=0.0000), Var(v=-0.0413, grad=0.0000), Var(v=0.0551, grad=0.0000), Var(v=0.1828, grad=0.0000), Var(v=0.0224, grad=0.0000), Var(v=0.0032, grad=0.0000), Var(v=-0.0869, grad=0.0000), Var(v=-0.0374, grad=0.0000), Var(v=0.0259, grad=0.0000), Var(v=0.0296, grad=0.0000), Var(v=0.0614, grad=0.0000), Var(v=0.1404, grad=0.0000), Var(v=-0.0451, grad=0.0000), Var(v=-0.0488, grad=0.0000), Var(v=0.1217, grad=0.0000), Var(v=-0.0774, grad=0.0000), Var(v=-0.0027, grad=0.0000), Var(v=-0.0689, grad=0.0000), Var(v=0.0183, grad=0.0000), Var(v=-0.0626, grad=0.0000), Var(v=0.0094, grad=0.0000), Var(v=0.0100, grad=0.0000), Var(v=-0.0134, grad=0.0000), Var(v=0.0400, grad=0.0000), Var(v=-0.0075, grad=0.0000), Var(v=-0.1427, grad=0.0000), Var(v=-0.2074, grad=0.0000), Var(v=0.0361, grad=0.0000), Var(v=-0.0323, grad=0.0000), Var(v=0.1006, grad=0.0000), Var(v=-0.1206, grad=0.0000), Var(v=0.0432, grad=0.0000), Var(v=-0.1239, grad=0.0000), Var(v=-0.1354, grad=0.0000), Var(v=-0.0928, grad=0.0000), Var(v=-0.1333, grad=0.0000), Var(v=0.0727, grad=0.0000), Var(v=-0.1171, grad=0.0000), Var(v=0.0231, grad=0.0000), Var(v=-0.1294, grad=0.0000), Var(v=0.0506, grad=0.0000), Var(v=0.1850, grad=0.0000), Var(v=0.0714, grad=0.0000), Var(v=-0.0181, grad=0.0000), Var(v=0.1977, grad=0.0000), Var(v=0.0150, grad=0.0000), Var(v=-0.0630, grad=0.0000), Var(v=0.0091, grad=0.0000), Var(v=0.1778, grad=0.0000)], [Var(v=-0.2422, grad=0.0000), Var(v=0.0983, grad=0.0000), Var(v=-0.1726, grad=0.0000), Var(v=-0.1340, grad=0.0000), Var(v=-0.0691, grad=0.0000), Var(v=0.1057, grad=0.0000), Var(v=-0.1069, grad=0.0000), Var(v=0.0225, grad=0.0000), Var(v=-0.0471, grad=0.0000), Var(v=0.0602, grad=0.0000), Var(v=0.1076, grad=0.0000), Var(v=-0.0843, grad=0.0000), Var(v=-0.0017, grad=0.0000), Var(v=0.0455, grad=0.0000), Var(v=0.1697, grad=0.0000), Var(v=0.0579, grad=0.0000), Var(v=-0.0778, grad=0.0000), Var(v=0.0160, grad=0.0000), Var(v=0.0021, grad=0.0000), Var(v=0.0517, grad=0.0000), Var(v=0.0036, grad=0.0000), Var(v=-0.0405, grad=0.0000), Var(v=0.0225, grad=0.0000), Var(v=-0.0008, grad=0.0000), Var(v=0.1042, grad=0.0000), Var(v=0.0285, grad=0.0000), Var(v=-0.0949, grad=0.0000), Var(v=0.0436, grad=0.0000), Var(v=-0.0083, grad=0.0000), Var(v=0.0152, grad=0.0000), Var(v=0.1117, grad=0.0000), Var(v=-0.0556, grad=0.0000), Var(v=0.0418, grad=0.0000), Var(v=-0.0702, grad=0.0000), Var(v=0.1127, grad=0.0000), Var(v=-0.1618, grad=0.0000), Var(v=-0.1368, grad=0.0000), Var(v=0.1884, grad=0.0000), Var(v=0.2627, grad=0.0000), Var(v=0.0423, grad=0.0000), Var(v=0.0679, grad=0.0000), Var(v=-0.1283, grad=0.0000), Var(v=-0.0839, grad=0.0000), Var(v=-0.0972, grad=0.0000), Var(v=-0.0055, grad=0.0000), Var(v=-0.2489, grad=0.0000), Var(v=0.0766, grad=0.0000), Var(v=-0.1764, grad=0.0000), Var(v=-0.0682, grad=0.0000), Var(v=-0.0199, grad=0.0000)], [Var(v=-0.0512, grad=0.0000), Var(v=0.0385, grad=0.0000), Var(v=-0.0722, grad=0.0000), Var(v=-0.1288, grad=0.0000), Var(v=0.0718, grad=0.0000), Var(v=-0.0365, grad=0.0000), Var(v=-0.0042, grad=0.0000), Var(v=0.0520, grad=0.0000), Var(v=0.2016, grad=0.0000), Var(v=0.0037, grad=0.0000), Var(v=0.0927, grad=0.0000), Var(v=0.0567, grad=0.0000), Var(v=-0.0369, grad=0.0000), Var(v=-0.0557, grad=0.0000), Var(v=-0.0118, grad=0.0000), Var(v=0.0977, grad=0.0000), Var(v=-0.0334, grad=0.0000), Var(v=0.0182, grad=0.0000), Var(v=0.1004, grad=0.0000), Var(v=-0.1143, grad=0.0000), Var(v=-0.1090, grad=0.0000), Var(v=-0.1324, grad=0.0000), Var(v=-0.0282, grad=0.0000), Var(v=0.1983, grad=0.0000), Var(v=0.0322, grad=0.0000), Var(v=0.0580, grad=0.0000), Var(v=-0.0752, grad=0.0000), Var(v=-0.0104, grad=0.0000), Var(v=-0.0721, grad=0.0000), Var(v=0.1153, grad=0.0000), Var(v=0.0351, grad=0.0000), Var(v=0.0417, grad=0.0000), Var(v=0.1833, grad=0.0000), Var(v=0.0591, grad=0.0000), Var(v=0.0359, grad=0.0000), Var(v=-0.0331, grad=0.0000), Var(v=-0.0807, grad=0.0000), Var(v=0.2383, grad=0.0000), Var(v=0.0074, grad=0.0000), Var(v=0.0622, grad=0.0000), Var(v=0.1046, grad=0.0000), Var(v=-0.0147, grad=0.0000), Var(v=-0.1073, grad=0.0000), Var(v=-0.0862, grad=0.0000), Var(v=0.0846, grad=0.0000), Var(v=0.1029, grad=0.0000), Var(v=-0.0118, grad=0.0000), Var(v=-0.0165, grad=0.0000), Var(v=0.0695, grad=0.0000), Var(v=0.0449, grad=0.0000)], [Var(v=0.0314, grad=0.0000), Var(v=0.0684, grad=0.0000), Var(v=-0.0458, grad=0.0000), Var(v=-0.0056, grad=0.0000), Var(v=0.1086, grad=0.0000), Var(v=0.0760, grad=0.0000), Var(v=-0.0372, grad=0.0000), Var(v=0.0373, grad=0.0000), Var(v=0.0128, grad=0.0000), Var(v=-0.0826, grad=0.0000), Var(v=0.1265, grad=0.0000), Var(v=-0.0101, grad=0.0000), Var(v=0.0942, grad=0.0000), Var(v=-0.2335, grad=0.0000), Var(v=0.0713, grad=0.0000), Var(v=0.0087, grad=0.0000), Var(v=-0.0827, grad=0.0000), Var(v=0.1150, grad=0.0000), Var(v=-0.0293, grad=0.0000), Var(v=0.0006, grad=0.0000), Var(v=0.0694, grad=0.0000), Var(v=-0.0285, grad=0.0000), Var(v=0.0071, grad=0.0000), Var(v=-0.0550, grad=0.0000), Var(v=0.0599, grad=0.0000), Var(v=-0.0151, grad=0.0000), Var(v=-0.0322, grad=0.0000), Var(v=0.0400, grad=0.0000), Var(v=-0.1585, grad=0.0000), Var(v=0.0281, grad=0.0000), Var(v=0.0924, grad=0.0000), Var(v=0.1663, grad=0.0000), Var(v=-0.1112, grad=0.0000), Var(v=0.1030, grad=0.0000), Var(v=-0.1147, grad=0.0000), Var(v=-0.0111, grad=0.0000), Var(v=-0.0223, grad=0.0000), Var(v=0.0359, grad=0.0000), Var(v=-0.0873, grad=0.0000), Var(v=0.0326, grad=0.0000), Var(v=-0.0738, grad=0.0000), Var(v=0.0415, grad=0.0000), Var(v=0.0890, grad=0.0000), Var(v=-0.0385, grad=0.0000), Var(v=0.0053, grad=0.0000), Var(v=-0.0609, grad=0.0000), Var(v=-0.1075, grad=0.0000), Var(v=0.1343, grad=0.0000), Var(v=0.0234, grad=0.0000), Var(v=-0.1046, grad=0.0000)], [Var(v=0.1502, grad=0.0000), Var(v=-0.0516, grad=0.0000), Var(v=-0.2444, grad=0.0000), Var(v=-0.0036, grad=0.0000), Var(v=0.1956, grad=0.0000), Var(v=0.0694, grad=0.0000), Var(v=0.0369, grad=0.0000), Var(v=0.0065, grad=0.0000), Var(v=-0.0915, grad=0.0000), Var(v=-0.0646, grad=0.0000), Var(v=0.1443, grad=0.0000), Var(v=-0.1776, grad=0.0000), Var(v=0.0148, grad=0.0000), Var(v=-0.1223, grad=0.0000), Var(v=0.0842, grad=0.0000), Var(v=-0.0938, grad=0.0000), Var(v=-0.0202, grad=0.0000), Var(v=0.0608, grad=0.0000), Var(v=0.0264, grad=0.0000), Var(v=0.0807, grad=0.0000), Var(v=0.0581, grad=0.0000), Var(v=-0.1161, grad=0.0000), Var(v=-0.0093, grad=0.0000), Var(v=-0.0455, grad=0.0000), Var(v=-0.0998, grad=0.0000), Var(v=0.1261, grad=0.0000), Var(v=0.0067, grad=0.0000), Var(v=-0.1731, grad=0.0000), Var(v=0.0293, grad=0.0000), Var(v=-0.1091, grad=0.0000), Var(v=-0.1057, grad=0.0000), Var(v=-0.1609, grad=0.0000), Var(v=-0.0913, grad=0.0000), Var(v=-0.0712, grad=0.0000), Var(v=0.1113, grad=0.0000), Var(v=0.1530, grad=0.0000), Var(v=-0.0431, grad=0.0000), Var(v=0.0609, grad=0.0000), Var(v=-0.0850, grad=0.0000), Var(v=0.0211, grad=0.0000), Var(v=0.0318, grad=0.0000), Var(v=0.0371, grad=0.0000), Var(v=0.0530, grad=0.0000), Var(v=-0.0260, grad=0.0000), Var(v=0.2099, grad=0.0000), Var(v=-0.0613, grad=0.0000), Var(v=-0.0578, grad=0.0000), Var(v=-0.0266, grad=0.0000), Var(v=-0.2067, grad=0.0000), Var(v=-0.0565, grad=0.0000)]]\n",
      "bias:[Var(v=0.0096, grad=0.0000), Var(v=-0.0013, grad=0.0000), Var(v=-0.0972, grad=0.0000), Var(v=0.0153, grad=0.0000), Var(v=0.0031, grad=0.0000), Var(v=0.0000, grad=0.0000), Var(v=-0.0662, grad=0.0000), Var(v=-0.0146, grad=0.0000), Var(v=0.0313, grad=0.0000), Var(v=0.1127, grad=0.0000), Var(v=-0.0010, grad=0.0000), Var(v=-0.0245, grad=0.0000), Var(v=0.0005, grad=0.0000), Var(v=-0.0414, grad=0.0000), Var(v=-0.0002, grad=0.0000), Var(v=0.0309, grad=0.0000), Var(v=-0.0002, grad=0.0000), Var(v=-0.0400, grad=0.0000), Var(v=0.0277, grad=0.0000), Var(v=0.1354, grad=0.0000), Var(v=-0.1046, grad=0.0000), Var(v=0.0494, grad=0.0000), Var(v=0.1146, grad=0.0000), Var(v=-0.0304, grad=0.0000), Var(v=-0.0252, grad=0.0000), Var(v=-0.1399, grad=0.0000), Var(v=0.0000, grad=0.0000), Var(v=0.0750, grad=0.0000), Var(v=-0.0021, grad=0.0000), Var(v=0.0745, grad=0.0000), Var(v=-0.0006, grad=0.0000), Var(v=0.0534, grad=0.0000), Var(v=0.0805, grad=0.0000), Var(v=0.0000, grad=0.0000), Var(v=0.0722, grad=0.0000), Var(v=-0.0912, grad=0.0000), Var(v=0.0003, grad=0.0000), Var(v=-0.0412, grad=0.0000), Var(v=-0.0013, grad=0.0000), Var(v=0.0871, grad=0.0000), Var(v=-0.0206, grad=0.0000), Var(v=-0.2382, grad=0.0000), Var(v=-0.0036, grad=0.0000), Var(v=0.0006, grad=0.0000), Var(v=-0.0019, grad=0.0000), Var(v=0.1338, grad=0.0000), Var(v=0.0020, grad=0.0000), Var(v=-0.0470, grad=0.0000), Var(v=0.0006, grad=0.0000), Var(v=0.0000, grad=0.0000)])\n",
      "Layer 2 \n",
      " weight dimensions: 50 x 1 and bias dimension 1 x 1 along with parameters\n",
      "weights: [[Var(v=-0.0213, grad=0.0000)], [Var(v=0.0073, grad=0.0000)], [Var(v=0.1030, grad=0.0000)], [Var(v=0.1091, grad=0.0000)], [Var(v=-0.3294, grad=0.0000)], [Var(v=0.0629, grad=0.0000)], [Var(v=0.0696, grad=0.0000)], [Var(v=0.0107, grad=0.0000)], [Var(v=-0.0639, grad=0.0000)], [Var(v=-0.1505, grad=0.0000)], [Var(v=0.0779, grad=0.0000)], [Var(v=-0.0016, grad=0.0000)], [Var(v=-0.0821, grad=0.0000)], [Var(v=0.0145, grad=0.0000)], [Var(v=0.1201, grad=0.0000)], [Var(v=0.0827, grad=0.0000)], [Var(v=0.0387, grad=0.0000)], [Var(v=0.0258, grad=0.0000)], [Var(v=-0.0641, grad=0.0000)], [Var(v=0.2081, grad=0.0000)], [Var(v=0.1194, grad=0.0000)], [Var(v=0.0814, grad=0.0000)], [Var(v=0.1420, grad=0.0000)], [Var(v=0.0023, grad=0.0000)], [Var(v=-0.0149, grad=0.0000)], [Var(v=0.1203, grad=0.0000)], [Var(v=0.0021, grad=0.0000)], [Var(v=0.1080, grad=0.0000)], [Var(v=0.0079, grad=0.0000)], [Var(v=-0.0878, grad=0.0000)], [Var(v=0.0555, grad=0.0000)], [Var(v=-0.0859, grad=0.0000)], [Var(v=-0.1223, grad=0.0000)], [Var(v=-0.0156, grad=0.0000)], [Var(v=0.1023, grad=0.0000)], [Var(v=0.0789, grad=0.0000)], [Var(v=-0.0095, grad=0.0000)], [Var(v=0.0328, grad=0.0000)], [Var(v=0.1534, grad=0.0000)], [Var(v=-0.1109, grad=0.0000)], [Var(v=-0.0191, grad=0.0000)], [Var(v=0.2695, grad=0.0000)], [Var(v=0.0172, grad=0.0000)], [Var(v=-0.0662, grad=0.0000)], [Var(v=0.2273, grad=0.0000)], [Var(v=-0.1786, grad=0.0000)], [Var(v=-0.2041, grad=0.0000)], [Var(v=0.0463, grad=0.0000)], [Var(v=-0.0659, grad=0.0000)], [Var(v=-0.0817, grad=0.0000)]]\n",
      "bias:[Var(v=-0.0089, grad=0.0000)])\n"
     ]
    },
    {
     "data": {
      "text/plain": [
       "[None, None, None]"
      ]
     },
     "execution_count": 65,
     "metadata": {},
     "output_type": "execute_result"
    }
   ],
   "source": [
    "print('Network before update:')\n",
    "[print('Layer', i, '\\n', NN[i]) for i in range(len(NN))] \n",
    "\n",
    "def parameters(network):\n",
    "  params = []\n",
    "  for layer in range(len(network)):\n",
    "    params += network[layer].parameters()\n",
    "  return params\n",
    "\n",
    "def update_parameters(params, learning_rate=0.01):\n",
    "  for p in params:\n",
    "    p.v -= learning_rate*p.grad\n",
    "\n",
    "def zero_gradients(params):\n",
    "  for p in params:\n",
    "    p.grad = 0.0\n",
    "\n",
    "update_parameters(parameters(NN))\n",
    "\n",
    "print('\\nNetwork after update:')\n",
    "[print('Layer', i, '\\n', NN[i]) for i in range(len(NN))] \n",
    "\n",
    "zero_gradients(parameters(NN))\n",
    "\n",
    "print('\\nNetwork after zeroing gradients:')\n",
    "[print('Layer', i, '\\n', NN[i]) for i in range(len(NN))]"
   ]
  },
  {
   "cell_type": "code",
   "execution_count": 66,
   "metadata": {
    "id": "woWYpdw6FtIO"
   },
   "outputs": [],
   "source": [
    "# Initialize an arbitrary neural network\n",
    "NN = [\n",
    "    DenseLayer(1, 8, lambda x: x.relu()),\n",
    "    DenseLayer(8, 1, lambda x: x.identity())\n",
    "]\n",
    "\n",
    "# Recommended hyper-parameters for 3-D: \n",
    "#NN = [\n",
    "#    DenseLayer(3, 16, lambda x: x.relu()),\n",
    "#    DenseLayer(16, 1, lambda x: x.identity())\n",
    "#]\n",
    "\n",
    "\n",
    "### Notice that, when we switch from tanh to relu activation, we decrease the learning rate. This is due the stability of the gradients \n",
    "## of the activation functions."
   ]
  },
  {
   "cell_type": "code",
   "execution_count": 67,
   "metadata": {
    "id": "mdqaqYBVFtIR"
   },
   "outputs": [],
   "source": [
    "# Initialize training hyperparameters\n",
    "EPOCHS = 200\n",
    "LEARN_R = 2e-3"
   ]
  },
  {
   "cell_type": "code",
   "execution_count": 68,
   "metadata": {
    "colab": {
     "base_uri": "https://localhost:8080/"
    },
    "id": "5kfg76GMFtIW",
    "outputId": "e30cf68a-31f2-42b4-cc5e-860c297c0f04",
    "scrolled": true
   },
   "outputs": [
    {
     "name": "stdout",
     "output_type": "stream",
     "text": [
      "   0 ( 0.00%) Train loss: 106.251 \t Validation loss: 106.674\n",
      "  20 (10.00%) Train loss: 14.105 \t Validation loss: 11.034\n",
      "  40 (20.00%) Train loss: 13.000 \t Validation loss: 9.885\n",
      "  60 (30.00%) Train loss: 12.547 \t Validation loss: 9.272\n",
      "  80 (40.00%) Train loss: 12.290 \t Validation loss: 8.955\n",
      " 100 (50.00%) Train loss: 12.106 \t Validation loss: 8.905\n",
      " 120 (60.00%) Train loss: 12.001 \t Validation loss: 8.916\n",
      " 140 (70.00%) Train loss: 11.911 \t Validation loss: 8.961\n",
      " 160 (80.00%) Train loss: 11.896 \t Validation loss: 8.979\n",
      " 180 (90.00%) Train loss: 11.885 \t Validation loss: 8.997\n"
     ]
    }
   ],
   "source": [
    "train_loss = []\n",
    "val_loss = []\n",
    "\n",
    "for e in range(EPOCHS):\n",
    "    \n",
    "    # Forward pass and loss computation\n",
    "    Loss = squared_loss(y_train, forward(x_train, NN))\n",
    "\n",
    "    # Backward pass\n",
    "    Loss.backward()\n",
    "    \n",
    "    # gradient descent update\n",
    "    update_parameters(parameters(NN), LEARN_R)\n",
    "    zero_gradients(parameters(NN))\n",
    "    \n",
    "    # Training loss\n",
    "    train_loss.append(Loss.v)\n",
    "    \n",
    "    # Validation\n",
    "    Loss_validation = squared_loss(y_validation, forward(x_validation, NN))\n",
    "    val_loss.append(Loss_validation.v)\n",
    "    \n",
    "    if e%20==0:\n",
    "        print(\"{:4d}\".format(e),\n",
    "              \"({:5.2f}%)\".format(e/EPOCHS*100), \n",
    "              \"Train loss: {:4.3f} \\t Validation loss: {:4.3f}\".format(train_loss[-1], val_loss[-1]))\n",
    "        \n"
   ]
  },
  {
   "cell_type": "code",
   "execution_count": 69,
   "metadata": {
    "colab": {
     "base_uri": "https://localhost:8080/",
     "height": 265
    },
    "id": "VetyRWFwFtIY",
    "outputId": "344e490d-6d7d-455a-fa6f-88dd11eb957e"
   },
   "outputs": [
    {
     "data": {
      "image/png": "[encoded data removed]",
      "text/plain": [
       "<Figure size 640x480 with 1 Axes>"
      ]
     },
     "metadata": {},
     "output_type": "display_data"
    }
   ],
   "source": [
    "plt.plot(range(len(train_loss)), train_loss);\n",
    "plt.plot(range(len(val_loss)), val_loss);"
   ]
  },
  {
   "attachments": {},
   "cell_type": "markdown",
   "metadata": {
    "id": "8OgmIrM9FtIb"
   },
   "source": [
    "# Testing\n",
    "\n",
    "We have kept the calculation of the test error separate in order to emphasize that you should not use the test set in optimization."
   ]
  },
  {
   "cell_type": "code",
   "execution_count": 70,
   "metadata": {
    "id": "HmNi7S-vFtIc"
   },
   "outputs": [],
   "source": [
    "output_test = forward(x_test, NN)"
   ]
  },
  {
   "cell_type": "code",
   "execution_count": 71,
   "metadata": {
    "colab": {
     "base_uri": "https://localhost:8080/",
     "height": 316
    },
    "id": "7mmJOTSEFtIf",
    "outputId": "e3264095-cefe-4aee-893d-bf152438e332"
   },
   "outputs": [
    {
     "name": "stdout",
     "output_type": "stream",
     "text": [
      "Test loss:  9.804\n"
     ]
    },
    {
     "data": {
      "image/png": "[encoded data removed]",
      "text/plain": [
       "<Figure size 640x480 with 1 Axes>"
      ]
     },
     "metadata": {},
     "output_type": "display_data"
    }
   ],
   "source": [
    "y_test_np = Var_to_nparray(y_test)\n",
    "plt.scatter(y_test_np, Var_to_nparray(output_test));\n",
    "plt.plot([np.min(y_test_np), np.max(y_test_np)], [np.min(y_test_np), np.max(y_test_np)], color='k');\n",
    "plt.xlabel(\"y\");\n",
    "plt.ylabel(\"$\\hat{y}$\");\n",
    "plt.title(\"Model prediction vs real in the test set, the close to the line the better\")\n",
    "plt.grid(True);\n",
    "plt.axis('equal');\n",
    "plt.tight_layout();\n",
    "\n",
    "Loss_test = squared_loss(y_test, forward(x_test, NN))\n",
    "\n",
    "print(\"Test loss:  {:4.3f}\".format(Loss_test.v))"
   ]
  },
  {
   "cell_type": "code",
   "execution_count": 72,
   "metadata": {
    "colab": {
     "base_uri": "https://localhost:8080/",
     "height": 279
    },
    "id": "ODi0WlmQFtIh",
    "outputId": "d1ab874f-0717-4987-87bf-1f0c7c8e7148"
   },
   "outputs": [
    {
     "data": {
      "image/png": "[encoded data removed]",
      "text/plain": [
       "<Figure size 640x480 with 1 Axes>"
      ]
     },
     "metadata": {},
     "output_type": "display_data"
    }
   ],
   "source": [
    "x_test_np = Var_to_nparray(x_test)\n",
    "x_train_np = Var_to_nparray(x_train)\n",
    "y_train_np = Var_to_nparray(y_train)\n",
    "if D1:\n",
    "    plt.scatter(x_train_np, y_train_np, label=\"train data\");\n",
    "    plt.scatter(x_test_np, Var_to_nparray(output_test), label=\"test prediction\");\n",
    "    plt.scatter(x_test_np, y_test_np, label=\"test data\");\n",
    "    plt.legend();\n",
    "    plt.xlabel(\"x\");\n",
    "    plt.ylabel(\"y\");\n",
    "else:\n",
    "    plt.scatter(x_train_np[:,1], y_train, label=\"train data\");\n",
    "    plt.scatter(x_test_np[:,1], Var_to_nparray(output_test), label=\"test data prediction\");\n",
    "    plt.scatter(x_test_np[:,1], y_test_np, label=\"test data\");\n",
    "    plt.legend();\n",
    "    plt.xlabel(\"x\");\n",
    "    plt.ylabel(\"y\");"
   ]
  },
  {
   "attachments": {},
   "cell_type": "markdown",
   "metadata": {
    "id": "zTBAmjsAFtIk"
   },
   "source": [
    "## Exercise l) Show overfitting, underfitting and just right fitting\n",
    "\n",
    "Vary the architecture and other things to show clear signs of overfitting (=training loss significantly lower than test loss) and underfitting (=not fitting enoung to training data so that test performance is also hurt).\n",
    "\n",
    "See also if you can get a good compromise which leads to a low validation loss. \n",
    "\n",
    "For this problem do you see any big difference between validation and test loss? The answer here will probably be no. Discuss cases where it is important to keep the two separate.\n",
    "\n",
    "\n",
    "Generally it is important to keep the validation and test set when approaching an ML problem since you may make choices implicitly or explicitly with respect to model architecture or hyperparameters based on initial results on the validation set. IF the validation set does not represent the general population of unseen data this can result in a biased estimate of the model's generalization error."
   ]
  },
  {
   "cell_type": "markdown",
   "metadata": {},
   "source": [
    "# Underfitting\n",
    "\n",
    "Below an example of underfitting is shown. The root cause in this particular case is that the learning rate is too high, resulting in the model overshooting its parameter updates. Underfitting can generally also come due to having too few model parameters or not having a saturated model wrt. training."
   ]
  },
  {
   "cell_type": "code",
   "execution_count": 88,
   "metadata": {},
   "outputs": [
    {
     "name": "stdout",
     "output_type": "stream",
     "text": [
      "   0 ( 0.00%) Train loss: 104.978 \t Validation loss: 98.702\n",
      "  10 ( 5.00%) Train loss: 86.191 \t Validation loss: 68.091\n",
      "  20 (10.00%) Train loss: 82.911 \t Validation loss: 61.581\n",
      "  30 (15.00%) Train loss: 101.499 \t Validation loss: 94.959\n",
      "  40 (20.00%) Train loss: 22.914 \t Validation loss: 18.291\n",
      "  50 (25.00%) Train loss: 103.515 \t Validation loss: 97.222\n",
      "  60 (30.00%) Train loss: 49.532 \t Validation loss: 39.650\n",
      "  70 (35.00%) Train loss: 193.156 \t Validation loss: 53.723\n",
      "  80 (40.00%) Train loss: 73.444 \t Validation loss: 51.374\n",
      "  90 (45.00%) Train loss: 65.849 \t Validation loss: 45.623\n",
      " 100 (50.00%) Train loss: 66.114 \t Validation loss: 44.651\n",
      " 110 (55.00%) Train loss: 66.524 \t Validation loss: 44.118\n",
      " 120 (60.00%) Train loss: 66.602 \t Validation loss: 43.906\n",
      " 130 (65.00%) Train loss: 66.857 \t Validation loss: 43.527\n",
      " 140 (70.00%) Train loss: 67.187 \t Validation loss: 43.255\n",
      " 150 (75.00%) Train loss: 67.339 \t Validation loss: 43.018\n",
      " 160 (80.00%) Train loss: 67.485 \t Validation loss: 42.898\n",
      " 170 (85.00%) Train loss: 67.715 \t Validation loss: 42.771\n",
      " 180 (90.00%) Train loss: 67.387 \t Validation loss: 42.559\n",
      " 190 (95.00%) Train loss: 67.263 \t Validation loss: 42.292\n"
     ]
    }
   ],
   "source": [
    "# dataset used\n",
    "D1 = True\n",
    "x_train, y_train,  x_validation, y_validation, x_test, y_test = data_generator(n_samples=300, noise=0.5, D1=D1)\n",
    "x_train = nparray_to_Var(x_train)\n",
    "y_train = nparray_to_Var(y_train)\n",
    "x_validation = nparray_to_Var(x_validation)\n",
    "y_validation = nparray_to_Var(y_validation)\n",
    "x_test = nparray_to_Var(x_test)\n",
    "y_test = nparray_to_Var(y_test)\n",
    "\n",
    "# Insert your code for getting overfitting, underfitting and just right fitting\n",
    "UnderfitNN = [\n",
    "    DenseLayer(1, 6, lambda x: x.relu()),\n",
    "    DenseLayer(6, 12, lambda x: x.relu()),\n",
    "    DenseLayer(12, 1, lambda x: x.identity())\n",
    "]\n",
    "\n",
    "# Initialize training hyperparameters\n",
    "EPOCHS = 200\n",
    "LEARN_R = 0.004\n",
    "\n",
    "train_loss = []\n",
    "val_loss = []\n",
    "\n",
    "for e in range(EPOCHS):\n",
    "    \n",
    "    # Forward pass and loss computation\n",
    "    Loss = squared_loss(y_train, forward(x_train, UnderfitNN))\n",
    "\n",
    "    # Backward pass\n",
    "    Loss.backward()\n",
    "    \n",
    "    # gradient descent update\n",
    "    update_parameters(parameters(UnderfitNN), LEARN_R)\n",
    "    zero_gradients(parameters(UnderfitNN))\n",
    "    \n",
    "    # Training loss\n",
    "    train_loss.append(Loss.v)\n",
    "    \n",
    "    # Validation\n",
    "    Loss_validation = squared_loss(y_validation, forward(x_validation, UnderfitNN))\n",
    "    val_loss.append(Loss_validation.v)\n",
    "    \n",
    "    if e%10==0:\n",
    "        print(\"{:4d}\".format(e),\n",
    "              \"({:5.2f}%)\".format(e/EPOCHS*100), \n",
    "              \"Train loss: {:4.3f} \\t Validation loss: {:4.3f}\".format(train_loss[-1], val_loss[-1]))"
   ]
  },
  {
   "cell_type": "markdown",
   "metadata": {},
   "source": [
    "# Overfitting example\n",
    "\n",
    "I here create a 3D dataset with fewer samples compared to the previous. This is due to wanting to induce overfitting by having the model memorize all training data as opposed to learning general features. This is also why I increased the model complexity.\n",
    "If you inspect the plot below, you can see that the two outliers in the test dataset are predicted as following the trajectory of the training data."
   ]
  },
  {
   "cell_type": "code",
   "execution_count": 131,
   "metadata": {},
   "outputs": [
    {
     "name": "stdout",
     "output_type": "stream",
     "text": [
      "(23, 3)\n",
      "(23,)\n",
      "   0 ( 0.00%) Train loss: 26.014 \t Validation loss: 36.122\n",
      "  10 ( 2.50%) Train loss: 25.995 \t Validation loss: 36.122\n",
      "  20 ( 5.00%) Train loss: 25.993 \t Validation loss: 36.120\n",
      "  30 ( 7.50%) Train loss: 25.990 \t Validation loss: 36.117\n",
      "  40 (10.00%) Train loss: 25.987 \t Validation loss: 36.114\n",
      "  50 (12.50%) Train loss: 25.983 \t Validation loss: 36.110\n",
      "  60 (15.00%) Train loss: 25.977 \t Validation loss: 36.105\n",
      "  70 (17.50%) Train loss: 25.970 \t Validation loss: 36.097\n",
      "  80 (20.00%) Train loss: 25.958 \t Validation loss: 36.086\n",
      "  90 (22.50%) Train loss: 25.941 \t Validation loss: 36.069\n",
      " 100 (25.00%) Train loss: 25.913 \t Validation loss: 36.041\n",
      " 110 (27.50%) Train loss: 25.864 \t Validation loss: 35.993\n",
      " 120 (30.00%) Train loss: 25.771 \t Validation loss: 35.902\n",
      " 130 (32.50%) Train loss: 25.567 \t Validation loss: 35.700\n",
      " 140 (35.00%) Train loss: 24.999 \t Validation loss: 35.125\n",
      " 150 (37.50%) Train loss: 22.555 \t Validation loss: 32.541\n",
      " 160 (40.00%) Train loss: 13.747 \t Validation loss: 23.596\n",
      " 170 (42.50%) Train loss: 9.531 \t Validation loss: 20.502\n",
      " 180 (45.00%) Train loss: 7.115 \t Validation loss: 15.120\n",
      " 190 (47.50%) Train loss: 3.766 \t Validation loss: 6.132\n",
      " 200 (50.00%) Train loss: 1.185 \t Validation loss: 2.003\n",
      " 210 (52.50%) Train loss: 1.342 \t Validation loss: 3.287\n",
      " 220 (55.00%) Train loss: 8.955 \t Validation loss: 5.816\n",
      " 230 (57.50%) Train loss: 3.683 \t Validation loss: 4.743\n",
      " 240 (60.00%) Train loss: 3.571 \t Validation loss: 5.541\n",
      " 250 (62.50%) Train loss: 4.128 \t Validation loss: 7.036\n",
      " 260 (65.00%) Train loss: 2.906 \t Validation loss: 7.611\n",
      " 270 (67.50%) Train loss: 3.094 \t Validation loss: 8.248\n",
      " 280 (70.00%) Train loss: 2.495 \t Validation loss: 8.211\n",
      " 290 (72.50%) Train loss: 2.214 \t Validation loss: 8.488\n",
      " 300 (75.00%) Train loss: 2.063 \t Validation loss: 8.775\n",
      " 310 (77.50%) Train loss: 1.893 \t Validation loss: 8.921\n",
      " 320 (80.00%) Train loss: 1.754 \t Validation loss: 9.125\n",
      " 330 (82.50%) Train loss: 1.632 \t Validation loss: 9.318\n",
      " 340 (85.00%) Train loss: 1.505 \t Validation loss: 9.382\n",
      " 350 (87.50%) Train loss: 1.486 \t Validation loss: 9.632\n",
      " 360 (90.00%) Train loss: 1.552 \t Validation loss: 10.064\n",
      " 370 (92.50%) Train loss: 1.470 \t Validation loss: 10.150\n",
      " 380 (95.00%) Train loss: 1.366 \t Validation loss: 10.297\n",
      " 390 (97.50%) Train loss: 1.275 \t Validation loss: 10.408\n"
     ]
    }
   ],
   "source": [
    "D1 = False\n",
    "x_train, y_train,  x_validation, y_validation, x_test, y_test = data_generator(n_samples=75, noise=0.5, D1=D1)\n",
    "print(x_test.shape)\n",
    "print(y_test.shape)\n",
    "x_train = nparray_to_Var(x_train)\n",
    "y_train = nparray_to_Var(y_train)\n",
    "x_validation = nparray_to_Var(x_validation)\n",
    "y_validation = nparray_to_Var(y_validation)\n",
    "x_test = nparray_to_Var(x_test)\n",
    "y_test = nparray_to_Var(y_test)\n",
    "\n",
    "# Initialize an arbitrary neural network\n",
    "OverfitNN = [\n",
    "    DenseLayer(3, 6, lambda x: x.relu()),\n",
    "    DenseLayer(6, 12, lambda x: x.relu()),\n",
    "    DenseLayer(12, 6, lambda x: x.relu()),\n",
    "    DenseLayer(6, 1, lambda x: x.identity())\n",
    "]\n",
    "\n",
    "# Initialize training hyperparameters\n",
    "EPOCHS = 400\n",
    "LEARN_R = 0.005\n",
    "\n",
    "train_loss = []\n",
    "val_loss = []\n",
    "\n",
    "for e in range(EPOCHS):\n",
    "    \n",
    "    # Forward pass and loss computation\n",
    "    Loss = squared_loss(y_train, forward(x_train, OverfitNN))\n",
    "\n",
    "    # Backward pass\n",
    "    Loss.backward()\n",
    "    \n",
    "    # gradient descent update\n",
    "    update_parameters(parameters(OverfitNN), LEARN_R)\n",
    "    zero_gradients(parameters(OverfitNN))\n",
    "    \n",
    "    # Training loss\n",
    "    train_loss.append(Loss.v)\n",
    "    \n",
    "    # Validation\n",
    "    Loss_validation = squared_loss(y_validation, forward(x_validation, OverfitNN))\n",
    "    val_loss.append(Loss_validation.v)\n",
    "    \n",
    "    if e%10==0:\n",
    "        print(\"{:4d}\".format(e),\n",
    "              \"({:5.2f}%)\".format(e/EPOCHS*100), \n",
    "              \"Train loss: {:4.3f} \\t Validation loss: {:4.3f}\".format(train_loss[-1], val_loss[-1]))\n",
    "        "
   ]
  },
  {
   "cell_type": "code",
   "execution_count": 133,
   "metadata": {},
   "outputs": [
    {
     "data": {
      "image/png": "[encoded data removed]",
      "text/plain": [
       "<Figure size 640x480 with 1 Axes>"
      ]
     },
     "metadata": {},
     "output_type": "display_data"
    }
   ],
   "source": [
    "# blue = train, orange=test\n",
    "plt.plot(range(len(train_loss)), train_loss);\n",
    "plt.plot(range(len(val_loss)), val_loss);"
   ]
  },
  {
   "cell_type": "markdown",
   "metadata": {},
   "source": []
  },
  {
   "cell_type": "code",
   "execution_count": 134,
   "metadata": {},
   "outputs": [
    {
     "data": {
      "image/png": "[encoded data removed]",
      "text/plain": [
       "<Figure size 640x480 with 1 Axes>"
      ]
     },
     "metadata": {},
     "output_type": "display_data"
    }
   ],
   "source": [
    "output_test = forward(x_test, OverfitNN)\n",
    "x_test_np = Var_to_nparray(x_test)\n",
    "y_test_np = Var_to_nparray(y_test)\n",
    "x_train_np = Var_to_nparray(x_train)\n",
    "y_train_np = Var_to_nparray(y_train)\n",
    "if D1:\n",
    "    plt.scatter(x_train_np, y_train_np, label=\"train data\");\n",
    "    plt.scatter(x_test_np, Var_to_nparray(output_test), label=\"test prediction\");\n",
    "    plt.scatter(x_test_np, y_test_np, label=\"test data\");\n",
    "    plt.legend();\n",
    "    plt.xlabel(\"x\");\n",
    "    plt.ylabel(\"y\");\n",
    "else:\n",
    "    plt.scatter(x_train_np[:,1], y_train_np, label=\"train data\");\n",
    "    plt.scatter(x_test_np[:,1], Var_to_nparray(output_test), label=\"test data prediction\");\n",
    "    plt.scatter(x_test_np[:,1], y_test_np, label=\"test data\");\n",
    "    plt.legend();\n",
    "    plt.xlabel(\"x\");\n",
    "    plt.ylabel(\"y\");"
   ]
  },
  {
   "cell_type": "markdown",
   "metadata": {},
   "source": [
    "# \"Just right\""
   ]
  },
  {
   "cell_type": "code",
   "execution_count": 138,
   "metadata": {},
   "outputs": [
    {
     "name": "stdout",
     "output_type": "stream",
     "text": [
      "(120, 3)\n",
      "(120,)\n",
      "   0 ( 0.00%) Train loss: 139.501 \t Validation loss: 103.606\n",
      "  10 ( 3.33%) Train loss: 133.840 \t Validation loss: 96.173\n",
      "  20 ( 6.67%) Train loss: 122.195 \t Validation loss: 81.382\n",
      "  30 (10.00%) Train loss: 93.457 \t Validation loss: 54.665\n",
      "  40 (13.33%) Train loss: 49.912 \t Validation loss: 25.191\n",
      "  50 (16.67%) Train loss: 27.145 \t Validation loss: 11.835\n",
      "  60 (20.00%) Train loss: 19.726 \t Validation loss: 9.541\n",
      "  70 (23.33%) Train loss: 16.157 \t Validation loss: 9.449\n",
      "  80 (26.67%) Train loss: 13.571 \t Validation loss: 9.113\n",
      "  90 (30.00%) Train loss: 11.724 \t Validation loss: 8.727\n",
      " 100 (33.33%) Train loss: 10.165 \t Validation loss: 8.288\n",
      " 110 (36.67%) Train loss: 8.926 \t Validation loss: 7.801\n",
      " 120 (40.00%) Train loss: 7.979 \t Validation loss: 7.405\n",
      " 130 (43.33%) Train loss: 7.284 \t Validation loss: 6.955\n",
      " 140 (46.67%) Train loss: 6.796 \t Validation loss: 6.490\n",
      " 150 (50.00%) Train loss: 6.467 \t Validation loss: 6.119\n",
      " 160 (53.33%) Train loss: 6.267 \t Validation loss: 5.946\n",
      " 170 (56.67%) Train loss: 6.139 \t Validation loss: 5.791\n",
      " 180 (60.00%) Train loss: 6.057 \t Validation loss: 5.682\n",
      " 190 (63.33%) Train loss: 5.937 \t Validation loss: 5.337\n",
      " 200 (66.67%) Train loss: 5.775 \t Validation loss: 5.084\n",
      " 210 (70.00%) Train loss: 5.567 \t Validation loss: 4.781\n",
      " 220 (73.33%) Train loss: 5.337 \t Validation loss: 4.645\n",
      " 230 (76.67%) Train loss: 5.148 \t Validation loss: 4.629\n",
      " 240 (80.00%) Train loss: 4.958 \t Validation loss: 4.609\n",
      " 250 (83.33%) Train loss: 4.832 \t Validation loss: 4.596\n",
      " 260 (86.67%) Train loss: 4.736 \t Validation loss: 4.567\n",
      " 270 (90.00%) Train loss: 4.644 \t Validation loss: 4.595\n",
      " 280 (93.33%) Train loss: 4.580 \t Validation loss: 4.646\n",
      " 290 (96.67%) Train loss: 4.534 \t Validation loss: 4.692\n"
     ]
    }
   ],
   "source": [
    "D1 = False\n",
    "x_train, y_train,  x_validation, y_validation, x_test, y_test = data_generator(n_samples=400, noise=0.5, D1=D1)\n",
    "print(x_test.shape)\n",
    "print(y_test.shape)\n",
    "x_train = nparray_to_Var(x_train)\n",
    "y_train = nparray_to_Var(y_train)\n",
    "x_validation = nparray_to_Var(x_validation)\n",
    "y_validation = nparray_to_Var(y_validation)\n",
    "x_test = nparray_to_Var(x_test)\n",
    "y_test = nparray_to_Var(y_test)\n",
    "\n",
    "# Initialize an arbitrary neural network\n",
    "OverfitNN = [\n",
    "    DenseLayer(3, 8, lambda x: x.relu()),\n",
    "    DenseLayer(8, 1, lambda x: x.identity())\n",
    "]\n",
    "\n",
    "# Initialize training hyperparameters\n",
    "EPOCHS = 300\n",
    "LEARN_R = 0.001\n",
    "\n",
    "train_loss = []\n",
    "val_loss = []\n",
    "\n",
    "for e in range(EPOCHS):\n",
    "    \n",
    "    # Forward pass and loss computation\n",
    "    Loss = squared_loss(y_train, forward(x_train, OverfitNN))\n",
    "\n",
    "    # Backward pass\n",
    "    Loss.backward()\n",
    "    \n",
    "    # gradient descent update\n",
    "    update_parameters(parameters(OverfitNN), LEARN_R)\n",
    "    zero_gradients(parameters(OverfitNN))\n",
    "    \n",
    "    # Training loss\n",
    "    train_loss.append(Loss.v)\n",
    "    \n",
    "    # Validation\n",
    "    Loss_validation = squared_loss(y_validation, forward(x_validation, OverfitNN))\n",
    "    val_loss.append(Loss_validation.v)\n",
    "    \n",
    "    if e%10==0:\n",
    "        print(\"{:4d}\".format(e),\n",
    "              \"({:5.2f}%)\".format(e/EPOCHS*100), \n",
    "              \"Train loss: {:4.3f} \\t Validation loss: {:4.3f}\".format(train_loss[-1], val_loss[-1]))"
   ]
  },
  {
   "cell_type": "code",
   "execution_count": 139,
   "metadata": {},
   "outputs": [
    {
     "data": {
      "image/png": "[encoded data removed]",
      "text/plain": [
       "<Figure size 640x480 with 1 Axes>"
      ]
     },
     "metadata": {},
     "output_type": "display_data"
    }
   ],
   "source": [
    "# blue = train, orange=test\n",
    "plt.plot(range(len(train_loss)), train_loss);\n",
    "plt.plot(range(len(val_loss)), val_loss);"
   ]
  },
  {
   "cell_type": "code",
   "execution_count": 140,
   "metadata": {},
   "outputs": [
    {
     "data": {
      "image/png": "[encoded data removed]",
      "text/plain": [
       "<Figure size 640x480 with 1 Axes>"
      ]
     },
     "metadata": {},
     "output_type": "display_data"
    }
   ],
   "source": [
    "output_test = forward(x_test, OverfitNN)\n",
    "x_test_np = Var_to_nparray(x_test)\n",
    "y_test_np = Var_to_nparray(y_test)\n",
    "x_train_np = Var_to_nparray(x_train)\n",
    "y_train_np = Var_to_nparray(y_train)\n",
    "if D1:\n",
    "    plt.scatter(x_train_np, y_train_np, label=\"train data\");\n",
    "    plt.scatter(x_test_np, Var_to_nparray(output_test), label=\"test prediction\");\n",
    "    plt.scatter(x_test_np, y_test_np, label=\"test data\");\n",
    "    plt.legend();\n",
    "    plt.xlabel(\"x\");\n",
    "    plt.ylabel(\"y\");\n",
    "else:\n",
    "    plt.scatter(x_train_np[:,1], y_train_np, label=\"train data\");\n",
    "    plt.scatter(x_test_np[:,1], Var_to_nparray(output_test), label=\"test data prediction\");\n",
    "    plt.scatter(x_test_np[:,1], y_test_np, label=\"test data\");\n",
    "    plt.legend();\n",
    "    plt.xlabel(\"x\");\n",
    "    plt.ylabel(\"y\");"
   ]
  },
  {
   "attachments": {},
   "cell_type": "markdown",
   "metadata": {
    "id": "fYPZP-eTFtIo"
   },
   "source": [
    "# Next steps - classification\n",
    "\n",
    "It is straight forward to extend what we have done to classification. \n",
    "\n",
    "For numerical stability it is better to make softmax and cross-entropy as one function so we write the cross entropy loss as a function of the logits we talked about last week. \n",
    "\n",
    "Next week we will see how to perform classification in PyTorch."
   ]
  },
  {
   "attachments": {},
   "cell_type": "markdown",
   "metadata": {
    "id": "qsVPul3QFtIo"
   },
   "source": [
    "## Exercise m) optional - Implement backpropagation for classification\n",
    "\n",
    "Should be possible with very few lines of code. :-)"
   ]
  },
  {
   "cell_type": "code",
   "execution_count": null,
   "metadata": {
    "id": "oC8QrI2tFtIp"
   },
   "outputs": [],
   "source": [
    "# Just add code."
   ]
  },
  {
   "attachments": {},
   "cell_type": "markdown",
   "metadata": {
    "id": "APqhJv3tta1O"
   },
   "source": [
    "## Exercise n) optional - Introduce a NeuralNetwork class\n",
    "\n",
    "The functions we applied on the neural network (parameters, update_parameters and zero_gradients) can more naturally be included as methods in a NeuralNetwork class. Make such a class and modify the code to use it. "
   ]
  },
  {
   "cell_type": "code",
   "execution_count": null,
   "metadata": {
    "id": "Dqfnor1ouMLq"
   },
   "outputs": [],
   "source": [
    "class NeuralNet:\n",
    "    def __init__(self, n_layers, n_in, n_classes, act_fn, lr) -> None:\n",
    "        self.network = None #Net()\n",
    "        self.params = parameters(self.network)\n",
    "\n",
    "        self.lr = lr\n",
    "    \n",
    "    def update_params(self):\n",
    "        update_parameters(self.params, self.lr)\n",
    "\n",
    "    def zero_grad(self):\n",
    "        zero_gradients(self.params)\n",
    "        "
   ]
  }
 ],
 "metadata": {
  "anaconda-cloud": {},
  "colab": {
   "collapsed_sections": [
    "U4057_ljNvWB",
    "p_8n_SKnIW2F",
    "oLrGJytZFtGm",
    "jpIZPBpNI0pO",
    "_79HOAXrFtHK",
    "mqeyab9qFtGs",
    "-XyXBD37FtHk",
    "SrwSJ2UWFtHu",
    "zTBAmjsAFtIk",
    "qsVPul3QFtIo",
    "APqhJv3tta1O"
   ],
   "name": "2.1-EXE-FNN-AutoDif-Nanograd.ipynb",
   "provenance": []
  },
  "kernelspec": {
   "display_name": "Python 3",
   "language": "python",
   "name": "python3"
  },
  "language_info": {
   "codemirror_mode": {
    "name": "ipython",
    "version": 3
   },
   "file_extension": ".py",
   "mimetype": "text/x-python",
   "name": "python",
   "nbconvert_exporter": "python",
   "pygments_lexer": "ipython3",
   "version": "3.9.13"
  }
 },
 "nbformat": 4,
 "nbformat_minor": 1
}
